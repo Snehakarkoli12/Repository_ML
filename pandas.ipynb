{
 "cells": [
  {
   "cell_type": "markdown",
   "id": "63a74b6d-ca6f-44cf-b67b-5563de5431aa",
   "metadata": {},
   "source": [
    "# 1. Import pandas under the alias pd"
   ]
  },
  {
   "cell_type": "code",
   "execution_count": 1,
   "id": "c987943c-f545-47f5-8dd5-e663ba51b956",
   "metadata": {},
   "outputs": [],
   "source": [
    "import pandas as pd"
   ]
  },
  {
   "cell_type": "markdown",
   "id": "b33844a9-567c-462e-badb-2c804897f607",
   "metadata": {},
   "source": [
    "# 2. Print the version of pandas that has been imported."
   ]
  },
  {
   "cell_type": "code",
   "execution_count": 2,
   "id": "dfc96846-3ae2-4a3f-a45b-cba7b608bad0",
   "metadata": {},
   "outputs": [
    {
     "data": {
      "text/plain": [
       "'2.2.3'"
      ]
     },
     "execution_count": 2,
     "metadata": {},
     "output_type": "execute_result"
    }
   ],
   "source": [
    "pd.__version__"
   ]
  },
  {
   "cell_type": "markdown",
   "id": "103b7158-89ad-43c8-9b14-cf82648c2f73",
   "metadata": {},
   "source": [
    "# 3. Print out all the version information of the libraries that are required by the pandas library"
   ]
  },
  {
   "cell_type": "code",
   "execution_count": 3,
   "id": "3f238f23-baf3-427f-b22d-28a02609f91c",
   "metadata": {},
   "outputs": [
    {
     "name": "stdout",
     "output_type": "stream",
     "text": [
      "\n",
      "INSTALLED VERSIONS\n",
      "------------------\n",
      "commit                : 0691c5cf90477d3503834d983f69350f250a6ff7\n",
      "python                : 3.13.1\n",
      "python-bits           : 64\n",
      "OS                    : Windows\n",
      "OS-release            : 11\n",
      "Version               : 10.0.22631\n",
      "machine               : AMD64\n",
      "processor             : AMD64 Family 23 Model 160 Stepping 0, AuthenticAMD\n",
      "byteorder             : little\n",
      "LC_ALL                : None\n",
      "LANG                  : None\n",
      "LOCALE                : English_India.1252\n",
      "\n",
      "pandas                : 2.2.3\n",
      "numpy                 : 2.2.0\n",
      "pytz                  : 2025.1\n",
      "dateutil              : 2.9.0.post0\n",
      "pip                   : 25.0\n",
      "Cython                : None\n",
      "sphinx                : None\n",
      "IPython               : 8.32.0\n",
      "adbc-driver-postgresql: None\n",
      "adbc-driver-sqlite    : None\n",
      "bs4                   : 4.13.1\n",
      "blosc                 : None\n",
      "bottleneck            : None\n",
      "dataframe-api-compat  : None\n",
      "fastparquet           : None\n",
      "fsspec                : None\n",
      "html5lib              : None\n",
      "hypothesis            : None\n",
      "gcsfs                 : None\n",
      "jinja2                : 3.1.5\n",
      "lxml.etree            : None\n",
      "matplotlib            : 3.10.1\n",
      "numba                 : None\n",
      "numexpr               : None\n",
      "odfpy                 : None\n",
      "openpyxl              : None\n",
      "pandas_gbq            : None\n",
      "psycopg2              : None\n",
      "pymysql               : None\n",
      "pyarrow               : None\n",
      "pyreadstat            : None\n",
      "pytest                : None\n",
      "python-calamine       : None\n",
      "pyxlsb                : None\n",
      "s3fs                  : None\n",
      "scipy                 : None\n",
      "sqlalchemy            : None\n",
      "tables                : None\n",
      "tabulate              : None\n",
      "xarray                : None\n",
      "xlrd                  : None\n",
      "xlsxwriter            : None\n",
      "zstandard             : None\n",
      "tzdata                : 2025.1\n",
      "qtpy                  : None\n",
      "pyqt5                 : None\n"
     ]
    }
   ],
   "source": [
    "pd.show_versions()"
   ]
  },
  {
   "cell_type": "markdown",
   "id": "65beaab4-382b-4708-b2af-d8769a0c8624",
   "metadata": {},
   "source": [
    "# 4. Create a DataFrame df from this dictionary data which has the index labels."
   ]
  },
  {
   "cell_type": "code",
   "execution_count": 4,
   "id": "da4f63e2-8091-41b1-9217-e5c5c4b6a4fb",
   "metadata": {},
   "outputs": [
    {
     "data": {
      "text/html": [
       "<div>\n",
       "<style scoped>\n",
       "    .dataframe tbody tr th:only-of-type {\n",
       "        vertical-align: middle;\n",
       "    }\n",
       "\n",
       "    .dataframe tbody tr th {\n",
       "        vertical-align: top;\n",
       "    }\n",
       "\n",
       "    .dataframe thead th {\n",
       "        text-align: right;\n",
       "    }\n",
       "</style>\n",
       "<table border=\"1\" class=\"dataframe\">\n",
       "  <thead>\n",
       "    <tr style=\"text-align: right;\">\n",
       "      <th></th>\n",
       "      <th>animal</th>\n",
       "      <th>age</th>\n",
       "      <th>visits</th>\n",
       "      <th>priority</th>\n",
       "    </tr>\n",
       "  </thead>\n",
       "  <tbody>\n",
       "    <tr>\n",
       "      <th>a</th>\n",
       "      <td>cat</td>\n",
       "      <td>2.5</td>\n",
       "      <td>1</td>\n",
       "      <td>yes</td>\n",
       "    </tr>\n",
       "    <tr>\n",
       "      <th>b</th>\n",
       "      <td>cat</td>\n",
       "      <td>3.0</td>\n",
       "      <td>3</td>\n",
       "      <td>yes</td>\n",
       "    </tr>\n",
       "    <tr>\n",
       "      <th>c</th>\n",
       "      <td>snake</td>\n",
       "      <td>0.5</td>\n",
       "      <td>2</td>\n",
       "      <td>no</td>\n",
       "    </tr>\n",
       "    <tr>\n",
       "      <th>d</th>\n",
       "      <td>dog</td>\n",
       "      <td>NaN</td>\n",
       "      <td>3</td>\n",
       "      <td>yes</td>\n",
       "    </tr>\n",
       "    <tr>\n",
       "      <th>e</th>\n",
       "      <td>dog</td>\n",
       "      <td>5.0</td>\n",
       "      <td>2</td>\n",
       "      <td>no</td>\n",
       "    </tr>\n",
       "  </tbody>\n",
       "</table>\n",
       "</div>"
      ],
      "text/plain": [
       "  animal  age  visits priority\n",
       "a    cat  2.5       1      yes\n",
       "b    cat  3.0       3      yes\n",
       "c  snake  0.5       2       no\n",
       "d    dog  NaN       3      yes\n",
       "e    dog  5.0       2       no"
      ]
     },
     "execution_count": 4,
     "metadata": {},
     "output_type": "execute_result"
    }
   ],
   "source": [
    "import numpy as np\n",
    "\n",
    "data = {'animal': ['cat', 'cat', 'snake', 'dog', 'dog', 'cat', 'snake', 'cat', 'dog', 'dog'],\n",
    "        'age': [2.5, 3, 0.5, np.nan, 5, 2, 4.5, np.nan, 7, 3],\n",
    "        'visits': [1, 3, 2, 3, 2, 3, 1, 1, 2, 1],\n",
    "        'priority': ['yes', 'yes', 'no', 'yes', 'no', 'no', 'no', 'yes', 'no', 'no']}\n",
    "\n",
    "labels = ['a', 'b', 'c', 'd', 'e', 'f', 'g', 'h', 'i', 'j']\n",
    "\n",
    "df = pd.DataFrame(data=data, index=labels)\n",
    "df.head()"
   ]
  },
  {
   "cell_type": "markdown",
   "id": "91197071-fa1b-49c6-967d-12be1eb4434e",
   "metadata": {},
   "source": [
    "# 5. Display a summary of the basic information about this DataFrame and its data (hint: there is a single method that can be called on the DataFrame)."
   ]
  },
  {
   "cell_type": "code",
   "execution_count": 5,
   "id": "fcef36fb-59fd-4734-950b-4641235fa06c",
   "metadata": {},
   "outputs": [
    {
     "name": "stdout",
     "output_type": "stream",
     "text": [
      "<class 'pandas.core.frame.DataFrame'>\n",
      "Index: 10 entries, a to j\n",
      "Data columns (total 4 columns):\n",
      " #   Column    Non-Null Count  Dtype  \n",
      "---  ------    --------------  -----  \n",
      " 0   animal    10 non-null     object \n",
      " 1   age       8 non-null      float64\n",
      " 2   visits    10 non-null     int64  \n",
      " 3   priority  10 non-null     object \n",
      "dtypes: float64(1), int64(1), object(2)\n",
      "memory usage: 400.0+ bytes\n",
      "None\n"
     ]
    }
   ],
   "source": [
    "print(df.info())"
   ]
  },
  {
   "cell_type": "markdown",
   "id": "aa89e3ab-2e4d-45cb-a225-7a2ae47bc033",
   "metadata": {},
   "source": [
    "# 6. Return the first 3 rows of the DataFrame df."
   ]
  },
  {
   "cell_type": "code",
   "execution_count": 6,
   "id": "554befd5-8d2d-410d-b321-ccf5c1136cf3",
   "metadata": {},
   "outputs": [
    {
     "data": {
      "text/html": [
       "<div>\n",
       "<style scoped>\n",
       "    .dataframe tbody tr th:only-of-type {\n",
       "        vertical-align: middle;\n",
       "    }\n",
       "\n",
       "    .dataframe tbody tr th {\n",
       "        vertical-align: top;\n",
       "    }\n",
       "\n",
       "    .dataframe thead th {\n",
       "        text-align: right;\n",
       "    }\n",
       "</style>\n",
       "<table border=\"1\" class=\"dataframe\">\n",
       "  <thead>\n",
       "    <tr style=\"text-align: right;\">\n",
       "      <th></th>\n",
       "      <th>animal</th>\n",
       "      <th>age</th>\n",
       "      <th>visits</th>\n",
       "      <th>priority</th>\n",
       "    </tr>\n",
       "  </thead>\n",
       "  <tbody>\n",
       "    <tr>\n",
       "      <th>a</th>\n",
       "      <td>cat</td>\n",
       "      <td>2.5</td>\n",
       "      <td>1</td>\n",
       "      <td>yes</td>\n",
       "    </tr>\n",
       "    <tr>\n",
       "      <th>b</th>\n",
       "      <td>cat</td>\n",
       "      <td>3.0</td>\n",
       "      <td>3</td>\n",
       "      <td>yes</td>\n",
       "    </tr>\n",
       "    <tr>\n",
       "      <th>c</th>\n",
       "      <td>snake</td>\n",
       "      <td>0.5</td>\n",
       "      <td>2</td>\n",
       "      <td>no</td>\n",
       "    </tr>\n",
       "  </tbody>\n",
       "</table>\n",
       "</div>"
      ],
      "text/plain": [
       "  animal  age  visits priority\n",
       "a    cat  2.5       1      yes\n",
       "b    cat  3.0       3      yes\n",
       "c  snake  0.5       2       no"
      ]
     },
     "execution_count": 6,
     "metadata": {},
     "output_type": "execute_result"
    }
   ],
   "source": [
    "df.head(3)"
   ]
  },
  {
   "cell_type": "markdown",
   "id": "ffa2a21a-beed-46e5-a150-a2ada5d46680",
   "metadata": {},
   "source": [
    "# 7. Select just the 'animal' and 'age' columns from the DataFrame df."
   ]
  },
  {
   "cell_type": "code",
   "execution_count": 7,
   "id": "0d318ecf-8f14-48c4-adeb-bf35d8b7be2a",
   "metadata": {},
   "outputs": [
    {
     "data": {
      "text/html": [
       "<div>\n",
       "<style scoped>\n",
       "    .dataframe tbody tr th:only-of-type {\n",
       "        vertical-align: middle;\n",
       "    }\n",
       "\n",
       "    .dataframe tbody tr th {\n",
       "        vertical-align: top;\n",
       "    }\n",
       "\n",
       "    .dataframe thead th {\n",
       "        text-align: right;\n",
       "    }\n",
       "</style>\n",
       "<table border=\"1\" class=\"dataframe\">\n",
       "  <thead>\n",
       "    <tr style=\"text-align: right;\">\n",
       "      <th></th>\n",
       "      <th>animal</th>\n",
       "      <th>age</th>\n",
       "    </tr>\n",
       "  </thead>\n",
       "  <tbody>\n",
       "    <tr>\n",
       "      <th>a</th>\n",
       "      <td>cat</td>\n",
       "      <td>2.5</td>\n",
       "    </tr>\n",
       "    <tr>\n",
       "      <th>b</th>\n",
       "      <td>cat</td>\n",
       "      <td>3.0</td>\n",
       "    </tr>\n",
       "    <tr>\n",
       "      <th>c</th>\n",
       "      <td>snake</td>\n",
       "      <td>0.5</td>\n",
       "    </tr>\n",
       "    <tr>\n",
       "      <th>d</th>\n",
       "      <td>dog</td>\n",
       "      <td>NaN</td>\n",
       "    </tr>\n",
       "    <tr>\n",
       "      <th>e</th>\n",
       "      <td>dog</td>\n",
       "      <td>5.0</td>\n",
       "    </tr>\n",
       "    <tr>\n",
       "      <th>f</th>\n",
       "      <td>cat</td>\n",
       "      <td>2.0</td>\n",
       "    </tr>\n",
       "    <tr>\n",
       "      <th>g</th>\n",
       "      <td>snake</td>\n",
       "      <td>4.5</td>\n",
       "    </tr>\n",
       "    <tr>\n",
       "      <th>h</th>\n",
       "      <td>cat</td>\n",
       "      <td>NaN</td>\n",
       "    </tr>\n",
       "    <tr>\n",
       "      <th>i</th>\n",
       "      <td>dog</td>\n",
       "      <td>7.0</td>\n",
       "    </tr>\n",
       "    <tr>\n",
       "      <th>j</th>\n",
       "      <td>dog</td>\n",
       "      <td>3.0</td>\n",
       "    </tr>\n",
       "  </tbody>\n",
       "</table>\n",
       "</div>"
      ],
      "text/plain": [
       "  animal  age\n",
       "a    cat  2.5\n",
       "b    cat  3.0\n",
       "c  snake  0.5\n",
       "d    dog  NaN\n",
       "e    dog  5.0\n",
       "f    cat  2.0\n",
       "g  snake  4.5\n",
       "h    cat  NaN\n",
       "i    dog  7.0\n",
       "j    dog  3.0"
      ]
     },
     "execution_count": 7,
     "metadata": {},
     "output_type": "execute_result"
    }
   ],
   "source": [
    "df[['animal', 'age']]"
   ]
  },
  {
   "cell_type": "markdown",
   "id": "f6fe7433-cb97-4bea-a46e-427dfd107e35",
   "metadata": {},
   "source": [
    "# 8. Select the data in rows [3, 4, 8] and in columns ['animal', 'age']."
   ]
  },
  {
   "cell_type": "code",
   "execution_count": 8,
   "id": "e429f051-0aaf-43be-af0f-c87c16531437",
   "metadata": {},
   "outputs": [
    {
     "data": {
      "text/html": [
       "<div>\n",
       "<style scoped>\n",
       "    .dataframe tbody tr th:only-of-type {\n",
       "        vertical-align: middle;\n",
       "    }\n",
       "\n",
       "    .dataframe tbody tr th {\n",
       "        vertical-align: top;\n",
       "    }\n",
       "\n",
       "    .dataframe thead th {\n",
       "        text-align: right;\n",
       "    }\n",
       "</style>\n",
       "<table border=\"1\" class=\"dataframe\">\n",
       "  <thead>\n",
       "    <tr style=\"text-align: right;\">\n",
       "      <th></th>\n",
       "      <th>animal</th>\n",
       "      <th>age</th>\n",
       "    </tr>\n",
       "  </thead>\n",
       "  <tbody>\n",
       "    <tr>\n",
       "      <th>d</th>\n",
       "      <td>dog</td>\n",
       "      <td>NaN</td>\n",
       "    </tr>\n",
       "    <tr>\n",
       "      <th>e</th>\n",
       "      <td>dog</td>\n",
       "      <td>5.0</td>\n",
       "    </tr>\n",
       "    <tr>\n",
       "      <th>i</th>\n",
       "      <td>dog</td>\n",
       "      <td>7.0</td>\n",
       "    </tr>\n",
       "  </tbody>\n",
       "</table>\n",
       "</div>"
      ],
      "text/plain": [
       "  animal  age\n",
       "d    dog  NaN\n",
       "e    dog  5.0\n",
       "i    dog  7.0"
      ]
     },
     "execution_count": 8,
     "metadata": {},
     "output_type": "execute_result"
    }
   ],
   "source": [
    "df.loc[df.index[[3,4,8]], ['animal', 'age']]"
   ]
  },
  {
   "cell_type": "markdown",
   "id": "642599f8-35fe-498f-b0ab-0544949cfd4d",
   "metadata": {},
   "source": [
    "# 9. Select only the rows where the number of visits is equal to 3."
   ]
  },
  {
   "cell_type": "code",
   "execution_count": 9,
   "id": "4b32aabf-d9f9-43fd-91f5-38face4d891c",
   "metadata": {},
   "outputs": [
    {
     "data": {
      "text/html": [
       "<div>\n",
       "<style scoped>\n",
       "    .dataframe tbody tr th:only-of-type {\n",
       "        vertical-align: middle;\n",
       "    }\n",
       "\n",
       "    .dataframe tbody tr th {\n",
       "        vertical-align: top;\n",
       "    }\n",
       "\n",
       "    .dataframe thead th {\n",
       "        text-align: right;\n",
       "    }\n",
       "</style>\n",
       "<table border=\"1\" class=\"dataframe\">\n",
       "  <thead>\n",
       "    <tr style=\"text-align: right;\">\n",
       "      <th></th>\n",
       "      <th>animal</th>\n",
       "      <th>age</th>\n",
       "      <th>visits</th>\n",
       "      <th>priority</th>\n",
       "    </tr>\n",
       "  </thead>\n",
       "  <tbody>\n",
       "    <tr>\n",
       "      <th>b</th>\n",
       "      <td>cat</td>\n",
       "      <td>3.0</td>\n",
       "      <td>3</td>\n",
       "      <td>yes</td>\n",
       "    </tr>\n",
       "    <tr>\n",
       "      <th>d</th>\n",
       "      <td>dog</td>\n",
       "      <td>NaN</td>\n",
       "      <td>3</td>\n",
       "      <td>yes</td>\n",
       "    </tr>\n",
       "    <tr>\n",
       "      <th>f</th>\n",
       "      <td>cat</td>\n",
       "      <td>2.0</td>\n",
       "      <td>3</td>\n",
       "      <td>no</td>\n",
       "    </tr>\n",
       "  </tbody>\n",
       "</table>\n",
       "</div>"
      ],
      "text/plain": [
       "  animal  age  visits priority\n",
       "b    cat  3.0       3      yes\n",
       "d    dog  NaN       3      yes\n",
       "f    cat  2.0       3       no"
      ]
     },
     "execution_count": 9,
     "metadata": {},
     "output_type": "execute_result"
    }
   ],
   "source": [
    "df[df['visits']==3]"
   ]
  },
  {
   "cell_type": "markdown",
   "id": "022f5156-f3f8-4ef3-81ac-31f0ab805a8b",
   "metadata": {},
   "source": [
    "# 10. Select the rows where the age is missing, i.e. it is NaN."
   ]
  },
  {
   "cell_type": "code",
   "execution_count": 10,
   "id": "ab72ab01-576b-475f-a505-313402c2e3eb",
   "metadata": {},
   "outputs": [
    {
     "data": {
      "text/html": [
       "<div>\n",
       "<style scoped>\n",
       "    .dataframe tbody tr th:only-of-type {\n",
       "        vertical-align: middle;\n",
       "    }\n",
       "\n",
       "    .dataframe tbody tr th {\n",
       "        vertical-align: top;\n",
       "    }\n",
       "\n",
       "    .dataframe thead th {\n",
       "        text-align: right;\n",
       "    }\n",
       "</style>\n",
       "<table border=\"1\" class=\"dataframe\">\n",
       "  <thead>\n",
       "    <tr style=\"text-align: right;\">\n",
       "      <th></th>\n",
       "      <th>animal</th>\n",
       "      <th>age</th>\n",
       "      <th>visits</th>\n",
       "      <th>priority</th>\n",
       "    </tr>\n",
       "  </thead>\n",
       "  <tbody>\n",
       "    <tr>\n",
       "      <th>d</th>\n",
       "      <td>dog</td>\n",
       "      <td>NaN</td>\n",
       "      <td>3</td>\n",
       "      <td>yes</td>\n",
       "    </tr>\n",
       "    <tr>\n",
       "      <th>h</th>\n",
       "      <td>cat</td>\n",
       "      <td>NaN</td>\n",
       "      <td>1</td>\n",
       "      <td>yes</td>\n",
       "    </tr>\n",
       "  </tbody>\n",
       "</table>\n",
       "</div>"
      ],
      "text/plain": [
       "  animal  age  visits priority\n",
       "d    dog  NaN       3      yes\n",
       "h    cat  NaN       1      yes"
      ]
     },
     "execution_count": 10,
     "metadata": {},
     "output_type": "execute_result"
    }
   ],
   "source": [
    "df[df['age'].isnull()]"
   ]
  },
  {
   "cell_type": "markdown",
   "id": "f3888761-cff0-4196-95b6-b89ab11a9e2a",
   "metadata": {},
   "source": [
    "# 11. Select the rows where the animal is a cat and the age is less than 3"
   ]
  },
  {
   "cell_type": "code",
   "execution_count": 11,
   "id": "c249e9ac-844a-4742-a3e2-d3d6d24fdd6c",
   "metadata": {},
   "outputs": [
    {
     "data": {
      "text/html": [
       "<div>\n",
       "<style scoped>\n",
       "    .dataframe tbody tr th:only-of-type {\n",
       "        vertical-align: middle;\n",
       "    }\n",
       "\n",
       "    .dataframe tbody tr th {\n",
       "        vertical-align: top;\n",
       "    }\n",
       "\n",
       "    .dataframe thead th {\n",
       "        text-align: right;\n",
       "    }\n",
       "</style>\n",
       "<table border=\"1\" class=\"dataframe\">\n",
       "  <thead>\n",
       "    <tr style=\"text-align: right;\">\n",
       "      <th></th>\n",
       "      <th>animal</th>\n",
       "      <th>age</th>\n",
       "      <th>visits</th>\n",
       "      <th>priority</th>\n",
       "    </tr>\n",
       "  </thead>\n",
       "  <tbody>\n",
       "    <tr>\n",
       "      <th>a</th>\n",
       "      <td>cat</td>\n",
       "      <td>2.5</td>\n",
       "      <td>1</td>\n",
       "      <td>yes</td>\n",
       "    </tr>\n",
       "    <tr>\n",
       "      <th>f</th>\n",
       "      <td>cat</td>\n",
       "      <td>2.0</td>\n",
       "      <td>3</td>\n",
       "      <td>no</td>\n",
       "    </tr>\n",
       "  </tbody>\n",
       "</table>\n",
       "</div>"
      ],
      "text/plain": [
       "  animal  age  visits priority\n",
       "a    cat  2.5       1      yes\n",
       "f    cat  2.0       3       no"
      ]
     },
     "execution_count": 11,
     "metadata": {},
     "output_type": "execute_result"
    }
   ],
   "source": [
    "df[(df['animal']=='cat') & (df['age']<3)]"
   ]
  },
  {
   "cell_type": "markdown",
   "id": "1cfe62e4-0cce-4ee5-98c8-76d961a38742",
   "metadata": {},
   "source": [
    "# 12. Select the rows the age is between 2 and 4 (inclusive)"
   ]
  },
  {
   "cell_type": "code",
   "execution_count": 12,
   "id": "bd7bf166-be81-4b27-912a-335ee645ba1e",
   "metadata": {},
   "outputs": [
    {
     "data": {
      "text/html": [
       "<div>\n",
       "<style scoped>\n",
       "    .dataframe tbody tr th:only-of-type {\n",
       "        vertical-align: middle;\n",
       "    }\n",
       "\n",
       "    .dataframe tbody tr th {\n",
       "        vertical-align: top;\n",
       "    }\n",
       "\n",
       "    .dataframe thead th {\n",
       "        text-align: right;\n",
       "    }\n",
       "</style>\n",
       "<table border=\"1\" class=\"dataframe\">\n",
       "  <thead>\n",
       "    <tr style=\"text-align: right;\">\n",
       "      <th></th>\n",
       "      <th>animal</th>\n",
       "      <th>age</th>\n",
       "      <th>visits</th>\n",
       "      <th>priority</th>\n",
       "    </tr>\n",
       "  </thead>\n",
       "  <tbody>\n",
       "    <tr>\n",
       "      <th>a</th>\n",
       "      <td>cat</td>\n",
       "      <td>2.5</td>\n",
       "      <td>1</td>\n",
       "      <td>yes</td>\n",
       "    </tr>\n",
       "    <tr>\n",
       "      <th>b</th>\n",
       "      <td>cat</td>\n",
       "      <td>3.0</td>\n",
       "      <td>3</td>\n",
       "      <td>yes</td>\n",
       "    </tr>\n",
       "    <tr>\n",
       "      <th>f</th>\n",
       "      <td>cat</td>\n",
       "      <td>2.0</td>\n",
       "      <td>3</td>\n",
       "      <td>no</td>\n",
       "    </tr>\n",
       "    <tr>\n",
       "      <th>j</th>\n",
       "      <td>dog</td>\n",
       "      <td>3.0</td>\n",
       "      <td>1</td>\n",
       "      <td>no</td>\n",
       "    </tr>\n",
       "  </tbody>\n",
       "</table>\n",
       "</div>"
      ],
      "text/plain": [
       "  animal  age  visits priority\n",
       "a    cat  2.5       1      yes\n",
       "b    cat  3.0       3      yes\n",
       "f    cat  2.0       3       no\n",
       "j    dog  3.0       1       no"
      ]
     },
     "execution_count": 12,
     "metadata": {},
     "output_type": "execute_result"
    }
   ],
   "source": [
    "df[(df['age']>=2) & (df['age']<=4)]"
   ]
  },
  {
   "cell_type": "markdown",
   "id": "7070ec47-ee41-46b0-b3f5-7a1c40686a3e",
   "metadata": {},
   "source": [
    "# 13. Change the age in row 'f' to 1.5"
   ]
  },
  {
   "cell_type": "code",
   "execution_count": 13,
   "id": "7ffd43b9-8fda-4aec-b87a-fbf777b94870",
   "metadata": {},
   "outputs": [
    {
     "data": {
      "text/html": [
       "<div>\n",
       "<style scoped>\n",
       "    .dataframe tbody tr th:only-of-type {\n",
       "        vertical-align: middle;\n",
       "    }\n",
       "\n",
       "    .dataframe tbody tr th {\n",
       "        vertical-align: top;\n",
       "    }\n",
       "\n",
       "    .dataframe thead th {\n",
       "        text-align: right;\n",
       "    }\n",
       "</style>\n",
       "<table border=\"1\" class=\"dataframe\">\n",
       "  <thead>\n",
       "    <tr style=\"text-align: right;\">\n",
       "      <th></th>\n",
       "      <th>animal</th>\n",
       "      <th>age</th>\n",
       "      <th>visits</th>\n",
       "      <th>priority</th>\n",
       "    </tr>\n",
       "  </thead>\n",
       "  <tbody>\n",
       "    <tr>\n",
       "      <th>f</th>\n",
       "      <td>cat</td>\n",
       "      <td>1.5</td>\n",
       "      <td>3</td>\n",
       "      <td>no</td>\n",
       "    </tr>\n",
       "    <tr>\n",
       "      <th>g</th>\n",
       "      <td>snake</td>\n",
       "      <td>4.5</td>\n",
       "      <td>1</td>\n",
       "      <td>no</td>\n",
       "    </tr>\n",
       "    <tr>\n",
       "      <th>h</th>\n",
       "      <td>cat</td>\n",
       "      <td>NaN</td>\n",
       "      <td>1</td>\n",
       "      <td>yes</td>\n",
       "    </tr>\n",
       "    <tr>\n",
       "      <th>i</th>\n",
       "      <td>dog</td>\n",
       "      <td>7.0</td>\n",
       "      <td>2</td>\n",
       "      <td>no</td>\n",
       "    </tr>\n",
       "    <tr>\n",
       "      <th>j</th>\n",
       "      <td>dog</td>\n",
       "      <td>3.0</td>\n",
       "      <td>1</td>\n",
       "      <td>no</td>\n",
       "    </tr>\n",
       "  </tbody>\n",
       "</table>\n",
       "</div>"
      ],
      "text/plain": [
       "  animal  age  visits priority\n",
       "f    cat  1.5       3       no\n",
       "g  snake  4.5       1       no\n",
       "h    cat  NaN       1      yes\n",
       "i    dog  7.0       2       no\n",
       "j    dog  3.0       1       no"
      ]
     },
     "execution_count": 13,
     "metadata": {},
     "output_type": "execute_result"
    }
   ],
   "source": [
    "df.loc['f', 'age'] = 1.5\n",
    "df.tail()"
   ]
  },
  {
   "cell_type": "markdown",
   "id": "c0d6c294-61c1-42cc-afec-1952722cfe6c",
   "metadata": {},
   "source": [
    "# 14. Calculate the sum of all visits in df (i.e. find the total number of visits)."
   ]
  },
  {
   "cell_type": "code",
   "execution_count": 14,
   "id": "2cf1daef-2e56-4ad7-8a32-c462a5b55aad",
   "metadata": {},
   "outputs": [
    {
     "name": "stdout",
     "output_type": "stream",
     "text": [
      "19\n"
     ]
    }
   ],
   "source": [
    "\n",
    "print(df['visits'].sum())"
   ]
  },
  {
   "cell_type": "markdown",
   "id": "c3de64af-5407-4c59-8aa7-6761508108f7",
   "metadata": {},
   "source": [
    "# 15. Calculate the mean age for each different animal in df"
   ]
  },
  {
   "cell_type": "code",
   "execution_count": 15,
   "id": "43c7832a-c8e0-4027-9dc7-797fe1f67d2d",
   "metadata": {},
   "outputs": [
    {
     "data": {
      "text/plain": [
       "animal\n",
       "cat      2.333333\n",
       "dog      5.000000\n",
       "snake    2.500000\n",
       "Name: age, dtype: float64"
      ]
     },
     "execution_count": 15,
     "metadata": {},
     "output_type": "execute_result"
    }
   ],
   "source": [
    "df.groupby('animal')['age'].mean()"
   ]
  },
  {
   "cell_type": "markdown",
   "id": "2d8b1747-467c-46c4-b32c-d1b868bbe1a8",
   "metadata": {},
   "source": [
    "# 16. Append a new row 'k' to df with your choice of values for each column. "
   ]
  },
  {
   "cell_type": "code",
   "execution_count": 16,
   "id": "50ef9bc0-c53c-43a7-bde4-87940e7b0439",
   "metadata": {},
   "outputs": [
    {
     "data": {
      "text/plain": [
       "animal       dog\n",
       "age         34.0\n",
       "visits         5\n",
       "priority     yes\n",
       "Name: k, dtype: object"
      ]
     },
     "execution_count": 16,
     "metadata": {},
     "output_type": "execute_result"
    }
   ],
   "source": [
    "df.loc['k'] = ['dog', 34,5,'yes']\n",
    "df.loc['k']"
   ]
  },
  {
   "cell_type": "markdown",
   "id": "8473a90f-0904-48aa-8863-47f59dabcdfd",
   "metadata": {},
   "source": [
    "# 17. Then delete that row to return the original DataFrame."
   ]
  },
  {
   "cell_type": "code",
   "execution_count": 17,
   "id": "731a8b4e-68f4-49d1-9ee6-8cec44dfd3d6",
   "metadata": {},
   "outputs": [
    {
     "data": {
      "text/html": [
       "<div>\n",
       "<style scoped>\n",
       "    .dataframe tbody tr th:only-of-type {\n",
       "        vertical-align: middle;\n",
       "    }\n",
       "\n",
       "    .dataframe tbody tr th {\n",
       "        vertical-align: top;\n",
       "    }\n",
       "\n",
       "    .dataframe thead th {\n",
       "        text-align: right;\n",
       "    }\n",
       "</style>\n",
       "<table border=\"1\" class=\"dataframe\">\n",
       "  <thead>\n",
       "    <tr style=\"text-align: right;\">\n",
       "      <th></th>\n",
       "      <th>animal</th>\n",
       "      <th>age</th>\n",
       "      <th>visits</th>\n",
       "      <th>priority</th>\n",
       "    </tr>\n",
       "  </thead>\n",
       "  <tbody>\n",
       "    <tr>\n",
       "      <th>g</th>\n",
       "      <td>snake</td>\n",
       "      <td>4.5</td>\n",
       "      <td>1</td>\n",
       "      <td>no</td>\n",
       "    </tr>\n",
       "    <tr>\n",
       "      <th>h</th>\n",
       "      <td>cat</td>\n",
       "      <td>NaN</td>\n",
       "      <td>1</td>\n",
       "      <td>yes</td>\n",
       "    </tr>\n",
       "    <tr>\n",
       "      <th>i</th>\n",
       "      <td>dog</td>\n",
       "      <td>7.0</td>\n",
       "      <td>2</td>\n",
       "      <td>no</td>\n",
       "    </tr>\n",
       "    <tr>\n",
       "      <th>j</th>\n",
       "      <td>dog</td>\n",
       "      <td>3.0</td>\n",
       "      <td>1</td>\n",
       "      <td>no</td>\n",
       "    </tr>\n",
       "    <tr>\n",
       "      <th>k</th>\n",
       "      <td>dog</td>\n",
       "      <td>34.0</td>\n",
       "      <td>5</td>\n",
       "      <td>yes</td>\n",
       "    </tr>\n",
       "  </tbody>\n",
       "</table>\n",
       "</div>"
      ],
      "text/plain": [
       "  animal   age  visits priority\n",
       "g  snake   4.5       1       no\n",
       "h    cat   NaN       1      yes\n",
       "i    dog   7.0       2       no\n",
       "j    dog   3.0       1       no\n",
       "k    dog  34.0       5      yes"
      ]
     },
     "execution_count": 17,
     "metadata": {},
     "output_type": "execute_result"
    }
   ],
   "source": [
    "df.tail()"
   ]
  },
  {
   "cell_type": "markdown",
   "id": "85eeabb2-e5e7-497d-a7db-f338cde0ed7e",
   "metadata": {},
   "source": [
    "# 18. Count the number of each type of animal in df."
   ]
  },
  {
   "cell_type": "code",
   "execution_count": 18,
   "id": "e5a3fcf4-a3d1-419a-97c3-45c6b14b6597",
   "metadata": {},
   "outputs": [
    {
     "data": {
      "text/plain": [
       "animal\n",
       "dog      5\n",
       "cat      4\n",
       "snake    2\n",
       "Name: count, dtype: int64"
      ]
     },
     "execution_count": 18,
     "metadata": {},
     "output_type": "execute_result"
    }
   ],
   "source": [
    "#df.groupby([df['animal']]).count()\n",
    "df.animal.value_counts()"
   ]
  },
  {
   "cell_type": "code",
   "execution_count": 19,
   "id": "1c514ea1-e4d1-4341-aab6-ae0d05d3adc6",
   "metadata": {},
   "outputs": [
    {
     "data": {
      "text/plain": [
       "animal\n",
       "dog      5\n",
       "cat      4\n",
       "snake    2\n",
       "Name: count, dtype: int64"
      ]
     },
     "execution_count": 19,
     "metadata": {},
     "output_type": "execute_result"
    }
   ],
   "source": [
    "df['animal'].value_counts()"
   ]
  },
  {
   "cell_type": "markdown",
   "id": "bcbdf80f-0709-40c1-9ff3-d145e0b5335b",
   "metadata": {},
   "source": [
    "# 19. Sort df first by the values in the 'age' in decending order, then by the value in the 'visits' column in ascending order (so row i should be first, and row d should be last)."
   ]
  },
  {
   "cell_type": "code",
   "execution_count": 20,
   "id": "df838396-a16a-435f-bf96-90e40cb162fe",
   "metadata": {},
   "outputs": [
    {
     "data": {
      "text/html": [
       "<div>\n",
       "<style scoped>\n",
       "    .dataframe tbody tr th:only-of-type {\n",
       "        vertical-align: middle;\n",
       "    }\n",
       "\n",
       "    .dataframe tbody tr th {\n",
       "        vertical-align: top;\n",
       "    }\n",
       "\n",
       "    .dataframe thead th {\n",
       "        text-align: right;\n",
       "    }\n",
       "</style>\n",
       "<table border=\"1\" class=\"dataframe\">\n",
       "  <thead>\n",
       "    <tr style=\"text-align: right;\">\n",
       "      <th></th>\n",
       "      <th>animal</th>\n",
       "      <th>age</th>\n",
       "      <th>visits</th>\n",
       "      <th>priority</th>\n",
       "    </tr>\n",
       "  </thead>\n",
       "  <tbody>\n",
       "    <tr>\n",
       "      <th>k</th>\n",
       "      <td>dog</td>\n",
       "      <td>34.0</td>\n",
       "      <td>5</td>\n",
       "      <td>yes</td>\n",
       "    </tr>\n",
       "    <tr>\n",
       "      <th>i</th>\n",
       "      <td>dog</td>\n",
       "      <td>7.0</td>\n",
       "      <td>2</td>\n",
       "      <td>no</td>\n",
       "    </tr>\n",
       "    <tr>\n",
       "      <th>e</th>\n",
       "      <td>dog</td>\n",
       "      <td>5.0</td>\n",
       "      <td>2</td>\n",
       "      <td>no</td>\n",
       "    </tr>\n",
       "    <tr>\n",
       "      <th>g</th>\n",
       "      <td>snake</td>\n",
       "      <td>4.5</td>\n",
       "      <td>1</td>\n",
       "      <td>no</td>\n",
       "    </tr>\n",
       "    <tr>\n",
       "      <th>j</th>\n",
       "      <td>dog</td>\n",
       "      <td>3.0</td>\n",
       "      <td>1</td>\n",
       "      <td>no</td>\n",
       "    </tr>\n",
       "    <tr>\n",
       "      <th>b</th>\n",
       "      <td>cat</td>\n",
       "      <td>3.0</td>\n",
       "      <td>3</td>\n",
       "      <td>yes</td>\n",
       "    </tr>\n",
       "    <tr>\n",
       "      <th>a</th>\n",
       "      <td>cat</td>\n",
       "      <td>2.5</td>\n",
       "      <td>1</td>\n",
       "      <td>yes</td>\n",
       "    </tr>\n",
       "    <tr>\n",
       "      <th>f</th>\n",
       "      <td>cat</td>\n",
       "      <td>1.5</td>\n",
       "      <td>3</td>\n",
       "      <td>no</td>\n",
       "    </tr>\n",
       "    <tr>\n",
       "      <th>c</th>\n",
       "      <td>snake</td>\n",
       "      <td>0.5</td>\n",
       "      <td>2</td>\n",
       "      <td>no</td>\n",
       "    </tr>\n",
       "    <tr>\n",
       "      <th>h</th>\n",
       "      <td>cat</td>\n",
       "      <td>NaN</td>\n",
       "      <td>1</td>\n",
       "      <td>yes</td>\n",
       "    </tr>\n",
       "    <tr>\n",
       "      <th>d</th>\n",
       "      <td>dog</td>\n",
       "      <td>NaN</td>\n",
       "      <td>3</td>\n",
       "      <td>yes</td>\n",
       "    </tr>\n",
       "  </tbody>\n",
       "</table>\n",
       "</div>"
      ],
      "text/plain": [
       "  animal   age  visits priority\n",
       "k    dog  34.0       5      yes\n",
       "i    dog   7.0       2       no\n",
       "e    dog   5.0       2       no\n",
       "g  snake   4.5       1       no\n",
       "j    dog   3.0       1       no\n",
       "b    cat   3.0       3      yes\n",
       "a    cat   2.5       1      yes\n",
       "f    cat   1.5       3       no\n",
       "c  snake   0.5       2       no\n",
       "h    cat   NaN       1      yes\n",
       "d    dog   NaN       3      yes"
      ]
     },
     "execution_count": 20,
     "metadata": {},
     "output_type": "execute_result"
    }
   ],
   "source": [
    "df.sort_values(by = ['age','visits'], ascending=[False,True])"
   ]
  },
  {
   "cell_type": "markdown",
   "id": "1125c768-62e9-463b-b8d5-592ff673d993",
   "metadata": {},
   "source": [
    "# 20. The 'priority' column contains the values 'yes' and 'no'. Replace this column with a column of boolean values: 'yes' should be True and 'no' should be False."
   ]
  },
  {
   "cell_type": "code",
   "execution_count": 21,
   "id": "493ba0ee-8c56-4f0e-886a-d2765971368e",
   "metadata": {},
   "outputs": [],
   "source": [
    "repl = {'yes': True, 'no':False}\n",
    "df['priority'] = df['priority'].map(repl)"
   ]
  },
  {
   "cell_type": "code",
   "execution_count": 22,
   "id": "ca2c96fd-37a1-4c43-a83e-eb7241405b4f",
   "metadata": {},
   "outputs": [
    {
     "data": {
      "text/html": [
       "<div>\n",
       "<style scoped>\n",
       "    .dataframe tbody tr th:only-of-type {\n",
       "        vertical-align: middle;\n",
       "    }\n",
       "\n",
       "    .dataframe tbody tr th {\n",
       "        vertical-align: top;\n",
       "    }\n",
       "\n",
       "    .dataframe thead th {\n",
       "        text-align: right;\n",
       "    }\n",
       "</style>\n",
       "<table border=\"1\" class=\"dataframe\">\n",
       "  <thead>\n",
       "    <tr style=\"text-align: right;\">\n",
       "      <th></th>\n",
       "      <th>animal</th>\n",
       "      <th>age</th>\n",
       "      <th>visits</th>\n",
       "      <th>priority</th>\n",
       "    </tr>\n",
       "  </thead>\n",
       "  <tbody>\n",
       "    <tr>\n",
       "      <th>a</th>\n",
       "      <td>cat</td>\n",
       "      <td>2.5</td>\n",
       "      <td>1</td>\n",
       "      <td>True</td>\n",
       "    </tr>\n",
       "    <tr>\n",
       "      <th>b</th>\n",
       "      <td>cat</td>\n",
       "      <td>3.0</td>\n",
       "      <td>3</td>\n",
       "      <td>True</td>\n",
       "    </tr>\n",
       "    <tr>\n",
       "      <th>c</th>\n",
       "      <td>snake</td>\n",
       "      <td>0.5</td>\n",
       "      <td>2</td>\n",
       "      <td>False</td>\n",
       "    </tr>\n",
       "    <tr>\n",
       "      <th>d</th>\n",
       "      <td>dog</td>\n",
       "      <td>NaN</td>\n",
       "      <td>3</td>\n",
       "      <td>True</td>\n",
       "    </tr>\n",
       "    <tr>\n",
       "      <th>e</th>\n",
       "      <td>dog</td>\n",
       "      <td>5.0</td>\n",
       "      <td>2</td>\n",
       "      <td>False</td>\n",
       "    </tr>\n",
       "  </tbody>\n",
       "</table>\n",
       "</div>"
      ],
      "text/plain": [
       "  animal  age  visits  priority\n",
       "a    cat  2.5       1      True\n",
       "b    cat  3.0       3      True\n",
       "c  snake  0.5       2     False\n",
       "d    dog  NaN       3      True\n",
       "e    dog  5.0       2     False"
      ]
     },
     "execution_count": 22,
     "metadata": {},
     "output_type": "execute_result"
    }
   ],
   "source": [
    "df.head()"
   ]
  },
  {
   "cell_type": "markdown",
   "id": "471fb19e-ffac-40b6-ad9b-23dcb525dac5",
   "metadata": {},
   "source": [
    "# 21. In the 'animal' column, change the 'snake' entries to 'python'."
   ]
  },
  {
   "cell_type": "code",
   "execution_count": 23,
   "id": "7bcd5909-7fc6-4def-bfb8-2c0d4e983c1f",
   "metadata": {},
   "outputs": [
    {
     "data": {
      "text/html": [
       "<div>\n",
       "<style scoped>\n",
       "    .dataframe tbody tr th:only-of-type {\n",
       "        vertical-align: middle;\n",
       "    }\n",
       "\n",
       "    .dataframe tbody tr th {\n",
       "        vertical-align: top;\n",
       "    }\n",
       "\n",
       "    .dataframe thead th {\n",
       "        text-align: right;\n",
       "    }\n",
       "</style>\n",
       "<table border=\"1\" class=\"dataframe\">\n",
       "  <thead>\n",
       "    <tr style=\"text-align: right;\">\n",
       "      <th></th>\n",
       "      <th>animal</th>\n",
       "      <th>age</th>\n",
       "      <th>visits</th>\n",
       "      <th>priority</th>\n",
       "    </tr>\n",
       "  </thead>\n",
       "  <tbody>\n",
       "    <tr>\n",
       "      <th>a</th>\n",
       "      <td>cat</td>\n",
       "      <td>2.5</td>\n",
       "      <td>1</td>\n",
       "      <td>True</td>\n",
       "    </tr>\n",
       "    <tr>\n",
       "      <th>b</th>\n",
       "      <td>cat</td>\n",
       "      <td>3.0</td>\n",
       "      <td>3</td>\n",
       "      <td>True</td>\n",
       "    </tr>\n",
       "    <tr>\n",
       "      <th>c</th>\n",
       "      <td>python</td>\n",
       "      <td>0.5</td>\n",
       "      <td>2</td>\n",
       "      <td>False</td>\n",
       "    </tr>\n",
       "    <tr>\n",
       "      <th>d</th>\n",
       "      <td>dog</td>\n",
       "      <td>NaN</td>\n",
       "      <td>3</td>\n",
       "      <td>True</td>\n",
       "    </tr>\n",
       "    <tr>\n",
       "      <th>e</th>\n",
       "      <td>dog</td>\n",
       "      <td>5.0</td>\n",
       "      <td>2</td>\n",
       "      <td>False</td>\n",
       "    </tr>\n",
       "  </tbody>\n",
       "</table>\n",
       "</div>"
      ],
      "text/plain": [
       "   animal  age  visits  priority\n",
       "a     cat  2.5       1      True\n",
       "b     cat  3.0       3      True\n",
       "c  python  0.5       2     False\n",
       "d     dog  NaN       3      True\n",
       "e     dog  5.0       2     False"
      ]
     },
     "execution_count": 23,
     "metadata": {},
     "output_type": "execute_result"
    }
   ],
   "source": [
    "df['animal'] = df['animal'].replace('snake', 'python')\n",
    "df.head()"
   ]
  },
  {
   "cell_type": "markdown",
   "id": "1537d60a-357f-4daa-a150-9223a9e2b924",
   "metadata": {},
   "source": [
    "# 22. For each animal type and each number of visits, find the mean age. In other words, each row is an animal, each column is a number of visits and the values are the mean ages (hint: use a pivot table)."
   ]
  },
  {
   "cell_type": "code",
   "execution_count": 24,
   "id": "87e9c8d8-9c07-4da3-8691-ff41151502dd",
   "metadata": {},
   "outputs": [
    {
     "data": {
      "text/html": [
       "<div>\n",
       "<style scoped>\n",
       "    .dataframe tbody tr th:only-of-type {\n",
       "        vertical-align: middle;\n",
       "    }\n",
       "\n",
       "    .dataframe tbody tr th {\n",
       "        vertical-align: top;\n",
       "    }\n",
       "\n",
       "    .dataframe thead th {\n",
       "        text-align: right;\n",
       "    }\n",
       "</style>\n",
       "<table border=\"1\" class=\"dataframe\">\n",
       "  <thead>\n",
       "    <tr style=\"text-align: right;\">\n",
       "      <th>visits</th>\n",
       "      <th>1</th>\n",
       "      <th>2</th>\n",
       "      <th>3</th>\n",
       "      <th>5</th>\n",
       "    </tr>\n",
       "    <tr>\n",
       "      <th>animal</th>\n",
       "      <th></th>\n",
       "      <th></th>\n",
       "      <th></th>\n",
       "      <th></th>\n",
       "    </tr>\n",
       "  </thead>\n",
       "  <tbody>\n",
       "    <tr>\n",
       "      <th>cat</th>\n",
       "      <td>2.5</td>\n",
       "      <td>NaN</td>\n",
       "      <td>2.25</td>\n",
       "      <td>NaN</td>\n",
       "    </tr>\n",
       "    <tr>\n",
       "      <th>dog</th>\n",
       "      <td>3.0</td>\n",
       "      <td>6.0</td>\n",
       "      <td>NaN</td>\n",
       "      <td>34.0</td>\n",
       "    </tr>\n",
       "    <tr>\n",
       "      <th>python</th>\n",
       "      <td>4.5</td>\n",
       "      <td>0.5</td>\n",
       "      <td>NaN</td>\n",
       "      <td>NaN</td>\n",
       "    </tr>\n",
       "  </tbody>\n",
       "</table>\n",
       "</div>"
      ],
      "text/plain": [
       "visits    1    2     3     5\n",
       "animal                      \n",
       "cat     2.5  NaN  2.25   NaN\n",
       "dog     3.0  6.0   NaN  34.0\n",
       "python  4.5  0.5   NaN   NaN"
      ]
     },
     "execution_count": 24,
     "metadata": {},
     "output_type": "execute_result"
    }
   ],
   "source": [
    "df.pivot_table(index = 'animal', columns='visits', values='age', aggfunc='mean')"
   ]
  },
  {
   "cell_type": "markdown",
   "id": "e5b110cf-003d-4b1f-af9e-e3128783bc32",
   "metadata": {},
   "source": [
    "# 23. You have a DataFrame df with a column 'A' of integers. For example:\n",
    "\n",
    "df = pd.DataFrame({'A': [1, 2, 2, 3, 4, 5, 5, 5, 6, 7, 7]})\n",
    "How do you filter out rows which contain the same integer as the row immediately above?\n",
    "\n"
   ]
  },
  {
   "cell_type": "code",
   "execution_count": 25,
   "id": "f0a765c0-cd16-4ee5-a23e-260341feca90",
   "metadata": {},
   "outputs": [
    {
     "data": {
      "text/html": [
       "<div>\n",
       "<style scoped>\n",
       "    .dataframe tbody tr th:only-of-type {\n",
       "        vertical-align: middle;\n",
       "    }\n",
       "\n",
       "    .dataframe tbody tr th {\n",
       "        vertical-align: top;\n",
       "    }\n",
       "\n",
       "    .dataframe thead th {\n",
       "        text-align: right;\n",
       "    }\n",
       "</style>\n",
       "<table border=\"1\" class=\"dataframe\">\n",
       "  <thead>\n",
       "    <tr style=\"text-align: right;\">\n",
       "      <th></th>\n",
       "      <th>A</th>\n",
       "    </tr>\n",
       "  </thead>\n",
       "  <tbody>\n",
       "    <tr>\n",
       "      <th>0</th>\n",
       "      <td>1</td>\n",
       "    </tr>\n",
       "    <tr>\n",
       "      <th>1</th>\n",
       "      <td>2</td>\n",
       "    </tr>\n",
       "    <tr>\n",
       "      <th>2</th>\n",
       "      <td>2</td>\n",
       "    </tr>\n",
       "    <tr>\n",
       "      <th>3</th>\n",
       "      <td>3</td>\n",
       "    </tr>\n",
       "    <tr>\n",
       "      <th>4</th>\n",
       "      <td>4</td>\n",
       "    </tr>\n",
       "  </tbody>\n",
       "</table>\n",
       "</div>"
      ],
      "text/plain": [
       "   A\n",
       "0  1\n",
       "1  2\n",
       "2  2\n",
       "3  3\n",
       "4  4"
      ]
     },
     "execution_count": 25,
     "metadata": {},
     "output_type": "execute_result"
    }
   ],
   "source": [
    "df = pd.DataFrame({'A': [1, 2, 2, 3, 4, 5, 5, 5, 6, 7, 7]})\n",
    "df.head()"
   ]
  },
  {
   "cell_type": "markdown",
   "id": "76f3d263-b1c0-4662-b139-3d7d58b19677",
   "metadata": {},
   "source": [
    "# 24. You should be left with a column containing the following values:\n",
    "\n",
    "1, 2, 3, 4, 5, 6, 7"
   ]
  },
  {
   "cell_type": "code",
   "execution_count": 26,
   "id": "2ad4d99f-7440-44d7-9a0c-f5883c3a6eb8",
   "metadata": {},
   "outputs": [
    {
     "data": {
      "text/html": [
       "<div>\n",
       "<style scoped>\n",
       "    .dataframe tbody tr th:only-of-type {\n",
       "        vertical-align: middle;\n",
       "    }\n",
       "\n",
       "    .dataframe tbody tr th {\n",
       "        vertical-align: top;\n",
       "    }\n",
       "\n",
       "    .dataframe thead th {\n",
       "        text-align: right;\n",
       "    }\n",
       "</style>\n",
       "<table border=\"1\" class=\"dataframe\">\n",
       "  <thead>\n",
       "    <tr style=\"text-align: right;\">\n",
       "      <th></th>\n",
       "      <th>A</th>\n",
       "    </tr>\n",
       "  </thead>\n",
       "  <tbody>\n",
       "    <tr>\n",
       "      <th>0</th>\n",
       "      <td>1</td>\n",
       "    </tr>\n",
       "    <tr>\n",
       "      <th>1</th>\n",
       "      <td>2</td>\n",
       "    </tr>\n",
       "    <tr>\n",
       "      <th>3</th>\n",
       "      <td>3</td>\n",
       "    </tr>\n",
       "    <tr>\n",
       "      <th>4</th>\n",
       "      <td>4</td>\n",
       "    </tr>\n",
       "    <tr>\n",
       "      <th>5</th>\n",
       "      <td>5</td>\n",
       "    </tr>\n",
       "    <tr>\n",
       "      <th>8</th>\n",
       "      <td>6</td>\n",
       "    </tr>\n",
       "    <tr>\n",
       "      <th>9</th>\n",
       "      <td>7</td>\n",
       "    </tr>\n",
       "  </tbody>\n",
       "</table>\n",
       "</div>"
      ],
      "text/plain": [
       "   A\n",
       "0  1\n",
       "1  2\n",
       "3  3\n",
       "4  4\n",
       "5  5\n",
       "8  6\n",
       "9  7"
      ]
     },
     "execution_count": 26,
     "metadata": {},
     "output_type": "execute_result"
    }
   ],
   "source": [
    "df.loc[df['A'].shift(1)!=df['A']]\n",
    "df.drop_duplicates(subset='A')"
   ]
  },
  {
   "cell_type": "markdown",
   "id": "2c0acc1b-2f97-4b81-8ef4-9dfdab6fa779",
   "metadata": {},
   "source": [
    "# 25. Given a DataFrame of numeric values, say\n",
    "\n",
    "df = pd.DataFrame(np.random.random(size=(5, 3)))  \n"
   ]
  },
  {
   "cell_type": "code",
   "execution_count": 27,
   "id": "064237b0-f35e-4baa-aa06-bbfc722cabd8",
   "metadata": {},
   "outputs": [
    {
     "data": {
      "text/html": [
       "<div>\n",
       "<style scoped>\n",
       "    .dataframe tbody tr th:only-of-type {\n",
       "        vertical-align: middle;\n",
       "    }\n",
       "\n",
       "    .dataframe tbody tr th {\n",
       "        vertical-align: top;\n",
       "    }\n",
       "\n",
       "    .dataframe thead th {\n",
       "        text-align: right;\n",
       "    }\n",
       "</style>\n",
       "<table border=\"1\" class=\"dataframe\">\n",
       "  <thead>\n",
       "    <tr style=\"text-align: right;\">\n",
       "      <th></th>\n",
       "      <th>0</th>\n",
       "      <th>1</th>\n",
       "      <th>2</th>\n",
       "    </tr>\n",
       "  </thead>\n",
       "  <tbody>\n",
       "    <tr>\n",
       "      <th>0</th>\n",
       "      <td>0.943746</td>\n",
       "      <td>0.388354</td>\n",
       "      <td>0.772321</td>\n",
       "    </tr>\n",
       "    <tr>\n",
       "      <th>1</th>\n",
       "      <td>0.447214</td>\n",
       "      <td>0.187467</td>\n",
       "      <td>0.412214</td>\n",
       "    </tr>\n",
       "    <tr>\n",
       "      <th>2</th>\n",
       "      <td>0.074699</td>\n",
       "      <td>0.999661</td>\n",
       "      <td>0.938234</td>\n",
       "    </tr>\n",
       "    <tr>\n",
       "      <th>3</th>\n",
       "      <td>0.736039</td>\n",
       "      <td>0.971357</td>\n",
       "      <td>0.096296</td>\n",
       "    </tr>\n",
       "    <tr>\n",
       "      <th>4</th>\n",
       "      <td>0.180972</td>\n",
       "      <td>0.702428</td>\n",
       "      <td>0.247575</td>\n",
       "    </tr>\n",
       "  </tbody>\n",
       "</table>\n",
       "</div>"
      ],
      "text/plain": [
       "          0         1         2\n",
       "0  0.943746  0.388354  0.772321\n",
       "1  0.447214  0.187467  0.412214\n",
       "2  0.074699  0.999661  0.938234\n",
       "3  0.736039  0.971357  0.096296\n",
       "4  0.180972  0.702428  0.247575"
      ]
     },
     "execution_count": 27,
     "metadata": {},
     "output_type": "execute_result"
    }
   ],
   "source": [
    "df = pd.DataFrame(np.random.random(size=(5, 3)))\n",
    "df.head()"
   ]
  },
  {
   "cell_type": "markdown",
   "id": "8ec3b29b-45a0-4c84-8b6e-18a08bff75da",
   "metadata": {},
   "source": [
    "# 26. How do you subtract the row mean from each element in the row?"
   ]
  },
  {
   "cell_type": "code",
   "execution_count": 28,
   "id": "34749bbc-ac1d-4514-b605-79dd003662ca",
   "metadata": {},
   "outputs": [
    {
     "data": {
      "text/html": [
       "<div>\n",
       "<style scoped>\n",
       "    .dataframe tbody tr th:only-of-type {\n",
       "        vertical-align: middle;\n",
       "    }\n",
       "\n",
       "    .dataframe tbody tr th {\n",
       "        vertical-align: top;\n",
       "    }\n",
       "\n",
       "    .dataframe thead th {\n",
       "        text-align: right;\n",
       "    }\n",
       "</style>\n",
       "<table border=\"1\" class=\"dataframe\">\n",
       "  <thead>\n",
       "    <tr style=\"text-align: right;\">\n",
       "      <th></th>\n",
       "      <th>0</th>\n",
       "      <th>1</th>\n",
       "      <th>2</th>\n",
       "    </tr>\n",
       "  </thead>\n",
       "  <tbody>\n",
       "    <tr>\n",
       "      <th>0</th>\n",
       "      <td>0.242272</td>\n",
       "      <td>-0.313120</td>\n",
       "      <td>0.070848</td>\n",
       "    </tr>\n",
       "    <tr>\n",
       "      <th>1</th>\n",
       "      <td>0.098249</td>\n",
       "      <td>-0.161498</td>\n",
       "      <td>0.063249</td>\n",
       "    </tr>\n",
       "    <tr>\n",
       "      <th>2</th>\n",
       "      <td>-0.596166</td>\n",
       "      <td>0.328796</td>\n",
       "      <td>0.267369</td>\n",
       "    </tr>\n",
       "    <tr>\n",
       "      <th>3</th>\n",
       "      <td>0.134808</td>\n",
       "      <td>0.370126</td>\n",
       "      <td>-0.504934</td>\n",
       "    </tr>\n",
       "    <tr>\n",
       "      <th>4</th>\n",
       "      <td>-0.196019</td>\n",
       "      <td>0.325436</td>\n",
       "      <td>-0.129417</td>\n",
       "    </tr>\n",
       "  </tbody>\n",
       "</table>\n",
       "</div>"
      ],
      "text/plain": [
       "          0         1         2\n",
       "0  0.242272 -0.313120  0.070848\n",
       "1  0.098249 -0.161498  0.063249\n",
       "2 -0.596166  0.328796  0.267369\n",
       "3  0.134808  0.370126 -0.504934\n",
       "4 -0.196019  0.325436 -0.129417"
      ]
     },
     "execution_count": 28,
     "metadata": {},
     "output_type": "execute_result"
    }
   ],
   "source": [
    "df = df.sub(df.mean(axis=1),axis=0)\n",
    "df.head()"
   ]
  },
  {
   "cell_type": "markdown",
   "id": "93702bd5-c535-43db-87ea-0977031fa6a5",
   "metadata": {},
   "source": [
    "# 27. Suppose you have DataFrame with 10 columns of real numbers, for example:\n",
    "\n",
    "#### df = pd.DataFrame(np.random.random(size=(5, 10)), columns=list('abcdefghij'))  \n"
   ]
  },
  {
   "cell_type": "code",
   "execution_count": 29,
   "id": "02fe10c8-c843-4b1a-8e0e-eb669aeed9bf",
   "metadata": {},
   "outputs": [
    {
     "data": {
      "text/html": [
       "<div>\n",
       "<style scoped>\n",
       "    .dataframe tbody tr th:only-of-type {\n",
       "        vertical-align: middle;\n",
       "    }\n",
       "\n",
       "    .dataframe tbody tr th {\n",
       "        vertical-align: top;\n",
       "    }\n",
       "\n",
       "    .dataframe thead th {\n",
       "        text-align: right;\n",
       "    }\n",
       "</style>\n",
       "<table border=\"1\" class=\"dataframe\">\n",
       "  <thead>\n",
       "    <tr style=\"text-align: right;\">\n",
       "      <th></th>\n",
       "      <th>a</th>\n",
       "      <th>b</th>\n",
       "      <th>c</th>\n",
       "      <th>d</th>\n",
       "      <th>e</th>\n",
       "      <th>f</th>\n",
       "      <th>g</th>\n",
       "      <th>h</th>\n",
       "      <th>i</th>\n",
       "      <th>j</th>\n",
       "    </tr>\n",
       "  </thead>\n",
       "  <tbody>\n",
       "    <tr>\n",
       "      <th>0</th>\n",
       "      <td>0.559650</td>\n",
       "      <td>0.405626</td>\n",
       "      <td>0.120813</td>\n",
       "      <td>0.801635</td>\n",
       "      <td>0.802784</td>\n",
       "      <td>0.996267</td>\n",
       "      <td>0.413391</td>\n",
       "      <td>0.391893</td>\n",
       "      <td>0.966286</td>\n",
       "      <td>0.257547</td>\n",
       "    </tr>\n",
       "    <tr>\n",
       "      <th>1</th>\n",
       "      <td>0.995928</td>\n",
       "      <td>0.796098</td>\n",
       "      <td>0.091363</td>\n",
       "      <td>0.708094</td>\n",
       "      <td>0.033392</td>\n",
       "      <td>0.522867</td>\n",
       "      <td>0.029743</td>\n",
       "      <td>0.022146</td>\n",
       "      <td>0.533932</td>\n",
       "      <td>0.398639</td>\n",
       "    </tr>\n",
       "    <tr>\n",
       "      <th>2</th>\n",
       "      <td>0.127441</td>\n",
       "      <td>0.730912</td>\n",
       "      <td>0.097525</td>\n",
       "      <td>0.615592</td>\n",
       "      <td>0.056024</td>\n",
       "      <td>0.919593</td>\n",
       "      <td>0.651916</td>\n",
       "      <td>0.945898</td>\n",
       "      <td>0.548720</td>\n",
       "      <td>0.845834</td>\n",
       "    </tr>\n",
       "    <tr>\n",
       "      <th>3</th>\n",
       "      <td>0.213292</td>\n",
       "      <td>0.410860</td>\n",
       "      <td>0.652123</td>\n",
       "      <td>0.233565</td>\n",
       "      <td>0.476392</td>\n",
       "      <td>0.269733</td>\n",
       "      <td>0.985302</td>\n",
       "      <td>0.255993</td>\n",
       "      <td>0.315712</td>\n",
       "      <td>0.366236</td>\n",
       "    </tr>\n",
       "    <tr>\n",
       "      <th>4</th>\n",
       "      <td>0.526756</td>\n",
       "      <td>0.714938</td>\n",
       "      <td>0.297587</td>\n",
       "      <td>0.553017</td>\n",
       "      <td>0.763693</td>\n",
       "      <td>0.501989</td>\n",
       "      <td>0.962475</td>\n",
       "      <td>0.850587</td>\n",
       "      <td>0.071888</td>\n",
       "      <td>0.434553</td>\n",
       "    </tr>\n",
       "  </tbody>\n",
       "</table>\n",
       "</div>"
      ],
      "text/plain": [
       "          a         b         c         d         e         f         g  \\\n",
       "0  0.559650  0.405626  0.120813  0.801635  0.802784  0.996267  0.413391   \n",
       "1  0.995928  0.796098  0.091363  0.708094  0.033392  0.522867  0.029743   \n",
       "2  0.127441  0.730912  0.097525  0.615592  0.056024  0.919593  0.651916   \n",
       "3  0.213292  0.410860  0.652123  0.233565  0.476392  0.269733  0.985302   \n",
       "4  0.526756  0.714938  0.297587  0.553017  0.763693  0.501989  0.962475   \n",
       "\n",
       "          h         i         j  \n",
       "0  0.391893  0.966286  0.257547  \n",
       "1  0.022146  0.533932  0.398639  \n",
       "2  0.945898  0.548720  0.845834  \n",
       "3  0.255993  0.315712  0.366236  \n",
       "4  0.850587  0.071888  0.434553  "
      ]
     },
     "execution_count": 29,
     "metadata": {},
     "output_type": "execute_result"
    }
   ],
   "source": [
    "df = pd.DataFrame(np.random.random(size=(5, 10)), columns=list('abcdefghij'))\n",
    "df.head()"
   ]
  },
  {
   "cell_type": "markdown",
   "id": "b6686c3a-0b43-430f-a632-ae8b2b9e8342",
   "metadata": {},
   "source": [
    "# 28. Which column of numbers has the smallest sum?  Return that column's label."
   ]
  },
  {
   "cell_type": "code",
   "execution_count": 30,
   "id": "60226b9f-507f-4433-b209-9b1f0649c327",
   "metadata": {},
   "outputs": [
    {
     "data": {
      "text/plain": [
       "'c'"
      ]
     },
     "execution_count": 30,
     "metadata": {},
     "output_type": "execute_result"
    }
   ],
   "source": [
    "df.sum().idxmin()"
   ]
  },
  {
   "cell_type": "markdown",
   "id": "6cbd2883-0a3e-4df0-890e-71edd4cb9170",
   "metadata": {},
   "source": [
    "# 29. How do you count how many unique rows a DataFrame has (i.e. ignore all rows that are duplicates)? As input, use a DataFrame of zeros and ones with 10 rows and 3 columns.\n",
    "df = pd.DataFrame(np.random.randint(0, 2, size=(10, 3)))"
   ]
  },
  {
   "cell_type": "code",
   "execution_count": 31,
   "id": "4e21cd59-e3cb-4986-936b-be6180c9a469",
   "metadata": {},
   "outputs": [
    {
     "data": {
      "text/plain": [
       "3"
      ]
     },
     "execution_count": 31,
     "metadata": {},
     "output_type": "execute_result"
    }
   ],
   "source": [
    "df = pd.DataFrame(np.random.randint(0, 2, size=(10, 3)))\n",
    "len(df.drop_duplicates(keep=False))"
   ]
  },
  {
   "cell_type": "markdown",
   "id": "f603ba05-4b00-44ff-9baf-7470318254d9",
   "metadata": {},
   "source": [
    "# 30. In the cell below, you have a DataFrame df that consists of 10 columns of floating-point numbers. Exactly 5 entries in each row are NaN values.\n",
    "\n",
    "For each row of the DataFrame, find the column which contains the third NaN value.\n",
    "\n",
    "You should return a Series of column labels: e, c, d, h, d"
   ]
  },
  {
   "cell_type": "code",
   "execution_count": 32,
   "id": "09ca46bf-574b-45ae-b72f-e54a94b71ab9",
   "metadata": {},
   "outputs": [
    {
     "name": "stdout",
     "output_type": "stream",
     "text": [
      "0    e\n",
      "1    c\n",
      "2    d\n",
      "3    h\n",
      "4    d\n",
      "dtype: object\n"
     ]
    }
   ],
   "source": [
    "import numpy as np\n",
    "import pandas as pd\n",
    "nan = np.nan\n",
    "data = [[0.04,  nan,  nan, 0.25,  nan, 0.43, 0.71, 0.51,  nan,  nan],\n",
    "        [ nan,  nan,  nan, 0.04, 0.76,  nan,  nan, 0.67, 0.76, 0.16],\n",
    "        [ nan,  nan, 0.5 ,  nan, 0.31, 0.4 ,  nan,  nan, 0.24, 0.01],\n",
    "        [0.49,  nan,  nan, 0.62, 0.73, 0.26, 0.85,  nan,  nan,  nan],\n",
    "        [ nan,  nan, 0.41,  nan, 0.05,  nan, 0.61,  nan, 0.48, 0.68]]\n",
    "\n",
    "columns = list('abcdefghij')\n",
    "df = pd.DataFrame(data, columns=columns)\n",
    "def find_nan3(row):\n",
    "    nc = 0\n",
    "    for i, value in enumerate(row):\n",
    "        if pd.isna(value):\n",
    "            nc += 1\n",
    "            if nc == 3:\n",
    "                return df.columns[i]\n",
    "    return None  \n",
    "result = df.apply(find_nan3, axis=1)\n",
    "print(result)\n"
   ]
  },
  {
   "cell_type": "markdown",
   "id": "e37fd966-af3b-4bab-ba07-c71a846ff0d7",
   "metadata": {},
   "source": [
    "# 31. A DataFrame has a column of groups 'grps' and and column of integer values 'vals':\n",
    "\n",
    "df = pd.DataFrame({'grps': list('aaabbcaabcccbbc'), <br>\n",
    "                   'vals': [12,345,3,1,45,14,4,52,54,23,235,21,57,3,87]})<br>\n",
    "For each group, find the sum of the three greatest values. You should end up with the answer as follows:<br>\n",
    "\n",
    "grps\n",
    "<br>a    409 <br> \n",
    "<br>b    156<br>\n",
    "<br>c    345<br>"
   ]
  },
  {
   "cell_type": "code",
   "execution_count": 33,
   "id": "be524999-86df-4581-a756-f7d623b912eb",
   "metadata": {},
   "outputs": [
    {
     "name": "stdout",
     "output_type": "stream",
     "text": [
      "grps\n",
      "a    409\n",
      "b    156\n",
      "c    345\n",
      "Name: vals, dtype: int64\n"
     ]
    }
   ],
   "source": [
    "import pandas as pd\n",
    "df = pd.DataFrame({'grps': list('aaabbcaabcccbbc'), \n",
    "                   'vals': [12, 345, 3, 1, 45, 14, 4, 52, 54, 23, 235, 21, 57, 3, 87]})\n",
    "result = df.groupby('grps')['vals'].apply(lambda x: x.nlargest(3).sum())\n",
    "print(result)\n"
   ]
  },
  {
   "cell_type": "markdown",
   "id": "f070bd3b-88d0-4b2b-a84f-732588393df0",
   "metadata": {},
   "source": [
    "# 32. The DataFrame df constructed below has two integer columns 'A' and 'B'. The values in 'A' are between 1 and 100 (inclusive).\n",
    "\n",
    "For each group of 10 consecutive integers in 'A' (i.e. (0, 10], (10, 20], ...), calculate the sum of the corresponding values in column 'B'.<br>\n",
    "\n",
    "The answer should be a Series as follows:\n",
    "    <br>A<br>\n",
    "(0, 10]      635<br>\n",
    "(10, 20]     360<br>\n",
    "(20, 30]     315<br>\n",
    "(30, 40]     306<br>\n",
    "(40, 50]     750<br>\n",
    "(50, 60]     284<br>\n",
    "(60, 70]     424<br>\n",
    "(70, 80]     526<br>\n",
    "(80, 90]     835<br>\n",
    "(90, 100]    852    <br>                                                "
   ]
  },
  {
   "cell_type": "code",
   "execution_count": 34,
   "id": "e913db0f-d5e5-4a96-bc04-73c88169ca02",
   "metadata": {},
   "outputs": [
    {
     "data": {
      "text/html": [
       "<div>\n",
       "<style scoped>\n",
       "    .dataframe tbody tr th:only-of-type {\n",
       "        vertical-align: middle;\n",
       "    }\n",
       "\n",
       "    .dataframe tbody tr th {\n",
       "        vertical-align: top;\n",
       "    }\n",
       "\n",
       "    .dataframe thead th {\n",
       "        text-align: right;\n",
       "    }\n",
       "</style>\n",
       "<table border=\"1\" class=\"dataframe\">\n",
       "  <thead>\n",
       "    <tr style=\"text-align: right;\">\n",
       "      <th></th>\n",
       "      <th>A</th>\n",
       "      <th>B</th>\n",
       "    </tr>\n",
       "  </thead>\n",
       "  <tbody>\n",
       "    <tr>\n",
       "      <th>0</th>\n",
       "      <td>46</td>\n",
       "      <td>29</td>\n",
       "    </tr>\n",
       "    <tr>\n",
       "      <th>1</th>\n",
       "      <td>75</td>\n",
       "      <td>22</td>\n",
       "    </tr>\n",
       "    <tr>\n",
       "      <th>2</th>\n",
       "      <td>49</td>\n",
       "      <td>63</td>\n",
       "    </tr>\n",
       "    <tr>\n",
       "      <th>3</th>\n",
       "      <td>33</td>\n",
       "      <td>43</td>\n",
       "    </tr>\n",
       "    <tr>\n",
       "      <th>4</th>\n",
       "      <td>71</td>\n",
       "      <td>75</td>\n",
       "    </tr>\n",
       "  </tbody>\n",
       "</table>\n",
       "</div>"
      ],
      "text/plain": [
       "    A   B\n",
       "0  46  29\n",
       "1  75  22\n",
       "2  49  63\n",
       "3  33  43\n",
       "4  71  75"
      ]
     },
     "execution_count": 34,
     "metadata": {},
     "output_type": "execute_result"
    }
   ],
   "source": [
    "df = pd.DataFrame(np.random.RandomState(8765).randint(1, 101, size=(100, 2)), columns = [\"A\", \"B\"])\n",
    "df.head()"
   ]
  },
  {
   "cell_type": "code",
   "execution_count": 35,
   "id": "ae185ce7-be2c-4bd1-967e-d91b35b6640e",
   "metadata": {},
   "outputs": [
    {
     "name": "stderr",
     "output_type": "stream",
     "text": [
      "C:\\Users\\Sneha Karkoli\\AppData\\Local\\Temp\\ipykernel_5584\\2041526266.py:15: FutureWarning: The default of observed=False is deprecated and will be changed to True in a future version of pandas. Pass observed=False to retain current behavior or observed=True to adopt the future default and silence this warning.\n",
      "  df.groupby(pd.cut(df['A'], np.arange(0,101,10)))['B'].sum()\n"
     ]
    },
    {
     "data": {
      "text/plain": [
       "A\n",
       "(0, 10]      635\n",
       "(10, 20]     360\n",
       "(20, 30]     315\n",
       "(30, 40]     306\n",
       "(40, 50]     750\n",
       "(50, 60]     284\n",
       "(60, 70]     424\n",
       "(70, 80]     526\n",
       "(80, 90]     835\n",
       "(90, 100]    852\n",
       "Name: B, dtype: int32"
      ]
     },
     "execution_count": 35,
     "metadata": {},
     "output_type": "execute_result"
    }
   ],
   "source": [
    "#ugly solution\n",
    "'''\n",
    "x1=df[(df['A']>0) & (df['A']<=10)].sum()\n",
    "x2=df[(df['A']>10) & (df['A']<=20)].sum()\n",
    "x3=df[(df['A']>20) & (df['A']<=30)].sum()\n",
    "x2=df[(df['A']>30) & (df['A']<=40)].sum()\n",
    "x2=df[(df['A']>40) & (df['A']<=50)].sum()\n",
    "x2=df[(df['A']>50) & (df['A']<=60)].sum()\n",
    "x2=df[(df['A']>60) & (df['A']<=70)].sum()\n",
    "x2=df[(df['A']>70) & (df['A']<=80)].sum()\n",
    "x2=df[(df['A']>80) & (df['A']<=90)].sum()\n",
    "x2=df[(df['A']>90) & (df['A']<=100)].sum()\n",
    "'''\n",
    "\n",
    "df.groupby(pd.cut(df['A'], np.arange(0,101,10)))['B'].sum()"
   ]
  },
  {
   "cell_type": "markdown",
   "id": "719e035e-5acd-441d-8632-4ab703a8f605",
   "metadata": {},
   "source": [
    "# 33. Consider a DataFrame df where there is an integer column 'X':\n",
    "\n",
    "df = pd.DataFrame({'X': [7, 2, 0, 3, 4, 2, 5, 0, 3, 4]})\n",
    "For each value, count the difference back to the previous zero (or the start of the Series, whichever is closer). These values should therefore be\n",
    "\n",
    "[1, 2, 0, 1, 2, 3, 4, 0, 1, 2]\n",
    "Make this a new column 'Y'."
   ]
  },
  {
   "cell_type": "code",
   "execution_count": 36,
   "id": "2ead56ee-9868-4387-8a08-fce67354853b",
   "metadata": {},
   "outputs": [
    {
     "data": {
      "text/html": [
       "<div>\n",
       "<style scoped>\n",
       "    .dataframe tbody tr th:only-of-type {\n",
       "        vertical-align: middle;\n",
       "    }\n",
       "\n",
       "    .dataframe tbody tr th {\n",
       "        vertical-align: top;\n",
       "    }\n",
       "\n",
       "    .dataframe thead th {\n",
       "        text-align: right;\n",
       "    }\n",
       "</style>\n",
       "<table border=\"1\" class=\"dataframe\">\n",
       "  <thead>\n",
       "    <tr style=\"text-align: right;\">\n",
       "      <th></th>\n",
       "      <th>X</th>\n",
       "      <th>Y</th>\n",
       "    </tr>\n",
       "  </thead>\n",
       "  <tbody>\n",
       "    <tr>\n",
       "      <th>0</th>\n",
       "      <td>7</td>\n",
       "      <td>1</td>\n",
       "    </tr>\n",
       "    <tr>\n",
       "      <th>1</th>\n",
       "      <td>2</td>\n",
       "      <td>2</td>\n",
       "    </tr>\n",
       "    <tr>\n",
       "      <th>2</th>\n",
       "      <td>0</td>\n",
       "      <td>0</td>\n",
       "    </tr>\n",
       "    <tr>\n",
       "      <th>3</th>\n",
       "      <td>3</td>\n",
       "      <td>1</td>\n",
       "    </tr>\n",
       "    <tr>\n",
       "      <th>4</th>\n",
       "      <td>4</td>\n",
       "      <td>2</td>\n",
       "    </tr>\n",
       "  </tbody>\n",
       "</table>\n",
       "</div>"
      ],
      "text/plain": [
       "   X  Y\n",
       "0  7  1\n",
       "1  2  2\n",
       "2  0  0\n",
       "3  3  1\n",
       "4  4  2"
      ]
     },
     "execution_count": 36,
     "metadata": {},
     "output_type": "execute_result"
    }
   ],
   "source": [
    "df = pd.DataFrame({'X': [7, 2, 0, 3, 4, 2, 5, 0, 3, 4]})\n",
    "\n",
    "izero = np.r_[-1, (df == 0).values.nonzero()[0]]  # indices of zeros\n",
    "idx = np.arange(len(df))\n",
    "y = df['X'] != 0\n",
    "df['Y'] = idx - izero[np.searchsorted(izero - 1, idx) - 1]\n",
    "df.head()"
   ]
  },
  {
   "cell_type": "markdown",
   "id": "c231c6b4-2f8b-4793-a1d2-859bad0bfd2a",
   "metadata": {},
   "source": [
    "# 34. Consider the DataFrame constructed below which contains rows and columns of numerical data.\n",
    "\n",
    "Create a list of the column-row index locations of the 3 largest values in this DataFrame. In this case, the answer should be:\n",
    "\n",
    "[(5, 7), (6, 4), (2, 5)]"
   ]
  },
  {
   "cell_type": "code",
   "execution_count": 37,
   "id": "e89460e1-d68a-4871-8918-c47f86f5ba3e",
   "metadata": {},
   "outputs": [
    {
     "data": {
      "text/html": [
       "<div>\n",
       "<style scoped>\n",
       "    .dataframe tbody tr th:only-of-type {\n",
       "        vertical-align: middle;\n",
       "    }\n",
       "\n",
       "    .dataframe tbody tr th {\n",
       "        vertical-align: top;\n",
       "    }\n",
       "\n",
       "    .dataframe thead th {\n",
       "        text-align: right;\n",
       "    }\n",
       "</style>\n",
       "<table border=\"1\" class=\"dataframe\">\n",
       "  <thead>\n",
       "    <tr style=\"text-align: right;\">\n",
       "      <th></th>\n",
       "      <th>0</th>\n",
       "      <th>1</th>\n",
       "      <th>2</th>\n",
       "      <th>3</th>\n",
       "      <th>4</th>\n",
       "      <th>5</th>\n",
       "      <th>6</th>\n",
       "      <th>7</th>\n",
       "    </tr>\n",
       "  </thead>\n",
       "  <tbody>\n",
       "    <tr>\n",
       "      <th>0</th>\n",
       "      <td>38</td>\n",
       "      <td>38</td>\n",
       "      <td>46</td>\n",
       "      <td>46</td>\n",
       "      <td>13</td>\n",
       "      <td>24</td>\n",
       "      <td>3</td>\n",
       "      <td>54</td>\n",
       "    </tr>\n",
       "    <tr>\n",
       "      <th>1</th>\n",
       "      <td>18</td>\n",
       "      <td>47</td>\n",
       "      <td>4</td>\n",
       "      <td>42</td>\n",
       "      <td>8</td>\n",
       "      <td>66</td>\n",
       "      <td>50</td>\n",
       "      <td>46</td>\n",
       "    </tr>\n",
       "    <tr>\n",
       "      <th>2</th>\n",
       "      <td>62</td>\n",
       "      <td>36</td>\n",
       "      <td>19</td>\n",
       "      <td>19</td>\n",
       "      <td>77</td>\n",
       "      <td>17</td>\n",
       "      <td>7</td>\n",
       "      <td>63</td>\n",
       "    </tr>\n",
       "    <tr>\n",
       "      <th>3</th>\n",
       "      <td>28</td>\n",
       "      <td>47</td>\n",
       "      <td>46</td>\n",
       "      <td>65</td>\n",
       "      <td>63</td>\n",
       "      <td>12</td>\n",
       "      <td>16</td>\n",
       "      <td>24</td>\n",
       "    </tr>\n",
       "    <tr>\n",
       "      <th>4</th>\n",
       "      <td>14</td>\n",
       "      <td>51</td>\n",
       "      <td>34</td>\n",
       "      <td>56</td>\n",
       "      <td>29</td>\n",
       "      <td>59</td>\n",
       "      <td>92</td>\n",
       "      <td>79</td>\n",
       "    </tr>\n",
       "    <tr>\n",
       "      <th>5</th>\n",
       "      <td>58</td>\n",
       "      <td>76</td>\n",
       "      <td>96</td>\n",
       "      <td>45</td>\n",
       "      <td>38</td>\n",
       "      <td>76</td>\n",
       "      <td>58</td>\n",
       "      <td>40</td>\n",
       "    </tr>\n",
       "    <tr>\n",
       "      <th>6</th>\n",
       "      <td>10</td>\n",
       "      <td>34</td>\n",
       "      <td>48</td>\n",
       "      <td>40</td>\n",
       "      <td>37</td>\n",
       "      <td>23</td>\n",
       "      <td>41</td>\n",
       "      <td>26</td>\n",
       "    </tr>\n",
       "    <tr>\n",
       "      <th>7</th>\n",
       "      <td>55</td>\n",
       "      <td>70</td>\n",
       "      <td>91</td>\n",
       "      <td>27</td>\n",
       "      <td>79</td>\n",
       "      <td>92</td>\n",
       "      <td>20</td>\n",
       "      <td>31</td>\n",
       "    </tr>\n",
       "  </tbody>\n",
       "</table>\n",
       "</div>"
      ],
      "text/plain": [
       "    0   1   2   3   4   5   6   7\n",
       "0  38  38  46  46  13  24   3  54\n",
       "1  18  47   4  42   8  66  50  46\n",
       "2  62  36  19  19  77  17   7  63\n",
       "3  28  47  46  65  63  12  16  24\n",
       "4  14  51  34  56  29  59  92  79\n",
       "5  58  76  96  45  38  76  58  40\n",
       "6  10  34  48  40  37  23  41  26\n",
       "7  55  70  91  27  79  92  20  31"
      ]
     },
     "execution_count": 37,
     "metadata": {},
     "output_type": "execute_result"
    }
   ],
   "source": [
    "df = pd.DataFrame(np.random.RandomState(30).randint(1, 101, size=(8, 8)))\n",
    "df.head(20)"
   ]
  },
  {
   "cell_type": "code",
   "execution_count": 38,
   "id": "961ae46c-9473-4dbf-8735-8fc896b51d39",
   "metadata": {},
   "outputs": [
    {
     "data": {
      "text/plain": [
       "[(5, 7), (6, 4), (2, 5)]"
      ]
     },
     "execution_count": 38,
     "metadata": {},
     "output_type": "execute_result"
    }
   ],
   "source": [
    "df2 = df.unstack().copy()\n",
    "df2.sort_values()[-3:].index.tolist()"
   ]
  },
  {
   "cell_type": "markdown",
   "id": "cf66860f-96dc-405b-97cc-f710ce2e6d1e",
   "metadata": {},
   "source": [
    "# 35. You are given the DataFrame below with a column of group IDs, 'grps', and a column of corresponding integer values, 'vals'.\n",
    "\n",
    "df = pd.DataFrame({\"vals\": np.random.RandomState(31).randint(-30, 30, size=15), <br>\n",
    "                   \"grps\": np.random.RandomState(31).choice([\"A\", \"B\"], 15)})<br>\n",
    "Create a new column 'patched_values' which contains the same values as the 'vals' any negative values in 'vals' with the group mean:<br>\n",
    "\n",
    "|     |vals   |  grps  |    patched_vals <br>|\n",
    "|-----|-------|--------|---------------------|----\n",
    "|  0  |  -12  |  A     |     13.6 <br>       | \n",
    "|  1  |  -7   |  B     |     28.0 <br>       | \n",
    "|  2  |  -14  |  A     |     13.6 <br>       |   \n",
    "|  3  |   4   |  A     |      4.0 <br>       |\n",
    "|  4  |   -7  |  A     |     13.6<br>        |\n",
    "|  5  |   28  |  B     |     28.0<br>        |\n",
    "|  6  |   -2  |  A     |     13.6<br>        |\n",
    "|  7  |   -1  |  A     |     13.6<br>        |\n",
    "|  8  |    8  |  A     |      8.0<br>        |\n",
    "|  9  |   -2  |  B     |     28.0<br>        |\n",
    "|  10 |   28  |  A     |     28.0<br>        |\n",
    "|  11 |   12  |  A     |     12.0<br>        |\n",
    "|  12 |   16  |  A     |     16.0<br>        |\n",
    "|  13 |  -24  |  A     |     13.6<br>        |\n",
    "|  14 |  -12  |  A     |     13.6<br>        |"
   ]
  },
  {
   "cell_type": "code",
   "execution_count": 39,
   "id": "41d79350-5bd2-4fcf-a19e-6e2ea002e629",
   "metadata": {},
   "outputs": [
    {
     "data": {
      "text/html": [
       "<div>\n",
       "<style scoped>\n",
       "    .dataframe tbody tr th:only-of-type {\n",
       "        vertical-align: middle;\n",
       "    }\n",
       "\n",
       "    .dataframe tbody tr th {\n",
       "        vertical-align: top;\n",
       "    }\n",
       "\n",
       "    .dataframe thead th {\n",
       "        text-align: right;\n",
       "    }\n",
       "</style>\n",
       "<table border=\"1\" class=\"dataframe\">\n",
       "  <thead>\n",
       "    <tr style=\"text-align: right;\">\n",
       "      <th></th>\n",
       "      <th>vals</th>\n",
       "      <th>grps</th>\n",
       "    </tr>\n",
       "  </thead>\n",
       "  <tbody>\n",
       "    <tr>\n",
       "      <th>0</th>\n",
       "      <td>-12</td>\n",
       "      <td>A</td>\n",
       "    </tr>\n",
       "    <tr>\n",
       "      <th>1</th>\n",
       "      <td>-7</td>\n",
       "      <td>B</td>\n",
       "    </tr>\n",
       "    <tr>\n",
       "      <th>2</th>\n",
       "      <td>-14</td>\n",
       "      <td>A</td>\n",
       "    </tr>\n",
       "    <tr>\n",
       "      <th>3</th>\n",
       "      <td>4</td>\n",
       "      <td>A</td>\n",
       "    </tr>\n",
       "    <tr>\n",
       "      <th>4</th>\n",
       "      <td>-7</td>\n",
       "      <td>A</td>\n",
       "    </tr>\n",
       "    <tr>\n",
       "      <th>5</th>\n",
       "      <td>28</td>\n",
       "      <td>B</td>\n",
       "    </tr>\n",
       "    <tr>\n",
       "      <th>6</th>\n",
       "      <td>-2</td>\n",
       "      <td>A</td>\n",
       "    </tr>\n",
       "    <tr>\n",
       "      <th>7</th>\n",
       "      <td>-1</td>\n",
       "      <td>A</td>\n",
       "    </tr>\n",
       "    <tr>\n",
       "      <th>8</th>\n",
       "      <td>8</td>\n",
       "      <td>A</td>\n",
       "    </tr>\n",
       "    <tr>\n",
       "      <th>9</th>\n",
       "      <td>-2</td>\n",
       "      <td>B</td>\n",
       "    </tr>\n",
       "  </tbody>\n",
       "</table>\n",
       "</div>"
      ],
      "text/plain": [
       "   vals grps\n",
       "0   -12    A\n",
       "1    -7    B\n",
       "2   -14    A\n",
       "3     4    A\n",
       "4    -7    A\n",
       "5    28    B\n",
       "6    -2    A\n",
       "7    -1    A\n",
       "8     8    A\n",
       "9    -2    B"
      ]
     },
     "execution_count": 39,
     "metadata": {},
     "output_type": "execute_result"
    }
   ],
   "source": [
    "df = pd.DataFrame({\"vals\": np.random.RandomState(31).randint(-30, 30, size=15), \n",
    "                   \"grps\": np.random.RandomState(31).choice([\"A\", \"B\"], 15)})\n",
    "df.head(10)"
   ]
  },
  {
   "cell_type": "code",
   "execution_count": 40,
   "id": "1ac30d7b-3cfb-431e-99b2-47a79de6c47f",
   "metadata": {},
   "outputs": [
    {
     "name": "stderr",
     "output_type": "stream",
     "text": [
      "C:\\Users\\Sneha Karkoli\\AppData\\Local\\Temp\\ipykernel_5584\\2835002468.py:3: FutureWarning: Setting an item of incompatible dtype is deprecated and will raise an error in a future version of pandas. Value '13.6' has dtype incompatible with int32, please explicitly cast to a compatible dtype first.\n",
      "  group[mask] = group[~mask].mean()\n"
     ]
    },
    {
     "data": {
      "text/plain": [
       "0     13.6\n",
       "1     28.0\n",
       "2     13.6\n",
       "3      4.0\n",
       "4     13.6\n",
       "5     28.0\n",
       "6     13.6\n",
       "7     13.6\n",
       "8      8.0\n",
       "9     28.0\n",
       "10    28.0\n",
       "11    12.0\n",
       "12    16.0\n",
       "13    13.6\n",
       "14    13.6\n",
       "Name: vals, dtype: float64"
      ]
     },
     "execution_count": 40,
     "metadata": {},
     "output_type": "execute_result"
    }
   ],
   "source": [
    "def replace(group):\n",
    "    mask = group<0\n",
    "    group[mask] = group[~mask].mean()\n",
    "    return group\n",
    "\n",
    "df.groupby(['grps'])['vals'].transform(replace)\n"
   ]
  },
  {
   "cell_type": "code",
   "execution_count": 41,
   "id": "ce35f4c2-1080-4c38-9a44-a4d95f40d0f3",
   "metadata": {},
   "outputs": [
    {
     "data": {
      "text/html": [
       "<div>\n",
       "<style scoped>\n",
       "    .dataframe tbody tr th:only-of-type {\n",
       "        vertical-align: middle;\n",
       "    }\n",
       "\n",
       "    .dataframe tbody tr th {\n",
       "        vertical-align: top;\n",
       "    }\n",
       "\n",
       "    .dataframe thead th {\n",
       "        text-align: right;\n",
       "    }\n",
       "</style>\n",
       "<table border=\"1\" class=\"dataframe\">\n",
       "  <thead>\n",
       "    <tr style=\"text-align: right;\">\n",
       "      <th></th>\n",
       "      <th>vals</th>\n",
       "      <th>grps</th>\n",
       "    </tr>\n",
       "  </thead>\n",
       "  <tbody>\n",
       "    <tr>\n",
       "      <th>0</th>\n",
       "      <td>-12</td>\n",
       "      <td>A</td>\n",
       "    </tr>\n",
       "    <tr>\n",
       "      <th>1</th>\n",
       "      <td>-7</td>\n",
       "      <td>B</td>\n",
       "    </tr>\n",
       "    <tr>\n",
       "      <th>2</th>\n",
       "      <td>-14</td>\n",
       "      <td>A</td>\n",
       "    </tr>\n",
       "    <tr>\n",
       "      <th>3</th>\n",
       "      <td>4</td>\n",
       "      <td>A</td>\n",
       "    </tr>\n",
       "    <tr>\n",
       "      <th>4</th>\n",
       "      <td>-7</td>\n",
       "      <td>A</td>\n",
       "    </tr>\n",
       "    <tr>\n",
       "      <th>5</th>\n",
       "      <td>28</td>\n",
       "      <td>B</td>\n",
       "    </tr>\n",
       "    <tr>\n",
       "      <th>6</th>\n",
       "      <td>-2</td>\n",
       "      <td>A</td>\n",
       "    </tr>\n",
       "    <tr>\n",
       "      <th>7</th>\n",
       "      <td>-1</td>\n",
       "      <td>A</td>\n",
       "    </tr>\n",
       "    <tr>\n",
       "      <th>8</th>\n",
       "      <td>8</td>\n",
       "      <td>A</td>\n",
       "    </tr>\n",
       "    <tr>\n",
       "      <th>9</th>\n",
       "      <td>-2</td>\n",
       "      <td>B</td>\n",
       "    </tr>\n",
       "  </tbody>\n",
       "</table>\n",
       "</div>"
      ],
      "text/plain": [
       "   vals grps\n",
       "0   -12    A\n",
       "1    -7    B\n",
       "2   -14    A\n",
       "3     4    A\n",
       "4    -7    A\n",
       "5    28    B\n",
       "6    -2    A\n",
       "7    -1    A\n",
       "8     8    A\n",
       "9    -2    B"
      ]
     },
     "execution_count": 41,
     "metadata": {},
     "output_type": "execute_result"
    }
   ],
   "source": [
    "df = pd.DataFrame({\"vals\": np.random.RandomState(31).randint(-30, 30, size=15), \n",
    "                   \"grps\": np.random.RandomState(31).choice([\"A\", \"B\"], 15)})\n",
    "df.head(10)"
   ]
  },
  {
   "cell_type": "code",
   "execution_count": 42,
   "id": "e4cc5738-9aa0-4d70-9060-567205bd92a0",
   "metadata": {},
   "outputs": [
    {
     "name": "stderr",
     "output_type": "stream",
     "text": [
      "C:\\Users\\Sneha Karkoli\\AppData\\Local\\Temp\\ipykernel_5584\\148917748.py:3: FutureWarning: Setting an item of incompatible dtype is deprecated and will raise an error in a future version of pandas. Value '13.6' has dtype incompatible with int32, please explicitly cast to a compatible dtype first.\n",
      "  group[mask] = group[~mask].mean()\n"
     ]
    },
    {
     "data": {
      "text/plain": [
       "0     13.6\n",
       "1     28.0\n",
       "2     13.6\n",
       "3      4.0\n",
       "4     13.6\n",
       "5     28.0\n",
       "6     13.6\n",
       "7     13.6\n",
       "8      8.0\n",
       "9     28.0\n",
       "10    28.0\n",
       "11    12.0\n",
       "12    16.0\n",
       "13    13.6\n",
       "14    13.6\n",
       "Name: vals, dtype: float64"
      ]
     },
     "execution_count": 42,
     "metadata": {},
     "output_type": "execute_result"
    }
   ],
   "source": [
    "def replace(group):\n",
    "    mask = group<0\n",
    "    group[mask] = group[~mask].mean()\n",
    "    return group\n",
    "\n",
    "df.groupby(['grps'])['vals'].transform(replace)"
   ]
  },
  {
   "cell_type": "markdown",
   "id": "b806c6e4-dab4-4fa5-8149-e3a836cda579",
   "metadata": {},
   "source": [
    "# 36. Implement a rolling mean over groups with window size|3, which ignores NaN value. For example consider the following DataFrame:\n",
    "\n",
    "df = pd.DataFrame({'group': list('aabbabbbabab'),<br> 'value': [1, 2, 3, np.nan, 2, 3, np.nan, 1, 7, 3, np.nan, 8]})<br>\n",
    "\n",
    "|   |group|  value|\n",
    "|---|-----|-------|\n",
    "|0  |    a|   1.0 |\n",
    "|1  |    a|   2.0 |\n",
    "|2  |    b|    3.0|\n",
    "|3  |    b|    NaN|\n",
    "|4  |    a|    2.0|\n",
    "|5  |    b|    3.0|\n",
    "|6  |    b|   NaN |\n",
    "|7  |    b|    1.0|\n",
    "|8  |    a|   7.0 |\n",
    "|9  |    b|    3.0|\n",
    "|10 |    a|    NaN|\n",
    "|11 |    b|    8.0|\n",
    "The goal is to compute the Series:"
   ]
  },
  {
   "cell_type": "code",
   "execution_count": 43,
   "id": "9ab3120e-1a0e-4afc-bb8d-c38d87a04afc",
   "metadata": {},
   "outputs": [
    {
     "data": {
      "text/html": [
       "<div>\n",
       "<style scoped>\n",
       "    .dataframe tbody tr th:only-of-type {\n",
       "        vertical-align: middle;\n",
       "    }\n",
       "\n",
       "    .dataframe tbody tr th {\n",
       "        vertical-align: top;\n",
       "    }\n",
       "\n",
       "    .dataframe thead th {\n",
       "        text-align: right;\n",
       "    }\n",
       "</style>\n",
       "<table border=\"1\" class=\"dataframe\">\n",
       "  <thead>\n",
       "    <tr style=\"text-align: right;\">\n",
       "      <th></th>\n",
       "      <th>group</th>\n",
       "      <th>value</th>\n",
       "    </tr>\n",
       "  </thead>\n",
       "  <tbody>\n",
       "    <tr>\n",
       "      <th>0</th>\n",
       "      <td>a</td>\n",
       "      <td>1.0</td>\n",
       "    </tr>\n",
       "    <tr>\n",
       "      <th>1</th>\n",
       "      <td>a</td>\n",
       "      <td>2.0</td>\n",
       "    </tr>\n",
       "    <tr>\n",
       "      <th>2</th>\n",
       "      <td>b</td>\n",
       "      <td>3.0</td>\n",
       "    </tr>\n",
       "    <tr>\n",
       "      <th>3</th>\n",
       "      <td>b</td>\n",
       "      <td>NaN</td>\n",
       "    </tr>\n",
       "    <tr>\n",
       "      <th>4</th>\n",
       "      <td>a</td>\n",
       "      <td>2.0</td>\n",
       "    </tr>\n",
       "  </tbody>\n",
       "</table>\n",
       "</div>"
      ],
      "text/plain": [
       "  group  value\n",
       "0     a    1.0\n",
       "1     a    2.0\n",
       "2     b    3.0\n",
       "3     b    NaN\n",
       "4     a    2.0"
      ]
     },
     "execution_count": 43,
     "metadata": {},
     "output_type": "execute_result"
    }
   ],
   "source": [
    "df = pd.DataFrame({'group': list('aabbabbbabab'),\n",
    "                       'value': [1, 2, 3, np.nan, 2, 3, np.nan, 1, 7, 3, np.nan, 8]})\n",
    "df.head()"
   ]
  },
  {
   "cell_type": "markdown",
   "id": "4501caf8-318a-48c6-a690-fc6e78f9eb87",
   "metadata": {},
   "source": [
    "# 37. Create a DatetimeIndex that contains each business day of 2015 and use it to index a Series of random numbers. Let's call this Series s."
   ]
  },
  {
   "cell_type": "code",
   "execution_count": 44,
   "id": "99dd1dde-91dd-40fe-84f1-54cb5505383d",
   "metadata": {},
   "outputs": [
    {
     "name": "stdout",
     "output_type": "stream",
     "text": [
      "2015-01-01    0.080952\n",
      "2015-01-02    0.990659\n",
      "2015-01-05    0.665265\n",
      "2015-01-06    0.705027\n",
      "2015-01-07    0.913932\n",
      "                ...   \n",
      "2015-12-25    0.730461\n",
      "2015-12-28    0.846810\n",
      "2015-12-29    0.318737\n",
      "2015-12-30    0.101281\n",
      "2015-12-31    0.857150\n",
      "Freq: B, Length: 261, dtype: float64\n"
     ]
    }
   ],
   "source": [
    "import numpy as np\n",
    "dti = pd.date_range('2015-01-01', '2015-12-31', freq='B')\n",
    "x = np.random.rand(len(dti))\n",
    "s = pd.Series(x,index = dti)\n",
    "\n",
    "print(s)"
   ]
  },
  {
   "cell_type": "markdown",
   "id": "bc45e214-90a1-47ac-8ecf-b12ffc5569b4",
   "metadata": {},
   "source": [
    "# 38. Find the sum of the values in s for every Wednesday."
   ]
  },
  {
   "cell_type": "code",
   "execution_count": 45,
   "id": "79163d2e-b41a-46e3-a640-4346cb758f1f",
   "metadata": {},
   "outputs": [
    {
     "data": {
      "text/plain": [
       "np.float64(22.180348088665554)"
      ]
     },
     "execution_count": 45,
     "metadata": {},
     "output_type": "execute_result"
    }
   ],
   "source": [
    "s[s.index.day_name() == 'Wednesday'].sum()"
   ]
  },
  {
   "cell_type": "markdown",
   "id": "1ee8ea51-0381-498f-b959-63bca6ca1f33",
   "metadata": {},
   "source": [
    "# 39. For each calendar month in s, find the mean of values."
   ]
  },
  {
   "cell_type": "code",
   "execution_count": 46,
   "id": "d25a118d-721d-4db4-8a51-5e59ef90c310",
   "metadata": {},
   "outputs": [
    {
     "name": "stderr",
     "output_type": "stream",
     "text": [
      "C:\\Users\\Sneha Karkoli\\AppData\\Local\\Temp\\ipykernel_5584\\4137432625.py:1: FutureWarning: 'M' is deprecated and will be removed in a future version, please use 'ME' instead.\n",
      "  s.resample('M').mean()\n"
     ]
    },
    {
     "data": {
      "text/plain": [
       "2015-01-31    0.449587\n",
       "2015-02-28    0.512418\n",
       "2015-03-31    0.460289\n",
       "2015-04-30    0.466441\n",
       "2015-05-31    0.507815\n",
       "2015-06-30    0.589660\n",
       "2015-07-31    0.533561\n",
       "2015-08-31    0.405062\n",
       "2015-09-30    0.541908\n",
       "2015-10-31    0.469026\n",
       "2015-11-30    0.486541\n",
       "2015-12-31    0.527241\n",
       "Freq: ME, dtype: float64"
      ]
     },
     "execution_count": 46,
     "metadata": {},
     "output_type": "execute_result"
    }
   ],
   "source": [
    "s.resample('M').mean()"
   ]
  },
  {
   "cell_type": "markdown",
   "id": "d72abff8-4a99-4011-9faa-38b020bf70e6",
   "metadata": {},
   "source": [
    "# 40. For each group of four consecutive calendar months in s, find the date on which the highest value occurred."
   ]
  },
  {
   "cell_type": "code",
   "execution_count": 47,
   "id": "0e130ab6-c4c3-4b49-b075-796f3a19243a",
   "metadata": {},
   "outputs": [
    {
     "name": "stderr",
     "output_type": "stream",
     "text": [
      "C:\\Users\\Sneha Karkoli\\AppData\\Local\\Temp\\ipykernel_5584\\1554433663.py:1: FutureWarning: 'M' is deprecated and will be removed in a future version, please use 'ME' instead.\n",
      "  s.groupby(pd.Grouper(freq='4M')).idxmax()\n"
     ]
    },
    {
     "data": {
      "text/plain": [
       "2015-01-31   2015-01-02\n",
       "2015-05-31   2015-04-30\n",
       "2015-09-30   2015-06-03\n",
       "2016-01-31   2015-12-11\n",
       "Freq: 4ME, dtype: datetime64[ns]"
      ]
     },
     "execution_count": 47,
     "metadata": {},
     "output_type": "execute_result"
    }
   ],
   "source": [
    "s.groupby(pd.Grouper(freq='4M')).idxmax()"
   ]
  },
  {
   "cell_type": "markdown",
   "id": "fb311ce0-edff-46a4-a782-103a982e0eee",
   "metadata": {},
   "source": [
    "# 41. Create a DateTimeIndex consisting of the third Thursday in each month for the years 2015 and 2016."
   ]
  },
  {
   "cell_type": "code",
   "execution_count": 48,
   "id": "4ea9d9f9-279d-4742-80b4-b0de5a830e5f",
   "metadata": {},
   "outputs": [
    {
     "data": {
      "text/plain": [
       "DatetimeIndex(['2015-01-15', '2015-02-19', '2015-03-19', '2015-04-16',\n",
       "               '2015-05-21', '2015-06-18', '2015-07-16', '2015-08-20',\n",
       "               '2015-09-17', '2015-10-15', '2015-11-19', '2015-12-17',\n",
       "               '2016-01-21', '2016-02-18', '2016-03-17', '2016-04-21',\n",
       "               '2016-05-19', '2016-06-16', '2016-07-21', '2016-08-18',\n",
       "               '2016-09-15', '2016-10-20', '2016-11-17', '2016-12-15'],\n",
       "              dtype='datetime64[ns]', freq='WOM-3THU')"
      ]
     },
     "execution_count": 48,
     "metadata": {},
     "output_type": "execute_result"
    }
   ],
   "source": [
    "s = pd.date_range('2015-01-01', '2016-12-31', freq='WOM-3THU')\n",
    "s"
   ]
  },
  {
   "cell_type": "code",
   "execution_count": 49,
   "id": "384e6a1f-1c0c-4df9-9102-57cc64009dee",
   "metadata": {},
   "outputs": [],
   "source": [
    "import pandas as pd\n",
    "import numpy as np"
   ]
  },
  {
   "cell_type": "code",
   "execution_count": 50,
   "id": "ce2eedc3-c27c-42b9-b133-886004ea51c9",
   "metadata": {},
   "outputs": [
    {
     "data": {
      "text/html": [
       "<div>\n",
       "<style scoped>\n",
       "    .dataframe tbody tr th:only-of-type {\n",
       "        vertical-align: middle;\n",
       "    }\n",
       "\n",
       "    .dataframe tbody tr th {\n",
       "        vertical-align: top;\n",
       "    }\n",
       "\n",
       "    .dataframe thead th {\n",
       "        text-align: right;\n",
       "    }\n",
       "</style>\n",
       "<table border=\"1\" class=\"dataframe\">\n",
       "  <thead>\n",
       "    <tr style=\"text-align: right;\">\n",
       "      <th></th>\n",
       "      <th>From_To</th>\n",
       "      <th>FlightNumber</th>\n",
       "      <th>RecentDelays</th>\n",
       "      <th>Airline</th>\n",
       "    </tr>\n",
       "  </thead>\n",
       "  <tbody>\n",
       "    <tr>\n",
       "      <th>0</th>\n",
       "      <td>LoNDon_paris</td>\n",
       "      <td>10045.0</td>\n",
       "      <td>[23, 47]</td>\n",
       "      <td>KLM(!)</td>\n",
       "    </tr>\n",
       "    <tr>\n",
       "      <th>1</th>\n",
       "      <td>MAdrid_miLAN</td>\n",
       "      <td>NaN</td>\n",
       "      <td>[]</td>\n",
       "      <td>&lt;Air France&gt; (12)</td>\n",
       "    </tr>\n",
       "    <tr>\n",
       "      <th>2</th>\n",
       "      <td>londON_StockhOlm</td>\n",
       "      <td>10065.0</td>\n",
       "      <td>[24, 43, 87]</td>\n",
       "      <td>(British Airways. )</td>\n",
       "    </tr>\n",
       "    <tr>\n",
       "      <th>3</th>\n",
       "      <td>Budapest_PaRis</td>\n",
       "      <td>NaN</td>\n",
       "      <td>[13]</td>\n",
       "      <td>12. Air France</td>\n",
       "    </tr>\n",
       "    <tr>\n",
       "      <th>4</th>\n",
       "      <td>Brussels_londOn</td>\n",
       "      <td>10085.0</td>\n",
       "      <td>[67, 32]</td>\n",
       "      <td>\"Swiss Air\"</td>\n",
       "    </tr>\n",
       "  </tbody>\n",
       "</table>\n",
       "</div>"
      ],
      "text/plain": [
       "            From_To  FlightNumber  RecentDelays              Airline\n",
       "0      LoNDon_paris       10045.0      [23, 47]               KLM(!)\n",
       "1      MAdrid_miLAN           NaN            []    <Air France> (12)\n",
       "2  londON_StockhOlm       10065.0  [24, 43, 87]  (British Airways. )\n",
       "3    Budapest_PaRis           NaN          [13]       12. Air France\n",
       "4   Brussels_londOn       10085.0      [67, 32]          \"Swiss Air\""
      ]
     },
     "execution_count": 50,
     "metadata": {},
     "output_type": "execute_result"
    }
   ],
   "source": [
    "df = pd.DataFrame({'From_To': ['LoNDon_paris', 'MAdrid_miLAN', 'londON_StockhOlm', \n",
    "                               'Budapest_PaRis', 'Brussels_londOn'],\n",
    "              'FlightNumber': [10045, np.nan, 10065, np.nan, 10085],\n",
    "              'RecentDelays': [[23, 47], [], [24, 43, 87], [13], [67, 32]],\n",
    "                   'Airline': ['KLM(!)', '<Air France> (12)', '(British Airways. )', \n",
    "                               '12. Air France', '\"Swiss Air\"']})\n",
    "df.head()"
   ]
  },
  {
   "cell_type": "code",
   "execution_count": 51,
   "id": "b9c3a807-46ad-48f3-8814-0972df8e62cd",
   "metadata": {},
   "outputs": [],
   "source": [
    "def format_from_to(l):\n",
    "    l = l.split('_')\n",
    "    \n",
    "    for i in range(len(l)):\n",
    "        l[i] = l[i].capitalize()\n",
    "    \n",
    "    l = '_'.join(l)\n",
    "    return l\n",
    "\n",
    "def format_airline_name(airline_name):\n",
    "    only_chars = filter(lambda x: x.isalpha() or x.isspace(), airline_name)\n",
    "    \n",
    "    s = ''.join(only_chars)\n",
    "    s = s.strip(' ')\n",
    "    return s\n"
   ]
  },
  {
   "cell_type": "code",
   "execution_count": 52,
   "id": "685ce677-cda1-465d-b052-07274f484677",
   "metadata": {},
   "outputs": [
    {
     "data": {
      "text/html": [
       "<div>\n",
       "<style scoped>\n",
       "    .dataframe tbody tr th:only-of-type {\n",
       "        vertical-align: middle;\n",
       "    }\n",
       "\n",
       "    .dataframe tbody tr th {\n",
       "        vertical-align: top;\n",
       "    }\n",
       "\n",
       "    .dataframe thead th {\n",
       "        text-align: right;\n",
       "    }\n",
       "</style>\n",
       "<table border=\"1\" class=\"dataframe\">\n",
       "  <thead>\n",
       "    <tr style=\"text-align: right;\">\n",
       "      <th></th>\n",
       "      <th>From_To</th>\n",
       "      <th>FlightNumber</th>\n",
       "      <th>RecentDelays</th>\n",
       "      <th>Airline</th>\n",
       "    </tr>\n",
       "  </thead>\n",
       "  <tbody>\n",
       "    <tr>\n",
       "      <th>0</th>\n",
       "      <td>London_Paris</td>\n",
       "      <td>10045.0</td>\n",
       "      <td>[23, 47]</td>\n",
       "      <td>KLM</td>\n",
       "    </tr>\n",
       "    <tr>\n",
       "      <th>1</th>\n",
       "      <td>Madrid_Milan</td>\n",
       "      <td>NaN</td>\n",
       "      <td>[]</td>\n",
       "      <td>Air France</td>\n",
       "    </tr>\n",
       "    <tr>\n",
       "      <th>2</th>\n",
       "      <td>London_Stockholm</td>\n",
       "      <td>10065.0</td>\n",
       "      <td>[24, 43, 87]</td>\n",
       "      <td>British Airways</td>\n",
       "    </tr>\n",
       "    <tr>\n",
       "      <th>3</th>\n",
       "      <td>Budapest_Paris</td>\n",
       "      <td>NaN</td>\n",
       "      <td>[13]</td>\n",
       "      <td>Air France</td>\n",
       "    </tr>\n",
       "    <tr>\n",
       "      <th>4</th>\n",
       "      <td>Brussels_London</td>\n",
       "      <td>10085.0</td>\n",
       "      <td>[67, 32]</td>\n",
       "      <td>Swiss Air</td>\n",
       "    </tr>\n",
       "  </tbody>\n",
       "</table>\n",
       "</div>"
      ],
      "text/plain": [
       "            From_To  FlightNumber  RecentDelays          Airline\n",
       "0      London_Paris       10045.0      [23, 47]              KLM\n",
       "1      Madrid_Milan           NaN            []       Air France\n",
       "2  London_Stockholm       10065.0  [24, 43, 87]  British Airways\n",
       "3    Budapest_Paris           NaN          [13]       Air France\n",
       "4   Brussels_London       10085.0      [67, 32]        Swiss Air"
      ]
     },
     "execution_count": 52,
     "metadata": {},
     "output_type": "execute_result"
    }
   ],
   "source": [
    "df.From_To = df.From_To.apply(format_from_to)\n",
    "df.Airline = df.Airline.apply(format_airline_name)\n",
    "df.head()"
   ]
  },
  {
   "cell_type": "markdown",
   "id": "bda3a076-2f98-4063-8bec-ecd5fc2e7b14",
   "metadata": {},
   "source": [
    "# 42. Some values in the the FlightNumber column are missing (they are NaN). These numbers are meant to increase by 10 with each row so 10055 and 10075 need to be put in place. Modify df to fill in these missing numbers and make the column an integer column (instead of a float column)"
   ]
  },
  {
   "cell_type": "code",
   "execution_count": 53,
   "id": "d63ff7a4-6a3e-442c-a590-dad12fdb4b95",
   "metadata": {},
   "outputs": [
    {
     "name": "stdout",
     "output_type": "stream",
     "text": [
      "0    10045\n",
      "1    10055\n",
      "2    10065\n",
      "3    10075\n",
      "4    10085\n",
      "Name: FlightNumber, dtype: int64\n"
     ]
    }
   ],
   "source": [
    "df['FlightNumber'] = df['FlightNumber'].interpolate().astype(int)\n",
    "print(df['FlightNumber']) "
   ]
  },
  {
   "cell_type": "markdown",
   "id": "a258d708-9a63-4228-9aed-f580a33c02e1",
   "metadata": {},
   "source": [
    "# 43. The From_To column would be better as two separate columns! Split each string on the underscore delimiter _ to give a new temporary DataFrame called 'temp' with the correct values. Assign the correct column names 'From' and 'To' to this temporary DataFrame."
   ]
  },
  {
   "cell_type": "code",
   "execution_count": 54,
   "id": "dc9a274a-35be-4b3a-a961-c42d79458495",
   "metadata": {},
   "outputs": [
    {
     "data": {
      "text/html": [
       "<div>\n",
       "<style scoped>\n",
       "    .dataframe tbody tr th:only-of-type {\n",
       "        vertical-align: middle;\n",
       "    }\n",
       "\n",
       "    .dataframe tbody tr th {\n",
       "        vertical-align: top;\n",
       "    }\n",
       "\n",
       "    .dataframe thead th {\n",
       "        text-align: right;\n",
       "    }\n",
       "</style>\n",
       "<table border=\"1\" class=\"dataframe\">\n",
       "  <thead>\n",
       "    <tr style=\"text-align: right;\">\n",
       "      <th></th>\n",
       "      <th>From</th>\n",
       "      <th>To</th>\n",
       "    </tr>\n",
       "  </thead>\n",
       "  <tbody>\n",
       "    <tr>\n",
       "      <th>0</th>\n",
       "      <td>London</td>\n",
       "      <td>Paris</td>\n",
       "    </tr>\n",
       "    <tr>\n",
       "      <th>1</th>\n",
       "      <td>Madrid</td>\n",
       "      <td>Milan</td>\n",
       "    </tr>\n",
       "    <tr>\n",
       "      <th>2</th>\n",
       "      <td>London</td>\n",
       "      <td>Stockholm</td>\n",
       "    </tr>\n",
       "    <tr>\n",
       "      <th>3</th>\n",
       "      <td>Budapest</td>\n",
       "      <td>Paris</td>\n",
       "    </tr>\n",
       "    <tr>\n",
       "      <th>4</th>\n",
       "      <td>Brussels</td>\n",
       "      <td>London</td>\n",
       "    </tr>\n",
       "  </tbody>\n",
       "</table>\n",
       "</div>"
      ],
      "text/plain": [
       "       From         To\n",
       "0    London      Paris\n",
       "1    Madrid      Milan\n",
       "2    London  Stockholm\n",
       "3  Budapest      Paris\n",
       "4  Brussels     London"
      ]
     },
     "execution_count": 54,
     "metadata": {},
     "output_type": "execute_result"
    }
   ],
   "source": [
    "temp = df.From_To.str.split('_',expand=True)\n",
    "temp.columns = ['From', 'To']\n",
    "temp"
   ]
  },
  {
   "cell_type": "markdown",
   "id": "e5e4baae-cd43-4709-a072-0044e727fe09",
   "metadata": {},
   "source": [
    "# 44. Notice how the capitalisation of the city names is all mixed up in this temporary DataFrame 'temp'. Standardise the strings so that only the first letter is uppercase (e.g. \"londON\" should become \"London\".)"
   ]
  },
  {
   "cell_type": "code",
   "execution_count": 55,
   "id": "e60d0b4f-afad-4441-b63d-7614cf871ab0",
   "metadata": {},
   "outputs": [],
   "source": [
    "  # DONE"
   ]
  },
  {
   "cell_type": "markdown",
   "id": "b99f03cf-d6f9-4ae4-89cc-1c899b6a9a77",
   "metadata": {},
   "source": [
    "# 45. Delete the From_To column from df and attach the temporary DataFrame 'temp' from the previous questions."
   ]
  },
  {
   "cell_type": "code",
   "execution_count": 56,
   "id": "782798d2-c062-475b-a37f-d44d75a42509",
   "metadata": {},
   "outputs": [],
   "source": [
    "#DONE"
   ]
  },
  {
   "cell_type": "markdown",
   "id": "4b4dd9d2-bfab-4851-8259-78a9e9dbefdb",
   "metadata": {},
   "source": [
    "# 46. In the Airline column, you can see some extra puctuation and symbols have appeared around the airline names. Pull out just the airline name. E.g. '(British Airways. )' should become 'British Airways'."
   ]
  },
  {
   "cell_type": "code",
   "execution_count": 57,
   "id": "e3588d60-725b-4585-93f9-b0f578a9bcc3",
   "metadata": {},
   "outputs": [],
   "source": [
    "#DONE"
   ]
  },
  {
   "cell_type": "code",
   "execution_count": 58,
   "id": "cc23e24d-1068-4acb-9597-c8334ced9f7a",
   "metadata": {},
   "outputs": [
    {
     "data": {
      "text/html": [
       "<div>\n",
       "<style scoped>\n",
       "    .dataframe tbody tr th:only-of-type {\n",
       "        vertical-align: middle;\n",
       "    }\n",
       "\n",
       "    .dataframe tbody tr th {\n",
       "        vertical-align: top;\n",
       "    }\n",
       "\n",
       "    .dataframe thead th {\n",
       "        text-align: right;\n",
       "    }\n",
       "</style>\n",
       "<table border=\"1\" class=\"dataframe\">\n",
       "  <thead>\n",
       "    <tr style=\"text-align: right;\">\n",
       "      <th></th>\n",
       "      <th>From_To</th>\n",
       "      <th>FlightNumber</th>\n",
       "      <th>RecentDelays</th>\n",
       "      <th>Airline</th>\n",
       "    </tr>\n",
       "  </thead>\n",
       "  <tbody>\n",
       "    <tr>\n",
       "      <th>0</th>\n",
       "      <td>London_Paris</td>\n",
       "      <td>10045</td>\n",
       "      <td>[23, 47]</td>\n",
       "      <td>KLM</td>\n",
       "    </tr>\n",
       "    <tr>\n",
       "      <th>1</th>\n",
       "      <td>Madrid_Milan</td>\n",
       "      <td>10055</td>\n",
       "      <td>[]</td>\n",
       "      <td>Air France</td>\n",
       "    </tr>\n",
       "    <tr>\n",
       "      <th>2</th>\n",
       "      <td>London_Stockholm</td>\n",
       "      <td>10065</td>\n",
       "      <td>[24, 43, 87]</td>\n",
       "      <td>British Airways</td>\n",
       "    </tr>\n",
       "    <tr>\n",
       "      <th>3</th>\n",
       "      <td>Budapest_Paris</td>\n",
       "      <td>10075</td>\n",
       "      <td>[13]</td>\n",
       "      <td>Air France</td>\n",
       "    </tr>\n",
       "    <tr>\n",
       "      <th>4</th>\n",
       "      <td>Brussels_London</td>\n",
       "      <td>10085</td>\n",
       "      <td>[67, 32]</td>\n",
       "      <td>Swiss Air</td>\n",
       "    </tr>\n",
       "  </tbody>\n",
       "</table>\n",
       "</div>"
      ],
      "text/plain": [
       "            From_To  FlightNumber  RecentDelays          Airline\n",
       "0      London_Paris         10045      [23, 47]              KLM\n",
       "1      Madrid_Milan         10055            []       Air France\n",
       "2  London_Stockholm         10065  [24, 43, 87]  British Airways\n",
       "3    Budapest_Paris         10075          [13]       Air France\n",
       "4   Brussels_London         10085      [67, 32]        Swiss Air"
      ]
     },
     "execution_count": 58,
     "metadata": {},
     "output_type": "execute_result"
    }
   ],
   "source": [
    "#check\n",
    "df.head()"
   ]
  },
  {
   "cell_type": "markdown",
   "id": "1fbe15bc-b46c-48c3-9151-df8960ff9113",
   "metadata": {},
   "source": [
    "# 47. In the RecentDelays column, the values have been entered into the DataFrame as a list. We would like each first value in its own column, each second value in its own column, and so on. If there isn't an Nth value, the value should be NaN.\n",
    "\n",
    "Expand the Series of lists into a DataFrame named delays, rename the columns delay_1, delay_2, etc. and replace the unwanted RecentDelays column in df with delays."
   ]
  },
  {
   "cell_type": "code",
   "execution_count": 59,
   "id": "f84c8de8-5f87-4308-9373-ff481fede3bd",
   "metadata": {},
   "outputs": [
    {
     "data": {
      "text/html": [
       "<div>\n",
       "<style scoped>\n",
       "    .dataframe tbody tr th:only-of-type {\n",
       "        vertical-align: middle;\n",
       "    }\n",
       "\n",
       "    .dataframe tbody tr th {\n",
       "        vertical-align: top;\n",
       "    }\n",
       "\n",
       "    .dataframe thead th {\n",
       "        text-align: right;\n",
       "    }\n",
       "</style>\n",
       "<table border=\"1\" class=\"dataframe\">\n",
       "  <thead>\n",
       "    <tr style=\"text-align: right;\">\n",
       "      <th></th>\n",
       "      <th>0</th>\n",
       "      <th>1</th>\n",
       "      <th>2</th>\n",
       "    </tr>\n",
       "  </thead>\n",
       "  <tbody>\n",
       "    <tr>\n",
       "      <th>0</th>\n",
       "      <td>23.0</td>\n",
       "      <td>47.0</td>\n",
       "      <td>NaN</td>\n",
       "    </tr>\n",
       "    <tr>\n",
       "      <th>1</th>\n",
       "      <td>NaN</td>\n",
       "      <td>NaN</td>\n",
       "      <td>NaN</td>\n",
       "    </tr>\n",
       "    <tr>\n",
       "      <th>2</th>\n",
       "      <td>24.0</td>\n",
       "      <td>43.0</td>\n",
       "      <td>87.0</td>\n",
       "    </tr>\n",
       "    <tr>\n",
       "      <th>3</th>\n",
       "      <td>13.0</td>\n",
       "      <td>NaN</td>\n",
       "      <td>NaN</td>\n",
       "    </tr>\n",
       "    <tr>\n",
       "      <th>4</th>\n",
       "      <td>67.0</td>\n",
       "      <td>32.0</td>\n",
       "      <td>NaN</td>\n",
       "    </tr>\n",
       "  </tbody>\n",
       "</table>\n",
       "</div>"
      ],
      "text/plain": [
       "      0     1     2\n",
       "0  23.0  47.0   NaN\n",
       "1   NaN   NaN   NaN\n",
       "2  24.0  43.0  87.0\n",
       "3  13.0   NaN   NaN\n",
       "4  67.0  32.0   NaN"
      ]
     },
     "execution_count": 59,
     "metadata": {},
     "output_type": "execute_result"
    }
   ],
   "source": [
    "delays = df['RecentDelays'].apply(pd.Series)\n",
    "delays"
   ]
  },
  {
   "cell_type": "code",
   "execution_count": 60,
   "id": "611dba16-0b16-4630-80f7-dc44b245b2ff",
   "metadata": {},
   "outputs": [
    {
     "data": {
      "text/html": [
       "<div>\n",
       "<style scoped>\n",
       "    .dataframe tbody tr th:only-of-type {\n",
       "        vertical-align: middle;\n",
       "    }\n",
       "\n",
       "    .dataframe tbody tr th {\n",
       "        vertical-align: top;\n",
       "    }\n",
       "\n",
       "    .dataframe thead th {\n",
       "        text-align: right;\n",
       "    }\n",
       "</style>\n",
       "<table border=\"1\" class=\"dataframe\">\n",
       "  <thead>\n",
       "    <tr style=\"text-align: right;\">\n",
       "      <th></th>\n",
       "      <th>From_To</th>\n",
       "      <th>FlightNumber</th>\n",
       "      <th>Airline</th>\n",
       "      <th>delay_1</th>\n",
       "      <th>delay_2</th>\n",
       "      <th>delay_3</th>\n",
       "    </tr>\n",
       "  </thead>\n",
       "  <tbody>\n",
       "    <tr>\n",
       "      <th>0</th>\n",
       "      <td>London_Paris</td>\n",
       "      <td>10045</td>\n",
       "      <td>KLM</td>\n",
       "      <td>23.0</td>\n",
       "      <td>47.0</td>\n",
       "      <td>NaN</td>\n",
       "    </tr>\n",
       "    <tr>\n",
       "      <th>1</th>\n",
       "      <td>Madrid_Milan</td>\n",
       "      <td>10055</td>\n",
       "      <td>Air France</td>\n",
       "      <td>NaN</td>\n",
       "      <td>NaN</td>\n",
       "      <td>NaN</td>\n",
       "    </tr>\n",
       "    <tr>\n",
       "      <th>2</th>\n",
       "      <td>London_Stockholm</td>\n",
       "      <td>10065</td>\n",
       "      <td>British Airways</td>\n",
       "      <td>24.0</td>\n",
       "      <td>43.0</td>\n",
       "      <td>87.0</td>\n",
       "    </tr>\n",
       "    <tr>\n",
       "      <th>3</th>\n",
       "      <td>Budapest_Paris</td>\n",
       "      <td>10075</td>\n",
       "      <td>Air France</td>\n",
       "      <td>13.0</td>\n",
       "      <td>NaN</td>\n",
       "      <td>NaN</td>\n",
       "    </tr>\n",
       "    <tr>\n",
       "      <th>4</th>\n",
       "      <td>Brussels_London</td>\n",
       "      <td>10085</td>\n",
       "      <td>Swiss Air</td>\n",
       "      <td>67.0</td>\n",
       "      <td>32.0</td>\n",
       "      <td>NaN</td>\n",
       "    </tr>\n",
       "  </tbody>\n",
       "</table>\n",
       "</div>"
      ],
      "text/plain": [
       "            From_To  FlightNumber          Airline  delay_1  delay_2  delay_3\n",
       "0      London_Paris         10045              KLM     23.0     47.0      NaN\n",
       "1      Madrid_Milan         10055       Air France      NaN      NaN      NaN\n",
       "2  London_Stockholm         10065  British Airways     24.0     43.0     87.0\n",
       "3    Budapest_Paris         10075       Air France     13.0      NaN      NaN\n",
       "4   Brussels_London         10085        Swiss Air     67.0     32.0      NaN"
      ]
     },
     "execution_count": 60,
     "metadata": {},
     "output_type": "execute_result"
    }
   ],
   "source": [
    "delays.columns = ['delay_{}'.format(n) for n in range(1, len(delays.columns)+1)]\n",
    "df = df.drop('RecentDelays',axis=1).join(delays)\n",
    "df.head()"
   ]
  },
  {
   "cell_type": "code",
   "execution_count": 61,
   "id": "2327fc84-168c-4d1e-b567-913237c23f71",
   "metadata": {},
   "outputs": [
    {
     "data": {
      "text/html": [
       "<div>\n",
       "<style scoped>\n",
       "    .dataframe tbody tr th:only-of-type {\n",
       "        vertical-align: middle;\n",
       "    }\n",
       "\n",
       "    .dataframe tbody tr th {\n",
       "        vertical-align: top;\n",
       "    }\n",
       "\n",
       "    .dataframe thead th {\n",
       "        text-align: right;\n",
       "    }\n",
       "</style>\n",
       "<table border=\"1\" class=\"dataframe\">\n",
       "  <thead>\n",
       "    <tr style=\"text-align: right;\">\n",
       "      <th></th>\n",
       "      <th>FlightNumber</th>\n",
       "      <th>Airline</th>\n",
       "      <th>delay_1</th>\n",
       "      <th>delay_2</th>\n",
       "      <th>delay_3</th>\n",
       "      <th>From</th>\n",
       "      <th>To</th>\n",
       "    </tr>\n",
       "  </thead>\n",
       "  <tbody>\n",
       "    <tr>\n",
       "      <th>0</th>\n",
       "      <td>10045</td>\n",
       "      <td>KLM</td>\n",
       "      <td>23.0</td>\n",
       "      <td>47.0</td>\n",
       "      <td>NaN</td>\n",
       "      <td>London</td>\n",
       "      <td>Paris</td>\n",
       "    </tr>\n",
       "    <tr>\n",
       "      <th>1</th>\n",
       "      <td>10055</td>\n",
       "      <td>Air France</td>\n",
       "      <td>NaN</td>\n",
       "      <td>NaN</td>\n",
       "      <td>NaN</td>\n",
       "      <td>Madrid</td>\n",
       "      <td>Milan</td>\n",
       "    </tr>\n",
       "    <tr>\n",
       "      <th>2</th>\n",
       "      <td>10065</td>\n",
       "      <td>British Airways</td>\n",
       "      <td>24.0</td>\n",
       "      <td>43.0</td>\n",
       "      <td>87.0</td>\n",
       "      <td>London</td>\n",
       "      <td>Stockholm</td>\n",
       "    </tr>\n",
       "    <tr>\n",
       "      <th>3</th>\n",
       "      <td>10075</td>\n",
       "      <td>Air France</td>\n",
       "      <td>13.0</td>\n",
       "      <td>NaN</td>\n",
       "      <td>NaN</td>\n",
       "      <td>Budapest</td>\n",
       "      <td>Paris</td>\n",
       "    </tr>\n",
       "    <tr>\n",
       "      <th>4</th>\n",
       "      <td>10085</td>\n",
       "      <td>Swiss Air</td>\n",
       "      <td>67.0</td>\n",
       "      <td>32.0</td>\n",
       "      <td>NaN</td>\n",
       "      <td>Brussels</td>\n",
       "      <td>London</td>\n",
       "    </tr>\n",
       "  </tbody>\n",
       "</table>\n",
       "</div>"
      ],
      "text/plain": [
       "   FlightNumber          Airline  delay_1  delay_2  delay_3      From  \\\n",
       "0         10045              KLM     23.0     47.0      NaN    London   \n",
       "1         10055       Air France      NaN      NaN      NaN    Madrid   \n",
       "2         10065  British Airways     24.0     43.0     87.0    London   \n",
       "3         10075       Air France     13.0      NaN      NaN  Budapest   \n",
       "4         10085        Swiss Air     67.0     32.0      NaN  Brussels   \n",
       "\n",
       "          To  \n",
       "0      Paris  \n",
       "1      Milan  \n",
       "2  Stockholm  \n",
       "3      Paris  \n",
       "4     London  "
      ]
     },
     "execution_count": 61,
     "metadata": {},
     "output_type": "execute_result"
    }
   ],
   "source": [
    "temp = df.From_To.str.split('_',expand=True)\n",
    "temp.columns=['From', 'To']\n",
    "\n",
    "df= df.drop('From_To',axis=1)\n",
    "df = df.join(temp)\n",
    "df.head()"
   ]
  },
  {
   "cell_type": "markdown",
   "id": "2088ff12-79d3-426f-ac09-85171607f912",
   "metadata": {},
   "source": [
    "# 48. Given the lists letters = ['A', 'B', 'C'] and numbers = list(range(10)), construct a MultiIndex object from the product of the two lists. Use it to index a Series of random numbers. Call this Series s."
   ]
  },
  {
   "cell_type": "code",
   "execution_count": 62,
   "id": "f17c1582-d941-4df6-9da6-4e7c3e56564d",
   "metadata": {},
   "outputs": [],
   "source": [
    "letters = ['A', 'B', 'C']\n",
    "numbers = list(range(10))"
   ]
  },
  {
   "cell_type": "code",
   "execution_count": 63,
   "id": "73b1e617-d87a-44d8-968e-cc84bfaca59a",
   "metadata": {},
   "outputs": [
    {
     "data": {
      "text/plain": [
       "A  0    0.898631\n",
       "   1    0.727703\n",
       "   2    0.215906\n",
       "   3    0.877079\n",
       "   4    0.560345\n",
       "   5    0.928071\n",
       "   6    0.716034\n",
       "   7    0.929528\n",
       "   8    0.568959\n",
       "   9    0.607062\n",
       "B  0    0.144151\n",
       "   1    0.375311\n",
       "   2    0.443680\n",
       "   3    0.336653\n",
       "   4    0.973489\n",
       "   5    0.494108\n",
       "   6    0.021435\n",
       "   7    0.911291\n",
       "   8    0.416562\n",
       "   9    0.440940\n",
       "C  0    0.711431\n",
       "   1    0.182685\n",
       "   2    0.529648\n",
       "   3    0.694969\n",
       "   4    0.992962\n",
       "   5    0.186343\n",
       "   6    0.536769\n",
       "   7    0.492201\n",
       "   8    0.120203\n",
       "   9    0.571672\n",
       "dtype: float64"
      ]
     },
     "execution_count": 63,
     "metadata": {},
     "output_type": "execute_result"
    }
   ],
   "source": [
    "mi = pd.MultiIndex.from_product([letters,numbers])\n",
    "s = pd.Series(np.random.rand(30),index=mi)\n",
    "s"
   ]
  },
  {
   "cell_type": "markdown",
   "id": "8784caa8-3b4f-4679-bbfb-7dc597983c4e",
   "metadata": {},
   "source": [
    "# 49. Check the index of s is lexicographically sorted (this is a necessary proprty for indexing to work correctly with a MultiIndex)."
   ]
  },
  {
   "cell_type": "code",
   "execution_count": 64,
   "id": "b33d2f98-3add-486c-915b-1452b245c774",
   "metadata": {},
   "outputs": [
    {
     "data": {
      "text/plain": [
       "True"
      ]
     },
     "execution_count": 64,
     "metadata": {},
     "output_type": "execute_result"
    }
   ],
   "source": [
    "s.index.is_monotonic_increasing\n"
   ]
  },
  {
   "cell_type": "markdown",
   "id": "b3526ea2-eb55-4cee-9e7e-76d7a24f44e9",
   "metadata": {},
   "source": [
    "# 50. Select the labels 1, 3 and 6 from the second level of the MultiIndexed Series."
   ]
  },
  {
   "cell_type": "code",
   "execution_count": 65,
   "id": "377a118a-58d0-47e1-a288-99fe301eb6d3",
   "metadata": {},
   "outputs": [
    {
     "data": {
      "text/plain": [
       "0    0.144151\n",
       "1    0.375311\n",
       "2    0.443680\n",
       "3    0.336653\n",
       "4    0.973489\n",
       "5    0.494108\n",
       "6    0.021435\n",
       "7    0.911291\n",
       "8    0.416562\n",
       "9    0.440940\n",
       "dtype: float64"
      ]
     },
     "execution_count": 65,
     "metadata": {},
     "output_type": "execute_result"
    }
   ],
   "source": [
    "temp = s.loc['B']\n",
    "temp"
   ]
  },
  {
   "cell_type": "code",
   "execution_count": 66,
   "id": "7163259c-ee4b-439d-b22a-c6f997433332",
   "metadata": {},
   "outputs": [
    {
     "data": {
      "text/plain": [
       "A  1    0.727703\n",
       "   3    0.877079\n",
       "   6    0.716034\n",
       "B  1    0.375311\n",
       "   3    0.336653\n",
       "   6    0.021435\n",
       "C  1    0.182685\n",
       "   3    0.694969\n",
       "   6    0.536769\n",
       "dtype: float64"
      ]
     },
     "execution_count": 66,
     "metadata": {},
     "output_type": "execute_result"
    }
   ],
   "source": [
    "s.loc[:,[1,3,6]]"
   ]
  },
  {
   "cell_type": "code",
   "execution_count": 67,
   "id": "1f4b9f6e-649a-4e2d-bc0e-4dc04b2fc183",
   "metadata": {},
   "outputs": [
    {
     "data": {
      "text/plain": [
       "A  1    0.727703\n",
       "   3    0.877079\n",
       "   6    0.716034\n",
       "B  1    0.375311\n",
       "   3    0.336653\n",
       "   6    0.021435\n",
       "C  1    0.182685\n",
       "   3    0.694969\n",
       "   6    0.536769\n",
       "dtype: float64"
      ]
     },
     "execution_count": 67,
     "metadata": {},
     "output_type": "execute_result"
    }
   ],
   "source": [
    "s.loc[:,[1,3,6]]"
   ]
  },
  {
   "cell_type": "markdown",
   "id": "2b71e586-af91-4b81-be28-318fad2451e6",
   "metadata": {},
   "source": [
    "# 51. Slice the Series s; slice up to label 'B' for the first level and from label 5 onwards for the second level"
   ]
  },
  {
   "cell_type": "code",
   "execution_count": 68,
   "id": "01e9544a-d374-4301-a409-b089313478c1",
   "metadata": {},
   "outputs": [
    {
     "data": {
      "text/plain": [
       "A  5    0.928071\n",
       "   6    0.716034\n",
       "   7    0.929528\n",
       "   8    0.568959\n",
       "   9    0.607062\n",
       "B  5    0.494108\n",
       "   6    0.021435\n",
       "   7    0.911291\n",
       "   8    0.416562\n",
       "   9    0.440940\n",
       "dtype: float64"
      ]
     },
     "execution_count": 68,
     "metadata": {},
     "output_type": "execute_result"
    }
   ],
   "source": [
    "s.loc[pd.IndexSlice[:'B',5:]]"
   ]
  },
  {
   "cell_type": "markdown",
   "id": "d682317b-6616-4836-931f-a901123c803a",
   "metadata": {},
   "source": [
    "# 52. Sum the values in s for each label in the first level (you should have Series giving you a total for labels A, B and C)."
   ]
  },
  {
   "cell_type": "code",
   "execution_count": 69,
   "id": "416e9799-6f0f-43f1-8d0b-2ae758496fac",
   "metadata": {},
   "outputs": [
    {
     "data": {
      "text/plain": [
       "0    1.754213\n",
       "1    1.285699\n",
       "2    1.189233\n",
       "3    1.908700\n",
       "4    2.526797\n",
       "5    1.608522\n",
       "6    1.274239\n",
       "7    2.333020\n",
       "8    1.105723\n",
       "9    1.619674\n",
       "dtype: float64"
      ]
     },
     "execution_count": 69,
     "metadata": {},
     "output_type": "execute_result"
    }
   ],
   "source": [
    "s.groupby(level=1).sum()\n"
   ]
  },
  {
   "cell_type": "markdown",
   "id": "025a16f4-5cae-47e0-81d3-78440aa451dd",
   "metadata": {},
   "source": [
    "# 53. Suppose that sum() (and other methods) did not accept a level keyword argument. How else could you perform the equivalent of s.sum(level=1)?"
   ]
  },
  {
   "cell_type": "code",
   "execution_count": 70,
   "id": "b44d9044-d992-4a7c-8100-605fd09bc343",
   "metadata": {},
   "outputs": [
    {
     "data": {
      "text/plain": [
       "0    1.754213\n",
       "1    1.285699\n",
       "2    1.189233\n",
       "3    1.908700\n",
       "4    2.526797\n",
       "5    1.608522\n",
       "6    1.274239\n",
       "7    2.333020\n",
       "8    1.105723\n",
       "9    1.619674\n",
       "dtype: float64"
      ]
     },
     "execution_count": 70,
     "metadata": {},
     "output_type": "execute_result"
    }
   ],
   "source": [
    "s.unstack().sum(axis=0)"
   ]
  },
  {
   "cell_type": "markdown",
   "id": "672d9196-f5d8-4da9-9810-dae8dbb130d7",
   "metadata": {},
   "source": [
    "# 54. Exchange the levels of the MultiIndex so we have an index of the form (letters, numbers). Is this new Series properly lexsorted? If not, sort it."
   ]
  },
  {
   "cell_type": "code",
   "execution_count": 71,
   "id": "b692572c-0c66-48ed-a6d8-1ffd1e87e5e1",
   "metadata": {},
   "outputs": [
    {
     "data": {
      "text/plain": [
       "0  A    0.898631\n",
       "1  A    0.727703\n",
       "2  A    0.215906\n",
       "3  A    0.877079\n",
       "4  A    0.560345\n",
       "5  A    0.928071\n",
       "6  A    0.716034\n",
       "7  A    0.929528\n",
       "8  A    0.568959\n",
       "9  A    0.607062\n",
       "0  B    0.144151\n",
       "1  B    0.375311\n",
       "2  B    0.443680\n",
       "3  B    0.336653\n",
       "4  B    0.973489\n",
       "5  B    0.494108\n",
       "6  B    0.021435\n",
       "7  B    0.911291\n",
       "8  B    0.416562\n",
       "9  B    0.440940\n",
       "0  C    0.711431\n",
       "1  C    0.182685\n",
       "2  C    0.529648\n",
       "3  C    0.694969\n",
       "4  C    0.992962\n",
       "5  C    0.186343\n",
       "6  C    0.536769\n",
       "7  C    0.492201\n",
       "8  C    0.120203\n",
       "9  C    0.571672\n",
       "dtype: float64"
      ]
     },
     "execution_count": 71,
     "metadata": {},
     "output_type": "execute_result"
    }
   ],
   "source": [
    "new_s = s.swaplevel(0, 1)\n",
    "\n",
    "new_s"
   ]
  },
  {
   "cell_type": "code",
   "execution_count": 72,
   "id": "15d49109-b71c-4c20-854c-5d1de96504c0",
   "metadata": {},
   "outputs": [
    {
     "name": "stdout",
     "output_type": "stream",
     "text": [
      "a  1    20\n",
      "   2    30\n",
      "b  1    40\n",
      "   2    10\n",
      "dtype: int64\n"
     ]
    }
   ],
   "source": [
    "import pandas as pd\n",
    "index = pd.MultiIndex.from_tuples([(2, 'b'), (1, 'a'), (2, 'a'), (1, 'b')])\n",
    "s = pd.Series([10, 20, 30, 40], index=index)\n",
    "new_s = s.swaplevel(0, 1)\n",
    "if not new_s.index.is_monotonic_increasing:\n",
    "    new_s = new_s.sort_index()  \n",
    "print(new_s)\n"
   ]
  },
  {
   "cell_type": "code",
   "execution_count": 73,
   "id": "720397ed-d08c-40df-8d5e-5fde2a545f63",
   "metadata": {},
   "outputs": [
    {
     "name": "stdout",
     "output_type": "stream",
     "text": [
      "   x  y  mine  adjacent\n",
      "0  0  0     0       1.0\n",
      "1  0  1     1       NaN\n",
      "2  0  2     0       2.0\n",
      "3  1  0     0       2.0\n",
      "4  1  1     0       3.0\n",
      "5  1  2     1       NaN\n",
      "6  2  0     1       NaN\n",
      "7  2  1     0       2.0\n",
      "8  2  2     0       1.0\n"
     ]
    }
   ],
   "source": [
    "import numpy as np\n",
    "import pandas as pd\n",
    "\n",
    "# Sample Minesweeper-style grid with mines (1 means mine, 0 means no mine)\n",
    "df = pd.DataFrame({\n",
    "    'x': [0, 0, 0, 1, 1, 1, 2, 2, 2],\n",
    "    'y': [0, 1, 2, 0, 1, 2, 0, 1, 2],\n",
    "    'mine': [0, 1, 0, 0, 0, 1, 1, 0, 0]\n",
    "})\n",
    "\n",
    "# Create a new 'adjacent' column initialized to 0\n",
    "df['adjacent'] = 0\n",
    "\n",
    "# Define all 8 possible directions for adjacency\n",
    "shifts = [(1, 1), (1, -1), (-1, 1), (-1, -1), (1, 0), (-1, 0), (0, 1), (0, -1)]\n",
    "\n",
    "# Merge adjacent mine counts\n",
    "for dx, dy in shifts:\n",
    "    temp_df = df[['x', 'y', 'mine']].copy()  # Copy necessary columns\n",
    "    temp_df['x'] += dx  # Shift x-coordinates\n",
    "    temp_df['y'] += dy  # Shift y-coordinates\n",
    "\n",
    "    # Merge back into the original dataframe\n",
    "    df = df.merge(temp_df, on=['x', 'y'], how='left', suffixes=('', '_adj'))\n",
    "\n",
    "    # Add mine counts from adjacent cells\n",
    "    df['adjacent'] += df['mine_adj'].fillna(0)\n",
    "\n",
    "    # Drop extra columns from the merge\n",
    "    df.drop(columns=['mine_adj'], inplace=True)\n",
    "\n",
    "# Set 'adjacent' to NaN where the cell itself is a mine\n",
    "df.loc[df['mine'] == 1, 'adjacent'] = np.nan\n",
    "\n",
    "print(df)\n"
   ]
  },
  {
   "cell_type": "markdown",
   "id": "d15326ca-8823-41ae-ab04-34fb6357ad51",
   "metadata": {},
   "source": [
    "# 55. Let's suppose we're playing Minesweeper on a 5 by 4 grid, i.e.\n",
    "\n",
    "X = 5<br>\n",
    "Y = 4<br>\n",
    "To begin, generate a DataFrame df with two columns, 'x' and 'y' containing every coordinate for this grid. That is, the DataFrame should start:<br>\n",
    "\n",
    " * | x | y|<br>\n",
    "0 | 0 | 0|<br>\n",
    "1 | 0 | 1|<br>\n",
    "2 | 0 | 2|"
   ]
  },
  {
   "cell_type": "code",
   "execution_count": 74,
   "id": "aae3eccd-368f-48fa-95f8-67031bf2b9fa",
   "metadata": {},
   "outputs": [
    {
     "name": "stdout",
     "output_type": "stream",
     "text": [
      "    x  y\n",
      "0   0  0\n",
      "1   0  1\n",
      "2   0  2\n",
      "3   0  3\n",
      "4   1  0\n",
      "5   1  1\n",
      "6   1  2\n",
      "7   1  3\n",
      "8   2  0\n",
      "9   2  1\n",
      "10  2  2\n",
      "11  2  3\n",
      "12  3  0\n",
      "13  3  1\n",
      "14  3  2\n",
      "15  3  3\n",
      "16  4  0\n",
      "17  4  1\n",
      "18  4  2\n",
      "19  4  3\n"
     ]
    }
   ],
   "source": [
    "x = 5\n",
    "y = 4\n",
    "p = pd.core.reshape.util.cartesian_product([np.arange(x), np.arange(y)])\n",
    "df = pd.DataFrame(np.asarray(p).T, columns=['x','y'])\n",
    "print(df)"
   ]
  },
  {
   "cell_type": "markdown",
   "id": "0b5cf0ca-f08f-4638-80bd-f41a9a6e2389",
   "metadata": {},
   "source": [
    "# 56. For this DataFrame df, create a new column of zeros (safe) and ones (mine). The probability of a mine occuring at each location should be 0.4."
   ]
  },
  {
   "cell_type": "code",
   "execution_count": 75,
   "id": "3297d333-4316-45da-a9c4-ab665fc2f763",
   "metadata": {},
   "outputs": [],
   "source": [
    "def mine():\n",
    "    res = np.random.choice(np.arange(0,1), p=[0.6,0.4])\n",
    "    return res\n",
    "\n",
    "df['mine'] = np.random.binomial(1,0.4, x*y)\n"
   ]
  },
  {
   "cell_type": "markdown",
   "id": "038a23f3-9340-43b5-8868-9d085161c3ae",
   "metadata": {},
   "source": [
    "# 57. Now create a new column for this DataFrame called 'adjacent'. This column should contain the number of mines found on adjacent squares in the grid.\n",
    "\n",
    "(E.g. for the first row, which is the entry for the coordinate (0, 0), count how many mines are found on the coordinates (0, 1), (1, 0) and (1, 1).)"
   ]
  },
  {
   "cell_type": "code",
   "execution_count": 76,
   "id": "77472d1e-2b8a-4a0f-acb5-12eb1620e948",
   "metadata": {},
   "outputs": [
    {
     "name": "stdout",
     "output_type": "stream",
     "text": [
      "   x  y  adjacent\n",
      "0  0  0       5.0\n",
      "1  1  0       8.0\n",
      "2  1  1       7.0\n",
      "3  2  1       5.0\n"
     ]
    }
   ],
   "source": [
    "import pandas as pd\n",
    "\n",
    "# Sample DataFrame (Assuming 'x' and 'y' are the coordinate columns)\n",
    "df = pd.DataFrame({'x': [0, 1, 1, 2], 'y': [0, 0, 1, 1], 'value': [1, 2, 3, 4]})\n",
    "\n",
    "# Create adjacent shifted dataframes and merge them\n",
    "shifts = [(1, 1), (1, -1), (-1, 1), (-1, -1), (1, 0), (-1, 0), (0, 1), (0, -1)]\n",
    "merged_df = df.copy()\n",
    "\n",
    "for dx, dy in shifts:\n",
    "    temp_df = df.copy()\n",
    "    temp_df['x'] += dx\n",
    "    temp_df['y'] += dy\n",
    "    merged_df = merged_df.merge(temp_df, on=['x', 'y'], how='left', suffixes=('', f'_{dx}_{dy}'))\n",
    "\n",
    "# Summing up all adjacent values while ignoring NaNs\n",
    "adjacent_columns = [col for col in merged_df.columns if 'value_' in col]\n",
    "merged_df['adjacent'] = merged_df[adjacent_columns].sum(axis=1, skipna=True)\n",
    "\n",
    "# Selecting relevant columns\n",
    "result_df = merged_df[['x', 'y', 'adjacent']]\n",
    "print(result_df)\n"
   ]
  },
  {
   "cell_type": "markdown",
   "id": "363ee68c-b715-475b-be59-ccd0bd26b80a",
   "metadata": {},
   "source": [
    "# 58. For rows of the DataFrame that contain a mine, set the value in the 'adjacent' column to NaN."
   ]
  },
  {
   "cell_type": "code",
   "execution_count": 77,
   "id": "e772803a-c711-4e7c-8775-8674c082dee5",
   "metadata": {},
   "outputs": [
    {
     "name": "stdout",
     "output_type": "stream",
     "text": [
      "   x  y  mine  adjacent\n",
      "0  0  0     0       0.0\n",
      "1  1  1     1       NaN\n",
      "2  2  2     0       0.0\n",
      "3  3  3     1       NaN\n"
     ]
    }
   ],
   "source": [
    "\n",
    "df = pd.DataFrame({'x': [0, 1, 2, 3], 'y': [0, 1, 2, 3], 'mine': [0, 1, 0, 1]})\n",
    "df['adjacent'] = 0   \n",
    "df.loc[df['mine'] == 1, 'adjacent'] = np.nan\n",
    "\n",
    "print(df)\n"
   ]
  },
  {
   "cell_type": "markdown",
   "id": "0bd289ba-295a-4da6-9c6f-726e4d05c199",
   "metadata": {},
   "source": [
    "# 59. Finally, convert the DataFrame to grid of the adjacent mine counts: columns are the x coordinate, rows are the y coordinate."
   ]
  },
  {
   "cell_type": "code",
   "execution_count": 78,
   "id": "cecc9b84-7d8c-4bd9-9911-a34bb24e8ee4",
   "metadata": {},
   "outputs": [
    {
     "data": {
      "text/html": [
       "<div>\n",
       "<style scoped>\n",
       "    .dataframe tbody tr th:only-of-type {\n",
       "        vertical-align: middle;\n",
       "    }\n",
       "\n",
       "    .dataframe tbody tr th {\n",
       "        vertical-align: top;\n",
       "    }\n",
       "\n",
       "    .dataframe thead tr th {\n",
       "        text-align: left;\n",
       "    }\n",
       "\n",
       "    .dataframe thead tr:last-of-type th {\n",
       "        text-align: right;\n",
       "    }\n",
       "</style>\n",
       "<table border=\"1\" class=\"dataframe\">\n",
       "  <thead>\n",
       "    <tr>\n",
       "      <th></th>\n",
       "      <th colspan=\"4\" halign=\"left\">adjacent</th>\n",
       "    </tr>\n",
       "    <tr>\n",
       "      <th>x</th>\n",
       "      <th>0</th>\n",
       "      <th>1</th>\n",
       "      <th>2</th>\n",
       "      <th>3</th>\n",
       "    </tr>\n",
       "    <tr>\n",
       "      <th>y</th>\n",
       "      <th></th>\n",
       "      <th></th>\n",
       "      <th></th>\n",
       "      <th></th>\n",
       "    </tr>\n",
       "  </thead>\n",
       "  <tbody>\n",
       "    <tr>\n",
       "      <th>0</th>\n",
       "      <td>0.0</td>\n",
       "      <td>NaN</td>\n",
       "      <td>NaN</td>\n",
       "      <td>NaN</td>\n",
       "    </tr>\n",
       "    <tr>\n",
       "      <th>1</th>\n",
       "      <td>NaN</td>\n",
       "      <td>NaN</td>\n",
       "      <td>NaN</td>\n",
       "      <td>NaN</td>\n",
       "    </tr>\n",
       "    <tr>\n",
       "      <th>2</th>\n",
       "      <td>NaN</td>\n",
       "      <td>NaN</td>\n",
       "      <td>0.0</td>\n",
       "      <td>NaN</td>\n",
       "    </tr>\n",
       "    <tr>\n",
       "      <th>3</th>\n",
       "      <td>NaN</td>\n",
       "      <td>NaN</td>\n",
       "      <td>NaN</td>\n",
       "      <td>NaN</td>\n",
       "    </tr>\n",
       "  </tbody>\n",
       "</table>\n",
       "</div>"
      ],
      "text/plain": [
       "  adjacent             \n",
       "x        0   1    2   3\n",
       "y                      \n",
       "0      0.0 NaN  NaN NaN\n",
       "1      NaN NaN  NaN NaN\n",
       "2      NaN NaN  0.0 NaN\n",
       "3      NaN NaN  NaN NaN"
      ]
     },
     "execution_count": 78,
     "metadata": {},
     "output_type": "execute_result"
    }
   ],
   "source": [
    "df.drop('mine',axis=1).set_index(['y','x']).unstack()"
   ]
  },
  {
   "cell_type": "code",
   "execution_count": 79,
   "id": "1e36c186-08a3-4388-8428-a1d8ade0e2ed",
   "metadata": {},
   "outputs": [
    {
     "data": {
      "text/html": [
       "<div>\n",
       "<style scoped>\n",
       "    .dataframe tbody tr th:only-of-type {\n",
       "        vertical-align: middle;\n",
       "    }\n",
       "\n",
       "    .dataframe tbody tr th {\n",
       "        vertical-align: top;\n",
       "    }\n",
       "\n",
       "    .dataframe thead th {\n",
       "        text-align: right;\n",
       "    }\n",
       "</style>\n",
       "<table border=\"1\" class=\"dataframe\">\n",
       "  <thead>\n",
       "    <tr style=\"text-align: right;\">\n",
       "      <th></th>\n",
       "      <th>x</th>\n",
       "      <th>y</th>\n",
       "      <th>mine</th>\n",
       "      <th>adjacent</th>\n",
       "    </tr>\n",
       "  </thead>\n",
       "  <tbody>\n",
       "    <tr>\n",
       "      <th>0</th>\n",
       "      <td>0</td>\n",
       "      <td>0</td>\n",
       "      <td>0</td>\n",
       "      <td>0.0</td>\n",
       "    </tr>\n",
       "    <tr>\n",
       "      <th>1</th>\n",
       "      <td>1</td>\n",
       "      <td>1</td>\n",
       "      <td>1</td>\n",
       "      <td>NaN</td>\n",
       "    </tr>\n",
       "    <tr>\n",
       "      <th>2</th>\n",
       "      <td>2</td>\n",
       "      <td>2</td>\n",
       "      <td>0</td>\n",
       "      <td>0.0</td>\n",
       "    </tr>\n",
       "    <tr>\n",
       "      <th>3</th>\n",
       "      <td>3</td>\n",
       "      <td>3</td>\n",
       "      <td>1</td>\n",
       "      <td>NaN</td>\n",
       "    </tr>\n",
       "  </tbody>\n",
       "</table>\n",
       "</div>"
      ],
      "text/plain": [
       "   x  y  mine  adjacent\n",
       "0  0  0     0       0.0\n",
       "1  1  1     1       NaN\n",
       "2  2  2     0       0.0\n",
       "3  3  3     1       NaN"
      ]
     },
     "execution_count": 79,
     "metadata": {},
     "output_type": "execute_result"
    }
   ],
   "source": [
    "df"
   ]
  },
  {
   "cell_type": "code",
   "execution_count": 80,
   "id": "47de812c-9336-4ded-8f9c-ac9c57e73169",
   "metadata": {},
   "outputs": [
    {
     "name": "stdout",
     "output_type": "stream",
     "text": [
      "Matplotlib and Seaborn are working!\n"
     ]
    }
   ],
   "source": [
    "import matplotlib.pyplot as plt\n",
    "import seaborn as sns\n",
    "\n",
    "print(\"Matplotlib and Seaborn are working!\")\n"
   ]
  },
  {
   "cell_type": "markdown",
   "id": "3e097087-93af-4273-b990-0a6ce9dfd39a",
   "metadata": {},
   "source": [
    "# 60. Pandas is highly integrated with the plotting library matplotlib, and makes plotting DataFrames very user-friendly! Plotting in a notebook environment usually makes use of the following boilerplate:\n",
    "\n",
    "import matplotlib.pyplot as plt\n",
    "%matplotlib inline\n",
    "plt.style.use('ggplot')\n",
    "matplotlib is the plotting library which pandas' plotting functionality is built upon, and it is usually aliased to plt.\n",
    "\n",
    "%matplotlib inline tells the notebook to show plots inline, instead of creating them in a separate window."
   ]
  },
  {
   "cell_type": "code",
   "execution_count": 81,
   "id": "db9ba698-daf4-40e2-898a-11bc2de1b220",
   "metadata": {},
   "outputs": [
    {
     "data": {
      "text/html": [
       "<div>\n",
       "<style scoped>\n",
       "    .dataframe tbody tr th:only-of-type {\n",
       "        vertical-align: middle;\n",
       "    }\n",
       "\n",
       "    .dataframe tbody tr th {\n",
       "        vertical-align: top;\n",
       "    }\n",
       "\n",
       "    .dataframe thead th {\n",
       "        text-align: right;\n",
       "    }\n",
       "</style>\n",
       "<table border=\"1\" class=\"dataframe\">\n",
       "  <thead>\n",
       "    <tr style=\"text-align: right;\">\n",
       "      <th></th>\n",
       "      <th>xs</th>\n",
       "      <th>ys</th>\n",
       "    </tr>\n",
       "  </thead>\n",
       "  <tbody>\n",
       "    <tr>\n",
       "      <th>0</th>\n",
       "      <td>1</td>\n",
       "      <td>4</td>\n",
       "    </tr>\n",
       "    <tr>\n",
       "      <th>1</th>\n",
       "      <td>5</td>\n",
       "      <td>2</td>\n",
       "    </tr>\n",
       "    <tr>\n",
       "      <th>2</th>\n",
       "      <td>2</td>\n",
       "      <td>1</td>\n",
       "    </tr>\n",
       "    <tr>\n",
       "      <th>3</th>\n",
       "      <td>8</td>\n",
       "      <td>9</td>\n",
       "    </tr>\n",
       "    <tr>\n",
       "      <th>4</th>\n",
       "      <td>1</td>\n",
       "      <td>6</td>\n",
       "    </tr>\n",
       "  </tbody>\n",
       "</table>\n",
       "</div>"
      ],
      "text/plain": [
       "   xs  ys\n",
       "0   1   4\n",
       "1   5   2\n",
       "2   2   1\n",
       "3   8   9\n",
       "4   1   6"
      ]
     },
     "execution_count": 81,
     "metadata": {},
     "output_type": "execute_result"
    }
   ],
   "source": [
    "import matplotlib.pyplot as plt\n",
    "%matplotlib inline\n",
    "plt.style.use('ggplot')\n",
    "\n",
    "df = pd.DataFrame({\"xs\":[1,5,2,8,1], \"ys\":[4,2,1,9,6]})\n",
    "df.head()"
   ]
  },
  {
   "cell_type": "code",
   "execution_count": 82,
   "id": "7ccb67e0-a4e1-4fba-9d85-c16899207a94",
   "metadata": {},
   "outputs": [
    {
     "data": {
      "image/png": "[encoded data removed]",
      "text/plain": [
       "<Figure size 640x480 with 1 Axes>"
      ]
     },
     "metadata": {},
     "output_type": "display_data"
    }
   ],
   "source": [
    "ax1 = df.plot.scatter(x=\"xs\",y=\"ys\",c='DarkBlue',marker='X')"
   ]
  },
  {
   "cell_type": "code",
   "execution_count": 83,
   "id": "e7aac260-6586-4f0e-8c11-173a01594d95",
   "metadata": {},
   "outputs": [
    {
     "data": {
      "image/png": "[encoded data removed]",
      "text/plain": [
       "<Figure size 640x480 with 1 Axes>"
      ]
     },
     "metadata": {},
     "output_type": "display_data"
    }
   ],
   "source": [
    "ax1 = df.plot.scatter(\"xs\",\"ys\",c='DarkBlue',marker='X')"
   ]
  },
  {
   "cell_type": "markdown",
   "id": "3686b3be-dbf5-4ebe-9ce2-48365969efe9",
   "metadata": {},
   "source": [
    "# 61. Columns in your DataFrame can also be used to modify colors and sizes. Bill has been keeping track of his performance at work over time, as well as how good he was feeling that day, and whether he had a cup of coffee in the morning. Make a plot which incorporates all four features of this DataFrame.\n",
    "\n",
    "(Hint: If you're having trouble seeing the plot, try multiplying the Series which you choose to represent size by 10 or more)\n",
    "\n",
    "The chart doesn't have to be pretty: this isn't a course in data viz!\n",
    "df = pd.DataFrame({\"productivity\":[5,2,3,1,4,5,6,7,8,3,4,8,9],<br>\n",
    "                   \"hours_in\"    :[1,9,6,5,3,9,2,9,1,7,4,2,2],<br>\n",
    "                   \"happiness\"   :[2,1,3,2,3,1,2,3,1,2,2,1,3],<br>\n",
    "                   \"caffienated\" :[0,0,1,1,0,0,0,0,1,1,0,1,0]})"
   ]
  },
  {
   "cell_type": "code",
   "execution_count": 84,
   "id": "1fe32d6d-c25c-4976-9e89-6d6c8e0ad609",
   "metadata": {},
   "outputs": [],
   "source": [
    "df = pd.DataFrame({\"productivity\":[5,2,3,1,4,5,6,7,8,3,4,8,9],\n",
    "                   \"hours_in\"    :[1,9,6,5,3,9,2,9,1,7,4,2,2],\n",
    "                   \"happiness\"   :[2,1,3,2,3,1,2,3,1,2,2,1,3],\n",
    "                   \"caffienated\" :[0,0,1,1,0,0,0,0,1,1,0,1,0]})"
   ]
  },
  {
   "cell_type": "code",
   "execution_count": 85,
   "id": "191d528a-ad16-45f2-aecc-5096c65c581b",
   "metadata": {},
   "outputs": [
    {
     "data": {
      "text/plain": [
       "<Axes: xlabel='productivity', ylabel='hours_in'>"
      ]
     },
     "execution_count": 85,
     "metadata": {},
     "output_type": "execute_result"
    },
    {
     "data": {
      "image/png": "[encoded data removed]",
      "text/plain": [
       "<Figure size 640x480 with 1 Axes>"
      ]
     },
     "metadata": {},
     "output_type": "display_data"
    }
   ],
   "source": [
    "df.plot.scatter( \"productivity\", 'hours_in', s=df.happiness*30 ,c=df.caffienated)"
   ]
  },
  {
   "cell_type": "markdown",
   "id": "3c8ed9ce-d3b2-40ae-a636-230c29a15f30",
   "metadata": {},
   "source": [
    "# 62. What if we want to plot multiple things? Pandas allows you to pass in a matplotlib Axis object for plots, and plots will also return an Axis object.\n",
    "\n",
    "Make a bar plot of monthly revenue with a line plot of monthly advertising spending (numbers in millions)\n",
    "<br>\n",
    "df = pd.DataFrame({\"revenue\":[57,68,63,71,72,90,80,62,59,51,47,52],<br>\n",
    "                   \"advertising\":[2.1,1.9,2.7,3.0,3.6,3.2,2.7,2.4,1.8,1.6,1.3,1.9],<br>\n",
    "                   \"month\":range(12)\n",
    "                  })"
   ]
  },
  {
   "cell_type": "code",
   "execution_count": 86,
   "id": "1f6ff2e0-cfa2-4770-869c-d5f62c812f06",
   "metadata": {},
   "outputs": [],
   "source": [
    "df = pd.DataFrame({\"revenue\":[57,68,63,71,72,90,80,62,59,51,47,52],\n",
    "                   \"advertising\":[2.1,1.9,2.7,3.0,3.6,3.2,2.7,2.4,1.8,1.6,1.3,1.9],\n",
    "                   \"month\":range(12)\n",
    "                  })"
   ]
  },
  {
   "cell_type": "code",
   "execution_count": 87,
   "id": "dc4362d9-e08e-4cf5-9682-ede70552bb4d",
   "metadata": {},
   "outputs": [
    {
     "data": {
      "image/png": "[encoded data removed]",
      "text/plain": [
       "<Figure size 640x480 with 2 Axes>"
      ]
     },
     "metadata": {},
     "output_type": "display_data"
    }
   ],
   "source": [
    "ax = df.plot.bar( 'month', 'revenue')\n",
    "\n",
    "df.plot.line('month', 'advertising',secondary_y=True,ax=ax)\n",
    "plt.show()"
   ]
  },
  {
   "cell_type": "code",
   "execution_count": 88,
   "id": "30b37d2f-c4a7-4ebe-abf8-a9cba68e8d97",
   "metadata": {},
   "outputs": [],
   "source": [
    "import numpy as np\n",
    "def float_to_time(x):\n",
    "    return str(int(x)) + \":\" + str(int(x%1 * 60)).zfill(2) + \":\" + str(int(x*60 % 1 * 60)).zfill(2)\n",
    "\n",
    "def day_stock_data():\n",
    "    #NYSE is open from 9:30 to 4:00\n",
    "    time = 9.5\n",
    "    price = 100\n",
    "    results = [(float_to_time(time), price)]\n",
    "    while time < 16:\n",
    "        elapsed = np.random.exponential(.001)\n",
    "        time += elapsed\n",
    "        if time > 16:\n",
    "            break\n",
    "        price_diff = np.random.uniform(.999, 1.001)\n",
    "        price *= price_diff\n",
    "        results.append((float_to_time(time), price))\n",
    "    \n",
    "    \n",
    "    df = pd.DataFrame(results, columns = ['time','price'])\n",
    "    df.time = pd.to_datetime(df.time)\n",
    "    return df\n",
    "\n",
    "#Don't read me unless you get stuck!\n",
    "def plot_candlestick(agg):\n",
    "    \"\"\"\n",
    "    agg is a DataFrame which has a DatetimeIndex and five columns: [\"open\",\"high\",\"low\",\"close\",\"color\"]\n",
    "    \"\"\"\n",
    "    fig, ax = plt.subplots()\n",
    "    for time in agg.index:\n",
    "        ax.plot([time.hour] * 2, agg.loc[time, [\"high\",\"low\"]].values, color = \"black\")\n",
    "        ax.plot([time.hour] * 2, agg.loc[time, [\"open\",\"close\"]].values, color = agg.loc[time, \"color\"], linewidth = 10)\n",
    "\n",
    "    ax.set_xlim((8,16))\n",
    "    ax.set_ylabel(\"Price\")\n",
    "    ax.set_xlabel(\"Hour\")\n",
    "    ax.set_title(\"OHLC of Stock Value During Trading Day\")\n",
    "    plt.show()"
   ]
  },
  {
   "cell_type": "markdown",
   "id": "bea7f6da-9dbb-4d83-9034-9fca26e46924",
   "metadata": {},
   "source": [
    "# 63. Generate a day's worth of random stock data, and aggregate / reformat it so that it has hourly summaries of the opening, highest, lowest, and closing prices"
   ]
  },
  {
   "cell_type": "code",
   "execution_count": 89,
   "id": "10734797-986d-4c9b-bb9e-f454d47b08dc",
   "metadata": {},
   "outputs": [
    {
     "name": "stderr",
     "output_type": "stream",
     "text": [
      "C:\\Users\\Sneha Karkoli\\AppData\\Local\\Temp\\ipykernel_5584\\990691206.py:21: UserWarning: Could not infer format, so each element will be parsed individually, falling back to `dateutil`. To ensure parsing is consistent and as-expected, please specify a format.\n",
      "  df.time = pd.to_datetime(df.time)\n"
     ]
    },
    {
     "data": {
      "text/html": [
       "<div>\n",
       "<style scoped>\n",
       "    .dataframe tbody tr th:only-of-type {\n",
       "        vertical-align: middle;\n",
       "    }\n",
       "\n",
       "    .dataframe tbody tr th {\n",
       "        vertical-align: top;\n",
       "    }\n",
       "\n",
       "    .dataframe thead th {\n",
       "        text-align: right;\n",
       "    }\n",
       "</style>\n",
       "<table border=\"1\" class=\"dataframe\">\n",
       "  <thead>\n",
       "    <tr style=\"text-align: right;\">\n",
       "      <th></th>\n",
       "      <th>time</th>\n",
       "      <th>price</th>\n",
       "    </tr>\n",
       "  </thead>\n",
       "  <tbody>\n",
       "    <tr>\n",
       "      <th>0</th>\n",
       "      <td>2025-03-09 09:30:00</td>\n",
       "      <td>100.000000</td>\n",
       "    </tr>\n",
       "    <tr>\n",
       "      <th>1</th>\n",
       "      <td>2025-03-09 09:30:01</td>\n",
       "      <td>99.931624</td>\n",
       "    </tr>\n",
       "    <tr>\n",
       "      <th>2</th>\n",
       "      <td>2025-03-09 09:30:01</td>\n",
       "      <td>99.982304</td>\n",
       "    </tr>\n",
       "    <tr>\n",
       "      <th>3</th>\n",
       "      <td>2025-03-09 09:30:05</td>\n",
       "      <td>100.080772</td>\n",
       "    </tr>\n",
       "    <tr>\n",
       "      <th>4</th>\n",
       "      <td>2025-03-09 09:30:08</td>\n",
       "      <td>100.010582</td>\n",
       "    </tr>\n",
       "  </tbody>\n",
       "</table>\n",
       "</div>"
      ],
      "text/plain": [
       "                 time       price\n",
       "0 2025-03-09 09:30:00  100.000000\n",
       "1 2025-03-09 09:30:01   99.931624\n",
       "2 2025-03-09 09:30:01   99.982304\n",
       "3 2025-03-09 09:30:05  100.080772\n",
       "4 2025-03-09 09:30:08  100.010582"
      ]
     },
     "execution_count": 89,
     "metadata": {},
     "output_type": "execute_result"
    }
   ],
   "source": [
    "df =day_stock_data()\n",
    "df.head()"
   ]
  },
  {
   "cell_type": "code",
   "execution_count": 90,
   "id": "8a15086b-da1f-49da-9493-06d7060480c8",
   "metadata": {},
   "outputs": [
    {
     "name": "stderr",
     "output_type": "stream",
     "text": [
      "C:\\Users\\Sneha Karkoli\\AppData\\Local\\Temp\\ipykernel_5584\\2288980865.py:2: FutureWarning: 'H' is deprecated and will be removed in a future version, please use 'h' instead.\n",
      "  agg = df.resample(\"H\").ohlc()\n"
     ]
    },
    {
     "data": {
      "text/html": [
       "<div>\n",
       "<style scoped>\n",
       "    .dataframe tbody tr th:only-of-type {\n",
       "        vertical-align: middle;\n",
       "    }\n",
       "\n",
       "    .dataframe tbody tr th {\n",
       "        vertical-align: top;\n",
       "    }\n",
       "\n",
       "    .dataframe thead th {\n",
       "        text-align: right;\n",
       "    }\n",
       "</style>\n",
       "<table border=\"1\" class=\"dataframe\">\n",
       "  <thead>\n",
       "    <tr style=\"text-align: right;\">\n",
       "      <th></th>\n",
       "      <th>open</th>\n",
       "      <th>high</th>\n",
       "      <th>low</th>\n",
       "      <th>close</th>\n",
       "      <th>color</th>\n",
       "    </tr>\n",
       "    <tr>\n",
       "      <th>time</th>\n",
       "      <th></th>\n",
       "      <th></th>\n",
       "      <th></th>\n",
       "      <th></th>\n",
       "      <th></th>\n",
       "    </tr>\n",
       "  </thead>\n",
       "  <tbody>\n",
       "    <tr>\n",
       "      <th>2025-03-09 09:00:00</th>\n",
       "      <td>100.000000</td>\n",
       "      <td>102.101356</td>\n",
       "      <td>99.737252</td>\n",
       "      <td>102.101356</td>\n",
       "      <td>green</td>\n",
       "    </tr>\n",
       "    <tr>\n",
       "      <th>2025-03-09 10:00:00</th>\n",
       "      <td>102.020978</td>\n",
       "      <td>102.499765</td>\n",
       "      <td>100.389035</td>\n",
       "      <td>100.674236</td>\n",
       "      <td>red</td>\n",
       "    </tr>\n",
       "    <tr>\n",
       "      <th>2025-03-09 11:00:00</th>\n",
       "      <td>100.743255</td>\n",
       "      <td>105.308252</td>\n",
       "      <td>99.863319</td>\n",
       "      <td>104.721996</td>\n",
       "      <td>green</td>\n",
       "    </tr>\n",
       "    <tr>\n",
       "      <th>2025-03-09 12:00:00</th>\n",
       "      <td>104.624196</td>\n",
       "      <td>104.852102</td>\n",
       "      <td>102.307995</td>\n",
       "      <td>103.750606</td>\n",
       "      <td>red</td>\n",
       "    </tr>\n",
       "    <tr>\n",
       "      <th>2025-03-09 13:00:00</th>\n",
       "      <td>103.695823</td>\n",
       "      <td>107.977346</td>\n",
       "      <td>102.892417</td>\n",
       "      <td>107.194831</td>\n",
       "      <td>green</td>\n",
       "    </tr>\n",
       "  </tbody>\n",
       "</table>\n",
       "</div>"
      ],
      "text/plain": [
       "                           open        high         low       close  color\n",
       "time                                                                      \n",
       "2025-03-09 09:00:00  100.000000  102.101356   99.737252  102.101356  green\n",
       "2025-03-09 10:00:00  102.020978  102.499765  100.389035  100.674236    red\n",
       "2025-03-09 11:00:00  100.743255  105.308252   99.863319  104.721996  green\n",
       "2025-03-09 12:00:00  104.624196  104.852102  102.307995  103.750606    red\n",
       "2025-03-09 13:00:00  103.695823  107.977346  102.892417  107.194831  green"
      ]
     },
     "execution_count": 90,
     "metadata": {},
     "output_type": "execute_result"
    }
   ],
   "source": [
    "df.set_index(\"time\", inplace = True)\n",
    "agg = df.resample(\"H\").ohlc()\n",
    "agg.columns = agg.columns.droplevel()\n",
    "agg[\"color\"] = (agg.close > agg.open).map({True:\"green\",False:\"red\"})\n",
    "agg.head()"
   ]
  },
  {
   "cell_type": "markdown",
   "id": "4a32aaa1-1560-4013-9524-bb27e00c5be8",
   "metadata": {},
   "source": [
    "# 64. Now that you have your properly-formatted data, try to plot it yourself as a candlestick chart. Use the plot_candlestick(df) function above, or matplotlib's plot documentation if you get stuck."
   ]
  },
  {
   "cell_type": "code",
   "execution_count": 91,
   "id": "463c8177-7bc8-4141-bb5a-edcbaafa2eea",
   "metadata": {},
   "outputs": [
    {
     "data": {
      "image/png": "[encoded data removed]",
      "text/plain": [
       "<Figure size 640x480 with 1 Axes>"
      ]
     },
     "metadata": {},
     "output_type": "display_data"
    }
   ],
   "source": [
    "plot_candlestick(agg)"
   ]
  },
  {
   "cell_type": "markdown",
   "id": "b8c9d12f-b6f0-47c5-b3c7-626f5edeb413",
   "metadata": {},
   "source": [
    "# 65.create a DataFrame from a dictionary."
   ]
  },
  {
   "cell_type": "code",
   "execution_count": 101,
   "id": "334ab2d6-e3f5-412d-a70a-c2fe92c130bc",
   "metadata": {},
   "outputs": [
    {
     "name": "stdout",
     "output_type": "stream",
     "text": [
      "      Name  Age  Salary\n",
      "0    Alice   25   50000\n",
      "1      Bob   30   60000\n",
      "2  Charlie   35   70000\n",
      "3    David   42   61000\n",
      "4      Eva   32   50100\n",
      "5    Gargi   51   45600\n"
     ]
    }
   ],
   "source": [
    "data = {'Name': ['Alice', 'Bob', 'Charlie', 'David', 'Eva','Gargi'], 'Age': [25, 30, 35,42,32,51], 'Salary': [50000, 60000, 70000,61000,50100,45600]}\n",
    "df = pd.DataFrame(data)\n",
    "print(df)"
   ]
  },
  {
   "cell_type": "markdown",
   "id": "60bb275f-98c2-4fa0-9ee5-ec15fc3610eb",
   "metadata": {},
   "source": [
    "# 66. Display the first and last 5 rows of a DataFrame."
   ]
  },
  {
   "cell_type": "code",
   "execution_count": 102,
   "id": "518484f3-dc76-4630-a097-83599f284da9",
   "metadata": {},
   "outputs": [
    {
     "name": "stdout",
     "output_type": "stream",
     "text": [
      "      Name  Age  Salary\n",
      "0    Alice   25   50000\n",
      "1      Bob   30   60000\n",
      "2  Charlie   35   70000\n",
      "3    David   42   61000\n",
      "4      Eva   32   50100\n",
      "      Name  Age  Salary\n",
      "1      Bob   30   60000\n",
      "2  Charlie   35   70000\n",
      "3    David   42   61000\n",
      "4      Eva   32   50100\n",
      "5    Gargi   51   45600\n"
     ]
    }
   ],
   "source": [
    "print(df.head())  \n",
    "print(df.tail()) "
   ]
  },
  {
   "cell_type": "markdown",
   "id": "3ed5d78d-217d-42c4-b7c6-b5ce9c54e952",
   "metadata": {},
   "source": [
    "# 67. Get the shape (number of rows and columns) of a DataFrame."
   ]
  },
  {
   "cell_type": "code",
   "execution_count": 103,
   "id": "e70ae3f4-16db-4944-a6e0-b6a256e0f694",
   "metadata": {},
   "outputs": [
    {
     "name": "stdout",
     "output_type": "stream",
     "text": [
      "(6, 3)\n"
     ]
    }
   ],
   "source": [
    "print(df.shape)"
   ]
  },
  {
   "cell_type": "markdown",
   "id": "14712a96-61a9-4863-b36a-8f96adc3bee0",
   "metadata": {},
   "source": [
    "# 68. Get basic statistics of numerical columns."
   ]
  },
  {
   "cell_type": "code",
   "execution_count": 104,
   "id": "595edbb6-5aad-4735-8433-764cec469980",
   "metadata": {},
   "outputs": [
    {
     "name": "stdout",
     "output_type": "stream",
     "text": [
      "             Age        Salary\n",
      "count   6.000000      6.000000\n",
      "mean   35.833333  56116.666667\n",
      "std     9.325592   9120.179092\n",
      "min    25.000000  45600.000000\n",
      "25%    30.500000  50025.000000\n",
      "50%    33.500000  55050.000000\n",
      "75%    40.250000  60750.000000\n",
      "max    51.000000  70000.000000\n"
     ]
    }
   ],
   "source": [
    "print(df.describe())"
   ]
  },
  {
   "cell_type": "markdown",
   "id": "26e7d3b0-0dbf-4d00-aa23-77e0b18987c8",
   "metadata": {},
   "source": [
    "# 69. Rename columns of a DataFrame."
   ]
  },
  {
   "cell_type": "code",
   "execution_count": 105,
   "id": "febe45ea-243a-4fc8-9c04-814843c8be4b",
   "metadata": {},
   "outputs": [],
   "source": [
    "df.rename(columns={'Age': 'Years', 'Salary': 'Income'}, inplace=True)"
   ]
  },
  {
   "cell_type": "code",
   "execution_count": 106,
   "id": "22f3ec35-0028-46ac-a47c-963f231b6d09",
   "metadata": {},
   "outputs": [
    {
     "name": "stdout",
     "output_type": "stream",
     "text": [
      "      Name  Years  Income\n",
      "0    Alice     25   50000\n",
      "1      Bob     30   60000\n",
      "2  Charlie     35   70000\n",
      "3    David     42   61000\n",
      "4      Eva     32   50100\n",
      "5    Gargi     51   45600\n"
     ]
    }
   ],
   "source": [
    "print(df)"
   ]
  },
  {
   "cell_type": "markdown",
   "id": "92442188-1ae4-47b3-ae86-8d88db5bdc3d",
   "metadata": {},
   "source": [
    "# 70. Select a single column."
   ]
  },
  {
   "cell_type": "code",
   "execution_count": 110,
   "id": "08acd514-43fd-4878-ab38-02ecfbd260eb",
   "metadata": {},
   "outputs": [
    {
     "name": "stdout",
     "output_type": "stream",
     "text": [
      "0    25\n",
      "1    30\n",
      "2    35\n",
      "3    42\n",
      "4    32\n",
      "5    51\n",
      "Name: Years, dtype: int64\n"
     ]
    }
   ],
   "source": [
    "print(df['Years'])"
   ]
  },
  {
   "cell_type": "markdown",
   "id": "893bfc18-51da-4d13-8160-15f245c92cef",
   "metadata": {},
   "source": [
    "# 71. Select multiple columns."
   ]
  },
  {
   "cell_type": "code",
   "execution_count": 112,
   "id": "796e723a-757e-4a3a-bdfb-87810c5eab82",
   "metadata": {},
   "outputs": [
    {
     "name": "stdout",
     "output_type": "stream",
     "text": [
      "      Name  Income\n",
      "0    Alice   50000\n",
      "1      Bob   60000\n",
      "2  Charlie   70000\n",
      "3    David   61000\n",
      "4      Eva   50100\n",
      "5    Gargi   45600\n"
     ]
    }
   ],
   "source": [
    "print(df[['Name', 'Income']])"
   ]
  },
  {
   "cell_type": "markdown",
   "id": "35e350f8-81af-4cc8-8722-3051b53b3e2c",
   "metadata": {},
   "source": [
    "# 72. Filter rows where Name is 'Alice'."
   ]
  },
  {
   "cell_type": "code",
   "execution_count": 113,
   "id": "9681ce0b-3bf1-481e-9841-df4be489c6df",
   "metadata": {},
   "outputs": [
    {
     "name": "stdout",
     "output_type": "stream",
     "text": [
      "    Name  Years  Income\n",
      "0  Alice     25   50000\n"
     ]
    }
   ],
   "source": [
    "print(df[df['Name'] == 'Alice'])"
   ]
  },
  {
   "cell_type": "markdown",
   "id": "598ad428-f037-47fc-807b-be0d9cb81d66",
   "metadata": {},
   "source": [
    "# 73. Filter rows based on multiple conditions"
   ]
  },
  {
   "cell_type": "code",
   "execution_count": 115,
   "id": "44250ce0-c54e-47a0-8c9f-37dc49d1b66e",
   "metadata": {},
   "outputs": [
    {
     "name": "stdout",
     "output_type": "stream",
     "text": [
      "      Name  Years  Income\n",
      "1      Bob     30   60000\n",
      "2  Charlie     35   70000\n",
      "3    David     42   61000\n",
      "4      Eva     32   50100\n"
     ]
    }
   ],
   "source": [
    "print(df[(df['Years'] > 25) & (df['Income'] > 50000)])"
   ]
  },
  {
   "cell_type": "markdown",
   "id": "79994ac5-1ca6-4862-84e4-412ecdaef52a",
   "metadata": {},
   "source": [
    "# 74. Filter rows where Name contains 'bo'."
   ]
  },
  {
   "cell_type": "code",
   "execution_count": 116,
   "id": "899903ab-9549-4838-b9ae-555d8e6d8154",
   "metadata": {},
   "outputs": [
    {
     "name": "stdout",
     "output_type": "stream",
     "text": [
      "  Name  Years  Income\n",
      "1  Bob     30   60000\n"
     ]
    }
   ],
   "source": [
    "print(df[df['Name'].str.contains('bo', case=False)])"
   ]
  },
  {
   "cell_type": "markdown",
   "id": "06047b83-e8c5-4a0d-9ce6-c425662c7c11",
   "metadata": {},
   "source": [
    "# 75. Sort a DataFrame by Income in ascending order."
   ]
  },
  {
   "cell_type": "code",
   "execution_count": 118,
   "id": "7905acf1-2775-4bcf-b71d-f334853cb7c9",
   "metadata": {},
   "outputs": [
    {
     "name": "stdout",
     "output_type": "stream",
     "text": [
      "      Name  Years  Income\n",
      "5    Gargi     51   45600\n",
      "0    Alice     25   50000\n",
      "4      Eva     32   50100\n",
      "1      Bob     30   60000\n",
      "3    David     42   61000\n",
      "2  Charlie     35   70000\n"
     ]
    }
   ],
   "source": [
    "print(df.sort_values('Income'))"
   ]
  },
  {
   "cell_type": "markdown",
   "id": "e7eff4ab-44bb-476e-8a6a-41e703ff69a7",
   "metadata": {},
   "source": [
    "# 76. Find unique values in a column."
   ]
  },
  {
   "cell_type": "code",
   "execution_count": 119,
   "id": "6033726b-9f91-4df1-883e-df412c33ce73",
   "metadata": {},
   "outputs": [
    {
     "name": "stdout",
     "output_type": "stream",
     "text": [
      "[25 30 35 42 32 51]\n"
     ]
    }
   ],
   "source": [
    "print(df['Years'].unique())"
   ]
  },
  {
   "cell_type": "markdown",
   "id": "1b1cf197-d132-43da-8d2a-97ea12e9441e",
   "metadata": {},
   "source": [
    "# 77. Count occurrences of unique values."
   ]
  },
  {
   "cell_type": "code",
   "execution_count": 121,
   "id": "7f778d05-d166-402c-83ce-9a01581f84fd",
   "metadata": {},
   "outputs": [
    {
     "name": "stdout",
     "output_type": "stream",
     "text": [
      "Years\n",
      "25    1\n",
      "30    1\n",
      "35    1\n",
      "42    1\n",
      "32    1\n",
      "51    1\n",
      "Name: count, dtype: int64\n"
     ]
    }
   ],
   "source": [
    "print(df['Years'].value_counts())"
   ]
  },
  {
   "cell_type": "markdown",
   "id": "6848c0e2-79b2-4eac-8105-7164f274f979",
   "metadata": {},
   "source": [
    "# 78. Check if a column contains null values."
   ]
  },
  {
   "cell_type": "code",
   "execution_count": 123,
   "id": "409dee5d-ad5b-48c6-9b2c-1f36ee77d4c7",
   "metadata": {},
   "outputs": [
    {
     "name": "stdout",
     "output_type": "stream",
     "text": [
      "False\n"
     ]
    }
   ],
   "source": [
    "print(df['Years'].isnull().any())"
   ]
  },
  {
   "cell_type": "markdown",
   "id": "02d2f73f-7c13-4898-b59b-421bdc81e152",
   "metadata": {},
   "source": [
    "# 79. Remove duplicate rows."
   ]
  },
  {
   "cell_type": "code",
   "execution_count": 126,
   "id": "3982a40d-a578-451c-8010-fa391d7db846",
   "metadata": {},
   "outputs": [],
   "source": [
    "df.drop_duplicates(inplace=True)"
   ]
  },
  {
   "cell_type": "code",
   "execution_count": 139,
   "id": "79548b62-a6d7-40ad-a92f-8c46222e6b32",
   "metadata": {},
   "outputs": [],
   "source": [
    "df.rename(columns={'Years': 'Age', 'Income': 'Salary'}, inplace=True)"
   ]
  },
  {
   "cell_type": "markdown",
   "id": "7259de96-713a-4245-b368-45f84b34c0c1",
   "metadata": {},
   "source": [
    "# 80. Group by Name and compute mean Salary"
   ]
  },
  {
   "cell_type": "code",
   "execution_count": 140,
   "id": "df3b649b-f863-4402-a40b-8514144e48ba",
   "metadata": {},
   "outputs": [
    {
     "name": "stdout",
     "output_type": "stream",
     "text": [
      "Name\n",
      "Alice      50000.0\n",
      "Bob        60000.0\n",
      "Charlie    70000.0\n",
      "David      61000.0\n",
      "Eva        50100.0\n",
      "Gargi      45600.0\n",
      "Name: Salary, dtype: float64\n"
     ]
    }
   ],
   "source": [
    "print(df.groupby('Name')['Salary'].mean())"
   ]
  },
  {
   "cell_type": "markdown",
   "id": "1e05d3c9-4085-4b45-badc-256396ba97d9",
   "metadata": {},
   "source": [
    "# 81. Count the number of occurrences of each Name"
   ]
  },
  {
   "cell_type": "code",
   "execution_count": 141,
   "id": "95b531c7-24bc-40c5-89d1-a4cd3ad0b6a2",
   "metadata": {},
   "outputs": [
    {
     "name": "stdout",
     "output_type": "stream",
     "text": [
      "Name\n",
      "Alice      1\n",
      "Bob        1\n",
      "Charlie    1\n",
      "David      1\n",
      "Eva        1\n",
      "Gargi      1\n",
      "Name: count, dtype: int64\n"
     ]
    }
   ],
   "source": [
    "print(df['Name'].value_counts())"
   ]
  },
  {
   "cell_type": "markdown",
   "id": "41d4b923-c621-4c32-bc72-44b421e1a948",
   "metadata": {},
   "source": [
    "# 82. Aggregate multiple statistics."
   ]
  },
  {
   "cell_type": "code",
   "execution_count": 142,
   "id": "b2210170-1d87-4774-9b03-1d539139d917",
   "metadata": {},
   "outputs": [
    {
     "name": "stdout",
     "output_type": "stream",
     "text": [
      "        Salary                \n",
      "           sum     mean    max\n",
      "Name                          \n",
      "Alice    50000  50000.0  50000\n",
      "Bob      60000  60000.0  60000\n",
      "Charlie  70000  70000.0  70000\n",
      "David    61000  61000.0  61000\n",
      "Eva      50100  50100.0  50100\n",
      "Gargi    45600  45600.0  45600\n"
     ]
    }
   ],
   "source": [
    "print(df.groupby('Name').agg({'Salary': ['sum', 'mean', 'max']}))"
   ]
  },
  {
   "cell_type": "markdown",
   "id": "2c718550-7ee2-4d38-9edd-c24d81f09607",
   "metadata": {},
   "source": [
    "# 83. Group by multiple columns and apply aggregation."
   ]
  },
  {
   "cell_type": "code",
   "execution_count": 143,
   "id": "5a6fd260-4851-4624-aabd-cef4858936a3",
   "metadata": {},
   "outputs": [
    {
     "name": "stdout",
     "output_type": "stream",
     "text": [
      "Name     Age\n",
      "Alice    25     50000\n",
      "Bob      30     60000\n",
      "Charlie  35     70000\n",
      "David    42     61000\n",
      "Eva      32     50100\n",
      "Gargi    51     45600\n",
      "Name: Salary, dtype: int64\n"
     ]
    }
   ],
   "source": [
    "print(df.groupby(['Name', 'Age'])['Salary'].sum())"
   ]
  },
  {
   "cell_type": "markdown",
   "id": "5f624f8b-a075-4b82-8411-287889092341",
   "metadata": {},
   "source": [
    "# 84. Compute cumulative sum of Salary."
   ]
  },
  {
   "cell_type": "code",
   "execution_count": 145,
   "id": "910be94e-a4b5-4aa5-869b-6a56c44ab21c",
   "metadata": {},
   "outputs": [
    {
     "name": "stdout",
     "output_type": "stream",
     "text": [
      "0     50000\n",
      "1    110000\n",
      "2    180000\n",
      "3    241000\n",
      "4    291100\n",
      "5    336700\n",
      "Name: Cumulative Salary, dtype: int64\n"
     ]
    }
   ],
   "source": [
    "df['Cumulative Salary'] = df['Salary'].cumsum()\n",
    "print(df['Cumulative Salary'])"
   ]
  },
  {
   "cell_type": "markdown",
   "id": "93571fad-bba2-40df-a017-3ca5e8eb64f2",
   "metadata": {},
   "source": [
    "# 85. Compute rolling average."
   ]
  },
  {
   "cell_type": "code",
   "execution_count": 137,
   "id": "61b96620-f085-4cbb-af0a-a188dcc3d655",
   "metadata": {},
   "outputs": [
    {
     "name": "stdout",
     "output_type": "stream",
     "text": [
      "0        NaN\n",
      "1    55000.0\n",
      "2    65000.0\n",
      "3    65500.0\n",
      "4    55550.0\n",
      "5    47850.0\n",
      "Name: Rolling Mean, dtype: float64\n"
     ]
    }
   ],
   "source": [
    "df['Rolling Mean'] = df['Salary'].rolling(window=2).mean()\n",
    "print(df['Rolling Mean'])"
   ]
  },
  {
   "cell_type": "markdown",
   "id": "26685b86-f89e-4040-9128-85cd1f42e133",
   "metadata": {},
   "source": [
    "# 86. Apply a custom function to a column."
   ]
  },
  {
   "cell_type": "code",
   "execution_count": 135,
   "id": "c100ae5a-bd1c-4e2c-a96c-b3527e425424",
   "metadata": {},
   "outputs": [],
   "source": [
    "df['New Age'] = df['Age'].apply(lambda x: x + 5)"
   ]
  },
  {
   "cell_type": "code",
   "execution_count": 136,
   "id": "aa96b98a-b54b-4f3e-ba5f-ddc53dd326f9",
   "metadata": {},
   "outputs": [
    {
     "name": "stdout",
     "output_type": "stream",
     "text": [
      "0    30\n",
      "1    35\n",
      "2    40\n",
      "3    47\n",
      "4    37\n",
      "5    56\n",
      "Name: New Age, dtype: int64\n"
     ]
    }
   ],
   "source": [
    "print(df['New Age'])"
   ]
  },
  {
   "cell_type": "markdown",
   "id": "10b0e68d-a7b3-416a-ac70-1af8731d890c",
   "metadata": {},
   "source": [
    "# 87. Use .map() to transform values."
   ]
  },
  {
   "cell_type": "code",
   "execution_count": 147,
   "id": "40b07b3d-f0b7-4bb7-ab3e-31c00d9db0c9",
   "metadata": {},
   "outputs": [
    {
     "name": "stdout",
     "output_type": "stream",
     "text": [
      "0    60500.0\n",
      "1    72600.0\n",
      "2    84700.0\n",
      "3    73810.0\n",
      "4    60621.0\n",
      "5    55176.0\n",
      "Name: Salary, dtype: float64\n"
     ]
    }
   ],
   "source": [
    "df['Salary'] = df['Salary'].map(lambda x: x * 1.1)\n",
    "print(df['Salary'])"
   ]
  },
  {
   "cell_type": "markdown",
   "id": "e9997743-bdfa-463c-981b-47cafe25f108",
   "metadata": {},
   "source": [
    "# 88. Use .replace() to substitute values."
   ]
  },
  {
   "cell_type": "code",
   "execution_count": 148,
   "id": "6a9f7f38-dc58-478b-95c7-bc94c586d504",
   "metadata": {},
   "outputs": [
    {
     "name": "stdout",
     "output_type": "stream",
     "text": [
      "0     Alicia\n",
      "1        Bob\n",
      "2    Charlie\n",
      "3      David\n",
      "4        Eva\n",
      "5      Gargi\n",
      "Name: Name, dtype: object\n"
     ]
    }
   ],
   "source": [
    "df['Name'] = df['Name'].replace({'Alice': 'Alicia'})\n",
    "print(df['Name'])"
   ]
  },
  {
   "cell_type": "markdown",
   "id": "8ed1dfcf-cf63-4aff-bfcc-f0b08d02f97e",
   "metadata": {},
   "source": [
    "# 89. Create a pivot table."
   ]
  },
  {
   "cell_type": "code",
   "execution_count": 149,
   "id": "596cbad8-a586-457d-ae0f-f810a985a39d",
   "metadata": {},
   "outputs": [
    {
     "name": "stdout",
     "output_type": "stream",
     "text": [
      "Age           25       30       32       35       42       51\n",
      "Name                                                         \n",
      "Alicia   60500.0      NaN      NaN      NaN      NaN      NaN\n",
      "Bob          NaN  72600.0      NaN      NaN      NaN      NaN\n",
      "Charlie      NaN      NaN      NaN  84700.0      NaN      NaN\n",
      "David        NaN      NaN      NaN      NaN  73810.0      NaN\n",
      "Eva          NaN      NaN  60621.0      NaN      NaN      NaN\n",
      "Gargi        NaN      NaN      NaN      NaN      NaN  55176.0\n"
     ]
    }
   ],
   "source": [
    "print(df.pivot_table(values='Salary', index='Name', columns='Age'))"
   ]
  },
  {
   "cell_type": "markdown",
   "id": "9e991a7e-8528-4b94-980c-b342888f5880",
   "metadata": {},
   "source": [
    "# 90. Create second DataFrame for merging"
   ]
  },
  {
   "cell_type": "code",
   "execution_count": 150,
   "id": "c660d17b-f94c-45a7-b92a-d5c2dcdb0b29",
   "metadata": {},
   "outputs": [],
   "source": [
    "df2 = pd.DataFrame({'Name': ['Alice', 'Bob', 'Charlie'], 'Department': ['HR', 'IT', 'Finance']})\n"
   ]
  },
  {
   "cell_type": "markdown",
   "id": "c38e6800-d898-4c44-a8e5-1229b7ad3f58",
   "metadata": {},
   "source": [
    "# 91. Concatenate two DataFrames along rows."
   ]
  },
  {
   "cell_type": "code",
   "execution_count": 152,
   "id": "cd95be6c-f056-45c4-9210-02fbd086cca7",
   "metadata": {},
   "outputs": [
    {
     "name": "stdout",
     "output_type": "stream",
     "text": [
      "      Name   Age   Salary  Cumulative Salary  Rolling Mean  New Age Department\n",
      "0   Alicia  25.0  60500.0            50000.0           NaN     30.0        NaN\n",
      "1      Bob  30.0  72600.0           110000.0       55000.0     35.0        NaN\n",
      "2  Charlie  35.0  84700.0           180000.0       65000.0     40.0        NaN\n",
      "3    David  42.0  73810.0           241000.0       65500.0     47.0        NaN\n",
      "4      Eva  32.0  60621.0           291100.0       55550.0     37.0        NaN\n",
      "5    Gargi  51.0  55176.0           336700.0       47850.0     56.0        NaN\n",
      "0    Alice   NaN      NaN                NaN           NaN      NaN         HR\n",
      "1      Bob   NaN      NaN                NaN           NaN      NaN         IT\n",
      "2  Charlie   NaN      NaN                NaN           NaN      NaN    Finance\n"
     ]
    }
   ],
   "source": [
    "df_concat = pd.concat([df, df2], axis=0)\n",
    "print(df_concat)"
   ]
  },
  {
   "cell_type": "markdown",
   "id": "0733f03b-babf-4be2-8513-3f7c4aebf2e5",
   "metadata": {},
   "source": [
    "# 92. Concatenate two DataFrames along columns."
   ]
  },
  {
   "cell_type": "code",
   "execution_count": 154,
   "id": "c1859f48-d42e-4e8d-90e9-c2417c3e47f4",
   "metadata": {},
   "outputs": [
    {
     "name": "stdout",
     "output_type": "stream",
     "text": [
      "      Name  Age   Salary  Cumulative Salary  Rolling Mean  New Age     Name  \\\n",
      "0   Alicia   25  60500.0              50000           NaN       30    Alice   \n",
      "1      Bob   30  72600.0             110000       55000.0       35      Bob   \n",
      "2  Charlie   35  84700.0             180000       65000.0       40  Charlie   \n",
      "3    David   42  73810.0             241000       65500.0       47      NaN   \n",
      "4      Eva   32  60621.0             291100       55550.0       37      NaN   \n",
      "5    Gargi   51  55176.0             336700       47850.0       56      NaN   \n",
      "\n",
      "  Department  \n",
      "0         HR  \n",
      "1         IT  \n",
      "2    Finance  \n",
      "3        NaN  \n",
      "4        NaN  \n",
      "5        NaN  \n"
     ]
    }
   ],
   "source": [
    "df_concat = pd.concat([df, df2], axis=1)\n",
    "print(df_concat)"
   ]
  },
  {
   "cell_type": "markdown",
   "id": "fabf0c44-2189-49e7-98b7-2d38fad9ef5c",
   "metadata": {},
   "source": [
    "# 93. Merge using an inner join."
   ]
  },
  {
   "cell_type": "code",
   "execution_count": 155,
   "id": "5c1322a4-eb0e-4f77-a3e9-b472b6fbcbe9",
   "metadata": {},
   "outputs": [
    {
     "name": "stdout",
     "output_type": "stream",
     "text": [
      "      Name  Age   Salary  Cumulative Salary  Rolling Mean  New Age Department\n",
      "0      Bob   30  72600.0             110000       55000.0       35         IT\n",
      "1  Charlie   35  84700.0             180000       65000.0       40    Finance\n"
     ]
    }
   ],
   "source": [
    "df_merged = pd.merge(df, df2, on='Name', how='inner')\n",
    "print(df_merged)"
   ]
  },
  {
   "cell_type": "markdown",
   "id": "6bf98186-f8c5-4c11-b2f5-15e7af93ddc6",
   "metadata": {},
   "source": [
    "# 94. Merge using a left join."
   ]
  },
  {
   "cell_type": "code",
   "execution_count": 156,
   "id": "6eaa212e-b9ab-4f9f-8c8d-82189331f6c6",
   "metadata": {},
   "outputs": [
    {
     "name": "stdout",
     "output_type": "stream",
     "text": [
      "      Name  Age   Salary  Cumulative Salary  Rolling Mean  New Age Department\n",
      "0   Alicia   25  60500.0              50000           NaN       30        NaN\n",
      "1      Bob   30  72600.0             110000       55000.0       35         IT\n",
      "2  Charlie   35  84700.0             180000       65000.0       40    Finance\n",
      "3    David   42  73810.0             241000       65500.0       47        NaN\n",
      "4      Eva   32  60621.0             291100       55550.0       37        NaN\n",
      "5    Gargi   51  55176.0             336700       47850.0       56        NaN\n"
     ]
    }
   ],
   "source": [
    "df_merged = pd.merge(df, df2, on='Name', how='left')\n",
    "print(df_merged)"
   ]
  },
  {
   "cell_type": "markdown",
   "id": "8f0ee8d3-b3fb-4803-99bf-5be83fdf950f",
   "metadata": {},
   "source": [
    "# 95. Merge using a right join."
   ]
  },
  {
   "cell_type": "code",
   "execution_count": 158,
   "id": "e7575893-a791-4d3d-b4e1-365e795b39f1",
   "metadata": {},
   "outputs": [
    {
     "name": "stdout",
     "output_type": "stream",
     "text": [
      "      Name   Age   Salary  Cumulative Salary  Rolling Mean  New Age Department\n",
      "0    Alice   NaN      NaN                NaN           NaN      NaN         HR\n",
      "1      Bob  30.0  72600.0           110000.0       55000.0     35.0         IT\n",
      "2  Charlie  35.0  84700.0           180000.0       65000.0     40.0    Finance\n"
     ]
    }
   ],
   "source": [
    "df_merged = pd.merge(df, df2, on='Name', how='right')\n",
    "print(df_merged)"
   ]
  },
  {
   "cell_type": "markdown",
   "id": "afb9e809-18da-40e6-a805-b211025fc7b6",
   "metadata": {},
   "source": [
    "# 96. Merge using an outer join."
   ]
  },
  {
   "cell_type": "code",
   "execution_count": 159,
   "id": "ab08ae50-3bd8-4e82-bd98-b33a8c4ef837",
   "metadata": {},
   "outputs": [
    {
     "name": "stdout",
     "output_type": "stream",
     "text": [
      "      Name   Age   Salary  Cumulative Salary  Rolling Mean  New Age Department\n",
      "0    Alice   NaN      NaN                NaN           NaN      NaN         HR\n",
      "1   Alicia  25.0  60500.0            50000.0           NaN     30.0        NaN\n",
      "2      Bob  30.0  72600.0           110000.0       55000.0     35.0         IT\n",
      "3  Charlie  35.0  84700.0           180000.0       65000.0     40.0    Finance\n",
      "4    David  42.0  73810.0           241000.0       65500.0     47.0        NaN\n",
      "5      Eva  32.0  60621.0           291100.0       55550.0     37.0        NaN\n",
      "6    Gargi  51.0  55176.0           336700.0       47850.0     56.0        NaN\n"
     ]
    }
   ],
   "source": [
    "df_merged = pd.merge(df, df2, on='Name', how='outer')\n",
    "print(df_merged)"
   ]
  },
  {
   "cell_type": "markdown",
   "id": "ce1ed96d-ae03-47fc-9b36-2e18bcb1e722",
   "metadata": {},
   "source": [
    "# 97. Perform a lookup using merge."
   ]
  },
  {
   "cell_type": "code",
   "execution_count": 160,
   "id": "d11cd70d-a5c4-4b79-93af-e7e38de4c134",
   "metadata": {},
   "outputs": [
    {
     "name": "stdout",
     "output_type": "stream",
     "text": [
      "      Name  Age   Salary  Cumulative Salary  Rolling Mean  New Age   Bonus\n",
      "0   Alicia   25  60500.0              50000           NaN       30     NaN\n",
      "1      Bob   30  72600.0             110000       55000.0       35  7000.0\n",
      "2  Charlie   35  84700.0             180000       65000.0       40     NaN\n",
      "3    David   42  73810.0             241000       65500.0       47     NaN\n",
      "4      Eva   32  60621.0             291100       55550.0       37     NaN\n",
      "5    Gargi   51  55176.0             336700       47850.0       56     NaN\n"
     ]
    }
   ],
   "source": [
    "lookup = pd.DataFrame({'Name': ['Alice', 'Bob'], 'Bonus': [5000, 7000]})\n",
    "df_merged = pd.merge(df, lookup, on='Name', how='left')\n",
    "print(df_merged)"
   ]
  },
  {
   "cell_type": "markdown",
   "id": "c2ea0723-827e-4a32-8501-2a070406f877",
   "metadata": {},
   "source": [
    "# 98. Use .merge() to combine multiple datasets."
   ]
  },
  {
   "cell_type": "code",
   "execution_count": 161,
   "id": "2e4a7979-03e4-43e3-9b5b-696c7008bb8e",
   "metadata": {},
   "outputs": [
    {
     "name": "stdout",
     "output_type": "stream",
     "text": [
      "  Name  Age   Salary  Cumulative Salary  Rolling Mean  New Age Department  \\\n",
      "0  Bob   30  72600.0             110000       55000.0       35         IT   \n",
      "\n",
      "   Bonus  \n",
      "0   7000  \n"
     ]
    }
   ],
   "source": [
    "df_final = df.merge(df2, on='Name').merge(lookup, on='Name')\n",
    "print(df_final)"
   ]
  },
  {
   "cell_type": "markdown",
   "id": "8eb88b08-f72a-4ff7-a18d-af49064051b9",
   "metadata": {},
   "source": [
    "# 99. Use .join() to merge on index."
   ]
  },
  {
   "cell_type": "code",
   "execution_count": 162,
   "id": "5ef41d09-5a06-4230-b50c-bc83771b4778",
   "metadata": {},
   "outputs": [
    {
     "name": "stdout",
     "output_type": "stream",
     "text": [
      "         Age   Salary  Cumulative Salary  Rolling Mean  New Age Department\n",
      "Name                                                                      \n",
      "Alicia    25  60500.0              50000           NaN       30        NaN\n",
      "Bob       30  72600.0             110000       55000.0       35         IT\n",
      "Charlie   35  84700.0             180000       65000.0       40    Finance\n",
      "David     42  73810.0             241000       65500.0       47        NaN\n",
      "Eva       32  60621.0             291100       55550.0       37        NaN\n",
      "Gargi     51  55176.0             336700       47850.0       56        NaN\n"
     ]
    }
   ],
   "source": [
    "df.set_index('Name', inplace=True)\n",
    "df2.set_index('Name', inplace=True)\n",
    "df_joined = df.join(df2)\n",
    "print(df_joined)"
   ]
  },
  {
   "cell_type": "markdown",
   "id": "9b64be27-98d3-43ad-81ce-b5db062de8e0",
   "metadata": {},
   "source": [
    "# 100. Reset and set index."
   ]
  },
  {
   "cell_type": "code",
   "execution_count": 163,
   "id": "2972cb60-58ea-46d9-b722-5bc3e836d04f",
   "metadata": {},
   "outputs": [
    {
     "name": "stdout",
     "output_type": "stream",
     "text": [
      "<bound method DataFrame.reset_index of         Name   Salary  Cumulative Salary  Rolling Mean  New Age\n",
      "Age                                                            \n",
      "25    Alicia  60500.0              50000           NaN       30\n",
      "30       Bob  72600.0             110000       55000.0       35\n",
      "35   Charlie  84700.0             180000       65000.0       40\n",
      "42     David  73810.0             241000       65500.0       47\n",
      "32       Eva  60621.0             291100       55550.0       37\n",
      "51     Gargi  55176.0             336700       47850.0       56>\n"
     ]
    }
   ],
   "source": [
    "df.reset_index(inplace=True)\n",
    "df.set_index('Age', inplace=True)\n",
    "print(df.reset_index)"
   ]
  },
  {
   "cell_type": "code",
   "execution_count": null,
   "id": "a0f15b16-f955-4a09-bc4d-9f31fd88bb29",
   "metadata": {},
   "outputs": [],
   "source": []
  }
 ],
 "metadata": {
  "kernelspec": {
   "display_name": "Python 3 (ipykernel)",
   "language": "python",
   "name": "python3"
  },
  "language_info": {
   "codemirror_mode": {
    "name": "ipython",
    "version": 3
   },
   "file_extension": ".py",
   "mimetype": "text/x-python",
   "name": "python",
   "nbconvert_exporter": "python",
   "pygments_lexer": "ipython3",
   "version": "3.13.1"
  }
 },
 "nbformat": 4,
 "nbformat_minor": 5
}
