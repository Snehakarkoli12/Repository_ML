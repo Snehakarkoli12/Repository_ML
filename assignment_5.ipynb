{
 "cells": [
  {
   "cell_type": "code",
   "execution_count": 1,
   "id": "4f8d37c2-986c-4bda-87f7-972952727757",
   "metadata": {},
   "outputs": [],
   "source": [
    "import numpy as np\n",
    "import pandas as pd\n",
    "from sklearn.model_selection import train_test_split\n",
    "from sklearn.linear_model import LinearRegression, LogisticRegression\n",
    "from sklearn.tree import DecisionTreeRegressor, DecisionTreeClassifier\n",
    "from sklearn.ensemble import RandomForestRegressor, RandomForestClassifier\n",
    "from sklearn.naive_bayes import GaussianNB\n",
    "from sklearn.svm import SVC\n",
    "from xgboost import XGBClassifier, XGBRegressor\n",
    "from sklearn.metrics import accuracy_score, mean_squared_error\n"
   ]
  },
  {
   "cell_type": "markdown",
   "id": "2e66cc46-c69a-494c-a64a-da9cf8befc2f",
   "metadata": {},
   "source": [
    "# Load or generate dataset (classification & regression)"
   ]
  },
  {
   "cell_type": "code",
   "execution_count": 2,
   "id": "548721a1-39b4-48ef-9f96-c24e25978c3f",
   "metadata": {},
   "outputs": [
    {
     "name": "stdout",
     "output_type": "stream",
     "text": [
      "[[0.37454012 0.95071431 0.73199394 0.59865848 0.15601864]\n",
      " [0.15599452 0.05808361 0.86617615 0.60111501 0.70807258]\n",
      " [0.02058449 0.96990985 0.83244264 0.21233911 0.18182497]\n",
      " ...\n",
      " [0.98098738 0.48340744 0.86354752 0.58873152 0.37532991]\n",
      " [0.28578356 0.20322309 0.76179819 0.38654051 0.51127546]\n",
      " [0.49232548 0.57727903 0.86557715 0.98073934 0.40758421]]\n"
     ]
    }
   ],
   "source": [
    "np.random.seed(42)\n",
    "X = np.random.rand(500, 5)\n",
    "y_reg = np.random.rand(500)  # Regression target\n",
    "y_clf = np.random.randint(0, 2, 500)  # Classification target\n",
    "print(X)"
   ]
  },
  {
   "cell_type": "markdown",
   "id": "718a1166-01a3-443f-9a6b-3946aa4fed77",
   "metadata": {},
   "source": [
    "# Split dataset"
   ]
  },
  {
   "cell_type": "code",
   "execution_count": 3,
   "id": "905f9f63-b072-4895-a5c1-c8f576e29261",
   "metadata": {},
   "outputs": [
    {
     "name": "stdout",
     "output_type": "stream",
     "text": [
      "[[0.37454012 0.95071431 0.73199394 0.59865848 0.15601864]\n",
      " [0.15599452 0.05808361 0.86617615 0.60111501 0.70807258]\n",
      " [0.02058449 0.96990985 0.83244264 0.21233911 0.18182497]\n",
      " ...\n",
      " [0.98098738 0.48340744 0.86354752 0.58873152 0.37532991]\n",
      " [0.28578356 0.20322309 0.76179819 0.38654051 0.51127546]\n",
      " [0.49232548 0.57727903 0.86557715 0.98073934 0.40758421]]\n"
     ]
    }
   ],
   "source": [
    "X_train_r, X_test_r, y_train_r, y_test_r = train_test_split(X, y_reg, test_size=0.2, random_state=42)\n",
    "X_train_c, X_test_c, y_train_c, y_test_c = train_test_split(X, y_clf, test_size=0.2, random_state=42)\n",
    "print(X)"
   ]
  },
  {
   "cell_type": "markdown",
   "id": "ea5dfc3f-9920-41ff-9cc1-1cc37230c2aa",
   "metadata": {},
   "source": [
    "# Regression Models"
   ]
  },
  {
   "cell_type": "code",
   "execution_count": 4,
   "id": "76dccd25-53e4-4d5a-8012-92c9d7da2348",
   "metadata": {},
   "outputs": [
    {
     "name": "stdout",
     "output_type": "stream",
     "text": [
      "{'Simple Linear Regression': LinearRegression(), 'Multiple Linear Regression': LinearRegression(), 'Decision Tree Regressor': DecisionTreeRegressor(), 'Random Forest Regressor': RandomForestRegressor(), 'XGBoost Regressor': XGBRegressor(base_score=None, booster=None, callbacks=None,\n",
      "             colsample_bylevel=None, colsample_bynode=None,\n",
      "             colsample_bytree=None, device=None, early_stopping_rounds=None,\n",
      "             enable_categorical=False, eval_metric=None, feature_types=None,\n",
      "             gamma=None, grow_policy=None, importance_type=None,\n",
      "             interaction_constraints=None, learning_rate=None, max_bin=None,\n",
      "             max_cat_threshold=None, max_cat_to_onehot=None,\n",
      "             max_delta_step=None, max_depth=None, max_leaves=None,\n",
      "             min_child_weight=None, missing=nan, monotone_constraints=None,\n",
      "             multi_strategy=None, n_estimators=None, n_jobs=None,\n",
      "             num_parallel_tree=None, random_state=None, ...)}\n"
     ]
    }
   ],
   "source": [
    "models_reg = {\n",
    "    'Simple Linear Regression': LinearRegression(),\n",
    "    'Multiple Linear Regression': LinearRegression(),\n",
    "    'Decision Tree Regressor': DecisionTreeRegressor(),\n",
    "    'Random Forest Regressor': RandomForestRegressor(),\n",
    "    'XGBoost Regressor': XGBRegressor()\n",
    "}\n",
    "print(models_reg)"
   ]
  },
  {
   "cell_type": "markdown",
   "id": "3a7540a9-f486-4a59-9c88-e992e1199a3f",
   "metadata": {},
   "source": [
    "# Classification Models"
   ]
  },
  {
   "cell_type": "code",
   "execution_count": 5,
   "id": "5559c401-eba0-4d3f-88ca-e0914cc7ef4b",
   "metadata": {},
   "outputs": [
    {
     "name": "stdout",
     "output_type": "stream",
     "text": [
      "{'Logistic Regression': LogisticRegression(), 'Decision Tree Classifier': DecisionTreeClassifier(), 'Random Forest Classifier': RandomForestClassifier(), 'Naive Bayes': GaussianNB(), 'SVC': SVC(), 'XGBoost Classifier': XGBClassifier(base_score=None, booster=None, callbacks=None,\n",
      "              colsample_bylevel=None, colsample_bynode=None,\n",
      "              colsample_bytree=None, device=None, early_stopping_rounds=None,\n",
      "              enable_categorical=False, eval_metric=None, feature_types=None,\n",
      "              gamma=None, grow_policy=None, importance_type=None,\n",
      "              interaction_constraints=None, learning_rate=None, max_bin=None,\n",
      "              max_cat_threshold=None, max_cat_to_onehot=None,\n",
      "              max_delta_step=None, max_depth=None, max_leaves=None,\n",
      "              min_child_weight=None, missing=nan, monotone_constraints=None,\n",
      "              multi_strategy=None, n_estimators=None, n_jobs=None,\n",
      "              num_parallel_tree=None, random_state=None, ...)}\n"
     ]
    }
   ],
   "source": [
    "models_clf = {\n",
    "    'Logistic Regression': LogisticRegression(),\n",
    "    'Decision Tree Classifier': DecisionTreeClassifier(),\n",
    "    'Random Forest Classifier': RandomForestClassifier(),\n",
    "    'Naive Bayes': GaussianNB(),\n",
    "    'SVC': SVC(),\n",
    "    'XGBoost Classifier': XGBClassifier()\n",
    "}\n",
    "print(models_clf)\n"
   ]
  },
  {
   "cell_type": "markdown",
   "id": "8a2ead0c-93d6-4e44-bd87-945a12f2ed6f",
   "metadata": {},
   "source": [
    "# Train & Evaluate Regression Models"
   ]
  },
  {
   "cell_type": "code",
   "execution_count": 6,
   "id": "bd4982bc-070b-4944-8ca0-7772bc1ce09c",
   "metadata": {},
   "outputs": [
    {
     "name": "stdout",
     "output_type": "stream",
     "text": [
      "Simple Linear Regression - MSE: 0.0971\n",
      "Multiple Linear Regression - MSE: 0.0971\n",
      "Decision Tree Regressor - MSE: 0.1862\n",
      "Random Forest Regressor - MSE: 0.1013\n",
      "XGBoost Regressor - MSE: 0.1142\n"
     ]
    }
   ],
   "source": [
    "for name, model in models_reg.items():\n",
    "    model.fit(X_train_r, y_train_r)\n",
    "    y_pred = model.predict(X_test_r)\n",
    "    mse = mean_squared_error(y_test_r, y_pred)\n",
    "    print(f'{name} - MSE: {mse:.4f}')\n"
   ]
  },
  {
   "cell_type": "markdown",
   "id": "83106ff7-fb95-4d93-b49e-233e4df4797a",
   "metadata": {},
   "source": [
    "# Train & Evaluate Classification Models"
   ]
  },
  {
   "cell_type": "code",
   "execution_count": 7,
   "id": "5d5091ea-0969-4c8d-a296-fa8391db63ab",
   "metadata": {},
   "outputs": [
    {
     "name": "stdout",
     "output_type": "stream",
     "text": [
      "Logistic Regression - Accuracy: 0.5300\n",
      "Decision Tree Classifier - Accuracy: 0.5400\n",
      "Random Forest Classifier - Accuracy: 0.5400\n",
      "Naive Bayes - Accuracy: 0.5200\n",
      "SVC - Accuracy: 0.5300\n",
      "XGBoost Classifier - Accuracy: 0.5700\n"
     ]
    }
   ],
   "source": [
    "for name, model in models_clf.items():\n",
    "    model.fit(X_train_c, y_train_c)\n",
    "    y_pred = model.predict(X_test_c)\n",
    "    accuracy = accuracy_score(y_test_c, y_pred)\n",
    "    print(f'{name} - Accuracy: {accuracy:.4f}')"
   ]
  },
  {
   "cell_type": "code",
   "execution_count": null,
   "id": "f73ef63c-74ca-4dda-b1b1-dfd4f0071a9f",
   "metadata": {},
   "outputs": [],
   "source": []
  },
  {
   "cell_type": "code",
   "execution_count": null,
   "id": "ca84dca8-46b9-44e6-abbc-569691db27e4",
   "metadata": {},
   "outputs": [],
   "source": []
  }
 ],
 "metadata": {
  "kernelspec": {
   "display_name": "Python 3 (ipykernel)",
   "language": "python",
   "name": "python3"
  },
  "language_info": {
   "codemirror_mode": {
    "name": "ipython",
    "version": 3
   },
   "file_extension": ".py",
   "mimetype": "text/x-python",
   "name": "python",
   "nbconvert_exporter": "python",
   "pygments_lexer": "ipython3",
   "version": "3.13.1"
  }
 },
 "nbformat": 4,
 "nbformat_minor": 5
}
