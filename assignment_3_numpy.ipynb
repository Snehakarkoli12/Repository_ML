{
 "cells": [
  {
   "cell_type": "code",
   "execution_count": 2,
   "id": "e8ef9d9a-cc4c-454e-a65f-8590efa9a4a7",
   "metadata": {},
   "outputs": [],
   "source": [
    "import numpy as np\n"
   ]
  },
  {
   "cell_type": "markdown",
   "id": "61eb10ad-90e4-456c-aa9b-8a2fad96c084",
   "metadata": {},
   "source": [
    "# Exercise 1: Import NumPy and print its version"
   ]
  },
  {
   "cell_type": "code",
   "execution_count": 3,
   "id": "04dc7c53-65d7-4c8d-8a3f-3372429e2b6f",
   "metadata": {},
   "outputs": [
    {
     "name": "stdout",
     "output_type": "stream",
     "text": [
      "2.2.0\n"
     ]
    }
   ],
   "source": [
    "print(np.__version__)"
   ]
  },
  {
   "cell_type": "markdown",
   "id": "fc0b1049-fe1f-42b7-ae80-4fe46bd58519",
   "metadata": {},
   "source": [
    "# Exercise 2: Create a null vector of size 10"
   ]
  },
  {
   "cell_type": "code",
   "execution_count": 4,
   "id": "84d20288-307b-4fda-bd63-90e26bad4c56",
   "metadata": {},
   "outputs": [
    {
     "name": "stdout",
     "output_type": "stream",
     "text": [
      "[0. 0. 0. 0. 0. 0. 0. 0. 0. 0.]\n"
     ]
    }
   ],
   "source": [
    "null_vector = np.zeros(10)\n",
    "print(null_vector)"
   ]
  },
  {
   "cell_type": "markdown",
   "id": "dd52483d-7f24-4d10-af54-8b0793eb784e",
   "metadata": {},
   "source": [
    "# Exercise 3: Create a vector with values ranging from 10 to 49"
   ]
  },
  {
   "cell_type": "code",
   "execution_count": 5,
   "id": "ba7d1280-e67f-495f-94a2-b5bf23b7c6d9",
   "metadata": {},
   "outputs": [
    {
     "name": "stdout",
     "output_type": "stream",
     "text": [
      "[10 11 12 13 14 15 16 17 18 19 20 21 22 23 24 25 26 27 28 29 30 31 32 33\n",
      " 34 35 36 37 38 39 40 41 42 43 44 45 46 47 48 49]\n"
     ]
    }
   ],
   "source": [
    "vector = np.arange(10, 50)\n",
    "print(vector)"
   ]
  },
  {
   "cell_type": "markdown",
   "id": "72235c6b-473c-4995-9c75-2a80d6f049a1",
   "metadata": {},
   "source": [
    "# Exercise 4: Reverse a vector (first element becomes last)"
   ]
  },
  {
   "cell_type": "code",
   "execution_count": 6,
   "id": "291f9f04-491c-4d2f-a343-c2ae260bee86",
   "metadata": {},
   "outputs": [
    {
     "name": "stdout",
     "output_type": "stream",
     "text": [
      "[49 48 47 46 45 44 43 42 41 40 39 38 37 36 35 34 33 32 31 30 29 28 27 26\n",
      " 25 24 23 22 21 20 19 18 17 16 15 14 13 12 11 10]\n"
     ]
    }
   ],
   "source": [
    "reversed_vector = vector[::-1]\n",
    "print(reversed_vector)"
   ]
  },
  {
   "cell_type": "markdown",
   "id": "2515964d-842b-4553-874a-71026024c3ab",
   "metadata": {},
   "source": [
    "# Exercise 5: Create a 3x3 matrix with values from 0 to 8"
   ]
  },
  {
   "cell_type": "code",
   "execution_count": 7,
   "id": "b5ff5fa6-83e7-4a85-80b5-c496aeea60f8",
   "metadata": {},
   "outputs": [
    {
     "name": "stdout",
     "output_type": "stream",
     "text": [
      "[[0 1 2]\n",
      " [3 4 5]\n",
      " [6 7 8]]\n"
     ]
    }
   ],
   "source": [
    "matrix_3x3 = np.arange(9).reshape(3, 3)\n",
    "print(matrix_3x3)"
   ]
  },
  {
   "cell_type": "markdown",
   "id": "cb5d3d40-705c-4d9b-b45f-15559e9819d2",
   "metadata": {},
   "source": [
    "# Exercise 6: Find indices of non-zero elements from [1,2,0,0,4,0]"
   ]
  },
  {
   "cell_type": "code",
   "execution_count": 8,
   "id": "430bf77d-b6bb-48a1-9f15-906c4bc17be9",
   "metadata": {},
   "outputs": [
    {
     "name": "stdout",
     "output_type": "stream",
     "text": [
      "(array([0, 1, 4]),)\n"
     ]
    }
   ],
   "source": [
    "arr = np.array([1, 2, 0, 0, 4, 0])\n",
    "nonzero_indices = np.nonzero(arr)\n",
    "print(nonzero_indices)"
   ]
  },
  {
   "cell_type": "markdown",
   "id": "27a6ac81-ee62-4e3e-bef6-1a3cac87c44a",
   "metadata": {},
   "source": [
    "# Exercise 7: Create a 3x3 identity matrix"
   ]
  },
  {
   "cell_type": "code",
   "execution_count": 9,
   "id": "b3c8f1bc-4590-4e8a-827e-6b0bb8131a5e",
   "metadata": {},
   "outputs": [
    {
     "name": "stdout",
     "output_type": "stream",
     "text": [
      "[[1. 0. 0.]\n",
      " [0. 1. 0.]\n",
      " [0. 0. 1.]]\n"
     ]
    }
   ],
   "source": [
    "identity_matrix = np.eye(3)\n",
    "print(identity_matrix)"
   ]
  },
  {
   "cell_type": "markdown",
   "id": "4a7fea6d-7b65-479f-bb72-d415459d28b7",
   "metadata": {},
   "source": [
    "# Exercise 8: Create a 3x3x3 array with random values"
   ]
  },
  {
   "cell_type": "code",
   "execution_count": 10,
   "id": "e8980611-cd70-4bb4-ae15-8e26856690e8",
   "metadata": {},
   "outputs": [
    {
     "name": "stdout",
     "output_type": "stream",
     "text": [
      "[[[0.91751907 0.47034364 0.05005366]\n",
      "  [0.88570494 0.64853634 0.39208459]\n",
      "  [0.69889814 0.18470307 0.58905308]]\n",
      "\n",
      " [[0.04965567 0.27385895 0.29927968]\n",
      "  [0.08991245 0.42612945 0.9593989 ]\n",
      "  [0.51009174 0.78956768 0.04577655]]\n",
      "\n",
      " [[0.78740679 0.9244333  0.49782101]\n",
      "  [0.11838449 0.00914051 0.78057365]\n",
      "  [0.42452021 0.13960268 0.67775129]]]\n"
     ]
    }
   ],
   "source": [
    "random_array = np.random.random((3, 3, 3))\n",
    "print(random_array)"
   ]
  },
  {
   "cell_type": "markdown",
   "id": "41e37f15-d5e5-4705-b52a-aa85fdc7ccbc",
   "metadata": {},
   "source": [
    "# Exercise 9: Create a 10x10 array with random values and find the minimum and maximum"
   ]
  },
  {
   "cell_type": "code",
   "execution_count": 11,
   "id": "f13b3bf2-1514-4548-8de8-2f7f8f2c27fd",
   "metadata": {},
   "outputs": [
    {
     "name": "stdout",
     "output_type": "stream",
     "text": [
      "[[0.1946157  0.15863975 0.81079354 0.97509533 0.24559814 0.97038049\n",
      "  0.78353199 0.95390798 0.27935245 0.49718587]\n",
      " [0.20950287 0.22090428 0.61572685 0.0930418  0.32327867 0.1357213\n",
      "  0.66782033 0.93828883 0.47048115 0.54241121]\n",
      " [0.96862197 0.92859236 0.68472182 0.36573324 0.73955207 0.71581812\n",
      "  0.56608692 0.44584677 0.58212302 0.18718554]\n",
      " [0.10215807 0.61816358 0.64014484 0.92471921 0.66306291 0.00655284\n",
      "  0.67879333 0.70482153 0.34652927 0.90817648]\n",
      " [0.39911438 0.49946016 0.88611388 0.61249807 0.00634171 0.95136952\n",
      "  0.01076914 0.36732602 0.40226947 0.61166795]\n",
      " [0.73314815 0.22561454 0.03850046 0.57062664 0.76948915 0.99498376\n",
      "  0.75766729 0.92044921 0.79237255 0.55472888]\n",
      " [0.73702526 0.86773307 0.71639456 0.48385736 0.1305796  0.83605132\n",
      "  0.86992671 0.27733424 0.60666903 0.09425184]\n",
      " [0.2311687  0.43435602 0.02391343 0.06136978 0.4976771  0.44880227\n",
      "  0.42312898 0.52798134 0.18717878 0.08286272]\n",
      " [0.33897982 0.22515417 0.88808334 0.35123723 0.57823599 0.12065247\n",
      "  0.97571592 0.00791728 0.1784419  0.99819959]\n",
      " [0.00105807 0.9893064  0.08595332 0.96636374 0.79199758 0.84198158\n",
      "  0.55189811 0.85248508 0.24793317 0.68933529]]\n",
      "Min value: 0.001058073241089308\n",
      "Max value: 0.9981995882239418\n"
     ]
    }
   ],
   "source": [
    "rnd_array = np.random.random((10, 10))\n",
    "print(rnd_array)\n",
    "print(\"Min value:\", rnd_array.min())\n",
    "print(\"Max value:\", rnd_array.max())"
   ]
  },
  {
   "cell_type": "markdown",
   "id": "50b7fac5-6aea-434e-bb9b-ec4b98a418a3",
   "metadata": {},
   "source": [
    "# Exercise 10: Create a random vector of size 30 and find the mean value"
   ]
  },
  {
   "cell_type": "code",
   "execution_count": 12,
   "id": "9f58caea-552a-475f-9746-b640627c5b31",
   "metadata": {},
   "outputs": [
    {
     "name": "stdout",
     "output_type": "stream",
     "text": [
      "[0.58519212 0.14263181 0.70769538 0.31011426 0.64144517 0.84596359\n",
      " 0.62527194 0.20039158 0.16906153 0.7125734  0.6899058  0.97813901\n",
      " 0.01128651 0.12116198 0.19335663 0.84368076 0.75979659 0.59279631\n",
      " 0.49673563 0.56504964 0.3709044  0.89423245 0.69984675 0.67631808\n",
      " 0.86490548 0.29258869 0.51231796 0.13986349 0.95413893 0.48522577]\n",
      "Mean value: 0.5360863873503707\n"
     ]
    }
   ],
   "source": [
    "random_vector = np.random.random(30)\n",
    "print(random_vector)\n",
    "print(\"Mean value:\", random_vector.mean())"
   ]
  },
  {
   "cell_type": "markdown",
   "id": "fae19572-4ac4-4cad-9350-7293c0c8fb2d",
   "metadata": {},
   "source": [
    "# Exercise 11: Create a 5x5 matrix with row values ranging from 0 to 4"
   ]
  },
  {
   "cell_type": "code",
   "execution_count": 13,
   "id": "186c4d07-48ba-4266-bb32-9a39c9731854",
   "metadata": {},
   "outputs": [
    {
     "name": "stdout",
     "output_type": "stream",
     "text": [
      "[[0 1 2 3 4]\n",
      " [0 1 2 3 4]\n",
      " [0 1 2 3 4]\n",
      " [0 1 2 3 4]\n",
      " [0 1 2 3 4]]\n"
     ]
    }
   ],
   "source": [
    "matrix_5x5 = np.tile(np.arange(5), (5, 1))\n",
    "print(matrix_5x5)"
   ]
  },
  {
   "cell_type": "markdown",
   "id": "1fb88023-ea6d-4b45-9ca8-e60b713d56c9",
   "metadata": {},
   "source": [
    " # Exercise 12: Create a checkerboard pattern (8x8 matrix)"
   ]
  },
  {
   "cell_type": "code",
   "execution_count": 14,
   "id": "e38700c0-caf2-4e8d-aea7-81e32a57d930",
   "metadata": {},
   "outputs": [
    {
     "name": "stdout",
     "output_type": "stream",
     "text": [
      "[[0 1 0 1 0 1 0 1]\n",
      " [1 0 1 0 1 0 1 0]\n",
      " [0 1 0 1 0 1 0 1]\n",
      " [1 0 1 0 1 0 1 0]\n",
      " [0 1 0 1 0 1 0 1]\n",
      " [1 0 1 0 1 0 1 0]\n",
      " [0 1 0 1 0 1 0 1]\n",
      " [1 0 1 0 1 0 1 0]]\n"
     ]
    }
   ],
   "source": [
    "checkerboard = np.zeros((8,8), dtype=int)\n",
    "checkerboard[1::2, ::2] = 1\n",
    "checkerboard[::2, 1::2] = 1\n",
    "print(checkerboard)"
   ]
  },
  {
   "cell_type": "markdown",
   "id": "cba46729-693a-40af-8da0-da3d0bffc255",
   "metadata": {},
   "source": [
    "# Exercise 13: Create a 3x3x3 array with random values"
   ]
  },
  {
   "cell_type": "code",
   "execution_count": 15,
   "id": "88074d88-5e26-4d6a-8c61-04529e95be37",
   "metadata": {},
   "outputs": [
    {
     "name": "stdout",
     "output_type": "stream",
     "text": [
      "[[[0.62103435 0.23954616 0.88102554]\n",
      "  [0.22737173 0.11476938 0.78744054]\n",
      "  [0.89132617 0.18723801 0.25131726]]\n",
      "\n",
      " [[0.59248825 0.13524828 0.96353296]\n",
      "  [0.23478346 0.51673404 0.29037111]\n",
      "  [0.01693243 0.39179235 0.94672087]]\n",
      "\n",
      " [[0.13055728 0.67250525 0.03534804]\n",
      "  [0.77138188 0.30279559 0.79772665]\n",
      "  [0.01838767 0.30637724 0.80609452]]]\n"
     ]
    }
   ],
   "source": [
    "random_array_3x3x3 = np.random.random((3, 3, 3))\n",
    "print(random_array_3x3x3)"
   ]
  },
  {
   "cell_type": "markdown",
   "id": "513d500c-b666-4c83-b03c-8594a71e246d",
   "metadata": {},
   "source": [
    "# Exercise 14: Create a 10x10 array with random values and find the min and max"
   ]
  },
  {
   "cell_type": "code",
   "execution_count": 16,
   "id": "71ec277a-882c-4a51-a6c2-5d5e1e607010",
   "metadata": {},
   "outputs": [
    {
     "name": "stdout",
     "output_type": "stream",
     "text": [
      "Min: 0.00815565342313862 Max: 0.9988904436454114\n"
     ]
    }
   ],
   "source": [
    "rand_10x10 = np.random.random((10, 10))\n",
    "print(\"Min:\", rand_10x10.min(), \"Max:\", rand_10x10.max())"
   ]
  },
  {
   "cell_type": "markdown",
   "id": "1064be29-c640-4635-961c-c8c24c1ac1b1",
   "metadata": {},
   "source": [
    "# Exercise 15: Create a random vector of size 30 and find the mean value"
   ]
  },
  {
   "cell_type": "code",
   "execution_count": 17,
   "id": "6ecb042c-1014-41a6-98a5-03e0e939a847",
   "metadata": {},
   "outputs": [
    {
     "name": "stdout",
     "output_type": "stream",
     "text": [
      "Mean value: 0.5215954078455548\n"
     ]
    }
   ],
   "source": [
    "random_vector_30 = np.random.random(30)\n",
    "print(\"Mean value:\", random_vector_30.mean())"
   ]
  },
  {
   "cell_type": "markdown",
   "id": "69b64a4a-ae4d-4249-975e-c1276f57b026",
   "metadata": {},
   "source": [
    "# Exercise 16: Create a 2D array with 1 on the border and 0 inside"
   ]
  },
  {
   "cell_type": "code",
   "execution_count": 18,
   "id": "5424294c-14e0-4c7b-8009-f160694b12be",
   "metadata": {},
   "outputs": [
    {
     "name": "stdout",
     "output_type": "stream",
     "text": [
      "[[1. 1. 1. 1. 1.]\n",
      " [1. 0. 0. 0. 1.]\n",
      " [1. 0. 0. 0. 1.]\n",
      " [1. 0. 0. 0. 1.]\n",
      " [1. 1. 1. 1. 1.]]\n"
     ]
    }
   ],
   "source": [
    "border_matrix = np.ones((5, 5))\n",
    "border_matrix[1:-1, 1:-1] = 0\n",
    "print(border_matrix)"
   ]
  },
  {
   "cell_type": "markdown",
   "id": "5be41a9a-ec73-4e72-9a7a-e6a7915b8f23",
   "metadata": {},
   "source": [
    "# Exercise 17: Add a border (filled with 0s) around an existing array"
   ]
  },
  {
   "cell_type": "code",
   "execution_count": 19,
   "id": "5ff8a4b9-fc61-4ee2-9d49-ba5580e379f0",
   "metadata": {},
   "outputs": [
    {
     "name": "stdout",
     "output_type": "stream",
     "text": [
      "[[0. 0. 0. 0. 0.]\n",
      " [0. 1. 1. 1. 0.]\n",
      " [0. 1. 1. 1. 0.]\n",
      " [0. 1. 1. 1. 0.]\n",
      " [0. 0. 0. 0. 0.]]\n"
     ]
    }
   ],
   "source": [
    "original_matrix = np.ones((3, 3))\n",
    "bordered_matrix = np.pad(original_matrix, pad_width=1, mode='constant', constant_values=0)\n",
    "print(bordered_matrix)"
   ]
  },
  {
   "cell_type": "markdown",
   "id": "b7a884b3-7c1a-472f-b33e-c14f04959ee0",
   "metadata": {},
   "source": [
    "# Exercise 18: Results of expressions"
   ]
  },
  {
   "cell_type": "code",
   "execution_count": 20,
   "id": "2649035d-2137-4609-8837-834672893c21",
   "metadata": {},
   "outputs": [
    {
     "name": "stdout",
     "output_type": "stream",
     "text": [
      "nan\n",
      "False\n",
      "False\n",
      "nan\n",
      "True\n",
      "False\n"
     ]
    }
   ],
   "source": [
    "print(0 * np.nan)\n",
    "print(np.nan == np.nan)\n",
    "print(np.inf > np.nan)\n",
    "print(np.nan - np.nan)\n",
    "print(np.nan in set([np.nan]))\n",
    "print(0.3 == 3 * 0.1)"
   ]
  },
  {
   "cell_type": "markdown",
   "id": "cf328adf-22b5-4c78-b05f-a2397e4d0de9",
   "metadata": {},
   "source": [
    "# Exercise 19: Create a 5x5 matrix with values 1,2,3,4 just below the diagonal"
   ]
  },
  {
   "cell_type": "code",
   "execution_count": 24,
   "id": "c3cffe87-8df0-479f-b32a-05642ee21fe4",
   "metadata": {},
   "outputs": [
    {
     "name": "stdout",
     "output_type": "stream",
     "text": [
      "[[0 0 0 0 0]\n",
      " [1 0 0 0 0]\n",
      " [0 2 0 0 0]\n",
      " [0 0 3 0 0]\n",
      " [0 0 0 4 0]]\n"
     ]
    }
   ],
   "source": [
    "diag_matrix = np.diag(np.arange(1, 5), k=-1)\n",
    "print(diag_matrix)"
   ]
  },
  {
   "cell_type": "markdown",
   "id": "1a6f832a-f128-4ce3-86ca-81521db9ea12",
   "metadata": {},
   "source": [
    "# Exercise 20: Create an 8x8 matrix and fill it with a checkerboard pattern"
   ]
  },
  {
   "cell_type": "code",
   "execution_count": 21,
   "id": "699859c7-bce9-4484-bebf-7a9c79937b47",
   "metadata": {},
   "outputs": [
    {
     "name": "stdout",
     "output_type": "stream",
     "text": [
      "[[0 1 0 1 0 1 0 1]\n",
      " [1 0 1 0 1 0 1 0]\n",
      " [0 1 0 1 0 1 0 1]\n",
      " [1 0 1 0 1 0 1 0]\n",
      " [0 1 0 1 0 1 0 1]\n",
      " [1 0 1 0 1 0 1 0]\n",
      " [0 1 0 1 0 1 0 1]\n",
      " [1 0 1 0 1 0 1 0]]\n"
     ]
    }
   ],
   "source": [
    "checkerboard_8x8 = np.zeros((8, 8), dtype=int)\n",
    "checkerboard_8x8[1::2, ::2] = 1\n",
    "checkerboard_8x8[::2, 1::2] = 1\n",
    "print(checkerboard_8x8)"
   ]
  },
  {
   "cell_type": "markdown",
   "id": "12bac1c9-e92b-440a-9a3d-2a9507ae619e",
   "metadata": {},
   "source": [
    "# Exercise 21: Create a checkerboard 8x8 matrix using the tile function"
   ]
  },
  {
   "cell_type": "code",
   "execution_count": 22,
   "id": "bc2a622e-cc88-43d1-a11a-03e1f44e4a13",
   "metadata": {},
   "outputs": [
    {
     "name": "stdout",
     "output_type": "stream",
     "text": [
      "[[0 1 0 1 0 1 0 1]\n",
      " [1 0 1 0 1 0 1 0]\n",
      " [0 1 0 1 0 1 0 1]\n",
      " [1 0 1 0 1 0 1 0]\n",
      " [0 1 0 1 0 1 0 1]\n",
      " [1 0 1 0 1 0 1 0]\n",
      " [0 1 0 1 0 1 0 1]\n",
      " [1 0 1 0 1 0 1 0]]\n"
     ]
    }
   ],
   "source": [
    "checkerboard_tile = np.tile([[0, 1], [1, 0]], (4, 4))\n",
    "print(checkerboard_tile)"
   ]
  },
  {
   "cell_type": "markdown",
   "id": "3a8125fe-e3e5-43af-959c-d76c28db6b1b",
   "metadata": {},
   "source": [
    "# Exercise 22: Normalize a 5x5 random matrix"
   ]
  },
  {
   "cell_type": "code",
   "execution_count": 23,
   "id": "8817f2c0-56bf-42d6-b76b-86da95b0760b",
   "metadata": {},
   "outputs": [
    {
     "name": "stdout",
     "output_type": "stream",
     "text": [
      "[[0.61070583 0.96503554 0.22859007 0.66661546 1.        ]\n",
      " [0.         0.10582126 0.3457638  0.48334943 0.58717335]\n",
      " [0.42465312 0.62404904 0.90396328 0.84882136 0.06268456]\n",
      " [0.3906223  0.78826143 0.80601304 0.64057787 0.81217232]\n",
      " [0.81705957 0.25147013 0.56243462 0.41454199 0.27311899]]\n"
     ]
    }
   ],
   "source": [
    "random_matrix_5x5 = np.random.random((5, 5))\n",
    "normalized_matrix = (random_matrix_5x5 - random_matrix_5x5.min()) / (random_matrix_5x5.max() - random_matrix_5x5.min())\n",
    "print(normalized_matrix)"
   ]
  },
  {
   "cell_type": "markdown",
   "id": "b4bc1d59-61ca-49d4-b63d-ddd3d0452d79",
   "metadata": {},
   "source": [
    "# Exercise 23: Create a custom dtype describing a color as four unsigned bytes (RGBA)"
   ]
  },
  {
   "cell_type": "code",
   "execution_count": 24,
   "id": "d2d92255-1772-4416-83f6-d32f780b3ac6",
   "metadata": {},
   "outputs": [
    {
     "name": "stdout",
     "output_type": "stream",
     "text": [
      "[('r', 'u1'), ('g', 'u1'), ('b', 'u1'), ('a', 'u1')]\n"
     ]
    }
   ],
   "source": [
    "color_dtype = np.dtype([(\"r\", np.ubyte), (\"g\", np.ubyte), (\"b\", np.ubyte), (\"a\", np.ubyte)])\n",
    "print(color_dtype)"
   ]
  },
  {
   "cell_type": "markdown",
   "id": "0b8a72c6-040a-4308-8bae-00fa55029bc5",
   "metadata": {},
   "source": [
    "# Exercise 24: Multiply a 5x3 matrix by a 3x2 matrix"
   ]
  },
  {
   "cell_type": "code",
   "execution_count": 25,
   "id": "316618bc-0464-4960-89a3-5768be1d14d1",
   "metadata": {},
   "outputs": [
    {
     "name": "stdout",
     "output_type": "stream",
     "text": [
      "[[0.27522562 1.07919441]\n",
      " [0.44132838 0.89738564]\n",
      " [0.38855883 1.03786687]\n",
      " [0.58985362 1.18987238]\n",
      " [0.56311642 1.270207  ]]\n"
     ]
    }
   ],
   "source": [
    "A = np.random.random((5, 3))\n",
    "B = np.random.random((3, 2))\n",
    "result = np.dot(A, B)\n",
    "print(result)"
   ]
  },
  {
   "cell_type": "markdown",
   "id": "272dc7b3-a0f0-4471-b826-f4067cb34739",
   "metadata": {},
   "source": [
    "# Exercise 25: Negate all elements in a vector between 3 and 8"
   ]
  },
  {
   "cell_type": "code",
   "execution_count": 26,
   "id": "bd2cfbe5-953d-44dc-b2fd-47c74c1a37d7",
   "metadata": {},
   "outputs": [
    {
     "name": "stdout",
     "output_type": "stream",
     "text": [
      "[ 0  1  2  3 -4 -5 -6 -7  8  9]\n"
     ]
    }
   ],
   "source": [
    "Z = np.arange(10)\n",
    "Z[(Z > 3) & (Z < 8)] *= -1\n",
    "print(Z)"
   ]
  },
  {
   "cell_type": "markdown",
   "id": "d771f903-c5b6-4d37-ba30-a8d33f97911e",
   "metadata": {},
   "source": [
    "# Exercise 26: Output of the given script"
   ]
  },
  {
   "cell_type": "code",
   "execution_count": 27,
   "id": "61713401-32fb-49d8-8f15-db90a85b7af1",
   "metadata": {},
   "outputs": [
    {
     "name": "stdout",
     "output_type": "stream",
     "text": [
      "9\n",
      "9\n"
     ]
    }
   ],
   "source": [
    "print(sum(range(5), -1))\n",
    "print(sum(range(5), -1))"
   ]
  },
  {
   "cell_type": "markdown",
   "id": "9906b362-a8ac-48be-b65b-43367454b860",
   "metadata": {},
   "source": [
    "# Exercise 27: Which expressions are legal"
   ]
  },
  {
   "cell_type": "code",
   "execution_count": 28,
   "id": "84dbfd52-eb18-4f9b-b7d7-ecac8c7c2a3c",
   "metadata": {},
   "outputs": [
    {
     "name": "stdout",
     "output_type": "stream",
     "text": [
      "[        1         1         4        27       256      3125     46656\n",
      "    823543  16777216 387420489]\n",
      "[  0   1   2   4   8  16  32  64 128 256]\n",
      "[False False False False False False False False False False]\n",
      "[0.+0.j 0.+1.j 0.+2.j 0.+3.j 0.+4.j 0.+5.j 0.+6.j 0.+7.j 0.+8.j 0.+9.j]\n",
      "[0. 1. 2. 3. 4. 5. 6. 7. 8. 9.]\n",
      "Error: The truth value of an array with more than one element is ambiguous. Use a.any() or a.all()\n"
     ]
    }
   ],
   "source": [
    "Z = np.arange(10)\n",
    "try:\n",
    "    print(Z**Z)\n",
    "    print(2 << Z >> 2)\n",
    "    print(Z <- Z)\n",
    "    print(1j*Z)\n",
    "    print(Z/1/1)\n",
    "    print(Z<Z>Z)  \n",
    "except Exception as e:\n",
    "    print(\"Error:\", e)"
   ]
  },
  {
   "cell_type": "code",
   "execution_count": 29,
   "id": "26fd5568-2c75-4991-9ac3-ad83069fe308",
   "metadata": {},
   "outputs": [
    {
     "name": "stdout",
     "output_type": "stream",
     "text": [
      "nan\n",
      "0\n",
      "[-9.22337204e+18]\n"
     ]
    }
   ],
   "source": [
    "# Exercise 28: Results of expressions\n",
    "import warnings\n",
    "warnings.filterwarnings(\"ignore\")\n",
    "print(np.array(0) / np.array(0))\n",
    "print(np.array(0) // np.array(0))\n",
    "print(np.array([np.nan]).astype(int).astype(float))"
   ]
  },
  {
   "cell_type": "markdown",
   "id": "41b89724-fba8-4b32-934f-988c64441728",
   "metadata": {},
   "source": [
    "# Exercise 29: Round away from zero a float array"
   ]
  },
  {
   "cell_type": "code",
   "execution_count": 30,
   "id": "4cb2f1be-f6ff-4db5-8689-e7645ea23f93",
   "metadata": {},
   "outputs": [
    {
     "name": "stdout",
     "output_type": "stream",
     "text": [
      "[-9. 10. -2. -8. -4.  6. -4.  1. -1. -6.]\n"
     ]
    }
   ],
   "source": [
    "Z = np.random.uniform(-10, 10, 10)\n",
    "print(np.copysign(np.ceil(np.abs(Z)), Z))"
   ]
  },
  {
   "cell_type": "markdown",
   "id": "18a98962-2943-458d-aa05-89f6db58953a",
   "metadata": {},
   "source": [
    "# Exercise 30: Find common values between two arrays"
   ]
  },
  {
   "cell_type": "code",
   "execution_count": 31,
   "id": "68d2cc03-1e4a-47df-bde0-251262f27962",
   "metadata": {},
   "outputs": [
    {
     "name": "stdout",
     "output_type": "stream",
     "text": [
      "[1 4 5 9]\n"
     ]
    }
   ],
   "source": [
    "A = np.random.randint(0, 10, 10)\n",
    "B = np.random.randint(0, 10, 10)\n",
    "print(np.intersect1d(A, B))"
   ]
  },
  {
   "cell_type": "markdown",
   "id": "1ae07a9f-dbec-4ee1-ac31-47bf5c706180",
   "metadata": {},
   "source": [
    "# Exercise 31: Ignore all numpy warnings"
   ]
  },
  {
   "cell_type": "code",
   "execution_count": 32,
   "id": "b2cafc87-87f0-4bd0-80d7-b348d323d73c",
   "metadata": {},
   "outputs": [
    {
     "name": "stdout",
     "output_type": "stream",
     "text": [
      "Warnings ignored\n"
     ]
    }
   ],
   "source": [
    "import warnings\n",
    "warnings.filterwarnings(\"ignore\")\n",
    "print(\"Warnings ignored\")"
   ]
  },
  {
   "cell_type": "code",
   "execution_count": 33,
   "id": "12d3f1de-8de2-4549-8151-0cc99e0c4748",
   "metadata": {},
   "outputs": [
    {
     "data": {
      "text/plain": [
       "np.False_"
      ]
     },
     "execution_count": 33,
     "metadata": {},
     "output_type": "execute_result"
    }
   ],
   "source": [
    "#### 32. Is the following expressions true? \n",
    "np.sqrt(-1) == np.emath.sqrt(-1)"
   ]
  },
  {
   "cell_type": "markdown",
   "id": "b16f0cf2-44d7-4f46-b3c0-fcbe6e3f4291",
   "metadata": {},
   "source": [
    "# Exercise 33: Get yesterday, today, tomorrow"
   ]
  },
  {
   "cell_type": "code",
   "execution_count": 34,
   "id": "8b15489c-1acf-4080-94f6-a8111f09f53a",
   "metadata": {},
   "outputs": [
    {
     "name": "stdout",
     "output_type": "stream",
     "text": [
      "2025-03-07 2025-03-08 2025-03-09\n"
     ]
    }
   ],
   "source": [
    "yesterday = np.datetime64('today', 'D') - np.timedelta64(1, 'D')\n",
    "today = np.datetime64('today', 'D')\n",
    "tomorrow = np.datetime64('today', 'D') + np.timedelta64(1, 'D')\n",
    "print(yesterday, today, tomorrow)"
   ]
  },
  {
   "cell_type": "markdown",
   "id": "7acf50a7-dc5f-47ff-99d9-33eb3b5c7694",
   "metadata": {},
   "source": [
    "# Exercise 34: Get all dates of July 2016"
   ]
  },
  {
   "cell_type": "code",
   "execution_count": 35,
   "id": "4f624740-a7db-42e7-9f3d-7bcfbb6205f9",
   "metadata": {},
   "outputs": [
    {
     "name": "stdout",
     "output_type": "stream",
     "text": [
      "['2016-07-01' '2016-07-02' '2016-07-03' '2016-07-04' '2016-07-05'\n",
      " '2016-07-06' '2016-07-07' '2016-07-08' '2016-07-09' '2016-07-10'\n",
      " '2016-07-11' '2016-07-12' '2016-07-13' '2016-07-14' '2016-07-15'\n",
      " '2016-07-16' '2016-07-17' '2016-07-18' '2016-07-19' '2016-07-20'\n",
      " '2016-07-21' '2016-07-22' '2016-07-23' '2016-07-24' '2016-07-25'\n",
      " '2016-07-26' '2016-07-27' '2016-07-28' '2016-07-29' '2016-07-30'\n",
      " '2016-07-31']\n"
     ]
    }
   ],
   "source": [
    "dates = np.arange('2016-07', '2016-08', dtype='datetime64[D]')\n",
    "print(dates)"
   ]
  },
  {
   "cell_type": "markdown",
   "id": "9d5e896f-9bea-4b11-8568-65381dfd8dd7",
   "metadata": {},
   "source": [
    "# 35. How to compute ((A+B)*(-A/2)) in place (without copy)?"
   ]
  },
  {
   "cell_type": "code",
   "execution_count": 36,
   "id": "50366e51-3f23-4280-a0ba-667a2551bf25",
   "metadata": {},
   "outputs": [
    {
     "name": "stdout",
     "output_type": "stream",
     "text": [
      "[-1.5 -1.5 -1.5]\n"
     ]
    }
   ],
   "source": [
    "A = np.ones(3)\n",
    "B = np.ones(3)*2\n",
    "np.add(A, B, out=A)\n",
    "np.divide(A, -2, out=A)\n",
    "print(A)"
   ]
  },
  {
   "cell_type": "markdown",
   "id": "f8928d61-47b1-4e9e-b465-db311aabe6f0",
   "metadata": {},
   "source": [
    "# 36. Extract the integer part of a random array of positive numbers using 4 different methods"
   ]
  },
  {
   "cell_type": "code",
   "execution_count": 37,
   "id": "edd71214-68a0-48b0-914c-72618d044302",
   "metadata": {},
   "outputs": [
    {
     "name": "stdout",
     "output_type": "stream",
     "text": [
      "[1 8 2 6 0 7 8 0 8 4]\n",
      "[1. 8. 2. 6. 0. 7. 8. 0. 8. 4.]\n",
      "[1. 8. 2. 6. 0. 7. 8. 0. 8. 4.]\n",
      "[1. 8. 2. 6. 0. 7. 8. 0. 8. 4.]\n"
     ]
    }
   ],
   "source": [
    "Z = np.random.uniform(0, 10, 10)\n",
    "print(Z.astype(int))\n",
    "print(np.floor(Z))\n",
    "print(np.ceil(Z)-1)\n",
    "print(np.trunc(Z))"
   ]
  },
  {
   "cell_type": "markdown",
   "id": "65cbd275-c260-48c4-a6c3-427a71717df5",
   "metadata": {},
   "source": [
    "# 37. Create a 5x5 matrix with row values ranging from 0 to 4"
   ]
  },
  {
   "cell_type": "code",
   "execution_count": 38,
   "id": "842af66d-0c5f-40cb-bddb-9c4284e88520",
   "metadata": {},
   "outputs": [
    {
     "name": "stdout",
     "output_type": "stream",
     "text": [
      "[[0 1 2 3 4]\n",
      " [0 1 2 3 4]\n",
      " [0 1 2 3 4]\n",
      " [0 1 2 3 4]\n",
      " [0 1 2 3 4]]\n"
     ]
    }
   ],
   "source": [
    "matrix_5x5 = np.tile(np.arange(5), (5, 1))\n",
    "print(matrix_5x5)"
   ]
  },
  {
   "cell_type": "markdown",
   "id": "b7355237-7f04-43e8-b2fa-db5e77c741e4",
   "metadata": {},
   "source": [
    "# Exercise 38: Generate 10 integers using a generator function and build an array"
   ]
  },
  {
   "cell_type": "code",
   "execution_count": 39,
   "id": "66162aa9-8f72-4eb1-bfd3-3d388b8a838b",
   "metadata": {},
   "outputs": [
    {
     "name": "stdout",
     "output_type": "stream",
     "text": [
      "[0 1 2 3 4 5 6 7 8 9]\n"
     ]
    }
   ],
   "source": [
    "def generate():\n",
    "    for i in range(10):\n",
    "        yield i\n",
    "Z = np.fromiter(generate(), dtype=int)\n",
    "print(Z)"
   ]
  },
  {
   "cell_type": "markdown",
   "id": "b2a32e76-7d26-4513-bf96-9fa2db0ee146",
   "metadata": {},
   "source": [
    "# Exercise 39: Create a vector of size 10 with values ranging from 0 to 1, both excluded"
   ]
  },
  {
   "cell_type": "code",
   "execution_count": 40,
   "id": "f3b509cd-6af7-4615-8151-aba7a1dec06d",
   "metadata": {},
   "outputs": [
    {
     "name": "stdout",
     "output_type": "stream",
     "text": [
      "[0.08333333 0.16666667 0.25       0.33333333 0.41666667 0.5\n",
      " 0.58333333 0.66666667 0.75       0.83333333]\n"
     ]
    }
   ],
   "source": [
    "Z = np.linspace(0, 1, 12, endpoint=False)[1:-1]\n",
    "print(Z)"
   ]
  },
  {
   "cell_type": "markdown",
   "id": "cc69c437-d9ba-4c17-98ce-e64ca6b5980c",
   "metadata": {},
   "source": [
    "# Exercise 40: Create a random vector of size 10 and sort it"
   ]
  },
  {
   "cell_type": "code",
   "execution_count": 41,
   "id": "0ac7c94a-813b-43aa-8678-ed485ec645d6",
   "metadata": {},
   "outputs": [
    {
     "name": "stdout",
     "output_type": "stream",
     "text": [
      "[0.27533209 0.29160725 0.32185952 0.33704297 0.39846842 0.44338282\n",
      " 0.52638452 0.55391612 0.72003519 0.94578104]\n"
     ]
    }
   ],
   "source": [
    "Z = np.random.random(10)\n",
    "Z.sort()\n",
    "print(Z)"
   ]
  },
  {
   "cell_type": "markdown",
   "id": "70deeb79-9e0a-4d74-be0b-a76534218435",
   "metadata": {},
   "source": [
    "# Exercise 41: Sum a small array faster than np.sum"
   ]
  },
  {
   "cell_type": "code",
   "execution_count": 42,
   "id": "63bcc064-4a8e-460f-8c53-6b60200b146d",
   "metadata": {},
   "outputs": [
    {
     "name": "stdout",
     "output_type": "stream",
     "text": [
      "45\n"
     ]
    }
   ],
   "source": [
    "Z = np.arange(10)\n",
    "print(np.add.reduce(Z))"
   ]
  },
  {
   "cell_type": "markdown",
   "id": "94f9cedc-3ce8-4692-9786-093994ff95eb",
   "metadata": {},
   "source": [
    "# Exercise 42: Check if two random arrays are equal"
   ]
  },
  {
   "cell_type": "code",
   "execution_count": 43,
   "id": "08bc93f8-2907-48c3-ad55-5e78cc61ffe4",
   "metadata": {},
   "outputs": [
    {
     "name": "stdout",
     "output_type": "stream",
     "text": [
      "False\n"
     ]
    }
   ],
   "source": [
    "A = np.random.randint(0, 2, 10)\n",
    "B = np.random.randint(0, 2, 10)\n",
    "print(np.array_equal(A, B))"
   ]
  },
  {
   "cell_type": "markdown",
   "id": "bd2e909c-6288-40bc-89b1-06eaeb83aad4",
   "metadata": {},
   "source": [
    "# Exercise 43: Make an array immutable"
   ]
  },
  {
   "cell_type": "code",
   "execution_count": 44,
   "id": "813eb392-a2b5-48be-9981-521e2bd2e526",
   "metadata": {},
   "outputs": [
    {
     "name": "stdout",
     "output_type": "stream",
     "text": [
      "Immutable array created\n"
     ]
    }
   ],
   "source": [
    "Z = np.zeros(10)\n",
    "Z.flags.writeable = False\n",
    "print(\"Immutable array created\")"
   ]
  },
  {
   "cell_type": "markdown",
   "id": "6887ddc6-f221-4764-be07-abef2241e623",
   "metadata": {},
   "source": [
    "# Exercise 44: Convert Cartesian coordinates to polar"
   ]
  },
  {
   "cell_type": "code",
   "execution_count": 45,
   "id": "837f5f4d-5e84-4c0d-bc3d-8d53017a1a40",
   "metadata": {},
   "outputs": [
    {
     "name": "stdout",
     "output_type": "stream",
     "text": [
      "[0.71270165 0.14937203 0.48229551 0.49666488 0.90758331 0.57990647\n",
      " 0.9250776  0.75692106 0.5884442  1.01614436] [1.20772169 0.38824538 0.58512994 1.35467689 0.79234649 0.59538597\n",
      " 0.00873384 0.85650292 1.18553281 0.68085117]\n"
     ]
    }
   ],
   "source": [
    "Z = np.random.random((10, 2))\n",
    "X, Y = Z[:, 0], Z[:, 1]\n",
    "R = np.sqrt(X**2 + Y**2)\n",
    "Theta = np.arctan2(Y, X)\n",
    "print(R, Theta)"
   ]
  },
  {
   "cell_type": "markdown",
   "id": "813cce29-add0-4038-a298-973d8f1b85dd",
   "metadata": {},
   "source": [
    "# Exercise 45: Replace max value in vector with 0"
   ]
  },
  {
   "cell_type": "code",
   "execution_count": 46,
   "id": "407e2e47-c5c0-4232-9c9c-37178db2b6ca",
   "metadata": {},
   "outputs": [
    {
     "name": "stdout",
     "output_type": "stream",
     "text": [
      "[0.19226951 0.68248789 0.12682905 0.51779636 0.57322529 0.36727356\n",
      " 0.12806197 0.10471863 0.         0.28700111]\n"
     ]
    }
   ],
   "source": [
    "Z = np.random.random(10)\n",
    "Z[Z.argmax()] = 0\n",
    "print(Z)"
   ]
  },
  {
   "cell_type": "markdown",
   "id": "5b6a3c5e-72b5-4873-94ce-6970b1bcad7b",
   "metadata": {},
   "source": [
    "# 46. Create a structured array with x and y coordinates covering the [0,1]x[0,1] area"
   ]
  },
  {
   "cell_type": "code",
   "execution_count": 47,
   "id": "016b94c3-6ebc-4380-93f8-40f5f3dbdb22",
   "metadata": {},
   "outputs": [
    {
     "name": "stdout",
     "output_type": "stream",
     "text": [
      "[[(0.  , 0.  ) (0.25, 0.  ) (0.5 , 0.  ) (0.75, 0.  ) (1.  , 0.  )]\n",
      " [(0.  , 0.25) (0.25, 0.25) (0.5 , 0.25) (0.75, 0.25) (1.  , 0.25)]\n",
      " [(0.  , 0.5 ) (0.25, 0.5 ) (0.5 , 0.5 ) (0.75, 0.5 ) (1.  , 0.5 )]\n",
      " [(0.  , 0.75) (0.25, 0.75) (0.5 , 0.75) (0.75, 0.75) (1.  , 0.75)]\n",
      " [(0.  , 1.  ) (0.25, 1.  ) (0.5 , 1.  ) (0.75, 1.  ) (1.  , 1.  )]]\n"
     ]
    }
   ],
   "source": [
    "Z = np.zeros((5, 5), dtype=[(\"x\", float), (\"y\", float)])\n",
    "Z[\"x\"], Z[\"y\"] = np.meshgrid(np.linspace(0, 1, 5), np.linspace(0, 1, 5))\n",
    "print(Z)"
   ]
  },
  {
   "cell_type": "markdown",
   "id": "f6d54a78-e060-4f8e-aa0c-e63ad1a4f067",
   "metadata": {},
   "source": [
    "# 47. Given two arrays, X and Y, construct the Cauchy matrix C (Cij =1/(xi - yj)) "
   ]
  },
  {
   "cell_type": "code",
   "execution_count": 48,
   "id": "acd510f4-de9f-44de-897a-82f4cad56d67",
   "metadata": {},
   "outputs": [
    {
     "name": "stdout",
     "output_type": "stream",
     "text": [
      "[[-2.         -0.66666667 -0.4        -0.28571429 -0.22222222 -0.18181818\n",
      "  -0.15384615 -0.13333333 -0.11764706 -0.10526316]\n",
      " [ 2.         -2.         -0.66666667 -0.4        -0.28571429 -0.22222222\n",
      "  -0.18181818 -0.15384615 -0.13333333 -0.11764706]\n",
      " [ 0.66666667  2.         -2.         -0.66666667 -0.4        -0.28571429\n",
      "  -0.22222222 -0.18181818 -0.15384615 -0.13333333]\n",
      " [ 0.4         0.66666667  2.         -2.         -0.66666667 -0.4\n",
      "  -0.28571429 -0.22222222 -0.18181818 -0.15384615]\n",
      " [ 0.28571429  0.4         0.66666667  2.         -2.         -0.66666667\n",
      "  -0.4        -0.28571429 -0.22222222 -0.18181818]\n",
      " [ 0.22222222  0.28571429  0.4         0.66666667  2.         -2.\n",
      "  -0.66666667 -0.4        -0.28571429 -0.22222222]\n",
      " [ 0.18181818  0.22222222  0.28571429  0.4         0.66666667  2.\n",
      "  -2.         -0.66666667 -0.4        -0.28571429]\n",
      " [ 0.15384615  0.18181818  0.22222222  0.28571429  0.4         0.66666667\n",
      "   2.         -2.         -0.66666667 -0.4       ]\n",
      " [ 0.13333333  0.15384615  0.18181818  0.22222222  0.28571429  0.4\n",
      "   0.66666667  2.         -2.         -0.66666667]\n",
      " [ 0.11764706  0.13333333  0.15384615  0.18181818  0.22222222  0.28571429\n",
      "   0.4         0.66666667  2.         -2.        ]]\n"
     ]
    }
   ],
   "source": [
    "X = np.arange(10)\n",
    "Y = X + 0.5\n",
    "C = 1.0 / np.subtract.outer(X, Y)\n",
    "print(C)"
   ]
  },
  {
   "cell_type": "markdown",
   "id": "23255950-cae5-44a6-915b-2aaee477aa00",
   "metadata": {},
   "source": [
    "# 48. Print the minimum and maximum representable value for each numpy scalar type"
   ]
  },
  {
   "cell_type": "code",
   "execution_count": 49,
   "id": "240ebe3c-efca-412e-852b-34f4c605adc8",
   "metadata": {},
   "outputs": [
    {
     "name": "stdout",
     "output_type": "stream",
     "text": [
      "-128 127\n",
      "-2147483648 2147483647\n",
      "-9223372036854775808 9223372036854775807\n",
      "-3.4028235e+38 3.4028235e+38\n",
      "-1.7976931348623157e+308 1.7976931348623157e+308\n"
     ]
    }
   ],
   "source": [
    "for dtype in [np.int8, np.int32, np.int64]:\n",
    "    print(np.iinfo(dtype).min, np.iinfo(dtype).max)\n",
    "for dtype in [np.float32, np.float64]:\n",
    "    print(np.finfo(dtype).min, np.finfo(dtype).max)"
   ]
  },
  {
   "cell_type": "markdown",
   "id": "f49c23b7-092f-4d99-9f7c-292e0cfd2dbe",
   "metadata": {},
   "source": [
    "# 49. How to print all the values of an array? "
   ]
  },
  {
   "cell_type": "code",
   "execution_count": 50,
   "id": "94d85c64-a714-4415-9238-279d1e7c7934",
   "metadata": {},
   "outputs": [
    {
     "name": "stdout",
     "output_type": "stream",
     "text": [
      "[[0. 0. 0. 0. 0. 0. 0. 0. 0. 0.]\n",
      " [0. 0. 0. 0. 0. 0. 0. 0. 0. 0.]\n",
      " [0. 0. 0. 0. 0. 0. 0. 0. 0. 0.]\n",
      " [0. 0. 0. 0. 0. 0. 0. 0. 0. 0.]\n",
      " [0. 0. 0. 0. 0. 0. 0. 0. 0. 0.]\n",
      " [0. 0. 0. 0. 0. 0. 0. 0. 0. 0.]\n",
      " [0. 0. 0. 0. 0. 0. 0. 0. 0. 0.]\n",
      " [0. 0. 0. 0. 0. 0. 0. 0. 0. 0.]\n",
      " [0. 0. 0. 0. 0. 0. 0. 0. 0. 0.]\n",
      " [0. 0. 0. 0. 0. 0. 0. 0. 0. 0.]]\n"
     ]
    }
   ],
   "source": [
    "np.set_printoptions(threshold=np.inf)\n",
    "Z = np.zeros((10, 10))\n",
    "print(Z)"
   ]
  },
  {
   "cell_type": "markdown",
   "id": "83fd8f33-6303-4f1f-98d1-b73bc8fc7620",
   "metadata": {},
   "source": [
    "# 50. How to find the closest value (to a given scalar) in a vector?"
   ]
  },
  {
   "cell_type": "code",
   "execution_count": 51,
   "id": "dafc85d7-ba2e-4a61-b630-d65d485684ba",
   "metadata": {},
   "outputs": [
    {
     "name": "stdout",
     "output_type": "stream",
     "text": [
      "0.41725337287709996\n"
     ]
    }
   ],
   "source": [
    "Z = np.random.random(10)\n",
    "scalar = 0.5\n",
    "print(Z[np.abs(Z - scalar).argmin()])"
   ]
  },
  {
   "cell_type": "markdown",
   "id": "766c9362-37b3-40cf-b0d6-c940af69df7f",
   "metadata": {},
   "source": [
    "# 51. Create a structured array representing a position (x,y) and a color (r,g,b)"
   ]
  },
  {
   "cell_type": "code",
   "execution_count": 52,
   "id": "57b3d399-9eff-4e66-82f0-9270e49a165b",
   "metadata": {},
   "outputs": [
    {
     "name": "stdout",
     "output_type": "stream",
     "text": [
      "[([0., 0.], [0., 0., 0.]) ([0., 0.], [0., 0., 0.])\n",
      " ([0., 0.], [0., 0., 0.]) ([0., 0.], [0., 0., 0.])\n",
      " ([0., 0.], [0., 0., 0.])]\n"
     ]
    }
   ],
   "source": [
    "dtype = [('position', float, 2), ('color', float, 3)]\n",
    "arr = np.zeros(5, dtype=dtype)\n",
    "print(arr)"
   ]
  },
  {
   "cell_type": "markdown",
   "id": "144eaa13-4173-4f8f-b9e6-f7ee7d4c36d8",
   "metadata": {},
   "source": [
    "# 52. Consider a random vector with shape (100,2) representing coordinates, find point by point distances"
   ]
  },
  {
   "cell_type": "code",
   "execution_count": 53,
   "id": "71727955-cb3f-4aec-a193-24aa178ea8be",
   "metadata": {},
   "outputs": [
    {
     "name": "stdout",
     "output_type": "stream",
     "text": [
      "[[0.         0.54950392 0.4180527  0.22249312 0.36888231 0.69759692\n",
      "  0.50404526 0.41648654 0.8653464  0.57341748 0.34225517 0.59928032\n",
      "  0.11324191 0.5338469  0.80598796 0.6395184  0.89585998 0.32749297\n",
      "  0.93183919 0.74287504 0.60075171 0.60815342 0.86410611 0.20061182\n",
      "  0.86126057 0.19948225 0.70323486 0.68696822 0.29374794 0.38944904\n",
      "  0.63827935 0.45123282 0.14182696 0.22445669 0.0937968  0.67904757\n",
      "  0.25361599 0.11666361 0.52424227 0.45598491 0.13733938 0.49719509\n",
      "  0.60702974 0.22706813 0.28626098 0.48352808 0.78702345 0.98034833\n",
      "  0.46011468 0.62178365 0.69735856 0.5311071  0.24739728 0.79286591\n",
      "  0.46230798 0.97141455 0.45342783 0.71964213 0.59655505 0.29192734\n",
      "  0.91951068 0.08908768 0.70919803 0.65393101 0.20176466 0.25623531\n",
      "  0.60468547 0.83253314 0.0519154  0.76337291 0.96922545 0.10107207\n",
      "  0.46109315 1.04045962 0.81350331 0.70093338 0.03496907 0.61735622\n",
      "  0.23510957 0.2515905  0.10945069 0.60692144 0.49609297 0.22640346\n",
      "  0.50074389 0.29782362 0.53579011 0.40601174 0.42683406 0.38662629\n",
      "  0.6277986  0.16305855 0.57076867 0.38478217 0.36947616 0.77289468\n",
      "  0.47839714 0.24119453 0.90038354 0.81570435]\n",
      " [0.54950392 0.         0.25077271 0.61672374 0.18517318 0.3737622\n",
      "  0.49417012 0.48103215 0.61574472 0.35112862 0.39132187 0.92490833\n",
      "  0.50778842 0.42693785 0.65690488 0.71320983 0.92042969 0.76968535\n",
      "  0.76795599 0.78764047 0.60873117 0.85327702 0.64296282 0.36147529\n",
      "  0.80878578 0.41709099 1.01982514 0.7258892  0.38204442 0.78306941\n",
      "  0.90838887 0.74810315 0.45357613 0.3304879  0.47825002 0.32184286\n",
      "  0.30349499 0.49566589 0.69100855 0.71565808 0.65412224 0.36922358\n",
      "  0.14315023 0.6556556  0.47661638 0.26630653 0.7553294  0.84982607\n",
      "  0.82995548 0.477519   0.62927547 0.75998193 0.31852758 1.13579367\n",
      "  0.23646147 0.83100056 0.09783792 0.75242515 0.69912605 0.25935192\n",
      "  0.91262638 0.62430849 1.04487874 0.44166496 0.35477219 0.7817839\n",
      "  0.23698934 1.12541733 0.56168831 1.12079964 0.74594462 0.62855907\n",
      "  0.38596178 0.85788488 0.57362906 0.49636877 0.51555898 0.93263218\n",
      "  0.63513647 0.71831177 0.52964181 0.96164057 0.40526508 0.77586722\n",
      "  0.62907621 0.57497886 0.0394543  0.55706022 0.77617327 0.38351336\n",
      "  0.8143314  0.41632767 0.61913419 0.1745811  0.7644839  0.56252349\n",
      "  0.80927746 0.77642886 0.70798605 0.68979932]\n",
      " [0.4180527  0.25077271 0.         0.40475833 0.148478   0.28603817\n",
      "  0.25268913 0.23029869 0.49075539 0.17985648 0.14750084 0.6775993\n",
      "  0.43029373 0.20511494 0.48068246 0.47192035 0.69781456 0.55243927\n",
      "  0.60537773 0.55509369 0.37380776 0.60257525 0.50285595 0.22253229\n",
      "  0.60373589 0.23011883 0.77059281 0.49161928 0.15659922 0.55185553\n",
      "  0.65795307 0.50253866 0.38657586 0.26900689 0.38468801 0.26176949\n",
      "  0.18606782 0.32398818 0.44046651 0.46760634 0.48149087 0.14413807\n",
      "  0.21944342 0.44738227 0.24323681 0.07024006 0.54082826 0.67624126\n",
      "  0.59139591 0.28099755 0.4179569  0.50945231 0.17964145 0.88735436\n",
      "  0.04446132 0.66082958 0.18171989 0.52082173 0.45328545 0.18097593\n",
      "  0.69810391 0.46767812 0.79675066 0.27812995 0.22700181 0.60052881\n",
      "  0.18811    0.87474799 0.40790096 0.873785   0.61256006 0.46623691\n",
      "  0.14452423 0.70829591 0.43993489 0.33471699 0.38395713 0.68431987\n",
      "  0.42150655 0.51453223 0.44948478 0.71674816 0.17290894 0.63113407\n",
      "  0.37900589 0.34056885 0.21449952 0.30706696 0.53667154 0.1330553\n",
      "  0.56442445 0.35297675 0.37703188 0.2299529  0.53487397 0.41051601\n",
      "  0.56554932 0.60336541 0.55621351 0.505548  ]\n",
      " [0.22249312 0.61672374 0.40475833 0.         0.43604427 0.63484388\n",
      "  0.36659848 0.28096244 0.74816137 0.5023523  0.26911555 0.3825334\n",
      "  0.33097807 0.42785072 0.6600736  0.44444908 0.69446769 0.15307587\n",
      "  0.77871249 0.54587977 0.43170447 0.38586454 0.73671239 0.27364775\n",
      "  0.68049751 0.20146519 0.48732494 0.49637945 0.24819689 0.184015\n",
      "  0.41617024 0.228758   0.34189289 0.35821599 0.29550901 0.63380673\n",
      "  0.32673078 0.15243382 0.31765146 0.2362884  0.14305768 0.41536398\n",
      "  0.62337506 0.04346355 0.17109163 0.44944565 0.60648499 0.81351347\n",
      "  0.24921121 0.50514844 0.53838645 0.31180315 0.30590648 0.58463346\n",
      "  0.44529404 0.80810537 0.52106145 0.52757962 0.39847606 0.37453888\n",
      "  0.72383314 0.17564379 0.49735785 0.5563687  0.28612679 0.2160704\n",
      "  0.58285809 0.61508057 0.17075697 0.55859764 0.83286863 0.16134968\n",
      "  0.37217763 0.88568454 0.6989185  0.59063072 0.22117532 0.399302\n",
      "  0.01884449 0.11130452 0.33096929 0.39722009 0.39785609 0.30182817\n",
      "  0.30932814 0.10821162 0.59037802 0.23200142 0.20862037 0.30713203\n",
      "  0.41002693 0.34572822 0.39331652 0.48885014 0.16335836 0.65294409\n",
      "  0.2588721  0.23070043 0.75935475 0.6610278 ]\n",
      " [0.36888231 0.18517318 0.148478   0.43604427 0.         0.40507279\n",
      "  0.39223526 0.3505122  0.62845661 0.3207897  0.24339457 0.76609785\n",
      "  0.3428767  0.35313991 0.62804129 0.6073898  0.84192936 0.58905058\n",
      "  0.75167693 0.69593387 0.5153436  0.70927493 0.64433567 0.17641399\n",
      "  0.75163648 0.23477851 0.86536574 0.63208494 0.21775546 0.60851325\n",
      "  0.76082436 0.58812283 0.29106105 0.16267591 0.30631043 0.36750502\n",
      "  0.11853882 0.31053689 0.55680395 0.56131108 0.46908798 0.29244574\n",
      "  0.24677474 0.47355188 0.31089449 0.20847051 0.68766223 0.82398561\n",
      "  0.66034495 0.42908285 0.56578595 0.61510922 0.13356533 0.97814405\n",
      "  0.17112823 0.80822387 0.0873435  0.66243802 0.58346558 0.07711236\n",
      "  0.84433701 0.44041524 0.88699805 0.42090055 0.17033399 0.59664222\n",
      "  0.27771314 0.97856518 0.37764347 0.95992607 0.7536528  0.44410652\n",
      "  0.28798983 0.85311918 0.57902756 0.47832559 0.33431388 0.77613737\n",
      "  0.45471327 0.53483242 0.36433253 0.79816126 0.31944676 0.59495877\n",
      "  0.49982485 0.40628787 0.16720641 0.41340812 0.60808188 0.25310238\n",
      "  0.68285503 0.25365054 0.51317118 0.08295518 0.58918906 0.55335558\n",
      "  0.64564755 0.59163868 0.70052056 0.65367389]\n",
      " [0.69759692 0.3737622  0.28603817 0.63484388 0.40507279 0.\n",
      "  0.31001572 0.36889717 0.24202535 0.13249163 0.37172324 0.79320325\n",
      "  0.71632232 0.2227319  0.30442647 0.47245162 0.6084383  0.76243009\n",
      "  0.40100314 0.50866712 0.364994   0.68314782 0.27110235 0.50752283\n",
      "  0.47600293 0.50074963 0.8642764  0.45918345 0.4103071  0.73570656\n",
      "  0.74211487 0.64428028 0.67222346 0.55141253 0.67045264 0.05452391\n",
      "  0.47162076 0.59370711 0.52065788 0.59851332 0.74067837 0.21962549\n",
      "  0.23463203 0.67796559 0.46448952 0.21650007 0.44108927 0.48641445\n",
      "  0.75223104 0.19258452 0.3260574  0.60595003 0.46561167 0.98225541\n",
      "  0.24526664 0.46618577 0.38037924 0.47484047 0.48228925 0.46013423\n",
      "  0.58725006 0.7362826  0.898811   0.1230365  0.512766   0.84762659\n",
      "  0.13887196 0.9384789  0.68052705 0.97978981 0.37222582 0.73210467\n",
      "  0.2630178  0.48540934 0.20184541 0.1534075  0.66457316 0.79208558\n",
      "  0.64779841 0.74509225 0.73541992 0.84352601 0.2419564  0.89941809\n",
      "  0.46056385 0.54155266 0.33963623 0.44813776 0.6993189  0.32959595\n",
      "  0.61597772 0.63797182 0.3990303  0.4688314  0.72375204 0.19992034\n",
      "  0.70953961 0.85648406 0.33816512 0.34208241]\n",
      " [0.50404526 0.49417012 0.25268913 0.36659848 0.39223526 0.31001572\n",
      "  0.         0.08906365 0.38161463 0.19382085 0.17950416 0.48627115\n",
      "  0.56691842 0.08968602 0.30253139 0.21975673 0.45084397 0.47014158\n",
      "  0.42780666 0.30374036 0.12334139 0.3847637  0.37088157 0.37144726\n",
      "  0.3750513  0.31660982 0.56414215 0.23993355 0.23130007 0.43246087\n",
      "  0.44354467 0.33446865 0.54106784 0.45891736 0.51752952 0.33140334\n",
      "  0.37250247 0.38741658 0.21760418 0.28850378 0.49752923 0.12926299\n",
      "  0.41582417 0.40611913 0.2197059  0.22938374 0.3048382  0.47898314\n",
      "  0.44336142 0.14192412 0.19661734 0.30050086 0.35247194 0.68298988\n",
      "  0.25780005 0.46873723 0.43422682 0.27022853 0.20591258 0.39461404\n",
      "  0.45722369 0.51019963 0.59639919 0.20367371 0.38411081 0.58166658\n",
      "  0.3265371  0.65185405 0.4689215  0.67698988 0.47045345 0.50104864\n",
      "  0.1089332  0.53642753 0.33279785 0.22734219 0.47875483 0.48689549\n",
      "  0.37473961 0.46843477 0.57999678 0.53509999 0.09178938 0.66180108\n",
      "  0.15447972 0.26041096 0.45540032 0.14594293 0.39138309 0.14697457\n",
      "  0.32967035 0.51808773 0.12511797 0.47513347 0.42268809 0.28641709\n",
      "  0.39957797 0.59729761 0.39898788 0.31186294]\n",
      " [0.41648654 0.48103215 0.23029869 0.28096244 0.3505122  0.36889717\n",
      "  0.08906365 0.         0.46812685 0.2400329  0.11213183 0.45564975\n",
      "  0.48399048 0.15011655 0.39132733 0.26285998 0.51250048 0.39508055\n",
      "  0.51596677 0.35962694 0.19141408 0.37281708 0.45912222 0.29729233\n",
      "  0.45238559 0.23446334 0.54412825 0.29682449 0.15824059 0.36734737\n",
      "  0.42897685 0.28780539 0.46161059 0.39039359 0.43490783 0.37959862\n",
      "  0.30790077 0.2998391  0.21035913 0.24691683 0.40909319 0.15589264\n",
      "  0.42761456 0.32177153 0.13098393 0.23302901 0.37966138 0.56434154\n",
      "  0.38957452 0.22419317 0.28119408 0.28047333 0.2857158  0.66206934\n",
      "  0.25050163 0.55501626 0.40743988 0.32936895 0.23417472 0.33743865\n",
      "  0.52539997 0.42113973 0.57238457 0.27757832 0.31099605 0.49690815\n",
      "  0.35369236 0.64497728 0.38028781 0.65112409 0.55945376 0.41204841\n",
      "  0.11545783 0.62455005 0.41835157 0.30968076 0.3922329  0.46018631\n",
      "  0.29046715 0.38602507 0.49602013 0.4992587  0.12720505 0.57341629\n",
      "  0.15017537 0.17768888 0.44432312 0.08438613 0.33522208 0.09915212\n",
      "  0.33519756 0.44132178 0.17330054 0.43131985 0.35493939 0.37296453\n",
      "  0.35336212 0.51125193 0.48804552 0.39935568]\n",
      " [0.8653464  0.61574472 0.49075539 0.74816137 0.62845661 0.24202535\n",
      "  0.38161463 0.46812685 0.         0.31090228 0.52309165 0.78900248\n",
      "  0.906489   0.33186871 0.14356234 0.42708282 0.45349177 0.84524091\n",
      "  0.17578682 0.41087735 0.35300074 0.66237081 0.04447512 0.69608009\n",
      "  0.30909601 0.66685255 0.83453717 0.38813665 0.57252709 0.79697837\n",
      "  0.71671081 0.68043765 0.86902706 0.7585682  0.85790251 0.29501424\n",
      "  0.67249714 0.75157617 0.52960448 0.63291223 0.87642929 0.37119117\n",
      "  0.47617853 0.78768008 0.5935719  0.42254618 0.31079607 0.26362912\n",
      "  0.79149591 0.24574996 0.25455601 0.61072854 0.66087999 0.94456784\n",
      "  0.45840578 0.24168813 0.61646109 0.38649197 0.45874153 0.67172848\n",
      "  0.41686088 0.88456322 0.87339651 0.21535339 0.70464308 0.96322796\n",
      "  0.37973447 0.8773366  0.83733327 0.95187363 0.13020276 0.87683872\n",
      "  0.40448666 0.24517206 0.05202742 0.16446372 0.83576832 0.7812633\n",
      "  0.75630709 0.849291   0.92329602 0.84423256 0.36925921 1.04064694\n",
      "  0.48674938 0.64187637 0.58121247 0.52320497 0.74597949 0.47879162\n",
      "  0.58132817 0.83824296 0.39835852 0.69963171 0.79070675 0.09522028\n",
      "  0.7389875  0.97883842 0.10993755 0.17803921]\n",
      " [0.57341748 0.35112862 0.17985648 0.5023523  0.3207897  0.13249163\n",
      "  0.19382085 0.2400329  0.31090228 0.         0.24060077 0.6796499\n",
      "  0.60188567 0.10448113 0.31268029 0.38905434 0.57196991 0.63113769\n",
      "  0.43280876 0.44772984 0.27893529 0.5778303  0.32392324 0.39095958\n",
      "  0.45768269 0.37457251 0.75775068 0.38959453 0.28195424 0.60732713\n",
      "  0.63676657 0.52237674 0.56155479 0.44805985 0.55434759 0.14007336\n",
      "  0.36287576 0.46603291 0.41117411 0.47812049 0.60975662 0.08728637\n",
      "  0.24095199 0.54548075 0.33207282 0.11256451 0.40527281 0.50880513\n",
      "  0.62786288 0.12677538 0.27949865 0.49430729 0.35281398 0.87656052\n",
      "  0.1496642  0.4917315  0.32331513 0.41234647 0.38820381 0.36083228\n",
      "  0.5619553  0.60730779 0.7902079  0.10020848 0.39816737 0.71533442\n",
      "  0.13992055 0.84229298 0.55313422 0.87081072 0.43349821 0.60246681\n",
      "  0.13074346 0.5326351  0.26013396 0.15779049 0.5413776  0.68063347\n",
      "  0.51534755 0.61264333 0.61984188 0.72766037 0.1131836  0.76976894\n",
      "  0.34828954 0.40984013 0.31208623 0.32189198 0.57406579 0.19770143\n",
      "  0.51850821 0.52951333 0.30293918 0.39644935 0.59459131 0.23256594\n",
      "  0.58809817 0.72457228 0.37992374 0.34249592]\n",
      " [0.34225517 0.39132187 0.14750084 0.26911555 0.24339457 0.37172324\n",
      "  0.17950416 0.11213183 0.52309165 0.24060077 0.         0.53358667\n",
      "  0.3919615  0.19187136 0.47107308 0.37494659 0.62274795 0.41064456\n",
      "  0.59851568 0.47076982 0.29761258 0.46738231 0.52263473 0.19197529\n",
      "  0.554434   0.1445368  0.62919318 0.40752009 0.05251396 0.40517392\n",
      "  0.5204126  0.35701422 0.36291356 0.2808223  0.34250095 0.36600606\n",
      "  0.19647773 0.22940841 0.31349899 0.3245847  0.36917244 0.15768965\n",
      "  0.36487053 0.31256075 0.09957604 0.18112202 0.48355855 0.65545901\n",
      "  0.44391545 0.28032579 0.37510817 0.37323836 0.17496472 0.74462152\n",
      "  0.18206593 0.64395897 0.30870802 0.43973394 0.34579112 0.22536862\n",
      "  0.63335135 0.36784307 0.65363866 0.31269407 0.20461626 0.47730593\n",
      "  0.31439338 0.73823131 0.31613011 0.72950709 0.62896544 0.36237487\n",
      "  0.11911804 0.70660434 0.4712529  0.35868368 0.31298922 0.5414888\n",
      "  0.28420986 0.38041478 0.40656685 0.57095348 0.15384826 0.52952964\n",
      "  0.25776663 0.1941085  0.35751621 0.17036231 0.38922816 0.04462645\n",
      "  0.43957228 0.33884995 0.28431851 0.32220384 0.388649   0.43089903\n",
      "  0.41909493 0.48504648 0.56204061 0.48564645]\n",
      " [0.59928032 0.92490833 0.6775993  0.3825334  0.76609785 0.79320325\n",
      "  0.48627115 0.45564975 0.78900248 0.6796499  0.53358667 0.\n",
      "  0.71105713 0.57594818 0.65493899 0.36309777 0.50424319 0.29087851\n",
      "  0.73156534 0.41342806 0.44412186 0.13001176 0.75807447 0.63459487\n",
      "  0.57220139 0.55307512 0.10484626 0.40880776 0.54871553 0.21357921\n",
      "  0.09137443 0.1779857  0.72442094 0.72891254 0.67778105 0.81761808\n",
      "  0.67777443 0.53218829 0.27304527 0.21010159 0.48236471 0.60513779\n",
      "  0.88320252 0.37223614 0.45528787 0.68862363 0.51734516 0.72339541\n",
      "  0.14204158 0.60657236 0.53444767 0.18738591 0.65400873 0.2120469\n",
      "  0.70393125 0.72879107 0.84010734 0.42202031 0.3307011  0.72253175\n",
      "  0.55243913 0.53137588 0.12092163 0.67690594 0.64893607 0.44625033\n",
      "  0.80640272 0.2332559  0.54769811 0.19619105 0.81786989 0.51540865\n",
      "  0.56900408 0.81797997 0.75436764 0.67907072 0.60255337 0.0220532\n",
      "  0.3669394  0.36383744 0.70871587 0.05587742 0.57034633 0.57977326\n",
      "  0.33283004 0.36316833 0.89077045 0.37271798 0.17391659 0.54553614\n",
      "  0.21389335 0.72733028 0.40198886 0.83518528 0.23202912 0.707307\n",
      "  0.12525322 0.47765924 0.74556579 0.63362831]\n",
      " [0.11324191 0.50778842 0.43029373 0.33097807 0.3428767  0.71632232\n",
      "  0.56691842 0.48399048 0.906489   0.60188567 0.3919615  0.71105713\n",
      "  0.         0.58096208 0.86303027 0.72532029 0.98248924 0.44058867\n",
      "  0.99046955 0.828281   0.67428391 0.71416118 0.91048676 0.21098742\n",
      "  0.93592246 0.2503187  0.81531393 0.76955291 0.33966097 0.50231125\n",
      "  0.74694502 0.55845302 0.05442411 0.18063088 0.04948102 0.68976511\n",
      "  0.2459691  0.19886208 0.61830094 0.55928164 0.24753975 0.53545401\n",
      "  0.58958287 0.33929362 0.36053051 0.4999959  0.86257648 1.04579498\n",
      "  0.57268768 0.66972981 0.7634196  0.63344135 0.25074505 0.90598441\n",
      "  0.47205644 1.03502217 0.41816034 0.80253961 0.68472484 0.26894541\n",
      "  1.00232641 0.19663926 0.82196929 0.69144736 0.20402349 0.35684721\n",
      "  0.60707427 0.94427147 0.16372638 0.8766016  1.01840728 0.21071538\n",
      "  0.5052437  1.09855673 0.8545005  0.74296617 0.11028143 0.728758\n",
      "  0.34502362 0.36443107 0.02185367 0.71982901 0.54194907 0.29412854\n",
      "  0.58773479 0.39347795 0.50186465 0.48938237 0.53791142 0.43353085\n",
      "  0.72810899 0.09146861 0.64917586 0.3340722  0.48221842 0.81759937\n",
      "  0.58907829 0.33675871 0.95313178 0.87707115]\n",
      " [0.5338469  0.42693785 0.20511494 0.42785072 0.35313991 0.2227319\n",
      "  0.08968602 0.15011655 0.33186871 0.10448113 0.19187136 0.57594818\n",
      "  0.58096208 0.         0.28589427 0.29147923 0.49662259 0.54505936\n",
      "  0.41335107 0.36070903 0.18329703 0.47336681 0.33082169 0.37386966\n",
      "  0.39862358 0.33629831 0.6532831  0.29928412 0.24259539 0.51402834\n",
      "  0.53229203 0.42201437 0.5478317  0.44929581 0.53173107 0.2418124\n",
      "  0.36094336 0.41971496 0.30671651 0.37675371 0.54840767 0.06126183\n",
      "  0.33486669 0.46969008 0.26463198 0.16176189 0.33642165 0.47769602\n",
      "  0.52952387 0.08881105 0.21284992 0.39010452 0.34491062 0.77208591\n",
      "  0.19629159 0.46390914 0.37937133 0.32548805 0.2863637  0.37254183\n",
      "  0.4941394  0.55372811 0.68585201 0.12852051 0.38429622 0.64378121\n",
      "  0.24039424 0.73851902 0.50552084 0.76650961 0.43770864 0.5466035\n",
      "  0.07606934 0.52010062 0.28027496 0.16797884 0.50485581 0.57654765\n",
      "  0.43860363 0.53499888 0.59654446 0.62460495 0.03911458 0.71193854\n",
      "  0.24398196 0.32729198 0.38753716 0.22591651 0.47659768 0.14819417\n",
      "  0.41504726 0.52017083 0.20154941 0.43505004 0.50277049 0.23906806\n",
      "  0.48748163 0.65638977 0.37241465 0.30601454]\n",
      " [0.80598796 0.65690488 0.48068246 0.6600736  0.62804129 0.30442647\n",
      "  0.30253139 0.39132733 0.14356234 0.31268029 0.47107308 0.65493899\n",
      "  0.86303027 0.28589427 0.         0.29190203 0.31968778 0.73945587\n",
      "  0.12767058 0.26746668 0.23641309 0.52645801 0.10529687 0.65872362\n",
      "  0.17787051 0.61431171 0.69496618 0.24850249 0.52339458 0.68347862\n",
      "  0.57903308 0.56080418 0.83229625 0.73503098 0.81357343 0.35785565\n",
      "  0.64670508 0.68950204 0.40630833 0.51429067 0.79645455 0.34098537\n",
      "  0.52894948 0.69631358 0.52221023 0.42114595 0.16787774 0.19634101\n",
      "  0.67002012 0.20054875 0.12792555 0.48282873 0.63079588 0.80329142\n",
      "  0.45899175 0.18018743 0.63598764 0.24410366 0.3283075  0.65616894\n",
      "  0.28976072 0.81184585 0.73424279 0.21573202 0.66959865 0.87018512\n",
      "  0.42380549 0.73421314 0.77145288 0.81185885 0.17486043 0.80216634\n",
      "  0.36159791 0.23553453 0.13116508 0.16067487 0.77976605 0.64579048\n",
      "  0.66542325 0.75330122 0.87751094 0.71062524 0.32471686 0.96005203\n",
      "  0.37270468 0.55187357 0.61899697 0.42842246 0.62825151 0.43006098\n",
      "  0.44394114 0.80553864 0.28103914 0.70670455 0.679648   0.1068472\n",
      "  0.61541215 0.88897319 0.09994649 0.03946609]\n",
      " [0.6395184  0.71320983 0.47192035 0.44444908 0.6073898  0.47245162\n",
      "  0.21975673 0.26285998 0.42708282 0.38905434 0.37494659 0.36309777\n",
      "  0.72532029 0.29147923 0.29190203 0.         0.25718424 0.48198129\n",
      "  0.37754989 0.10336532 0.11025887 0.23534348 0.3950884  0.55598278\n",
      "  0.24247509 0.48508146 0.4093602  0.05478787 0.41991407 0.41406456\n",
      "  0.28993174 0.28510371 0.71116185 0.65155337 0.67815107 0.50977421\n",
      "  0.57053965 0.52855976 0.13419457 0.2431698  0.58746619 0.34485551\n",
      "  0.62618427 0.47045293 0.36660576 0.44729257 0.17234978 0.38771978\n",
      "  0.38813405 0.28048203 0.17340511 0.19588138 0.54803709 0.52276552\n",
      "  0.47718953 0.3876513  0.65362601 0.08349544 0.04706621 0.60002329\n",
      "  0.28062824 0.61689141 0.44753107 0.34947712 0.57026119 0.63143199\n",
      "  0.52883326 0.46815544 0.5940351  0.52701902 0.4579571  0.60381065\n",
      "  0.32868907 0.47397671 0.39544511 0.33531999 0.62267216 0.35445278\n",
      "  0.44313213 0.51419213 0.73386944 0.4187408  0.30815441 0.74146201\n",
      "  0.13878282 0.34489159 0.67421882 0.23594391 0.35334872 0.35503606\n",
      "  0.15475841 0.69527993 0.09488955 0.68970511 0.4148001  0.34995725\n",
      "  0.33162888 0.65550075 0.3843248  0.27225467]\n",
      " [0.89585998 0.92042969 0.69781456 0.69446769 0.84192936 0.6084383\n",
      "  0.45084397 0.51250048 0.45349177 0.57196991 0.62274795 0.50424319\n",
      "  0.98248924 0.49662259 0.31968778 0.25718424 0.         0.70737078\n",
      "  0.30968057 0.15439718 0.32760207 0.38518261 0.40950707 0.80924985\n",
      "  0.14439734 0.74081729 0.49663462 0.21575124 0.67072985 0.63028756\n",
      "  0.41303563 0.50348953 0.96764975 0.90284283 0.93522749 0.65800292\n",
      "  0.8191775  0.78564473 0.37683707 0.47209402 0.8364302  0.55725655\n",
      "  0.81078485 0.71610545 0.62327202 0.65806927 0.16841991 0.25851248\n",
      "  0.58518124 0.44554629 0.29263995 0.40426108 0.79763011 0.57899914\n",
      "  0.69289819 0.27312999 0.87574984 0.18313595 0.29931672 0.84457721\n",
      "  0.05287235 0.86915017 0.53603269 0.4964335  0.82319188 0.86580477\n",
      "  0.70568141 0.48620531 0.84954869 0.59990363 0.40787642 0.85545103\n",
      "  0.5542569  0.35605689 0.45059251 0.45509131 0.87965277 0.48662386\n",
      "  0.6909768  0.75186463 0.99103262 0.55594647 0.52515852 0.98416603\n",
      "  0.39546502 0.59945861 0.88100702 0.49310699 0.5664264  0.59646439\n",
      "  0.3132969  0.95076889 0.33926116 0.9248758  0.63639826 0.42340485\n",
      "  0.52946858 0.89245303 0.3582904  0.28058097]\n",
      " [0.32749297 0.76968535 0.55243927 0.15307587 0.58905058 0.76243009\n",
      "  0.47014158 0.39508055 0.84524091 0.63113769 0.41064456 0.29087851\n",
      "  0.44058867 0.54505936 0.73945587 0.48198129 0.70737078 0.\n",
      "  0.84787983 0.57323931 0.50313271 0.34406935 0.827352   0.42401974\n",
      "  0.7243548  0.35434183 0.38940583 0.53675783 0.39698349 0.08233984\n",
      "  0.35299829 0.20390048 0.46462259 0.50281892 0.41588489 0.76761304\n",
      "  0.47852968 0.294817   0.34795114 0.2395993  0.19762232 0.54411323\n",
      "  0.77184259 0.11734197 0.31114946 0.59157857 0.65385459 0.86855583\n",
      "  0.14991678 0.61205292 0.61222082 0.30311251 0.45827975 0.4686644\n",
      "  0.59121532 0.86686389 0.67413444 0.56375712 0.43527602 0.5263899\n",
      "  0.74534467 0.2488136  0.38913177 0.67126064 0.43572161 0.16284012\n",
      "  0.72445509 0.51939793 0.27914483 0.43750332 0.91430113 0.23322779\n",
      "  0.50076192 0.95049686 0.79910811 0.69725129 0.33944939 0.31164526\n",
      "  0.13455747 0.07687398 0.43433308 0.28656484 0.52073564 0.29308821\n",
      "  0.36746734 0.22161422 0.74294137 0.32435681 0.1438328  0.44380257\n",
      "  0.39729568 0.47631298 0.45914831 0.64016894 0.07143746 0.75132894\n",
      "  0.19072553 0.19269057 0.83922348 0.73289795]\n",
      " [0.93183919 0.76795599 0.60537773 0.77871249 0.75167693 0.40100314\n",
      "  0.42780666 0.51596677 0.17578682 0.43280876 0.59851568 0.73156534\n",
      "  0.99046955 0.41335107 0.12767058 0.37754989 0.30968057 0.84787983\n",
      "  0.         0.32070579 0.34815977 0.6015616  0.13485507 0.78639266\n",
      "  0.17458726 0.74141847 0.75650534 0.32581605 0.65089056 0.7864911\n",
      "  0.64848999 0.65975696 0.95995951 0.86220378 0.94100119 0.45551575\n",
      "  0.77392113 0.81522159 0.50484606 0.61511876 0.91731257 0.46753447\n",
      "  0.63393277 0.81326509 0.64693704 0.54363086 0.21449862 0.08797846\n",
      "  0.76532746 0.32706286 0.24032618 0.57342975 0.75825084 0.85648318\n",
      "  0.58138312 0.06633366 0.7546208  0.30958202 0.42043111 0.78239731\n",
      "  0.2642592  0.93484084 0.79662492 0.33317411 0.79724587 0.98523749\n",
      "  0.53151551 0.77574664 0.89620843 0.87024273 0.09832062 0.92465428\n",
      "  0.48916677 0.10862106 0.20085785 0.27571678 0.90615953 0.71951425\n",
      "  0.78282816 0.86756244 1.0047949  0.78734471 0.45225409 1.08003956\n",
      "  0.4809533  0.67067341 0.73117997 0.54678768 0.72807145 0.55769217\n",
      "  0.5176949  0.93318528 0.39000004 0.82900935 0.78473387 0.20547417\n",
      "  0.70905408 1.00545796 0.06598824 0.11776498]\n",
      " [0.74287504 0.78764047 0.55509369 0.54587977 0.69593387 0.50866712\n",
      "  0.30374036 0.35962694 0.41087735 0.44772984 0.47076982 0.41342806\n",
      "  0.828281   0.36070903 0.26746668 0.10336532 0.15439718 0.57323931\n",
      "  0.32070579 0.         0.18128594 0.28408018 0.37214847 0.65561997\n",
      "  0.15976729 0.58651407 0.43628944 0.06388206 0.51779321 0.5007257\n",
      "  0.3282858  0.37119742 0.81325887 0.74994234 0.78091429 0.5527425\n",
      "  0.66720462 0.63182539 0.23044487 0.33388948 0.68867701 0.41921811\n",
      "  0.688642   0.57023921 0.4688787  0.5218969  0.10708527 0.31102266\n",
      "  0.46557802 0.32628352 0.1833185  0.27448174 0.64527326 0.53956581\n",
      "  0.55474737 0.31550306 0.73557219 0.03541957 0.14760319 0.69426874\n",
      "  0.17799507 0.71924517 0.47631855 0.38797689 0.66967715 0.72704485\n",
      "  0.5864235  0.46691761 0.6972693  0.55112343 0.41193153 0.70595769\n",
      "  0.41057635 0.40460648 0.39063801 0.3591055  0.72598442 0.40020579\n",
      "  0.54372949 0.61083629 0.83703127 0.46885645 0.38468974 0.84053083\n",
      "  0.24213156 0.44780469 0.74824533 0.33894672 0.43787072 0.44675232\n",
      "  0.20116534 0.796545   0.18646486 0.77879482 0.50391683 0.35142778\n",
      "  0.40846966 0.75220521 0.3439328  0.23668506]\n",
      " [0.60075171 0.60873117 0.37380776 0.43170447 0.5153436  0.364994\n",
      "  0.12334139 0.19141408 0.35300074 0.27893529 0.29761258 0.44412186\n",
      "  0.67428391 0.18329703 0.23641309 0.11025887 0.32760207 0.50313271\n",
      "  0.34815977 0.18128594 0.         0.32424396 0.32880412 0.48769288\n",
      "  0.2616836  0.425628   0.50428811 0.117957   0.34753055 0.44776424\n",
      "  0.38230423 0.32782244 0.65298932 0.5784318  0.62545548 0.40047697\n",
      "  0.49325768 0.48509012 0.17702989 0.28051736 0.57208803 0.2395233\n",
      "  0.5170408  0.46533375 0.3155698  0.34245155 0.18839118 0.38308666\n",
      "  0.43861753 0.17241036 0.10920339 0.26020608 0.47238896 0.62079687\n",
      "  0.37433055 0.37671821 0.55442087 0.14719992 0.11831687 0.51721302\n",
      "  0.33577114 0.59328414 0.54064079 0.24265495 0.50104513 0.63711646\n",
      "  0.41879674 0.57350167 0.56029969 0.62134606 0.41120324 0.58206015\n",
      "  0.22929159 0.45426689 0.31342317 0.23597625 0.57902347 0.43930632\n",
      "  0.43509683 0.51953155 0.68555353 0.49799451 0.20409892 0.73350032\n",
      "  0.13643314 0.32423112 0.56946963 0.20093944 0.39417203 0.2690985\n",
      "  0.25200779 0.63258575 0.04548286 0.59827831 0.44342471 0.26545126\n",
      "  0.3860194  0.65733952 0.33609682 0.23118836]\n",
      " [0.60815342 0.85327702 0.60257525 0.38586454 0.70927493 0.68314782\n",
      "  0.3847637  0.37281708 0.66237081 0.5778303  0.46738231 0.13001176\n",
      "  0.71416118 0.47336681 0.52645801 0.23534348 0.38518261 0.34406935\n",
      "  0.6015616  0.28408018 0.32424396 0.         0.63026068 0.60106407\n",
      "  0.44340451 0.51929124 0.18113001 0.2792812  0.49338967 0.26205893\n",
      "  0.05906271 0.15746591 0.71777695 0.69927004 0.67464014 0.71216933\n",
      "  0.63588516 0.52098456 0.16752509 0.15785178 0.5112743  0.51063511\n",
      "  0.79561369 0.39024849 0.40691529 0.60247385 0.38740065 0.59473108\n",
      "  0.20519868 0.49259424 0.4082015  0.0941871  0.61165272 0.29935295\n",
      "  0.62286377 0.59958312 0.77556857 0.29200875 0.20715937 0.67686172\n",
      "  0.43080978 0.55488231 0.21650162 0.56346484 0.61597846 0.50690931\n",
      "  0.71089012 0.27219033 0.55656208 0.29736156 0.68805775 0.53928277\n",
      "  0.47911703 0.68866741 0.62958821 0.56019998 0.60389925 0.11934548\n",
      "  0.37478045 0.40430542 0.71580443 0.18583756 0.47403276 0.63566418\n",
      "  0.23137738 0.33062744 0.81695676 0.29740474 0.20104113 0.4697951\n",
      "  0.08388242 0.71391671 0.28514243 0.78456762 0.2736679  0.58322995\n",
      "  0.15402542 0.53655566 0.61602374 0.50422099]\n",
      " [0.86410611 0.64296282 0.50285595 0.73671239 0.64433567 0.27110235\n",
      "  0.37088157 0.45912222 0.04447512 0.32392324 0.52263473 0.75807447\n",
      "  0.91048676 0.33082169 0.10529687 0.3950884  0.40950707 0.827352\n",
      "  0.13485507 0.37214847 0.32880412 0.63026068 0.         0.70126885\n",
      "  0.26512427 0.66711352 0.8000072  0.35335583 0.57334533 0.77586138\n",
      "  0.68350737 0.65648016 0.87503057 0.76824037 0.86149187 0.32523348\n",
      "  0.68111884 0.74908509 0.50365685 0.60928638 0.86820691 0.37575308\n",
      "  0.50562445 0.77515164 0.58728066 0.43647808 0.26999908 0.22277989\n",
      "  0.76690416 0.24237395 0.22525903 0.5828476  0.66813944 0.90858425\n",
      "  0.47331594 0.20117894 0.63788858 0.34938039 0.42927642 0.68341008\n",
      "  0.37245692 0.87888222 0.83919254 0.2247385  0.71058564 0.95044585\n",
      "  0.40601824 0.83905798 0.8338483  0.91700482 0.10971121 0.87046583\n",
      "  0.40564958 0.21493374 0.06938771 0.16902465 0.835544   0.74949515\n",
      "  0.74386951 0.83519153 0.92659893 0.81360014 0.36936717 1.03252423\n",
      "  0.46449383 0.62936708 0.60737923 0.50839259 0.72297497 0.47898807\n",
      "  0.54823616 0.8453994  0.37426806 0.71798102 0.77058966 0.09321885\n",
      "  0.71336024 0.96726074 0.06911254 0.13671437]\n",
      " [0.20061182 0.36147529 0.22253229 0.27364775 0.17641399 0.50752283\n",
      "  0.37144726 0.29729233 0.69608009 0.39095958 0.19197529 0.63459487\n",
      "  0.21098742 0.37386966 0.65872362 0.55598278 0.80924985 0.42401974\n",
      "  0.78639266 0.65561997 0.48769288 0.60106407 0.70126885 0.\n",
      "  0.74618092 0.08214516 0.73798326 0.59350754 0.1404023  0.45491091\n",
      "  0.64577279 0.46052088 0.17402158 0.09884223 0.16350499 0.48415585\n",
      "  0.05801393 0.13533921 0.47106001 0.44430162 0.29267628 0.32558785\n",
      "  0.40692621 0.30677213 0.19804151 0.29107607 0.67483994 0.84616895\n",
      "  0.51429155 0.46216303 0.5669215  0.5099025  0.04685034 0.84445514\n",
      "  0.26585131 0.83404642 0.26365321 0.62624639 0.52127311 0.10446764\n",
      "  0.82264262 0.26520042 0.75439634 0.4808432  0.01497595 0.42033103\n",
      "  0.40611443 0.85938799 0.20242225 0.82201475 0.80980745 0.26813906\n",
      "  0.29780075 0.8937139  0.64414467 0.53307415 0.16569756 0.64781028\n",
      "  0.29246015 0.36398261 0.22893426 0.6589991  0.3347614  0.42333241\n",
      "  0.42630262 0.27349711 0.34265266 0.32753527 0.46600652 0.2293635\n",
      "  0.5932282  0.1472472  0.47007153 0.21636127 0.434623   0.60816271\n",
      "  0.50991254 0.41529671 0.74613394 0.67550784]\n",
      " [0.86126057 0.80878578 0.60373589 0.68049751 0.75163648 0.47600293\n",
      "  0.3750513  0.45238559 0.30909601 0.45768269 0.554434   0.57220139\n",
      "  0.93592246 0.39862358 0.17787051 0.24247509 0.14439734 0.7243548\n",
      "  0.17458726 0.15976729 0.2616836  0.44340451 0.26512427 0.74618092\n",
      "  0.         0.68684812 0.58796506 0.18780196 0.60580741 0.65504721\n",
      "  0.48542189 0.52548733 0.91378776 0.83367664 0.88703122 0.52770025\n",
      "  0.74666114 0.7461556  0.37666779 0.48512888 0.82323597 0.45968421\n",
      "  0.68998443 0.70939204 0.57702497 0.55484488 0.07443272 0.15133717\n",
      "  0.62360972 0.33190789 0.18585248 0.43124619 0.72719503 0.68442162\n",
      "  0.59162489 0.15709318 0.77444178 0.16112924 0.28940804 0.76548886\n",
      "  0.11208792 0.84872974 0.62817032 0.37195527 0.75903095 0.87332117\n",
      "  0.58402706 0.60161672 0.81941862 0.69977411 0.27208388 0.83659673\n",
      "  0.46614712 0.24638053 0.30769044 0.32453708 0.84030148 0.55823087\n",
      "  0.68094244 0.75576203 0.94723408 0.62732958 0.43262573 0.98053997\n",
      "  0.37123696 0.57630452 0.76976879 0.45691265 0.59318686 0.52093737\n",
      "  0.3608616  0.89228165 0.29097804 0.83367246 0.65665804 0.28379894\n",
      "  0.56649281 0.89683187 0.21600719 0.13840834]\n",
      " [0.19948225 0.41709099 0.23011883 0.20146519 0.23477851 0.50074963\n",
      "  0.31660982 0.23446334 0.66685255 0.37457251 0.1445368  0.55307512\n",
      "  0.2503187  0.33629831 0.61431171 0.48508146 0.74081729 0.35434183\n",
      "  0.74141847 0.58651407 0.425628   0.51929124 0.66711352 0.08214516\n",
      "  0.68684812 0.         0.65621018 0.52573814 0.094426   0.37815309\n",
      "  0.56366081 0.37848411 0.22764959 0.17998971 0.20096796 0.48585647\n",
      "  0.12732373 0.09418656 0.39297466 0.36229627 0.25206869 0.29775078\n",
      "  0.43880947 0.23886949 0.12022915 0.29030456 0.61399992 0.79554102\n",
      "  0.43511553 0.42484825 0.51310326 0.42859921 0.10516731 0.76342445\n",
      "  0.27433487 0.78494833 0.32050987 0.5587127  0.44798606 0.17455077\n",
      "  0.75730046 0.23809258 0.67313924 0.45460387 0.09691548 0.37429929\n",
      "  0.41800944 0.77728618 0.18003494 0.74160726 0.77348879 0.23616576\n",
      "  0.26236678 0.84977232 0.61491209 0.50239038 0.16894451 0.5660265\n",
      "  0.22021138 0.30133097 0.26360868 0.57859331 0.29797403 0.40182632\n",
      "  0.35168505 0.19138099 0.39277699 0.25203849 0.38572386 0.18824075\n",
      "  0.51355512 0.21020625 0.40333695 0.28930344 0.35822197 0.57519357\n",
      "  0.42867364 0.37483492 0.70627283 0.62724361]\n",
      " [0.70323486 1.01982514 0.77059281 0.48732494 0.86536574 0.8642764\n",
      "  0.56414215 0.54412825 0.83453717 0.75775068 0.62919318 0.10484626\n",
      "  0.81531393 0.6532831  0.69496618 0.4093602  0.49663462 0.38940583\n",
      "  0.75650534 0.43628944 0.50428811 0.18113001 0.8000072  0.73798326\n",
      "  0.58796506 0.65621018 0.         0.44669676 0.64761981 0.31542958\n",
      "  0.12224541 0.27860275 0.82919355 0.8329033  0.78245912 0.89293905\n",
      "  0.78002998 0.6370008  0.3465817  0.3047812  0.58395232 0.6880772\n",
      "  0.97078686 0.47618209 0.55532693 0.77654994 0.54333107 0.73618474\n",
      "  0.24385005 0.6735982  0.58256459 0.26520684 0.75612167 0.11886558\n",
      "  0.79439108 0.74457248 0.93731392 0.45267229 0.38631046 0.82421222\n",
      "  0.5481867  0.63362977 0.04020529 0.74447666 0.75242682 0.53881253\n",
      "  0.8891372  0.13014075 0.65178769 0.11766412 0.84813717 0.61769055\n",
      "  0.65452103 0.83355693 0.80468546 0.73991225 0.70708842 0.0901844\n",
      "  0.47161496 0.46422722 0.81261314 0.1068386  0.65203222 0.67248802\n",
      "  0.40981797 0.46547543 0.98478315 0.4636423  0.2787299  0.63768308\n",
      "  0.25480086 0.83217036 0.46607101 0.93609058 0.33462156 0.75930892\n",
      "  0.22984425 0.57044396 0.77898528 0.66899773]\n",
      " [0.68696822 0.7258892  0.49161928 0.49637945 0.63208494 0.45918345\n",
      "  0.23993355 0.29682449 0.38813665 0.38959453 0.40752009 0.40880776\n",
      "  0.76955291 0.29928412 0.24850249 0.05478787 0.21575124 0.53675783\n",
      "  0.32581605 0.06388206 0.117957   0.2792812  0.35335583 0.59350754\n",
      "  0.18780196 0.52573814 0.44669676 0.         0.45506503 0.46868669\n",
      "  0.3306824  0.3395511  0.75300273 0.68721406 0.7217551  0.50066576\n",
      "  0.60399652 0.57442432 0.18890395 0.2979299  0.63943179 0.35692747\n",
      "  0.62999656 0.52349499 0.40928833 0.4597884  0.11773236 0.33314513\n",
      "  0.44143091 0.27165986 0.14138949 0.24867461 0.58222955 0.5565917\n",
      "  0.49211546 0.3334793  0.67236968 0.03301204 0.1016089  0.63061319\n",
      "  0.23292108 0.66755096 0.485837   0.33678035 0.60744081 0.6857352\n",
      "  0.52911323 0.49379026 0.64255692 0.56385199 0.40923489 0.65477258\n",
      "  0.34709802 0.42033061 0.3609391  0.31410324 0.6688038  0.39852003\n",
      "  0.495721   0.56833301 0.77894361 0.46467535 0.32190767 0.79466328\n",
      "  0.18800458 0.39490611 0.68655223 0.28126819 0.40770712 0.3829594\n",
      "  0.1959837  0.73542674 0.1235342  0.71493507 0.46956184 0.31779441\n",
      "  0.38467007 0.7095536  0.33677367 0.22494379]\n",
      " [0.29374794 0.38204442 0.15659922 0.24819689 0.21775546 0.4103071\n",
      "  0.23130007 0.15824059 0.57252709 0.28195424 0.05251396 0.54871553\n",
      "  0.33966097 0.24259539 0.52339458 0.41991407 0.67072985 0.39698349\n",
      "  0.65089056 0.51779321 0.34753055 0.49338967 0.57334533 0.1404023\n",
      "  0.60580741 0.094426   0.64761981 0.45506503 0.         0.40208519\n",
      "  0.54381583 0.37074315 0.3104443  0.23216125 0.29022594 0.39925994\n",
      "  0.15125213 0.18408135 0.34754277 0.34364235 0.33243545 0.20346804\n",
      "  0.37532883 0.29078397 0.09478062 0.20645069 0.53444972 0.7079493\n",
      "  0.44797948 0.33133948 0.42733705 0.39947142 0.12825264 0.76072355\n",
      "  0.19790929 0.69647284 0.29254196 0.4875946  0.38801581 0.18599913\n",
      "  0.68287169 0.32597846 0.66955825 0.36021058 0.15353646 0.44692058\n",
      "  0.33860532 0.76134233 0.27119064 0.74318539 0.68021912 0.32195673\n",
      "  0.16808863 0.75890958 0.52056688 0.40807686 0.26335571 0.55846963\n",
      "  0.26508823 0.35799311 0.35452058 0.58215024 0.2039937  0.48919652\n",
      "  0.2961709  0.19293528 0.35141906 0.20180872 0.3944261  0.09441569\n",
      "  0.47299993 0.28678818 0.33153849 0.29117937 0.38405563 0.48116969\n",
      "  0.42947829 0.45187523 0.61385559 0.53815604]\n",
      " [0.38944904 0.78306941 0.55185553 0.184015   0.60851325 0.73570656\n",
      "  0.43246087 0.36734737 0.79697837 0.60732713 0.40517392 0.21357921\n",
      "  0.50231125 0.51402834 0.68347862 0.41406456 0.63028756 0.08233984\n",
      "  0.7864911  0.5007257  0.44776424 0.26205893 0.77586138 0.45491091\n",
      "  0.65504721 0.37815309 0.31542958 0.46868669 0.40208519 0.\n",
      "  0.27108949 0.12965456 0.52033047 0.5420109  0.47243879 0.74653287\n",
      "  0.50538746 0.3362325  0.28198331 0.17155912 0.26883877 0.52205535\n",
      "  0.77004014 0.16374848 0.30926188 0.58218784 0.58639549 0.80178424\n",
      "  0.07167511 0.57269691 0.55556029 0.22720554 0.48324948 0.4041284\n",
      "  0.58709675 0.80139822 0.69044688 0.49392338 0.36829909 0.55269931\n",
      "  0.66988038 0.31821744 0.31976046 0.63608346 0.46803203 0.24500592\n",
      "  0.71250687 0.44546418 0.33861925 0.37625291 0.85764855 0.30227177\n",
      "  0.47970544 0.88671341 0.75304333 0.65627879 0.39609141 0.23345801\n",
      "  0.16601011 0.15065911 0.49846784 0.21751972 0.49452461 0.37531489\n",
      "  0.31147153 0.21128691 0.75338172 0.28820103 0.06387184 0.4319497\n",
      "  0.3182616  0.52742117 0.40262819 0.66745284 0.0207009  0.70479185\n",
      "  0.10841933 0.27501822 0.78246204 0.67370668]\n",
      " [0.63827935 0.90838887 0.65795307 0.41617024 0.76082436 0.74211487\n",
      "  0.44354467 0.42897685 0.71671081 0.63676657 0.5204126  0.09137443\n",
      "  0.74694502 0.53229203 0.57903308 0.28993174 0.41303563 0.35299829\n",
      "  0.64848999 0.3282858  0.38230423 0.05906271 0.68350737 0.64577279\n",
      "  0.48542189 0.56366081 0.12224541 0.3306824  0.54381583 0.27108949\n",
      "  0.         0.18949337 0.75409847 0.74315961 0.70954157 0.77123076\n",
      "  0.68321302 0.55790858 0.22606638 0.20195681 0.53276759 0.56892236\n",
      "  0.85333935 0.41490141 0.45486692 0.65979316 0.43401602 0.63614487\n",
      "  0.20512937 0.55135288 0.4633186  0.14855816 0.65902393 0.24029451\n",
      "  0.67939651 0.6424377  0.82907291 0.34023411 0.26459769 0.72539188\n",
      "  0.4615674  0.5789176  0.15847734 0.62223127 0.66057599 0.51423991\n",
      "  0.76944735 0.21785926 0.58638212 0.23904662 0.73727357 0.5630601\n",
      "  0.53677136 0.73173216 0.68523467 0.61811248 0.63682516 0.07388197\n",
      "  0.40320511 0.41979639 0.74710598 0.14353621 0.5324658  0.64601288\n",
      "  0.28978917 0.37283995 0.87244966 0.35147785 0.21649441 0.52494648\n",
      "  0.13538519 0.75257162 0.34382866 0.83470379 0.28606059 0.63931274\n",
      "  0.16481596 0.54493206 0.6663346  0.55511072]\n",
      " [0.45123282 0.74810315 0.50253866 0.228758   0.58812283 0.64428028\n",
      "  0.33446865 0.28780539 0.68043765 0.52237674 0.35701422 0.1779857\n",
      "  0.55845302 0.42201437 0.56080418 0.28510371 0.50348953 0.20390048\n",
      "  0.65975696 0.37119742 0.32782244 0.15746591 0.65648016 0.46052088\n",
      "  0.52548733 0.37848411 0.27860275 0.3395511  0.37074315 0.12965456\n",
      "  0.18949337 0.         0.56464159 0.55667222 0.52030272 0.6623087\n",
      "  0.50150346 0.36842182 0.15518847 0.04771968 0.35501512 0.44225463\n",
      "  0.7124022  0.23324905 0.27737208 0.5185007  0.45728152 0.67269218\n",
      "  0.1114568  0.46839977 0.43315931 0.09923365 0.47755978 0.39002504\n",
      "  0.53105237 0.67273029 0.66238414 0.3643583  0.23993873 0.54561316\n",
      "  0.5416585  0.39770573 0.29887523 0.53570019 0.47512489 0.3634458\n",
      "  0.64149246 0.39898895 0.39951415 0.37291551 0.73379865 0.38218531\n",
      "  0.40315941 0.75863619 0.63896075 0.54868959 0.44819869 0.1886313\n",
      "  0.21733385 0.2533586  0.55937942 0.21421336 0.4099153  0.48696349\n",
      "  0.19459197 0.18722295 0.71452867 0.20342033 0.06836697 0.37192297\n",
      "  0.19532032 0.56321579 0.28234304 0.65770708 0.13324933 0.59063513\n",
      "  0.06577215 0.39123379 0.65876707 0.54867418]\n",
      " [0.14182696 0.45357613 0.38657586 0.34189289 0.29106105 0.67222346\n",
      "  0.54106784 0.46161059 0.86902706 0.56155479 0.36291356 0.72442094\n",
      "  0.05442411 0.5478317  0.83229625 0.71116185 0.96764975 0.46462259\n",
      "  0.95995951 0.81325887 0.65298932 0.71777695 0.87503057 0.17402158\n",
      "  0.91378776 0.22764959 0.82919355 0.75300273 0.3104443  0.52033047\n",
      "  0.75409847 0.56464159 0.         0.12838514 0.04885747 0.64356767\n",
      "  0.20061009 0.19679468 0.61098343 0.5608532  0.2790642  0.49927798\n",
      "  0.5378041  0.35664444 0.3445597  0.45672914 0.8412699  1.01836691\n",
      "  0.58910567 0.6361799  0.73752855 0.63340344 0.20874081 0.92430545\n",
      "  0.42710115 1.00672023 0.36462191 0.78600229 0.67248249 0.2187994\n",
      "  0.98487228 0.230575   0.83834336 0.65367457 0.16448278 0.39619344\n",
      "  0.55918749 0.95687617 0.18579786 0.89645258 0.98371542 0.24289903\n",
      "  0.47176987 1.06747405 0.81718575 0.70658302 0.12519415 0.74111772\n",
      "  0.35770655 0.390212   0.0762167  0.73715233 0.50871813 0.34400278\n",
      "  0.57552046 0.39052872 0.44822625 0.47601738 0.55051234 0.40236071\n",
      "  0.72544916 0.03764891 0.63090551 0.2797034  0.49983293 0.78187082\n",
      "  0.60053758 0.37861615 0.92014597 0.84828195]\n",
      " [0.22445669 0.3304879  0.26900689 0.35821599 0.16267591 0.55141253\n",
      "  0.45891736 0.39039359 0.7585682  0.44805985 0.2808223  0.72891254\n",
      "  0.18063088 0.44929581 0.73503098 0.65155337 0.90284283 0.50281892\n",
      "  0.86220378 0.74994234 0.5784318  0.69927004 0.76824037 0.09884223\n",
      "  0.83367664 0.17998971 0.8329033  0.68721406 0.23216125 0.5420109\n",
      "  0.74315961 0.55667222 0.12838514 0.         0.14776956 0.51978745\n",
      "  0.08835581 0.20808531 0.56966382 0.54213179 0.34598389 0.39517953\n",
      "  0.40942728 0.38616951 0.29682982 0.33893375 0.76371935 0.9264089\n",
      "  0.60450966 0.53528953 0.6514137  0.60848179 0.10648167 0.93736332\n",
      "  0.3065737  0.91307349 0.23829632 0.71970848 0.61809608 0.09216688\n",
      "  0.91417192 0.3072287  0.84792483 0.54413084 0.08387457 0.47315226\n",
      "  0.43347491 0.95564585 0.24762506 0.91363641 0.87778873 0.31478753\n",
      "  0.37429522 0.96800482 0.70727768 0.59923316 0.19281111 0.74284565\n",
      "  0.37661316 0.4363442  0.2022668  0.75089083 0.41082044 0.44877047\n",
      "  0.52387259 0.3703682  0.32207737 0.42561886 0.55821923 0.31282513\n",
      "  0.69205747 0.09102921 0.56369412 0.16085519 0.52142049 0.67517207\n",
      "  0.60379342 0.46221015 0.81779557 0.75483632]\n",
      " [0.0937968  0.47825002 0.38468801 0.29550901 0.30631043 0.67045264\n",
      "  0.51752952 0.43490783 0.85790251 0.55434759 0.34250095 0.67778105\n",
      "  0.04948102 0.53173107 0.81357343 0.67815107 0.93522749 0.41588489\n",
      "  0.94100119 0.78091429 0.62545548 0.67464014 0.86149187 0.16350499\n",
      "  0.88703122 0.20096796 0.78245912 0.7217551  0.29022594 0.47243879\n",
      "  0.70954157 0.52030272 0.04885747 0.14776956 0.         0.64531908\n",
      "  0.20265505 0.15501245 0.57341858 0.5184929  0.23065263 0.48675592\n",
      "  0.55186185 0.30869173 0.31249335 0.45395971 0.81380404 0.99636697\n",
      "  0.54160252 0.62051909 0.71406294 0.59188752 0.20513302 0.87653485\n",
      "  0.42711717 0.98555941 0.38556589 0.7547589  0.6381187  0.23037414\n",
      "  0.95438205 0.18285839 0.79097401 0.64302602 0.15770415 0.34949767\n",
      "  0.56418422 0.91055529 0.13695468 0.84838511 0.96927534 0.1947227\n",
      "  0.45609209 1.04910283 0.80589518 0.69419431 0.07660473 0.69477923\n",
      "  0.31084755 0.34136674 0.06552418 0.68952951 0.49274666 0.3054006\n",
      "  0.54106227 0.35014432 0.46927642 0.44225041 0.50396369 0.38417242\n",
      "  0.68534369 0.07102236 0.60091393 0.30721645 0.45200399 0.76867498\n",
      "  0.55437747 0.3331008  0.90380963 0.82759394]\n",
      " [0.67904757 0.32184286 0.26176949 0.63380673 0.36750502 0.05452391\n",
      "  0.33140334 0.37959862 0.29501424 0.14007336 0.36600606 0.81761808\n",
      "  0.68976511 0.2418124  0.35785565 0.50977421 0.65800292 0.76761304\n",
      "  0.45551575 0.5527425  0.40047697 0.71216933 0.32523348 0.48415585\n",
      "  0.52770025 0.48585647 0.89293905 0.50066576 0.39925994 0.74653287\n",
      "  0.77123076 0.6623087  0.64356767 0.51978745 0.64531908 0.\n",
      "  0.44383667 0.57985067 0.54702547 0.6177904  0.73166615 0.22456423\n",
      "  0.18117032 0.67723136 0.46272015 0.1958159  0.48999132 0.5409217\n",
      "  0.76792764 0.22976025 0.37176393 0.63129172 0.44031345 1.01148952\n",
      "  0.21836691 0.52070856 0.33500834 0.51831858 0.51572403 0.42772842\n",
      "  0.6384419  0.72353716 0.92635264 0.16479487 0.48799716 0.84321077\n",
      "  0.09200432 0.97226439 0.66576416 1.007187   0.4250782  0.72049486\n",
      "  0.26741088 0.53916841 0.25609345 0.20347789 0.64524433 0.81782627\n",
      "  0.64787734 0.7449206  0.70953204 0.86641526 0.25318038 0.8872604\n",
      "  0.48512697 0.54599961 0.28886682 0.46191091 0.71408458 0.32668633\n",
      "  0.64855469 0.60828079 0.43107962 0.42630133 0.73337914 0.25409538\n",
      "  0.72799882 0.85011076 0.39255197 0.39508888]\n",
      " [0.25361599 0.30349499 0.18606782 0.32673078 0.11853882 0.47162076\n",
      "  0.37250247 0.30790077 0.67249714 0.36287576 0.19647773 0.67777443\n",
      "  0.2459691  0.36094336 0.64670508 0.57053965 0.8191775  0.47852968\n",
      "  0.77392113 0.66720462 0.49325768 0.63588516 0.68111884 0.05801393\n",
      "  0.74666114 0.12732373 0.78002998 0.60399652 0.15125213 0.50538746\n",
      "  0.68321302 0.50150346 0.20061009 0.08835581 0.20265505 0.44383667\n",
      "  0.         0.19305306 0.49688019 0.48126838 0.3506291  0.30715175\n",
      "  0.35388083 0.36166246 0.2289787  0.25628466 0.67728967 0.83809347\n",
      "  0.56223768 0.44708267 0.56373997 0.54308334 0.0242328  0.88889929\n",
      "  0.22659013 0.82472203 0.20568992 0.63620084 0.53924527 0.04786021\n",
      "  0.82895651 0.32219473 0.79828513 0.45754192 0.05230435 0.47833842\n",
      "  0.36157635 0.89891343 0.2593881  0.86785685 0.79053829 0.32562901\n",
      "  0.28597046 0.87985731 0.62098033 0.51210078 0.21870543 0.68991835\n",
      "  0.34557241 0.42044115 0.26596674 0.7049306  0.32246877 0.47851304\n",
      "  0.44716184 0.31465255 0.2852253  0.35125956 0.51232467 0.22578327\n",
      "  0.62144664 0.16700527 0.48074031 0.16226402 0.48538492 0.58795857\n",
      "  0.55412402 0.47310093 0.7299023  0.66650348]\n",
      " [0.11666361 0.49566589 0.32398818 0.15243382 0.31053689 0.59370711\n",
      "  0.38741658 0.2998391  0.75157617 0.46603291 0.22940841 0.53218829\n",
      "  0.19886208 0.41971496 0.68950204 0.52855976 0.78564473 0.294817\n",
      "  0.81522159 0.63182539 0.48509012 0.52098456 0.74908509 0.13533921\n",
      "  0.7461556  0.09418656 0.6370008  0.57442432 0.18408135 0.3362325\n",
      "  0.55790858 0.36842182 0.19679468 0.20808531 0.15501245 0.57985067\n",
      "  0.19305306 0.         0.41944025 0.36413749 0.16100244 0.38642319\n",
      "  0.52925417 0.17809593 0.16989373 0.38442607 0.67208025 0.8638538\n",
      "  0.40143194 0.50702303 0.58080199 0.43708824 0.17722078 0.73657589\n",
      "  0.36830333 0.85480937 0.39786982 0.60728742 0.48700236 0.23978618\n",
      "  0.80732127 0.14390632 0.64866457 0.54210013 0.14473111 0.28687254\n",
      "  0.51201748 0.76328771 0.08711791 0.71094284 0.85354694 0.14234981\n",
      "  0.34849985 0.92384265 0.69990928 0.58742341 0.09442704 0.54793947\n",
      "  0.1702225  0.23040343 0.20565062 0.54923154 0.38259701 0.30764357\n",
      "  0.39025991 0.19516004 0.47493316 0.29320081 0.35872859 0.27403364\n",
      "  0.53033505 0.1954003  0.45636969 0.35010225 0.31554086 0.65844381\n",
      "  0.40730048 0.28443301 0.7842575  0.69904175]\n",
      " [0.52424227 0.69100855 0.44046651 0.31765146 0.55680395 0.52065788\n",
      "  0.21760418 0.21035913 0.52960448 0.41117411 0.31349899 0.27304527\n",
      "  0.61830094 0.30671651 0.40630833 0.13419457 0.37683707 0.34795114\n",
      "  0.50484606 0.23044487 0.17702989 0.16752509 0.50365685 0.47106001\n",
      "  0.37666779 0.39297466 0.3465817  0.18890395 0.34754277 0.28198331\n",
      "  0.22606638 0.15518847 0.61098343 0.56966382 0.57341858 0.54702547\n",
      "  0.49688019 0.41944025 0.         0.11042509 0.45968166 0.34314483\n",
      "  0.62855463 0.34012139 0.27323938 0.43611866 0.30591963 0.52086257\n",
      "  0.26372796 0.33362145 0.27911913 0.08573701 0.47297734 0.46541023\n",
      "  0.45799321 0.51980209 0.61742503 0.21687476 0.08733558 0.53353985\n",
      "  0.4075839  0.49262718 0.37935278 0.40386836 0.48595285 0.49771912\n",
      "  0.54340197 0.43757105 0.47609593 0.46016225 0.57877305 0.47876545\n",
      "  0.31235857 0.60475474 0.49043759 0.40790088 0.51137419 0.271431\n",
      "  0.31429924 0.38087259 0.62442557 0.3249478  0.30650769 0.61009893\n",
      "  0.06389479 0.2264628  0.65391627 0.14577789 0.22334813 0.30923989\n",
      "  0.12607472 0.60005781 0.13236423 0.63545066 0.28152481 0.44240702\n",
      "  0.20970488 0.52227301 0.5038105  0.39350313]\n",
      " [0.45598491 0.71565808 0.46760634 0.2362884  0.56131108 0.59851332\n",
      "  0.28850378 0.24691683 0.63291223 0.47812049 0.3245847  0.21010159\n",
      "  0.55928164 0.37675371 0.51429067 0.2431698  0.47209402 0.2395993\n",
      "  0.61511876 0.33388948 0.28051736 0.15785178 0.60928638 0.44430162\n",
      "  0.48512888 0.36229627 0.3047812  0.2979299  0.34364235 0.17155912\n",
      "  0.20195681 0.04771968 0.5608532  0.54213179 0.5184929  0.6177904\n",
      "  0.48126838 0.36413749 0.11042509 0.         0.37160447 0.39955128\n",
      "  0.67382426 0.24909977 0.25319652 0.47936866 0.41547438 0.63072772\n",
      "  0.15917618 0.42115225 0.3864904  0.075515   0.45708598 0.42013807\n",
      "  0.4939245  0.63001518 0.6325328  0.32429029 0.1969874  0.52367417\n",
      "  0.50766089 0.41056733 0.32929022 0.48880613 0.45915968 0.39418825\n",
      "  0.59987528 0.41828531 0.40508583 0.40627562 0.68773154 0.39558636\n",
      "  0.36157612 0.71516269 0.5912811  0.50111386 0.44929505 0.21697559\n",
      "  0.22817398 0.27980692 0.56206297 0.25234273 0.36629919 0.51269702\n",
      "  0.14687327 0.17278909 0.68112141 0.16312671 0.11396233 0.33543456\n",
      "  0.17408074 0.55625685 0.23503681 0.63373587 0.17163197 0.54295117\n",
      "  0.11120366 0.42041891 0.61262191 0.50303387]\n",
      " [0.13733938 0.65412224 0.48149087 0.14305768 0.46908798 0.74067837\n",
      "  0.49752923 0.40909319 0.87642929 0.60975662 0.36917244 0.48236471\n",
      "  0.24753975 0.54840767 0.79645455 0.58746619 0.8364302  0.19762232\n",
      "  0.91731257 0.68867701 0.57208803 0.5112743  0.86820691 0.29267628\n",
      "  0.82323597 0.25206869 0.58395232 0.63943179 0.33243545 0.26883877\n",
      "  0.53276759 0.35501512 0.2790642  0.34598389 0.23065263 0.73166615\n",
      "  0.3506291  0.16100244 0.45968166 0.37160447 0.         0.52553055\n",
      "  0.689974   0.12258495 0.28378666 0.53823447 0.74911679 0.95480444\n",
      "  0.34050188 0.63101426 0.67728513 0.44637751 0.3368514  0.66628105\n",
      "  0.52535788 0.94880617 0.55631715 0.67063014 0.541395   0.39563193\n",
      "  0.86656454 0.05160219 0.58591115 0.67572657 0.2996731  0.12821821\n",
      "  0.66860487 0.71407651 0.09882357 0.63499303 0.96744764 0.03682569\n",
      "  0.48420955 1.0249243  0.82597239 0.71521809 0.15854137 0.50196678\n",
      "  0.14547846 0.12083213 0.23900466 0.48319819 0.5145814  0.16432521\n",
      "  0.45222095 0.24803264 0.63482992 0.3712519  0.3163909  0.41238147\n",
      "  0.54535905 0.29790266 0.53496311 0.50064537 0.25048092 0.78147688\n",
      "  0.36839194 0.12343249 0.89490976 0.79955181]\n",
      " [0.49719509 0.36922358 0.14413807 0.41536398 0.29244574 0.21962549\n",
      "  0.12926299 0.15589264 0.37119117 0.08728637 0.15768965 0.60513779\n",
      "  0.53545401 0.06126183 0.34098537 0.34485551 0.55725655 0.54411323\n",
      "  0.46753447 0.41921811 0.2395233  0.51063511 0.37575308 0.32558785\n",
      "  0.45968421 0.29775078 0.6880772  0.35692747 0.20346804 0.52205535\n",
      "  0.56892236 0.44225463 0.49927798 0.39517953 0.48675592 0.22456423\n",
      "  0.30715175 0.38642319 0.34314483 0.39955128 0.52553055 0.\n",
      "  0.28672561 0.45841281 0.24557983 0.10292841 0.39766778 0.5349917\n",
      "  0.54540584 0.1405053  0.27400021 0.42295891 0.29291339 0.80686214\n",
      "  0.13585882 0.52042672 0.31850556 0.38421737 0.33470884 0.31521193\n",
      "  0.5553456  0.52551996 0.71880346 0.15706373 0.33483681 0.62896377\n",
      "  0.20136663 0.77973204 0.4733996  0.79875559 0.48458475 0.51989033\n",
      "  0.04346055 0.57286206 0.31917079 0.20754612 0.46644875 0.60772078\n",
      "  0.42818385 0.52547485 0.55212018 0.65116226 0.03747605 0.68688576\n",
      "  0.27926276 0.32268495 0.32999621 0.23953586 0.49110907 0.1134532\n",
      "  0.45857979 0.46987127 0.25191544 0.37407933 0.50881534 0.28259949\n",
      "  0.50800034 0.6388506  0.42278021 0.363566  ]\n",
      " [0.60702974 0.14315023 0.21944342 0.62337506 0.24677474 0.23463203\n",
      "  0.41582417 0.42761456 0.47617853 0.24095199 0.36487053 0.88320252\n",
      "  0.58958287 0.33486669 0.52894948 0.62618427 0.81078485 0.77184259\n",
      "  0.63393277 0.688642   0.5170408  0.79561369 0.50562445 0.40692621\n",
      "  0.68998443 0.43880947 0.97078686 0.62999656 0.37532883 0.77004014\n",
      "  0.85333935 0.7124022  0.5378041  0.40942728 0.55186185 0.18117032\n",
      "  0.35388083 0.52925417 0.62855463 0.67382426 0.689974   0.28672561\n",
      "  0.         0.66562414 0.46237921 0.19458797 0.64293581 0.71790076\n",
      "  0.80656368 0.36563521 0.51826909 0.70584701 0.36009741 1.08913994\n",
      "  0.18311022 0.69828697 0.18315002 0.65324597 0.62018189 0.3215044\n",
      "  0.79762866 0.66953273 0.9998214  0.31808656 0.40530357 0.81306891\n",
      "  0.10596867 1.06589737 0.60736918 1.07873216 0.60624574 0.67046671\n",
      "  0.31656845 0.72004045 0.43628207 0.36888559 0.57206169 0.88773984\n",
      "  0.64040523 0.73228925 0.61097341 0.92579138 0.32411966 0.82997071\n",
      "  0.56471986 0.55893011 0.11535646 0.51070915 0.75161037 0.34139529\n",
      "  0.74530506 0.50033801 0.53601911 0.27973246 0.75346202 0.42966931\n",
      "  0.77695176 0.81322231 0.57214568 0.56402749]\n",
      " [0.22706813 0.6556556  0.44738227 0.04346355 0.47355188 0.67796559\n",
      "  0.40611913 0.32177153 0.78768008 0.54548075 0.31256075 0.37223614\n",
      "  0.33929362 0.46969008 0.69631358 0.47045293 0.71610545 0.11734197\n",
      "  0.81326509 0.57023921 0.46533375 0.39024849 0.77515164 0.30677213\n",
      "  0.70939204 0.23886949 0.47618209 0.52349499 0.29078397 0.16374848\n",
      "  0.41490141 0.23324905 0.35664444 0.38616951 0.30869173 0.67723136\n",
      "  0.36166246 0.17809593 0.34012139 0.24909977 0.12258495 0.45841281\n",
      "  0.66562414 0.         0.21451131 0.49278251 0.63585644 0.84525419\n",
      "  0.23345511 0.54572306 0.57311592 0.32379372 0.34183228 0.56786568\n",
      "  0.48822542 0.84061257 0.5593503  0.55392488 0.42381511 0.40950917\n",
      "  0.7476917  0.16467769 0.4828539  0.59815425 0.31839192 0.17554978\n",
      "  0.62618445 0.60547985 0.17563443 0.53981294 0.86985243 0.14903684\n",
      "  0.41515807 0.91958789 0.73884964 0.63134584 0.23236023 0.39047446\n",
      "  0.03138208 0.06785483 0.33648661 0.38102246 0.44031489 0.27120376\n",
      "  0.33860146 0.14586136 0.63018839 0.26796384 0.200527   0.350548\n",
      "  0.42277692 0.36470764 0.42541152 0.52302484 0.14335122 0.69251177\n",
      "  0.25246846 0.19266713 0.79591817 0.69581044]\n",
      " [0.28626098 0.47661638 0.24323681 0.17109163 0.31089449 0.46448952\n",
      "  0.2197059  0.13098393 0.5935719  0.33207282 0.09957604 0.45528787\n",
      "  0.36053051 0.26463198 0.52221023 0.36660576 0.62327202 0.31114946\n",
      "  0.64693704 0.4688787  0.3155698  0.40691529 0.58728066 0.19804151\n",
      "  0.57702497 0.12022915 0.55532693 0.40928833 0.09478062 0.30926188\n",
      "  0.45486692 0.27737208 0.3445597  0.29682982 0.31249335 0.46272015\n",
      "  0.2289787  0.16989373 0.27323938 0.25319652 0.28378666 0.24557983\n",
      "  0.46237921 0.21451131 0.         0.28068571 0.5031815  0.69409119\n",
      "  0.35333947 0.34785461 0.41115818 0.3141867  0.20474594 0.66732841\n",
      "  0.28049189 0.68528246 0.38725287 0.44229678 0.32836763 0.27052656\n",
      "  0.64189295 0.29160359 0.57620646 0.39223791 0.21298228 0.38338506\n",
      "  0.41389005 0.67145817 0.24930578 0.6491014  0.68927431 0.28336224\n",
      "  0.20290124 0.7555096  0.5427625  0.43158406 0.26349248 0.4657319\n",
      "  0.18539467 0.28223079 0.37073836 0.48768535 0.23138105 0.44752724\n",
      "  0.23173899 0.09861658 0.44544731 0.13202063 0.2996675  0.13604042\n",
      "  0.39526499 0.32970611 0.28869671 0.38091559 0.29187448 0.49894831\n",
      "  0.33503871 0.39367555 0.61848144 0.53020418]\n",
      " [0.48352808 0.26630653 0.07024006 0.44944565 0.20847051 0.21650007\n",
      "  0.22938374 0.23302901 0.42254618 0.11256451 0.18112202 0.68862363\n",
      "  0.4999959  0.16176189 0.42114595 0.44729257 0.65806927 0.59157857\n",
      "  0.54363086 0.5218969  0.34245155 0.60247385 0.43647808 0.29107607\n",
      "  0.55484488 0.29030456 0.77654994 0.4597884  0.20645069 0.58218784\n",
      "  0.65979316 0.5185007  0.45672914 0.33893375 0.45395971 0.1958159\n",
      "  0.25628466 0.38442607 0.43611866 0.47936866 0.53823447 0.10292841\n",
      "  0.19458797 0.49278251 0.28068571 0.         0.49602048 0.61745124\n",
      "  0.61486184 0.22507033 0.37069478 0.51188129 0.24925117 0.89477094\n",
      "  0.03784591 0.6011207  0.21961243 0.48680778 0.43524639 0.24988131\n",
      "  0.653961   0.52826623 0.80531194 0.21248754 0.29628735 0.65320351\n",
      "  0.13341812 0.87367109 0.4700588  0.88415171 0.54602304 0.52565936\n",
      "  0.12399076 0.64465326 0.37222923 0.2698614  0.44993327 0.69318315\n",
      "  0.46497635 0.56058825 0.51897421 0.73149349 0.13914082 0.69202817\n",
      "  0.37256995 0.37292471 0.22711351 0.31624257 0.55989348 0.15027208\n",
      "  0.55560221 0.42321491 0.35370933 0.28561287 0.56664734 0.34502657\n",
      "  0.58338162 0.65829525 0.49205156 0.44851261]\n",
      " [0.78702345 0.7553294  0.54082826 0.60648499 0.68766223 0.44108927\n",
      "  0.3048382  0.37966138 0.31079607 0.40527281 0.48355855 0.51734516\n",
      "  0.86257648 0.33642165 0.16787774 0.17234978 0.16841991 0.65385459\n",
      "  0.21449862 0.10708527 0.18839118 0.38740065 0.26999908 0.67483994\n",
      "  0.07443272 0.61399992 0.54333107 0.11773236 0.53444972 0.58639549\n",
      "  0.43401602 0.45728152 0.8412699  0.76371935 0.81380404 0.48999132\n",
      "  0.67728967 0.67208025 0.30591963 0.41547438 0.74911679 0.39766778\n",
      "  0.64293581 0.63585644 0.5031815  0.49602048 0.         0.21541278\n",
      "  0.55845506 0.27852056 0.12605669 0.36557962 0.65729638 0.64629335\n",
      "  0.53193394 0.2161476  0.71522836 0.09611804 0.21864514 0.69787561\n",
      "  0.15794052 0.77434388 0.5833335  0.32801499 0.68791613 0.80097116\n",
      "  0.53760143 0.57130353 0.74502974 0.65818995 0.30484726 0.76225126\n",
      "  0.40031001 0.3038084  0.29690186 0.28769961 0.76629492 0.50506183\n",
      "  0.60719314 0.68322307 0.87364078 0.57306436 0.36826819 0.90690031\n",
      "  0.29739953 0.5019949  0.71600519 0.38248508 0.52541917 0.45156601\n",
      "  0.30361664 0.82041333 0.2165701  0.77021688 0.58708629 0.26322248\n",
      "  0.50152995 0.82406361 0.23736402 0.13329032]\n",
      " [0.98034833 0.84982607 0.67624126 0.81351347 0.82398561 0.48641445\n",
      "  0.47898314 0.56434154 0.26362912 0.50880513 0.65545901 0.72339541\n",
      "  1.04579498 0.47769602 0.19634101 0.38771978 0.25851248 0.86855583\n",
      "  0.08797846 0.31102266 0.38308666 0.59473108 0.22277989 0.84616895\n",
      "  0.15133717 0.79554102 0.73618474 0.33314513 0.7079493  0.80178424\n",
      "  0.63614487 0.67269218 1.01836691 0.9264089  0.99636697 0.5409217\n",
      "  0.83809347 0.8638538  0.52086257 0.63072772 0.95480444 0.5349917\n",
      "  0.71790076 0.84525419 0.69409119 0.61745124 0.21541278 0.\n",
      "  0.77312249 0.39533878 0.28314796 0.58033955 0.82105782 0.82874128\n",
      "  0.65529542 0.02222201 0.83201274 0.30969044 0.43376407 0.84993457\n",
      "  0.20750945 0.97630395 0.77634659 0.41079832 0.8577949  1.01331685\n",
      "  0.6143634  0.74103659 0.94183729 0.84607686 0.16834005 0.96514433\n",
      "  0.55212347 0.0984235  0.28789973 0.35427962 0.95657434 0.70919562\n",
      "  0.81573782 0.8953629  1.05897946 0.77841605 0.51573871 1.11521678\n",
      "  0.50732985 0.70677696 0.81248623 0.58396285 0.74081041 0.61684146\n",
      "  0.51216903 0.99341351 0.4202128  0.90296036 0.80228002 0.28823898\n",
      "  0.71607984 1.03546881 0.15396136 0.1716821 ]\n",
      " [0.46011468 0.82995548 0.59139591 0.24921121 0.66034495 0.75223104\n",
      "  0.44336142 0.38957452 0.79149591 0.62786288 0.44391545 0.14204158\n",
      "  0.57268768 0.52952387 0.67002012 0.38813405 0.58518124 0.14991678\n",
      "  0.76532746 0.46557802 0.43861753 0.20519868 0.76690416 0.51429155\n",
      "  0.62360972 0.43511553 0.24385005 0.44143091 0.44797948 0.07167511\n",
      "  0.20512937 0.1114568  0.58910567 0.60450966 0.54160252 0.76792764\n",
      "  0.56223768 0.40143194 0.26372796 0.15917618 0.34050188 0.54540584\n",
      "  0.80656368 0.23345511 0.35333947 0.61486184 0.55845506 0.77312249\n",
      "  0.         0.57910514 0.54279953 0.19287547 0.53934583 0.33553755\n",
      "  0.62365253 0.77460069 0.73976432 0.46343288 0.34504348 0.60882799\n",
      "  0.62778399 0.38986508 0.24943457 0.64576805 0.5279541  0.30936167\n",
      "  0.74175636 0.37383114 0.40896958 0.30957113 0.84200889 0.37391422\n",
      "  0.50470585 0.86176123 0.75032731 0.65991926 0.46555889 0.16223183\n",
      "  0.23215902 0.22181845 0.56933465 0.14814868 0.51477485 0.44179754\n",
      "  0.3060454  0.25512725 0.7985349  0.30611851 0.05497841 0.46536515\n",
      "  0.27214472 0.59469938 0.39318253 0.72328988 0.09082143 0.70201196\n",
      "  0.05712816 0.34026256 0.76719735 0.65631702]\n",
      " [0.62178365 0.477519   0.28099755 0.50514844 0.42908285 0.19258452\n",
      "  0.14192412 0.22419317 0.24574996 0.12677538 0.28032579 0.60657236\n",
      "  0.66972981 0.08881105 0.20054875 0.28048203 0.44554629 0.61205292\n",
      "  0.32706286 0.32628352 0.17241036 0.49259424 0.24237395 0.46216303\n",
      "  0.33190789 0.42484825 0.6735982  0.27165986 0.33133948 0.57269691\n",
      "  0.55135288 0.46839977 0.6361799  0.53528953 0.62051909 0.22976025\n",
      "  0.44708267 0.50702303 0.33362145 0.42115225 0.63101426 0.1405053\n",
      "  0.36563521 0.54572306 0.34785461 0.22507033 0.27852056 0.39533878\n",
      "  0.57910514 0.         0.15291715 0.41935845 0.43197316 0.79107777\n",
      "  0.26260161 0.38030141 0.44387711 0.29124465 0.28990001 0.45562911\n",
      "  0.43523464 0.63884466 0.70888526 0.07087925 0.47231249 0.72103004\n",
      "  0.26142137 0.74589795 0.59224483 0.78984053 0.34890617 0.63108966\n",
      "  0.16456986 0.43280742 0.19496543 0.08571632 0.59317674 0.60404121\n",
      "  0.51437039 0.60915659 0.68535332 0.65847383 0.12778121 0.79513011\n",
      "  0.27699985 0.40068438 0.43833495 0.28776224 0.52873336 0.23692394\n",
      "  0.42368691 0.60803692 0.20754596 0.5090289  0.56364224 0.1515554\n",
      "  0.53201458 0.7353941  0.28397637 0.22459288]\n",
      " [0.69735856 0.62927547 0.4179569  0.53838645 0.56578595 0.3260574\n",
      "  0.19661734 0.28119408 0.25455601 0.27949865 0.37510817 0.53444767\n",
      "  0.7634196  0.21284992 0.12792555 0.17340511 0.29263995 0.61222082\n",
      "  0.24032618 0.1833185  0.10920339 0.4082015  0.22525903 0.5669215\n",
      "  0.18585248 0.51310326 0.58256459 0.14138949 0.42733705 0.55556029\n",
      "  0.4633186  0.43315931 0.73752855 0.6514137  0.71406294 0.37176393\n",
      "  0.56373997 0.58080199 0.27911913 0.3864904  0.67728513 0.27400021\n",
      "  0.51826909 0.57311592 0.41115818 0.37069478 0.12605669 0.28314796\n",
      "  0.54279953 0.15291715 0.         0.35758879 0.54509354 0.69499512\n",
      "  0.4069923  0.2741653  0.59018961 0.15070095 0.20437624 0.58076703\n",
      "  0.28369246 0.6959797  0.62088751 0.20731873 0.57917605 0.74572554\n",
      "  0.41346466 0.63496681 0.65952872 0.70019076 0.30234566 0.68541907\n",
      "  0.28085038 0.34763917 0.22212088 0.17580393 0.67342697 0.52686409\n",
      "  0.54259083 0.62831637 0.77625003 0.58968784 0.24687733 0.83977441\n",
      "  0.24503093 0.43036367 0.58994872 0.30648315 0.50045054 0.33887412\n",
      "  0.32815114 0.71395015 0.1532804  0.64786562 0.55184493 0.17731977\n",
      "  0.48865878 0.76548281 0.2271694  0.12270204]\n",
      " [0.5311071  0.75998193 0.50945231 0.31180315 0.61510922 0.60595003\n",
      "  0.30050086 0.28047333 0.61072854 0.49430729 0.37323836 0.18738591\n",
      "  0.63344135 0.39010452 0.48282873 0.19588138 0.40426108 0.30311251\n",
      "  0.57342975 0.27448174 0.26020608 0.0941871  0.5828476  0.5099025\n",
      "  0.43124619 0.42859921 0.26520684 0.24867461 0.39947142 0.22720554\n",
      "  0.14855816 0.09923365 0.63340344 0.60848179 0.59188752 0.63129172\n",
      "  0.54308334 0.43708824 0.08573701 0.075515   0.44637751 0.42295891\n",
      "  0.70584701 0.32379372 0.3141867  0.51188129 0.36557962 0.58033955\n",
      "  0.19287547 0.41935845 0.35758879 0.         0.51885668 0.38392395\n",
      "  0.53094694 0.58172564 0.68155464 0.27068724 0.15473201 0.58347233\n",
      "  0.44280595 0.48593831 0.29614457 0.4895823  0.52486095 0.46233267\n",
      "  0.62415471 0.36557021 0.48036351 0.37655797 0.65247466 0.47089368\n",
      "  0.38941155 0.66896707 0.57316979 0.49315973 0.52369373 0.18653528\n",
      "  0.30354883 0.35064009 0.63669043 0.23927908 0.38710809 0.5842726\n",
      "  0.14618031 0.24324542 0.72393879 0.20344725 0.16376721 0.37648522\n",
      "  0.09898786 0.62734863 0.21657884 0.69061727 0.23225477 0.52542415\n",
      "  0.13600344 0.48975229 0.57816644 0.46649974]\n",
      " [0.24739728 0.31852758 0.17964145 0.30590648 0.13356533 0.46561167\n",
      "  0.35247194 0.2857158  0.66087999 0.35281398 0.17496472 0.65400873\n",
      "  0.25074505 0.34491062 0.63079588 0.54803709 0.79763011 0.45827975\n",
      "  0.75825084 0.64527326 0.47238896 0.61165272 0.66813944 0.04685034\n",
      "  0.72719503 0.10516731 0.75612167 0.58222955 0.12825264 0.48324948\n",
      "  0.65902393 0.47755978 0.20874081 0.10648167 0.20513302 0.44031345\n",
      "  0.0242328  0.17722078 0.47297734 0.45708598 0.3368514  0.29291339\n",
      "  0.36009741 0.34183228 0.20474594 0.24925117 0.65729638 0.82105782\n",
      "  0.53934583 0.43197316 0.54509354 0.51885668 0.         0.86525906\n",
      "  0.22201721 0.80806502 0.22080152 0.61455724 0.51621145 0.06952549\n",
      "  0.80815991 0.31118847 0.77458401 0.44557981 0.04776458 0.46384978\n",
      "  0.36069083 0.87480021 0.24851514 0.84443913 0.77729188 0.31357062\n",
      "  0.26932472 0.86470836 0.60915065 0.49927806 0.21246049 0.6660316\n",
      "  0.32472199 0.40188342 0.26984342 0.68156541 0.30611105 0.4700437\n",
      "  0.42370166 0.29084625 0.29799518 0.32743478 0.48911067 0.20637437\n",
      "  0.5974142  0.17739651 0.4588329  0.18423618 0.46336111 0.57492096\n",
      "  0.5305337  0.45994125 0.71550148 0.64964681]\n",
      " [0.79286591 1.13579367 0.88735436 0.58463346 0.97814405 0.98225541\n",
      "  0.68298988 0.66206934 0.94456784 0.87656052 0.74462152 0.2120469\n",
      "  0.90598441 0.77208591 0.80329142 0.52276552 0.57899914 0.4686644\n",
      "  0.85648318 0.53956581 0.62079687 0.29935295 0.90858425 0.84445514\n",
      "  0.68442162 0.76342445 0.11886558 0.5565917  0.76072355 0.4041284\n",
      "  0.24029451 0.39002504 0.92430545 0.93736332 0.87653485 1.01148952\n",
      "  0.88889929 0.73657589 0.46541023 0.42013807 0.66628105 0.80686214\n",
      "  1.08913994 0.56786568 0.66732841 0.89477094 0.64629335 0.82874128\n",
      "  0.33553755 0.79107777 0.69499512 0.38392395 0.86525906 0.\n",
      "  0.9120264  0.83901235 1.05184215 0.55937532 0.50252271 0.93401888\n",
      "  0.63173353 0.71735854 0.09116767 0.86194426 0.85860267 0.60296376\n",
      "  1.00796818 0.10815635 0.74246258 0.0393778  0.9504822  0.70167492\n",
      "  0.7730563  0.92700532 0.9168109  0.85577099 0.80021906 0.20316248\n",
      "  0.56769339 0.54546991 0.90132464 0.18741753 0.77086743 0.73427384\n",
      "  0.52868255 0.57459876 1.10119075 0.58083449 0.37916279 0.75467663\n",
      "  0.36950737 0.93023212 0.58355787 1.0469809  0.42453115 0.87224532\n",
      "  0.33481281 0.63426252 0.88349201 0.77531881]\n",
      " [0.46230798 0.23646147 0.04446132 0.44529404 0.17112823 0.24526664\n",
      "  0.25780005 0.25050163 0.45840578 0.1496642  0.18206593 0.70393125\n",
      "  0.47205644 0.19629159 0.45899175 0.47718953 0.69289819 0.59121532\n",
      "  0.58138312 0.55474737 0.37433055 0.62286377 0.47331594 0.26585131\n",
      "  0.59162489 0.27433487 0.79439108 0.49211546 0.19790929 0.58709675\n",
      "  0.67939651 0.53105237 0.42710115 0.3065737  0.42711717 0.21836691\n",
      "  0.22659013 0.36830333 0.45799321 0.4939245  0.52535788 0.13585882\n",
      "  0.18311022 0.48822542 0.28049189 0.03784591 0.53193394 0.65529542\n",
      "  0.62365253 0.26260161 0.4069923  0.53094694 0.22201721 0.9120264\n",
      "  0.         0.63896267 0.18329522 0.51985345 0.46269787 0.21612738\n",
      "  0.68984202 0.51205044 0.82194376 0.24980874 0.26965904 0.64360072\n",
      "  0.14372045 0.89480886 0.45235252 0.89997725 0.58273738 0.51049423\n",
      "  0.14952314 0.6821483  0.4084753  0.30729255 0.42812854 0.7095463\n",
      "  0.46165375 0.55567147 0.49157352 0.74500117 0.17023187 0.67554794\n",
      "  0.39510968 0.37616619 0.1979402  0.33138641 0.5687253  0.15916315\n",
      "  0.57966467 0.39270759 0.38286002 0.24777824 0.57069843 0.38222886\n",
      "  0.59510315 0.64693938 0.52949014 0.48627796]\n",
      " [0.97141455 0.83100056 0.66082958 0.80810537 0.80822387 0.46618577\n",
      "  0.46873723 0.55501626 0.24168813 0.4917315  0.64395897 0.72879107\n",
      "  1.03502217 0.46390914 0.18018743 0.3876513  0.27312999 0.86686389\n",
      "  0.06633366 0.31550306 0.37671821 0.59958312 0.20117894 0.83404642\n",
      "  0.15709318 0.78494833 0.74457248 0.3334793  0.69647284 0.80139822\n",
      "  0.6424377  0.67273029 1.00672023 0.91307349 0.98555941 0.52070856\n",
      "  0.82472203 0.85480937 0.51980209 0.63001518 0.94880617 0.52042672\n",
      "  0.69828697 0.84061257 0.68528246 0.6011207  0.2161476  0.02222201\n",
      "  0.77460069 0.38030141 0.2741653  0.58172564 0.80806502 0.83901235\n",
      "  0.63896267 0.         0.81467875 0.31168144 0.43309941 0.83559828\n",
      "  0.22319106 0.96926484 0.78477017 0.39312614 0.84546249 1.00982813\n",
      "  0.59513605 0.75287912 0.93365869 0.85550702 0.14705616 0.95835735\n",
      "  0.53883818 0.08929733 0.26689445 0.336243   0.94710759 0.71510186\n",
      "  0.81082698 0.89185695 1.04852933 0.78406779 0.50225332 1.10992801\n",
      "  0.50359259 0.70090547 0.79385012 0.57761647 0.74099816 0.60469075\n",
      "  0.51650313 0.98124226 0.41520671 0.88672759 0.80132049 0.26880881\n",
      "  0.7176763  1.031491   0.13220874 0.15855023]\n",
      " [0.45342783 0.09783792 0.18171989 0.52106145 0.0873435  0.38037924\n",
      "  0.43422682 0.40743988 0.61646109 0.32331513 0.30870802 0.84010734\n",
      "  0.41816034 0.37937133 0.63598764 0.65362601 0.87574984 0.67413444\n",
      "  0.7546208  0.73557219 0.55442087 0.77556857 0.63788858 0.26365321\n",
      "  0.77444178 0.32050987 0.93731392 0.67236968 0.29254196 0.69044688\n",
      "  0.82907291 0.66238414 0.36462191 0.23829632 0.38556589 0.33500834\n",
      "  0.20568992 0.39786982 0.61742503 0.6325328  0.55631715 0.31850556\n",
      "  0.18315002 0.5593503  0.38725287 0.21961243 0.71522836 0.83201274\n",
      "  0.73976432 0.44387711 0.59018961 0.68155464 0.22080152 1.05184215\n",
      "  0.18329522 0.81467875 0.         0.70100001 0.63460319 0.1621106\n",
      "  0.87313698 0.52693792 0.96070683 0.42165285 0.25712222 0.68394888\n",
      "  0.24311072 1.04684796 0.46424414 1.03522475 0.74517996 0.53096753\n",
      "  0.32560216 0.85123277 0.56989972 0.47893305 0.41919707 0.84897936\n",
      "  0.5396071  0.62136542 0.43994751 0.87460116 0.35125209 0.67981508\n",
      "  0.55749214 0.48471337 0.08378199 0.47816402 0.68663558 0.30830522\n",
      "  0.74263282 0.32700592 0.55874033 0.09660097 0.67148952 0.5508558\n",
      "  0.72193776 0.67871576 0.69882857 0.66541351]\n",
      " [0.71964213 0.75242515 0.52082173 0.52757962 0.66243802 0.47484047\n",
      "  0.27022853 0.32936895 0.38649197 0.41234647 0.43973394 0.42202031\n",
      "  0.80253961 0.32548805 0.24410366 0.08349544 0.18313595 0.56375712\n",
      "  0.30958202 0.03541957 0.14719992 0.29200875 0.34938039 0.62624639\n",
      "  0.16112924 0.5587127  0.45267229 0.03301204 0.4875946  0.49392338\n",
      "  0.34023411 0.3643583  0.78600229 0.71970848 0.7547589  0.51831858\n",
      "  0.63620084 0.60728742 0.21687476 0.32429029 0.67063014 0.38421737\n",
      "  0.65324597 0.55392488 0.44229678 0.48680778 0.09611804 0.30969044\n",
      "  0.46343288 0.29124465 0.15070095 0.27068724 0.61455724 0.55937532\n",
      "  0.51985345 0.31168144 0.70100001 0.         0.13040396 0.66229548\n",
      "  0.20003403 0.69937901 0.49235407 0.35364254 0.64014026 0.7145378\n",
      "  0.55112292 0.49115583 0.67502071 0.5688791  0.39703946 0.68647457\n",
      "  0.37636017 0.39976679 0.36330564 0.32634042 0.70165054 0.41030798\n",
      "  0.52650298 0.59745903 0.81188772 0.47782882 0.34992521 0.82495483\n",
      "  0.22004087 0.42690375 0.7130197  0.31410015 0.43209508 0.41439307\n",
      "  0.20812993 0.768355   0.15618016 0.74535191 0.49568765 0.32246216\n",
      "  0.40639097 0.73881008 0.32654402 0.21638616]\n",
      " [0.59655505 0.69912605 0.45328545 0.39847606 0.58346558 0.48228925\n",
      "  0.20591258 0.23417472 0.45874153 0.38820381 0.34579112 0.3307011\n",
      "  0.68472484 0.2863637  0.3283075  0.04706621 0.29931672 0.43527602\n",
      "  0.42043111 0.14760319 0.11831687 0.20715937 0.42927642 0.52127311\n",
      "  0.28940804 0.44798606 0.38631046 0.1016089  0.38801581 0.36829909\n",
      "  0.26459769 0.23993873 0.67248249 0.61809608 0.6381187  0.51572403\n",
      "  0.53924527 0.48700236 0.08733558 0.1969874  0.541395   0.33470884\n",
      "  0.62018189 0.42381511 0.32836763 0.43524639 0.21864514 0.43376407\n",
      "  0.34504348 0.28990001 0.20437624 0.15473201 0.51621145 0.50252271\n",
      "  0.46269787 0.43309941 0.63460319 0.13040396 0.         0.57105991\n",
      "  0.32558293 0.57164202 0.42306742 0.36051392 0.53579127 0.58436578\n",
      "  0.52657565 0.4566207  0.55032122 0.50358906 0.49784972 0.5583676\n",
      "  0.31317505 0.51870491 0.42370213 0.35360205 0.58073887 0.32417682\n",
      "  0.39675424 0.46713914 0.69261023 0.38565303 0.2973014  0.69470345\n",
      "  0.0970631  0.30045608 0.66061358 0.19648908 0.30829899 0.3303826\n",
      "  0.13382015 0.65800001 0.08528197 0.66496303 0.36851702 0.37681831\n",
      "  0.28912287 0.60845965 0.42345441 0.31189138]\n",
      " [0.29192734 0.25935192 0.18097593 0.37453888 0.07711236 0.46013423\n",
      "  0.39461404 0.33743865 0.67172848 0.36083228 0.22536862 0.72253175\n",
      "  0.26894541 0.37254183 0.65616894 0.60002329 0.84457721 0.5263899\n",
      "  0.78239731 0.69426874 0.51721302 0.67686172 0.68341008 0.10446764\n",
      "  0.76548886 0.17455077 0.82421222 0.63061319 0.18599913 0.55269931\n",
      "  0.72539188 0.54561316 0.2187994  0.09216688 0.23037414 0.42772842\n",
      "  0.04786021 0.23978618 0.53353985 0.52367417 0.39563193 0.31521193\n",
      "  0.3215044  0.40950917 0.27052656 0.24988131 0.69787561 0.84993457\n",
      "  0.60882799 0.45562911 0.58076703 0.58347233 0.06952549 0.93401888\n",
      "  0.21612738 0.83559828 0.1621106  0.66229548 0.57105991 0.\n",
      "  0.85177589 0.36495801 0.84323267 0.45870083 0.09599206 0.52367354\n",
      "  0.34133965 0.9418445  0.30234419 0.91353819 0.79311786 0.36931423\n",
      "  0.30011581 0.88679465 0.62089135 0.51482265 0.25746012 0.73421446\n",
      "  0.39337806 0.46803088 0.29006989 0.75073693 0.33534561 0.51814986\n",
      "  0.48128768 0.35942826 0.24388063 0.38780499 0.55843646 0.24813176\n",
      "  0.65895758 0.18216375 0.50826315 0.11475357 0.5327703  0.59076326\n",
      "  0.59943069 0.5173888  0.73538374 0.67832372]\n",
      " [0.91951068 0.91262638 0.69810391 0.72383314 0.84433701 0.58725006\n",
      "  0.45722369 0.52539997 0.41686088 0.5619553  0.63335135 0.55243913\n",
      "  1.00232641 0.4941394  0.28976072 0.28062824 0.05287235 0.74534467\n",
      "  0.2642592  0.17799507 0.33577114 0.43080978 0.37245692 0.82264262\n",
      "  0.11208792 0.75730046 0.5481867  0.23292108 0.68287169 0.66988038\n",
      "  0.4615674  0.5416585  0.98487228 0.91417192 0.95438205 0.6384419\n",
      "  0.82895651 0.80732127 0.4075839  0.50766089 0.86656454 0.5553456\n",
      "  0.79762866 0.7476917  0.64189295 0.653961   0.15794052 0.20750945\n",
      "  0.62778399 0.43523464 0.28369246 0.44280595 0.80815991 0.63173353\n",
      "  0.68984202 0.22319106 0.87313698 0.20003403 0.32558293 0.85177589\n",
      "  0.         0.89721147 0.58774461 0.4803729  0.83621758 0.90182964\n",
      "  0.69184855 0.53905721 0.87450972 0.65235244 0.36174759 0.88394861\n",
      "  0.55647905 0.30435911 0.41878008 0.43499232 0.90168346 0.53537358\n",
      "  0.72148889 0.78656134 1.01184413 0.60490439 0.52529062 1.01744145\n",
      "  0.41917655 0.62550881 0.87336287 0.51413271 0.60618777 0.60410606\n",
      "  0.35573214 0.96626571 0.35396899 0.92706327 0.67490211 0.39587943\n",
      "  0.57146135 0.92770986 0.31696011 0.25030113]\n",
      " [0.08908768 0.62430849 0.46767812 0.17564379 0.44041524 0.7362826\n",
      "  0.51019963 0.42113973 0.88456322 0.60730779 0.36784307 0.53137588\n",
      "  0.19663926 0.55372811 0.81184585 0.61689141 0.86915017 0.2488136\n",
      "  0.93484084 0.71924517 0.59328414 0.55488231 0.87888222 0.26520042\n",
      "  0.84872974 0.23809258 0.63362977 0.66755096 0.32597846 0.31821744\n",
      "  0.5789176  0.39770573 0.230575   0.3072287  0.18285839 0.72353716\n",
      "  0.32219473 0.14390632 0.49262718 0.41056733 0.05160219 0.52551996\n",
      "  0.66953273 0.16467769 0.29160359 0.52826623 0.77434388 0.97630395\n",
      "  0.38986508 0.63884466 0.6959797  0.48593831 0.31118847 0.71735854\n",
      "  0.51205044 0.96926484 0.52693792 0.69937901 0.57164202 0.36495801\n",
      "  0.89721147 0.         0.63639984 0.6791219  0.2700994  0.16771186\n",
      "  0.65576973 0.76368157 0.06280997 0.68629948 0.98052143 0.01597154\n",
      "  0.48578943 1.04305168 0.83343937 0.72159502 0.11516983 0.55064189\n",
      "  0.18239579 0.1719425  0.18753822 0.5336879  0.51816831 0.16376195\n",
      "  0.47956228 0.27277635 0.60740509 0.39280302 0.36319788 0.41214732\n",
      "  0.58463858 0.25189517 0.55844928 0.46524953 0.29935517 0.79022523\n",
      "  0.41530559 0.15498161 0.90913727 0.81732088]\n",
      " [0.70919803 1.04487874 0.79675066 0.49735785 0.88699805 0.898811\n",
      "  0.59639919 0.57238457 0.87339651 0.7902079  0.65363866 0.12092163\n",
      "  0.82196929 0.68585201 0.73424279 0.44753107 0.53603269 0.38913177\n",
      "  0.79662492 0.47631855 0.54064079 0.21650162 0.83919254 0.75439634\n",
      "  0.62817032 0.67313924 0.04020529 0.485837   0.66955825 0.31976046\n",
      "  0.15847734 0.29887523 0.83834336 0.84792483 0.79097401 0.92635264\n",
      "  0.79828513 0.64866457 0.37935278 0.32929022 0.58591115 0.71880346\n",
      "  0.9998214  0.4828539  0.57620646 0.80531194 0.5833335  0.77634659\n",
      "  0.24943457 0.70888526 0.62088751 0.29614457 0.77458401 0.09116767\n",
      "  0.82194376 0.78477017 0.96070683 0.49235407 0.42306742 0.84323267\n",
      "  0.58774461 0.63639984 0.         0.7797297  0.7686297  0.53228624\n",
      "  0.92011744 0.13633493 0.65824473 0.08098401 0.88810396 0.62055816\n",
      "  0.68420455 0.87374561 0.84297354 0.77652597 0.71498725 0.11244964\n",
      "  0.48086063 0.46528494 0.81821732 0.10271717 0.68316828 0.66538988\n",
      "  0.4419205  0.4838097  1.01041094 0.49059182 0.29021684 0.66422562\n",
      "  0.29278572 0.8430651  0.50156322 0.95603401 0.33975445 0.7973389\n",
      "  0.24448968 0.56389069 0.81877329 0.70860448]\n",
      " [0.65393101 0.44166496 0.27812995 0.5563687  0.42090055 0.1230365\n",
      "  0.20367371 0.27757832 0.21535339 0.10020848 0.31269407 0.67690594\n",
      "  0.69144736 0.12852051 0.21573202 0.34947712 0.4964335  0.67126064\n",
      "  0.33317411 0.38797689 0.24265495 0.56346484 0.2247385  0.4808432\n",
      "  0.37195527 0.45460387 0.74447666 0.33678035 0.36021058 0.63608346\n",
      "  0.62223127 0.53570019 0.65367457 0.54413084 0.64302602 0.16479487\n",
      "  0.45754192 0.54210013 0.40386836 0.48880613 0.67572657 0.15706373\n",
      "  0.31808656 0.59815425 0.39223791 0.21248754 0.32801499 0.41079832\n",
      "  0.64576805 0.07087925 0.20731873 0.4895823  0.44557981 0.86194426\n",
      "  0.24980874 0.39312614 0.42165285 0.35364254 0.36051392 0.45870083\n",
      "  0.4803729  0.6791219  0.7797297  0.         0.48930456 0.77229858\n",
      "  0.21211791 0.81607098 0.62877567 0.86069053 0.33444889 0.67262962\n",
      "  0.19367467 0.43242798 0.16357084 0.05763061 0.62342068 0.67463431\n",
      "  0.56703274 0.66326446 0.70848662 0.72849438 0.16121717 0.8387404\n",
      "  0.34619528 0.45521282 0.40350673 0.34864719 0.59449269 0.26806774\n",
      "  0.49433095 0.62296546 0.27842419 0.49657738 0.62602646 0.13259024\n",
      "  0.59993174 0.78476331 0.27971608 0.24815199]\n",
      " [0.20176466 0.35477219 0.22700181 0.28612679 0.17033399 0.512766\n",
      "  0.38411081 0.31099605 0.70464308 0.39816737 0.20461626 0.64893607\n",
      "  0.20402349 0.38429622 0.66959865 0.57026119 0.82319188 0.43572161\n",
      "  0.79724587 0.66967715 0.50104513 0.61597846 0.71058564 0.01497595\n",
      "  0.75903095 0.09691548 0.75242682 0.60744081 0.15353646 0.46803203\n",
      "  0.66057599 0.47512489 0.16448278 0.08387457 0.15770415 0.48799716\n",
      "  0.05230435 0.14473111 0.48595285 0.45915968 0.2996731  0.33483681\n",
      "  0.40530357 0.31839192 0.21298228 0.29628735 0.68791613 0.8577949\n",
      "  0.5279541  0.47231249 0.57917605 0.52486095 0.04776458 0.85860267\n",
      "  0.26965904 0.84546249 0.25712222 0.64014026 0.53579127 0.09599206\n",
      "  0.83621758 0.2700994  0.7686297  0.48930456 0.         0.42768535\n",
      "  0.40839287 0.8740367  0.20731519 0.8359631  0.81935685 0.27385014\n",
      "  0.30825743 0.90435178 0.65277254 0.54210051 0.16680713 0.66226337\n",
      "  0.30489982 0.37449552 0.22270991 0.6729657  0.34522643 0.42626179\n",
      "  0.44096404 0.28818256 0.33732644 0.34229966 0.47997764 0.24098609\n",
      "  0.60818723 0.13593999 0.4839604  0.20554261 0.4476804  0.61741248\n",
      "  0.52416506 0.42166669 0.75626703 0.68691231]\n",
      " [0.25623531 0.7817839  0.60052881 0.2160704  0.59664222 0.84762659\n",
      "  0.58166658 0.49690815 0.96322796 0.71533442 0.47730593 0.44625033\n",
      "  0.35684721 0.64378121 0.87018512 0.63143199 0.86580477 0.16284012\n",
      "  0.98523749 0.72704485 0.63711646 0.50690931 0.95044585 0.42033103\n",
      "  0.87332117 0.37429929 0.53881253 0.6857352  0.44692058 0.24500592\n",
      "  0.51423991 0.3634458  0.39619344 0.47315226 0.34949767 0.84321077\n",
      "  0.47833842 0.28687254 0.49771912 0.39418825 0.12821821 0.62896377\n",
      "  0.81306891 0.17554978 0.38338506 0.65320351 0.80097116 1.01331685\n",
      "  0.30936167 0.72103004 0.74572554 0.46233267 0.46384978 0.60296376\n",
      "  0.64360072 1.00982813 0.68394888 0.7145378  0.58436578 0.52367354\n",
      "  0.90182964 0.16771186 0.53228624 0.77229858 0.42768535 0.\n",
      "  0.78548521 0.66692851 0.22554286 0.56791537 1.0442208  0.15853138\n",
      "  0.58617676 1.09059774 0.91437542 0.80658472 0.28259802 0.46779502\n",
      "  0.20692733 0.11797278 0.34373517 0.43254794 0.6131547  0.13374194\n",
      "  0.50623565 0.32137403 0.76176265 0.44252548 0.30643424 0.51817427\n",
      "  0.55839207 0.41929359 0.59566516 0.62876654 0.23371815 0.8680615\n",
      "  0.3534167  0.03164066 0.96998415 0.86823069]\n",
      " [0.60468547 0.23698934 0.18811    0.58285809 0.27771314 0.13887196\n",
      "  0.3265371  0.35369236 0.37973447 0.13992055 0.31439338 0.80640272\n",
      "  0.60707427 0.24039424 0.42380549 0.52883326 0.70568141 0.72445509\n",
      "  0.53151551 0.5864235  0.41879674 0.71089012 0.40601824 0.40611443\n",
      "  0.58402706 0.41800944 0.8891372  0.52911323 0.33860532 0.71250687\n",
      "  0.76944735 0.64149246 0.55918749 0.43347491 0.56418422 0.09200432\n",
      "  0.36157635 0.51201748 0.54340197 0.59987528 0.66860487 0.20136663\n",
      "  0.10596867 0.62618445 0.41389005 0.13341812 0.53760143 0.6143634\n",
      "  0.74175636 0.26142137 0.41346466 0.62415471 0.36069083 1.00796818\n",
      "  0.14372045 0.59513605 0.24311072 0.55112292 0.52657565 0.34133965\n",
      "  0.69184855 0.65576973 0.92011744 0.21211791 0.40839287 0.78548521\n",
      "  0.         0.97824567 0.59596197 1.00011589 0.50980712 0.65417517\n",
      "  0.23838593 0.62095133 0.33672006 0.26339181 0.5702368  0.80908738\n",
      "  0.59838593 0.69397917 0.62738251 0.85194465 0.23710649 0.81924382\n",
      "  0.47966909 0.50481128 0.20156503 0.43807796 0.68696441 0.28134899\n",
      "  0.65522167 0.52316014 0.44150023 0.33440326 0.69756394 0.32634323\n",
      "  0.70704806 0.78969495 0.47106286 0.45846111]\n",
      " [0.83253314 1.12541733 0.87474799 0.61508057 0.97856518 0.9384789\n",
      "  0.65185405 0.64497728 0.8773366  0.84229298 0.73823131 0.2332559\n",
      "  0.94427147 0.73851902 0.73421314 0.46815544 0.48620531 0.51939793\n",
      "  0.77574664 0.46691761 0.57350167 0.27219033 0.83905798 0.85938799\n",
      "  0.60161672 0.77728618 0.13014075 0.49379026 0.76134233 0.44546418\n",
      "  0.21785926 0.39898895 0.95687617 0.95564585 0.91055529 0.97226439\n",
      "  0.89891343 0.76328771 0.43757105 0.41828531 0.71407651 0.77973204\n",
      "  1.06589737 0.60547985 0.67145817 0.87367109 0.57130353 0.74103659\n",
      "  0.37383114 0.74589795 0.63496681 0.36557021 0.87480021 0.10815635\n",
      "  0.89480886 0.75287912 1.04684796 0.49115583 0.4566207  0.9418445\n",
      "  0.53905721 0.76368157 0.13633493 0.81607098 0.8740367  0.66692851\n",
      "  0.97824567 0.         0.78095257 0.14320861 0.87185205 0.74773552\n",
      "  0.7499246  0.83944171 0.85393919 0.80333123 0.83558293 0.21577894\n",
      "  0.59983917 0.59435842 0.9419649  0.23452344 0.74266035 0.8003707\n",
      "  0.50127313 0.5859059  1.0891458  0.56896445 0.40663752 0.74190904\n",
      "  0.32395866 0.95867949 0.54122334 1.05194283 0.46452025 0.81153512\n",
      "  0.35635729 0.6985665  0.80806613 0.70337924]\n",
      " [0.0519154  0.56168831 0.40790096 0.17075697 0.37764347 0.68052705\n",
      "  0.4689215  0.38028781 0.83733327 0.55313422 0.31613011 0.54769811\n",
      "  0.16372638 0.50552084 0.77145288 0.5940351  0.84954869 0.27914483\n",
      "  0.89620843 0.6972693  0.56029969 0.55656208 0.8338483  0.20242225\n",
      "  0.81941862 0.18003494 0.65178769 0.64255692 0.27119064 0.33861925\n",
      "  0.58638212 0.39951415 0.18579786 0.24762506 0.13695468 0.66576416\n",
      "  0.2593881  0.08711791 0.47609593 0.40508583 0.09882357 0.4733996\n",
      "  0.60736918 0.17563443 0.24930578 0.4700588  0.74502974 0.94183729\n",
      "  0.40896958 0.59224483 0.65952872 0.48036351 0.24851514 0.74246258\n",
      "  0.45235252 0.93365869 0.46424414 0.67502071 0.55032122 0.30234419\n",
      "  0.87450972 0.06280997 0.65824473 0.62877567 0.20731519 0.22554286\n",
      "  0.59596197 0.78095257 0.         0.71343601 0.93740265 0.06757171\n",
      "  0.43510826 1.00476053 0.78579553 0.67342489 0.06131641 0.56565801\n",
      "  0.18319863 0.20441414 0.16122269 0.55613835 0.46880662 0.22361454\n",
      "  0.45533885 0.25025627 0.54460393 0.36275487 0.37503859 0.36074646\n",
      "  0.57748965 0.20094309 0.5284653  0.40399232 0.3184976  0.74378656\n",
      "  0.42654627 0.21593456 0.86729277 0.77932968]\n",
      " [0.76337291 1.12079964 0.873785   0.55859764 0.95992607 0.97978981\n",
      "  0.67698988 0.65112409 0.95187363 0.87081072 0.72950709 0.19619105\n",
      "  0.8766016  0.76650961 0.81185885 0.52701902 0.59990363 0.43750332\n",
      "  0.87024273 0.55112343 0.62134606 0.29736156 0.91700482 0.82201475\n",
      "  0.69977411 0.74160726 0.11766412 0.56385199 0.74318539 0.37625291\n",
      "  0.23904662 0.37291551 0.89645258 0.91363641 0.84838511 1.007187\n",
      "  0.86785685 0.71094284 0.46016225 0.40627562 0.63499303 0.79875559\n",
      "  1.07873216 0.53981294 0.6491014  0.88415171 0.65818995 0.84607686\n",
      "  0.30957113 0.78984053 0.70019076 0.37655797 0.84443913 0.0393778\n",
      "  0.89997725 0.85550702 1.03522475 0.5688791  0.50358906 0.91353819\n",
      "  0.65235244 0.68629948 0.08098401 0.86069053 0.8359631  0.56791537\n",
      "  1.00011589 0.14320861 0.71343601 0.         0.96298598 0.67073111\n",
      "  0.7636554  0.94403802 0.92231012 0.85715007 0.77189016 0.19114803\n",
      "  0.54125012 0.5143754  0.87132252 0.16302676 0.7633173  0.69850408\n",
      "  0.52253477 0.55462458 1.08683878 0.56864255 0.3560099  0.74170308\n",
      "  0.3724576  0.90353191 0.58247885 1.02713065 0.39685008 0.87697096\n",
      "  0.3144568  0.59906291 0.89466078 0.78526076]\n",
      " [0.96922545 0.74594462 0.61256006 0.83286863 0.7536528  0.37222582\n",
      "  0.47045345 0.55945376 0.13020276 0.43349821 0.62896544 0.81786989\n",
      "  1.01840728 0.43770864 0.17486043 0.4579571  0.40787642 0.91430113\n",
      "  0.09832062 0.41193153 0.41120324 0.68805775 0.10971121 0.80980745\n",
      "  0.27208388 0.77348879 0.84813717 0.40923489 0.68021912 0.85764855\n",
      "  0.73727357 0.73379865 0.98371542 0.87778873 0.96927534 0.4250782\n",
      "  0.79053829 0.85354694 0.57877305 0.68773154 0.96744764 0.48458475\n",
      "  0.60624574 0.86985243 0.68927431 0.54602304 0.30484726 0.16834005\n",
      "  0.84200889 0.34890617 0.30234566 0.65247466 0.77729188 0.9504822\n",
      "  0.58273738 0.14705616 0.74517996 0.39703946 0.49784972 0.79311786\n",
      "  0.36174759 0.98052143 0.88810396 0.33444889 0.81935685 1.0442208\n",
      "  0.50980712 0.87185205 0.93740265 0.96298598 0.         0.9714963\n",
      "  0.51318328 0.11931194 0.17540738 0.27856849 0.94135564 0.80694755\n",
      "  0.8388151  0.92762828 1.03420304 0.8737473  0.4765837  1.1315053\n",
      "  0.54736266 0.72480952 0.71133351 0.60190533 0.80160336 0.58580655\n",
      "  0.6043183  0.95443287 0.45562417 0.82665321 0.85417006 0.20261667\n",
      "  0.78668404 1.06249517 0.07519463 0.18597495]\n",
      " [0.10107207 0.62855907 0.46623691 0.16134968 0.44410652 0.73210467\n",
      "  0.50104864 0.41204841 0.87683872 0.60246681 0.36237487 0.51540865\n",
      "  0.21071538 0.5466035  0.80216634 0.60381065 0.85545103 0.23322779\n",
      "  0.92465428 0.70595769 0.58206015 0.53928277 0.87046583 0.26813906\n",
      "  0.83659673 0.23616576 0.61769055 0.65477258 0.32195673 0.30227177\n",
      "  0.5630601  0.38218531 0.24289903 0.31478753 0.1947227  0.72049486\n",
      "  0.32562901 0.14234981 0.47876545 0.39558636 0.03682569 0.51989033\n",
      "  0.67046671 0.14903684 0.28336224 0.52565936 0.76225126 0.96514433\n",
      "  0.37391422 0.63108966 0.68541907 0.47089368 0.31357062 0.70167492\n",
      "  0.51049423 0.95835735 0.53096753 0.68647457 0.5583676  0.36931423\n",
      "  0.88394861 0.01597154 0.62055816 0.67262962 0.27385014 0.15853138\n",
      "  0.65417517 0.74773552 0.06757171 0.67073111 0.9714963  0.\n",
      "  0.47965647 1.0327391  0.82588015 0.71428828 0.12440099 0.53467043\n",
      "  0.16744298 0.15635686 0.20230104 0.51785056 0.51149769 0.16733632\n",
      "  0.46685385 0.26034371 0.61076586 0.38131523 0.34727714 0.40643879\n",
      "  0.569667   0.26282484 0.54666353 0.47156335 0.28339017 0.78229757\n",
      "  0.39938373 0.14840362 0.89979041 0.80703888]\n",
      " [0.46109315 0.38596178 0.14452423 0.37217763 0.28798983 0.2630178\n",
      "  0.1089332  0.11545783 0.40448666 0.13074346 0.11911804 0.56900408\n",
      "  0.5052437  0.07606934 0.36159791 0.32868907 0.5542569  0.50076192\n",
      "  0.48916677 0.41057635 0.22929159 0.47911703 0.40564958 0.29780075\n",
      "  0.46614712 0.26236678 0.65452103 0.34709802 0.16808863 0.47970544\n",
      "  0.53677136 0.40315941 0.47176987 0.37429522 0.45609209 0.26741088\n",
      "  0.28597046 0.34849985 0.31235857 0.36157612 0.48420955 0.04346055\n",
      "  0.31656845 0.41515807 0.20290124 0.12399076 0.40031001 0.55212347\n",
      "  0.50470585 0.16456986 0.28085038 0.38941155 0.26932472 0.7730563\n",
      "  0.14952314 0.53883818 0.32560216 0.37636017 0.31317505 0.30011581\n",
      "  0.55647905 0.48578943 0.68420455 0.19367467 0.30825743 0.58617676\n",
      "  0.23838593 0.7499246  0.43510826 0.7636554  0.51318328 0.47965647\n",
      "  0.         0.59610105 0.35255564 0.24002377 0.43128487 0.57250837\n",
      "  0.38485426 0.48213555 0.52105693 0.61378981 0.03697083 0.64629211\n",
      "  0.24869392 0.27927838 0.34745088 0.19979245 0.45017433 0.07453319\n",
      "  0.4316839  0.44415547 0.23398843 0.37085353 0.46617488 0.31320536\n",
      "  0.46877106 0.59648809 0.44842524 0.38054224]\n",
      " [1.04045962 0.85788488 0.70829591 0.88568454 0.85311918 0.48540934\n",
      "  0.53642753 0.62455005 0.24517206 0.5326351  0.70660434 0.81797997\n",
      "  1.09855673 0.52010062 0.23553453 0.47397671 0.35605689 0.95049686\n",
      "  0.10862106 0.40460648 0.45426689 0.68866741 0.21493374 0.8937139\n",
      "  0.24638053 0.84977232 0.83355693 0.42033061 0.75890958 0.88671341\n",
      "  0.73173216 0.75863619 1.06747405 0.96800482 1.04910283 0.53916841\n",
      "  0.87985731 0.92384265 0.60475474 0.71516269 1.0249243  0.57286206\n",
      "  0.72004045 0.91958789 0.7555096  0.64465326 0.3038084  0.0984235\n",
      "  0.86176123 0.43280742 0.34763917 0.66896707 0.86470836 0.92700532\n",
      "  0.6821483  0.08929733 0.85123277 0.39976679 0.51870491 0.88679465\n",
      "  0.30435911 1.04305168 0.87374561 0.43242798 0.90435178 1.09059774\n",
      "  0.62095133 0.83944171 1.00476053 0.94403802 0.11931194 1.0327391\n",
      "  0.59610105 0.         0.28425773 0.37486701 1.01473861 0.80436748\n",
      "  0.88935637 0.97273716 1.11303716 0.8732964  0.55913705 1.18728298\n",
      "  0.58496754 0.77782045 0.82229456 0.65399058 0.82698743 0.66543762\n",
      "  0.60545813 1.04025639 0.49493436 0.9289011  0.88596243 0.30071866\n",
      "  0.80497051 1.11139818 0.15275548 0.22573221]\n",
      " [0.81350331 0.57362906 0.43993489 0.6989185  0.57902756 0.20184541\n",
      "  0.33279785 0.41835157 0.05202742 0.26013396 0.4712529  0.75436764\n",
      "  0.8545005  0.28027496 0.13116508 0.39544511 0.45059251 0.79910811\n",
      "  0.20085785 0.39063801 0.31342317 0.62958821 0.06938771 0.64414467\n",
      "  0.30769044 0.61491209 0.80468546 0.3609391  0.52056688 0.75304333\n",
      "  0.68523467 0.63896075 0.81718575 0.70727768 0.80589518 0.25609345\n",
      "  0.62098033 0.69990928 0.49043759 0.5912811  0.82597239 0.31917079\n",
      "  0.43628207 0.73884964 0.5427625  0.37222923 0.29690186 0.28789973\n",
      "  0.75032731 0.19496543 0.22212088 0.57316979 0.60915065 0.9168109\n",
      "  0.4084753  0.26689445 0.56989972 0.36330564 0.42370213 0.62089135\n",
      "  0.41878008 0.83343937 0.84297354 0.16357084 0.65277254 0.91437542\n",
      "  0.33672006 0.85393919 0.78579553 0.92231012 0.17540738 0.82588015\n",
      "  0.35255564 0.28425773 0.         0.11256993 0.78383973 0.74769486\n",
      "  0.70746756 0.80111725 0.87128229 0.80912321 0.31745484 0.99009528\n",
      "  0.44452911 0.59320565 0.53815451 0.47589503 0.70357167 0.42690746\n",
      "  0.55020185 0.7865353  0.35826101 0.65136592 0.74607739 0.04834643\n",
      "  0.69885034 0.92948357 0.13666165 0.17001757]\n",
      " [0.70093338 0.49636877 0.33471699 0.59063072 0.47832559 0.1534075\n",
      "  0.22734219 0.30968076 0.16446372 0.15779049 0.35868368 0.67907072\n",
      "  0.74296617 0.16797884 0.16067487 0.33531999 0.45509131 0.69725129\n",
      "  0.27571678 0.3591055  0.23597625 0.56019998 0.16902465 0.53307415\n",
      "  0.32453708 0.50239038 0.73991225 0.31410324 0.40807686 0.65627879\n",
      "  0.61811248 0.54868959 0.70658302 0.59923316 0.69419431 0.20347789\n",
      "  0.51210078 0.58742341 0.40790088 0.50111386 0.71521809 0.20754612\n",
      "  0.36888559 0.63134584 0.43158406 0.2698614  0.28769961 0.35427962\n",
      "  0.65991926 0.08571632 0.17580393 0.49315973 0.49927806 0.85577099\n",
      "  0.30729255 0.336243   0.47893305 0.32634042 0.35360205 0.51482265\n",
      "  0.43499232 0.72159502 0.77652597 0.05763061 0.54210051 0.80658472\n",
      "  0.26339181 0.80333123 0.67342489 0.85715007 0.27856849 0.71428828\n",
      "  0.24002377 0.37486701 0.11256993 0.         0.67130462 0.67494044\n",
      "  0.60000316 0.69487022 0.75949751 0.73224109 0.20490022 0.87911005\n",
      "  0.35505558 0.48639029 0.4586299  0.37289457 0.61060256 0.3143425\n",
      "  0.48629545 0.67661052 0.27708198 0.55420159 0.64776988 0.07597686\n",
      "  0.61122084 0.82069801 0.22220031 0.19514298]\n",
      " [0.03496907 0.51555898 0.38395713 0.22117532 0.33431388 0.66457316\n",
      "  0.47875483 0.3922329  0.83576832 0.5413776  0.31298922 0.60255337\n",
      "  0.11028143 0.50485581 0.77976605 0.62267216 0.87965277 0.33944939\n",
      "  0.90615953 0.72598442 0.57902347 0.60389925 0.835544   0.16569756\n",
      "  0.84030148 0.16894451 0.70708842 0.6688038  0.26335571 0.39609141\n",
      "  0.63682516 0.44819869 0.12519415 0.19281111 0.07660473 0.64524433\n",
      "  0.21870543 0.09442704 0.51137419 0.44929505 0.15854137 0.46644875\n",
      "  0.57206169 0.23236023 0.26349248 0.44993327 0.76629492 0.95657434\n",
      "  0.46555889 0.59317674 0.67342697 0.52369373 0.21246049 0.80021906\n",
      "  0.42812854 0.94710759 0.41919707 0.70165054 0.58073887 0.25746012\n",
      "  0.90168346 0.11516983 0.71498725 0.62342068 0.16680713 0.28259802\n",
      "  0.5702368  0.83558293 0.06131641 0.77189016 0.94135564 0.12440099\n",
      "  0.43128487 1.01473861 0.78383973 0.67130462 0.         0.61987795\n",
      "  0.23577956 0.26536026 0.11333768 0.61334648 0.46673559 0.26069051\n",
      "  0.48419217 0.28537774 0.5013391  0.38755075 0.42896401 0.35703713\n",
      "  0.61895825 0.13975319 0.55074367 0.35227982 0.37571072 0.74388463\n",
      "  0.47979421 0.26989126 0.8732422  0.79061682]\n",
      " [0.61735622 0.93263218 0.68431987 0.399302   0.77613737 0.79208558\n",
      "  0.48689549 0.46018631 0.7812633  0.68063347 0.5414888  0.0220532\n",
      "  0.728758   0.57654765 0.64579048 0.35445278 0.48662386 0.31164526\n",
      "  0.71951425 0.40020579 0.43930632 0.11934548 0.74949515 0.64781028\n",
      "  0.55823087 0.5660265  0.0901844  0.39852003 0.55846963 0.23345801\n",
      "  0.07388197 0.1886313  0.74111772 0.74284565 0.69477923 0.81782627\n",
      "  0.68991835 0.54793947 0.271431   0.21697559 0.50196678 0.60772078\n",
      "  0.88773984 0.39047446 0.4657319  0.69318315 0.50506183 0.70919562\n",
      "  0.16223183 0.60404121 0.52686409 0.18653528 0.6660316  0.20316248\n",
      "  0.7095463  0.71510186 0.84897936 0.41030798 0.32417682 0.73421446\n",
      "  0.53537358 0.55064189 0.11244964 0.67463431 0.66226337 0.46779502\n",
      "  0.80908738 0.21577894 0.56565801 0.19114803 0.80694755 0.53467043\n",
      "  0.57250837 0.80436748 0.74769486 0.67494044 0.61987795 0.\n",
      "  0.38410749 0.38399089 0.72680659 0.06966437 0.57243466 0.60124017\n",
      "  0.33270512 0.37532529 0.89805311 0.37817367 0.19091521 0.55177601\n",
      "  0.2026784  0.74326812 0.39810989 0.84630812 0.25148825 0.7009749\n",
      "  0.14069038 0.49916347 0.73517989 0.62346018]\n",
      " [0.23510957 0.63513647 0.42150655 0.01884449 0.45471327 0.64779841\n",
      "  0.37473961 0.29046715 0.75630709 0.51534755 0.28420986 0.3669394\n",
      "  0.34502362 0.43860363 0.66542325 0.44313213 0.6909768  0.13455747\n",
      "  0.78282816 0.54372949 0.43509683 0.37478045 0.74386951 0.29246015\n",
      "  0.68094244 0.22021138 0.47161496 0.495721   0.26508823 0.16601011\n",
      "  0.40320511 0.21733385 0.35770655 0.37661316 0.31084755 0.64787734\n",
      "  0.34557241 0.1702225  0.31429924 0.22817398 0.14547846 0.42818385\n",
      "  0.64040523 0.03138208 0.18539467 0.46497635 0.60719314 0.81573782\n",
      "  0.23215902 0.51437039 0.54259083 0.30354883 0.32472199 0.56769339\n",
      "  0.46165375 0.81082698 0.5396071  0.52650298 0.39675424 0.39337806\n",
      "  0.72148889 0.18239579 0.48086063 0.56703274 0.30489982 0.20692733\n",
      "  0.59838593 0.59983917 0.18319863 0.54125012 0.8388151  0.16744298\n",
      "  0.38485426 0.88935637 0.70746756 0.60000316 0.23577956 0.38410749\n",
      "  0.         0.09729584 0.34417306 0.38028678 0.40953736 0.29977048\n",
      "  0.309795   0.11452718 0.60857809 0.23700734 0.19320235 0.32125272\n",
      "  0.40225038 0.36254036 0.39564926 0.50769463 0.14531971 0.66113583\n",
      "  0.24408174 0.22369008 0.76496452 0.66529283]\n",
      " [0.2515905  0.71831177 0.51453223 0.11130452 0.53483242 0.74509225\n",
      "  0.46843477 0.38602507 0.849291   0.61264333 0.38041478 0.36383744\n",
      "  0.36443107 0.53499888 0.75330122 0.51419213 0.75186463 0.07687398\n",
      "  0.86756244 0.61083629 0.51953155 0.40430542 0.83519153 0.36398261\n",
      "  0.75576203 0.30133097 0.46422722 0.56833301 0.35799311 0.15065911\n",
      "  0.41979639 0.2533586  0.390212   0.4363442  0.34136674 0.7449206\n",
      "  0.42044115 0.23040343 0.38087259 0.27980692 0.12083213 0.52547485\n",
      "  0.73228925 0.06785483 0.28223079 0.56058825 0.68322307 0.8953629\n",
      "  0.22181845 0.60915659 0.62831637 0.35064009 0.40188342 0.54546991\n",
      "  0.55567147 0.89185695 0.62136542 0.59745903 0.46713914 0.46803088\n",
      "  0.78656134 0.1719425  0.46528494 0.66326446 0.37449552 0.11797278\n",
      "  0.69397917 0.59435842 0.20441414 0.5143754  0.92762828 0.15635686\n",
      "  0.48213555 0.97273716 0.80111725 0.69487022 0.26536026 0.38399089\n",
      "  0.09729584 0.         0.35773082 0.3625989  0.50652399 0.2336893\n",
      "  0.3882651  0.20851657 0.69396258 0.32679979 0.20425169 0.41823804\n",
      "  0.44845921 0.4037366  0.47782732 0.58003134 0.13392128 0.75430237\n",
      "  0.25510177 0.14140267 0.85318532 0.75070649]\n",
      " [0.10945069 0.52964181 0.44948478 0.33096929 0.36433253 0.73541992\n",
      "  0.57999678 0.49602013 0.92329602 0.61984188 0.40656685 0.70871587\n",
      "  0.02185367 0.59654446 0.87751094 0.73386944 0.99103262 0.43433308\n",
      "  1.0047949  0.83703127 0.68555353 0.71580443 0.92659893 0.22893426\n",
      "  0.94723408 0.26360868 0.81261314 0.77894361 0.35452058 0.49846784\n",
      "  0.74710598 0.55937942 0.0762167  0.2022668  0.06552418 0.70953204\n",
      "  0.26596674 0.20565062 0.62442557 0.56206297 0.23900466 0.55212018\n",
      "  0.61097341 0.33648661 0.37073836 0.51897421 0.87364078 1.05897946\n",
      "  0.56933465 0.68535332 0.77625003 0.63669043 0.26984342 0.90132464\n",
      "  0.49157352 1.04852933 0.43994751 0.81188772 0.69261023 0.29006989\n",
      "  1.01184413 0.18753822 0.81821732 0.70848662 0.22270991 0.34373517\n",
      "  0.62738251 0.9419649  0.16122269 0.87132252 1.03420304 0.20230104\n",
      "  0.52105693 1.11303716 0.87128229 0.75949751 0.11333768 0.72680659\n",
      "  0.34417306 0.35773082 0.         0.71581248 0.55762115 0.27556476\n",
      "  0.59578947 0.39864875 0.5236638  0.49811967 0.53625408 0.44872432\n",
      "  0.73222558 0.11332187 0.6593735  0.35590296 0.47861307 0.83385716\n",
      "  0.58776483 0.32244822 0.96835676 0.8908483 ]\n",
      " [0.60692144 0.96164057 0.71674816 0.39722009 0.79816126 0.84352601\n",
      "  0.53509999 0.4992587  0.84423256 0.72766037 0.57095348 0.05587742\n",
      "  0.71982901 0.62460495 0.71062524 0.4187408  0.55594647 0.28656484\n",
      "  0.78734471 0.46885645 0.49799451 0.18583756 0.81360014 0.6589991\n",
      "  0.62732958 0.57859331 0.1068386  0.46467535 0.58215024 0.21751972\n",
      "  0.14353621 0.21421336 0.73715233 0.75089083 0.68952951 0.86641526\n",
      "  0.7049306  0.54923154 0.3249478  0.25234273 0.48319819 0.65116226\n",
      "  0.92579138 0.38102246 0.48768535 0.73149349 0.57306436 0.77841605\n",
      "  0.14814868 0.65847383 0.58968784 0.23927908 0.68156541 0.18741753\n",
      "  0.74500117 0.78406779 0.87460116 0.47782882 0.38565303 0.75073693\n",
      "  0.60490439 0.5336879  0.10271717 0.72849438 0.6729657  0.43254794\n",
      "  0.85194465 0.23452344 0.55613835 0.16302676 0.8737473  0.51785056\n",
      "  0.61378981 0.8732964  0.80912321 0.73224109 0.61334648 0.06966437\n",
      "  0.38028678 0.3625989  0.71581248 0.         0.61712624 0.5661173\n",
      "  0.38302418 0.3922411  0.92842765 0.41532719 0.19299313 0.58595605\n",
      "  0.26971724 0.74282091 0.45528375 0.86450664 0.23770984 0.76189943\n",
      "  0.15267198 0.46418854 0.80142581 0.68947495]\n",
      " [0.49609297 0.40526508 0.17290894 0.39785609 0.31944676 0.2419564\n",
      "  0.09178938 0.12720505 0.36925921 0.1131836  0.15384826 0.57034633\n",
      "  0.54194907 0.03911458 0.32471686 0.30815441 0.52515852 0.52073564\n",
      "  0.45225409 0.38468974 0.20409892 0.47403276 0.36936717 0.3347614\n",
      "  0.43262573 0.29797403 0.65203222 0.32190767 0.2039937  0.49452461\n",
      "  0.5324658  0.4099153  0.50871813 0.41082044 0.49274666 0.25318038\n",
      "  0.32246877 0.38259701 0.30650769 0.36629919 0.5145814  0.03747605\n",
      "  0.32411966 0.44031489 0.23138105 0.13914082 0.36826819 0.51573871\n",
      "  0.51477485 0.12778121 0.24687733 0.38710809 0.30611105 0.77086743\n",
      "  0.17023187 0.50225332 0.35125209 0.34992521 0.2973014  0.33534561\n",
      "  0.52529062 0.51816831 0.68316828 0.16121717 0.34522643 0.6131547\n",
      "  0.23710649 0.74266035 0.46880662 0.7633173  0.4765837  0.51149769\n",
      "  0.03697083 0.55913705 0.31745484 0.20490022 0.46673559 0.57243466\n",
      "  0.40953736 0.50652399 0.55762115 0.61712624 0.         0.67752344\n",
      "  0.24268515 0.30056297 0.36616803 0.20873091 0.46090587 0.10973336\n",
      "  0.42121034 0.48111972 0.21479634 0.40194873 0.48212254 0.27722461\n",
      "  0.47568182 0.62467414 0.41151974 0.34409025]\n",
      " [0.22640346 0.77586722 0.63113407 0.30182817 0.59495877 0.89941809\n",
      "  0.66180108 0.57341629 1.04064694 0.76976894 0.52952964 0.57977326\n",
      "  0.29412854 0.71193854 0.96005203 0.74146201 0.98416603 0.29308821\n",
      "  1.08003956 0.84053083 0.73350032 0.63566418 1.03252423 0.42333241\n",
      "  0.98053997 0.40182632 0.67248802 0.79466328 0.48919652 0.37531489\n",
      "  0.64601288 0.48696349 0.34400278 0.44877047 0.3054006  0.8872604\n",
      "  0.47851304 0.30764357 0.61009893 0.51269702 0.16432521 0.68688576\n",
      "  0.82997071 0.27120376 0.44752724 0.69202817 0.90690031 1.11521678\n",
      "  0.44179754 0.79513011 0.83977441 0.5842726  0.4700437  0.73427384\n",
      "  0.67554794 1.10992801 0.67981508 0.82495483 0.69470345 0.51814986\n",
      "  1.01744145 0.16376195 0.66538988 0.8387404  0.42626179 0.13374194\n",
      "  0.81924382 0.8003707  0.22361454 0.69850408 1.1315053  0.16733632\n",
      "  0.64629211 1.18728298 0.99009528 0.87911005 0.26069051 0.60124017\n",
      "  0.29977048 0.2336893  0.27556476 0.5661173  0.67752344 0.\n",
      "  0.60952512 0.40946376 0.76202657 0.53330529 0.43462737 0.57344421\n",
      "  0.68214115 0.37543987 0.69500718 0.6096202  0.36213107 0.94573767\n",
      "  0.4834358  0.102176   1.05875671 0.96228957]\n",
      " [0.50074389 0.62907621 0.37900589 0.30932814 0.49982485 0.46056385\n",
      "  0.15447972 0.15017537 0.48674938 0.34828954 0.25776663 0.33283004\n",
      "  0.58773479 0.24398196 0.37270468 0.13878282 0.39546502 0.36746734\n",
      "  0.4809533  0.24213156 0.13643314 0.23137738 0.46449383 0.42630262\n",
      "  0.37123696 0.35168505 0.40981797 0.18800458 0.2961709  0.31147153\n",
      "  0.28978917 0.19459197 0.57552046 0.52387259 0.54106227 0.48512697\n",
      "  0.44716184 0.39025991 0.06389479 0.14687327 0.45222095 0.27926276\n",
      "  0.56471986 0.33860146 0.23173899 0.37256995 0.29739953 0.50732985\n",
      "  0.3060454  0.27699985 0.24503093 0.14618031 0.42370166 0.52868255\n",
      "  0.39510968 0.50359259 0.55749214 0.22004087 0.0970631  0.48128768\n",
      "  0.41917655 0.47956228 0.4419205  0.34619528 0.44096404 0.50623565\n",
      "  0.47966909 0.50127313 0.45533885 0.52253477 0.54736266 0.46685385\n",
      "  0.24869392 0.58496754 0.44452911 0.35505558 0.48419217 0.33270512\n",
      "  0.309795   0.3882651  0.59578947 0.38302418 0.24268515 0.60952512\n",
      "  0.         0.2069069  0.59167752 0.09971943 0.25924941 0.24929869\n",
      "  0.18542518 0.56144436 0.09176442 0.57976448 0.30699725 0.39618755\n",
      "  0.25619573 0.52813897 0.47219656 0.36545763]\n",
      " [0.29782362 0.57497886 0.34056885 0.10821162 0.40628787 0.54155266\n",
      "  0.26041096 0.17768888 0.64187637 0.40984013 0.1941085  0.36316833\n",
      "  0.39347795 0.32729198 0.55187357 0.34489159 0.59945861 0.22161422\n",
      "  0.67067341 0.44780469 0.32423112 0.33062744 0.62936708 0.27349711\n",
      "  0.57630452 0.19138099 0.46547543 0.39490611 0.19293528 0.21128691\n",
      "  0.37283995 0.18722295 0.39052872 0.3703682  0.35014432 0.54599961\n",
      "  0.31465255 0.19516004 0.2264628  0.17278909 0.24803264 0.32268495\n",
      "  0.55893011 0.14586136 0.09861658 0.37292471 0.5019949  0.70677696\n",
      "  0.25512725 0.40068438 0.43036367 0.24324542 0.29084625 0.57459876\n",
      "  0.37616619 0.70090547 0.48471337 0.42690375 0.30045608 0.35942826\n",
      "  0.62550881 0.27277635 0.4838097  0.45521282 0.28818256 0.32137403\n",
      "  0.50481128 0.5859059  0.25025627 0.55462458 0.72480952 0.26034371\n",
      "  0.27927838 0.77782045 0.59320565 0.48639029 0.28537774 0.37532529\n",
      "  0.11452718 0.20851657 0.39864875 0.3922411  0.30056297 0.40946376\n",
      "  0.2069069  0.         0.54403582 0.12388643 0.20199536 0.22347488\n",
      "  0.33522266 0.38415163 0.28701539 0.47256882 0.19454232 0.54673156\n",
      "  0.24021303 0.33798639 0.6511986  0.55295513]\n",
      " [0.53579011 0.0394543  0.21449952 0.59037802 0.16720641 0.33963623\n",
      "  0.45540032 0.44432312 0.58121247 0.31208623 0.35751621 0.89077045\n",
      "  0.50186465 0.38753716 0.61899697 0.67421882 0.88100702 0.74294137\n",
      "  0.73117997 0.74824533 0.56946963 0.81695676 0.60737923 0.34265266\n",
      "  0.76976879 0.39277699 0.98478315 0.68655223 0.35141906 0.75338172\n",
      "  0.87244966 0.71452867 0.44822625 0.32207737 0.46927642 0.28886682\n",
      "  0.2852253  0.47493316 0.65391627 0.68112141 0.63482992 0.32999621\n",
      "  0.11535646 0.63018839 0.44544731 0.22711351 0.71600519 0.81248623\n",
      "  0.7985349  0.43833495 0.58994872 0.72393879 0.29799518 1.10119075\n",
      "  0.1979402  0.79385012 0.08378199 0.7130197  0.66061358 0.24388063\n",
      "  0.87336287 0.60740509 1.01041094 0.40350673 0.33732644 0.76176265\n",
      "  0.20156503 1.0891458  0.54460393 1.08683878 0.71133351 0.61076586\n",
      "  0.34745088 0.82229456 0.53815451 0.4586299  0.5013391  0.89805311\n",
      "  0.60857809 0.69396258 0.5236638  0.92842765 0.36616803 0.76202657\n",
      "  0.59167752 0.54403582 0.         0.52146871 0.74443413 0.34754127\n",
      "  0.77676347 0.41063526 0.58027128 0.17476538 0.73512162 0.52570628\n",
      "  0.77635298 0.75780678 0.6717978  0.65154392]\n",
      " [0.40601174 0.55706022 0.30706696 0.23200142 0.41340812 0.44813776\n",
      "  0.14594293 0.08438613 0.52320497 0.32189198 0.17036231 0.37271798\n",
      "  0.48938237 0.22591651 0.42842246 0.23594391 0.49310699 0.32435681\n",
      "  0.54678768 0.33894672 0.20093944 0.29740474 0.50839259 0.32753527\n",
      "  0.45691265 0.25203849 0.4636423  0.28126819 0.20180872 0.28820103\n",
      "  0.35147785 0.20342033 0.47601738 0.42561886 0.44225041 0.46191091\n",
      "  0.35125956 0.29320081 0.14577789 0.16312671 0.3712519  0.23953586\n",
      "  0.51070915 0.26796384 0.13202063 0.31624257 0.38248508 0.58396285\n",
      "  0.30611851 0.28776224 0.30648315 0.20344725 0.32743478 0.58083449\n",
      "  0.33138641 0.57761647 0.47816402 0.31410015 0.19648908 0.38780499\n",
      "  0.51413271 0.39280302 0.49059182 0.34864719 0.34229966 0.44252548\n",
      "  0.43807796 0.56896445 0.36275487 0.56864255 0.60190533 0.38131523\n",
      "  0.19979245 0.65399058 0.47589503 0.37289457 0.38755075 0.37817367\n",
      "  0.23700734 0.32679979 0.49811967 0.41532719 0.20873091 0.53330529\n",
      "  0.09971943 0.12388643 0.52146871 0.         0.25217569 0.17406437\n",
      "  0.27124353 0.46172508 0.1659875  0.49084271 0.27747851 0.42854432\n",
      "  0.26898458 0.46062712 0.52796474 0.42906917]\n",
      " [0.42683406 0.77617327 0.53667154 0.20862037 0.60808188 0.6993189\n",
      "  0.39138309 0.33522208 0.74597949 0.57406579 0.38922816 0.17391659\n",
      "  0.53791142 0.47659768 0.62825151 0.35334872 0.5664264  0.1438328\n",
      "  0.72807145 0.43787072 0.39417203 0.20104113 0.72297497 0.46600652\n",
      "  0.59318686 0.38572386 0.2787299  0.40770712 0.3944261  0.06387184\n",
      "  0.21649441 0.06836697 0.55051234 0.55821923 0.50396369 0.71408458\n",
      "  0.51232467 0.35872859 0.22334813 0.11396233 0.3163909  0.49110907\n",
      "  0.75161037 0.200527   0.2996675  0.55989348 0.52541917 0.74081041\n",
      "  0.05497841 0.52873336 0.50045054 0.16376721 0.48911067 0.37916279\n",
      "  0.5687253  0.74099816 0.68663558 0.43209508 0.30829899 0.55843646\n",
      "  0.60618777 0.36319788 0.29021684 0.59449269 0.47997764 0.30643424\n",
      "  0.68696441 0.40663752 0.37503859 0.3560099  0.80160336 0.34727714\n",
      "  0.45017433 0.82698743 0.70357167 0.61060256 0.42896401 0.19091521\n",
      "  0.19320235 0.20425169 0.53625408 0.19299313 0.46090587 0.43462737\n",
      "  0.25924941 0.20199536 0.74443413 0.25217569 0.         0.41039001\n",
      "  0.25447287 0.55362846 0.3487196  0.67255609 0.07275302 0.65522593\n",
      "  0.05210832 0.33573603 0.72651659 0.61669875]\n",
      " [0.38662629 0.38351336 0.1330553  0.30713203 0.25310238 0.32959595\n",
      "  0.14697457 0.09915212 0.47879162 0.19770143 0.04462645 0.54553614\n",
      "  0.43353085 0.14819417 0.43006098 0.35503606 0.59646439 0.44380257\n",
      "  0.55769217 0.44675232 0.2690985  0.4697951  0.47898807 0.2293635\n",
      "  0.52093737 0.18824075 0.63768308 0.3829594  0.09441569 0.4319497\n",
      "  0.52494648 0.37192297 0.40236071 0.31282513 0.38417242 0.32668633\n",
      "  0.22578327 0.27403364 0.30923989 0.33543456 0.41238147 0.1134532\n",
      "  0.34139529 0.350548   0.13604042 0.15027208 0.45156601 0.61684146\n",
      "  0.46536515 0.23692394 0.33887412 0.37648522 0.20637437 0.75467663\n",
      "  0.15916315 0.60469075 0.30830522 0.41439307 0.3303826  0.24813176\n",
      "  0.60410606 0.41214732 0.66422562 0.26806774 0.24098609 0.51817427\n",
      "  0.28134899 0.74190904 0.36074646 0.74170308 0.58580655 0.40643879\n",
      "  0.07453319 0.66543762 0.42690746 0.3143425  0.35703713 0.55177601\n",
      "  0.32125272 0.41823804 0.44872432 0.58595605 0.10973336 0.57344421\n",
      "  0.24929869 0.22347488 0.34754127 0.17406437 0.41039001 0.\n",
      "  0.43432871 0.37658976 0.26162014 0.33491634 0.41655658 0.38695581\n",
      "  0.43594952 0.52693044 0.51965608 0.44616032]\n",
      " [0.6277986  0.8143314  0.56442445 0.41002693 0.68285503 0.61597772\n",
      "  0.32967035 0.33519756 0.58132817 0.51850821 0.43957228 0.21389335\n",
      "  0.72810899 0.41504726 0.44394114 0.15475841 0.3132969  0.39729568\n",
      "  0.5176949  0.20116534 0.25200779 0.08388242 0.54823616 0.5932282\n",
      "  0.3608616  0.51355512 0.25480086 0.1959837  0.47299993 0.3182616\n",
      "  0.13538519 0.19532032 0.72544916 0.69205747 0.68534369 0.64855469\n",
      "  0.62144664 0.53033505 0.12607472 0.17408074 0.54535905 0.45857979\n",
      "  0.74530506 0.42277692 0.39526499 0.55560221 0.30361664 0.51216903\n",
      "  0.27214472 0.42368691 0.32815114 0.09898786 0.5974142  0.36950737\n",
      "  0.57966467 0.51650313 0.74263282 0.20812993 0.13382015 0.65895758\n",
      "  0.35573214 0.58463858 0.29278572 0.49433095 0.60818723 0.55839207\n",
      "  0.65522167 0.32395866 0.57748965 0.3724576  0.6043183  0.569667\n",
      "  0.4316839  0.60545813 0.55020185 0.48629545 0.61895825 0.2026784\n",
      "  0.40225038 0.44845921 0.73222558 0.26971724 0.42121034 0.68214115\n",
      "  0.18542518 0.33522266 0.77676347 0.27124353 0.25447287 0.43432871\n",
      "  0.         0.71726028 0.2174983  0.76149774 0.32588265 0.50458411\n",
      "  0.21618163 0.58646679 0.5325157  0.420866  ]\n",
      " [0.16305855 0.41632767 0.35297675 0.34572822 0.25365054 0.63797182\n",
      "  0.51808773 0.44132178 0.83824296 0.52951333 0.33884995 0.72733028\n",
      "  0.09146861 0.52017083 0.80553864 0.69527993 0.95076889 0.47631298\n",
      "  0.93318528 0.796545   0.63258575 0.71391671 0.8453994  0.1472472\n",
      "  0.89228165 0.21020625 0.83217036 0.73542674 0.28678818 0.52742117\n",
      "  0.75257162 0.56321579 0.03764891 0.09102921 0.07102236 0.60828079\n",
      "  0.16700527 0.1954003  0.60005781 0.55625685 0.29790266 0.46987127\n",
      "  0.50033801 0.36470764 0.32970611 0.42321491 0.82041333 0.99341351\n",
      "  0.59469938 0.60803692 0.71395015 0.62734863 0.17739651 0.93023212\n",
      "  0.39270759 0.98124226 0.32700592 0.768355   0.65800001 0.18216375\n",
      "  0.96626571 0.25189517 0.8430651  0.62296546 0.13593999 0.41929359\n",
      "  0.52316014 0.95867949 0.20094309 0.90353191 0.95443287 0.26282484\n",
      "  0.44415547 1.04025639 0.7865353  0.67661052 0.13975319 0.74326812\n",
      "  0.36254036 0.4037366  0.11332187 0.74282091 0.48111972 0.37543987\n",
      "  0.56144436 0.38415163 0.41063526 0.46172508 0.55362846 0.37658976\n",
      "  0.71726028 0.         0.61256031 0.24278719 0.50676844 0.75218286\n",
      "  0.6025973  0.40366816 0.89192636 0.82269616]\n",
      " [0.57076867 0.61913419 0.37703188 0.39331652 0.51317118 0.3990303\n",
      "  0.12511797 0.17330054 0.39835852 0.30293918 0.28431851 0.40198886\n",
      "  0.64917586 0.20154941 0.28103914 0.09488955 0.33926116 0.45914831\n",
      "  0.39000004 0.18646486 0.04548286 0.28514243 0.37426806 0.47007153\n",
      "  0.29097804 0.40333695 0.46607101 0.1235342  0.33153849 0.40262819\n",
      "  0.34382866 0.28234304 0.63090551 0.56369412 0.60091393 0.43107962\n",
      "  0.48074031 0.45636969 0.13236423 0.23503681 0.53496311 0.25191544\n",
      "  0.53601911 0.42541152 0.28869671 0.35370933 0.2165701  0.4202128\n",
      "  0.39318253 0.20754596 0.1532804  0.21657884 0.4588329  0.58355787\n",
      "  0.38286002 0.41520671 0.55874033 0.15618016 0.08528197 0.50826315\n",
      "  0.35396899 0.55844928 0.50156322 0.27842419 0.4839604  0.59566516\n",
      "  0.44150023 0.54122334 0.5284653  0.58247885 0.45562417 0.54666353\n",
      "  0.23398843 0.49493436 0.35826101 0.27708198 0.55074367 0.39810989\n",
      "  0.39564926 0.47782732 0.6593735  0.45528375 0.21479634 0.69500718\n",
      "  0.09176442 0.28701539 0.58027128 0.1659875  0.3487196  0.26162014\n",
      "  0.2174983  0.61256031 0.         0.59567632 0.39860957 0.31014978\n",
      "  0.34078196 0.61663649 0.3804498  0.27395071]\n",
      " [0.38478217 0.1745811  0.2299529  0.48885014 0.08295518 0.4688314\n",
      "  0.47513347 0.43131985 0.69963171 0.39644935 0.32220384 0.83518528\n",
      "  0.3340722  0.43505004 0.70670455 0.68970511 0.9248758  0.64016894\n",
      "  0.82900935 0.77879482 0.59827831 0.78456762 0.71798102 0.21636127\n",
      "  0.83367246 0.28930344 0.93609058 0.71493507 0.29117937 0.66745284\n",
      "  0.83470379 0.65770708 0.2797034  0.16085519 0.30721645 0.42630133\n",
      "  0.16226402 0.35010225 0.63545066 0.63373587 0.50064537 0.37407933\n",
      "  0.27973246 0.52302484 0.38091559 0.28561287 0.77021688 0.90296036\n",
      "  0.72328988 0.5090289  0.64786562 0.69061727 0.18423618 1.0469809\n",
      "  0.24777824 0.88672759 0.09660097 0.74535191 0.66496303 0.11475357\n",
      "  0.92706327 0.46524953 0.95603401 0.49657738 0.20554261 0.62876654\n",
      "  0.33440326 1.05194283 0.40399232 1.02713065 0.82665321 0.47156335\n",
      "  0.37085353 0.9289011  0.65136592 0.55420159 0.35227982 0.84630812\n",
      "  0.50769463 0.58003134 0.35590296 0.86450664 0.40194873 0.6096202\n",
      "  0.57976448 0.47256882 0.17476538 0.49084271 0.67255609 0.33491634\n",
      "  0.76149774 0.24278719 0.59567632 0.         0.64751966 0.62833576\n",
      "  0.71277729 0.61984727 0.77614653 0.73340797]\n",
      " [0.36947616 0.7644839  0.53487397 0.16335836 0.58918906 0.72375204\n",
      "  0.42268809 0.35493939 0.79070675 0.59459131 0.388649   0.23202912\n",
      "  0.48221842 0.50277049 0.679648   0.4148001  0.63639826 0.07143746\n",
      "  0.78473387 0.50391683 0.44342471 0.2736679  0.77058966 0.434623\n",
      "  0.65665804 0.35822197 0.33462156 0.46956184 0.38405563 0.0207009\n",
      "  0.28606059 0.13324933 0.49983293 0.52142049 0.45200399 0.73337914\n",
      "  0.48538492 0.31554086 0.28152481 0.17163197 0.25048092 0.50881534\n",
      "  0.75346202 0.14335122 0.29187448 0.56664734 0.58708629 0.80228002\n",
      "  0.09082143 0.56364224 0.55184493 0.23225477 0.46336111 0.42453115\n",
      "  0.57069843 0.80132049 0.67148952 0.49568765 0.36851702 0.5327703\n",
      "  0.67490211 0.29935517 0.33975445 0.62602646 0.4476804  0.23371815\n",
      "  0.69756394 0.46452025 0.3184976  0.39685008 0.85417006 0.28339017\n",
      "  0.46617488 0.88596243 0.74607739 0.64776988 0.37571072 0.25148825\n",
      "  0.14531971 0.13392128 0.47861307 0.23770984 0.48212254 0.36213107\n",
      "  0.30699725 0.19454232 0.73512162 0.27747851 0.07275302 0.41655658\n",
      "  0.32588265 0.50676844 0.39860957 0.64751966 0.         0.69792487\n",
      "  0.12173432 0.26298711 0.77897939 0.67103514]\n",
      " [0.77289468 0.56252349 0.41051601 0.65294409 0.55335558 0.19992034\n",
      "  0.28641709 0.37296453 0.09522028 0.23256594 0.43089903 0.707307\n",
      "  0.81759937 0.23906806 0.1068472  0.34995725 0.42340485 0.75132894\n",
      "  0.20547417 0.35142778 0.26545126 0.58322995 0.09321885 0.60816271\n",
      "  0.28379894 0.57519357 0.75930892 0.31779441 0.48116969 0.70479185\n",
      "  0.63931274 0.59063513 0.78187082 0.67517207 0.76867498 0.25409538\n",
      "  0.58795857 0.65844381 0.44240702 0.54295117 0.78147688 0.28259949\n",
      "  0.42966931 0.69251177 0.49894831 0.34502657 0.26322248 0.28823898\n",
      "  0.70201196 0.1515554  0.17731977 0.52542415 0.57492096 0.87224532\n",
      "  0.38222886 0.26880881 0.5508558  0.32246216 0.37681831 0.59076326\n",
      "  0.39587943 0.79022523 0.7973389  0.13259024 0.61741248 0.8680615\n",
      "  0.32634323 0.81153512 0.74378656 0.87697096 0.20261667 0.78229757\n",
      "  0.31320536 0.30071866 0.04834643 0.07597686 0.74388463 0.7009749\n",
      "  0.66113583 0.75430237 0.83385716 0.76189943 0.27722461 0.94573767\n",
      "  0.39618755 0.54673156 0.52570628 0.42854432 0.65522593 0.38695581\n",
      "  0.50458411 0.75218286 0.31014978 0.62833576 0.69792487 0.\n",
      "  0.65062712 0.88361881 0.14804602 0.14597386]\n",
      " [0.47839714 0.80927746 0.56554932 0.2588721  0.64564755 0.70953961\n",
      "  0.39957797 0.35336212 0.7389875  0.58809817 0.41909493 0.12525322\n",
      "  0.58907829 0.48748163 0.61541215 0.33162888 0.52946858 0.19072553\n",
      "  0.70905408 0.40846966 0.3860194  0.15402542 0.71336024 0.50991254\n",
      "  0.56649281 0.42867364 0.22984425 0.38467007 0.42947829 0.10841933\n",
      "  0.16481596 0.06577215 0.60053758 0.60379342 0.55437747 0.72799882\n",
      "  0.55412402 0.40730048 0.20970488 0.11120366 0.36839194 0.50800034\n",
      "  0.77695176 0.25246846 0.33503871 0.58338162 0.50152995 0.71607984\n",
      "  0.05712816 0.53201458 0.48865878 0.13600344 0.5305337  0.33481281\n",
      "  0.59510315 0.7176763  0.72193776 0.40639097 0.28912287 0.59943069\n",
      "  0.57146135 0.41530559 0.24448968 0.59993174 0.52416506 0.3534167\n",
      "  0.70704806 0.35635729 0.42654627 0.3144568  0.78668404 0.39938373\n",
      "  0.46877106 0.80497051 0.69885034 0.61122084 0.47979421 0.14069038\n",
      "  0.24408174 0.25510177 0.58776483 0.15267198 0.47568182 0.4834358\n",
      "  0.25619573 0.24021303 0.77635298 0.26898458 0.05210832 0.43594952\n",
      "  0.21618163 0.6025973  0.34078196 0.71277729 0.12173432 0.65062712\n",
      "  0.         0.38341605 0.71202771 0.60082773]\n",
      " [0.24119453 0.77642886 0.60336541 0.23070043 0.59163868 0.85648406\n",
      "  0.59729761 0.51125193 0.97883842 0.72457228 0.48504648 0.47765924\n",
      "  0.33675871 0.65638977 0.88897319 0.65550075 0.89245303 0.19269057\n",
      "  1.00545796 0.75220521 0.65733952 0.53655566 0.96726074 0.41529671\n",
      "  0.89683187 0.37483492 0.57044396 0.7095536  0.45187523 0.27501822\n",
      "  0.54493206 0.39123379 0.37861615 0.46221015 0.3331008  0.85011076\n",
      "  0.47310093 0.28443301 0.52227301 0.42041891 0.12343249 0.6388506\n",
      "  0.81322231 0.19266713 0.39367555 0.65829525 0.82406361 1.03546881\n",
      "  0.34026256 0.7353941  0.76548281 0.48975229 0.45994125 0.63426252\n",
      "  0.64693938 1.031491   0.67871576 0.73881008 0.60845965 0.5173888\n",
      "  0.92770986 0.15498161 0.56389069 0.78476331 0.42166669 0.03164066\n",
      "  0.78969495 0.6985665  0.21593456 0.59906291 1.06249517 0.14840362\n",
      "  0.59648809 1.11139818 0.92948357 0.82069801 0.26989126 0.49916347\n",
      "  0.22369008 0.14140267 0.32244822 0.46418854 0.62467414 0.102176\n",
      "  0.52813897 0.33798639 0.75780678 0.46062712 0.33573603 0.52693044\n",
      "  0.58646679 0.40366816 0.61663649 0.61984727 0.26298711 0.88361881\n",
      "  0.38341605 0.         0.98858521 0.88814212]\n",
      " [0.90038354 0.70798605 0.55621351 0.75935475 0.70052056 0.33816512\n",
      "  0.39898788 0.48804552 0.10993755 0.37992374 0.56204061 0.74556579\n",
      "  0.95313178 0.37241465 0.09994649 0.3843248  0.3582904  0.83922348\n",
      "  0.06598824 0.3439328  0.33609682 0.61602374 0.06911254 0.74613394\n",
      "  0.21600719 0.70627283 0.77898528 0.33677367 0.61385559 0.78246204\n",
      "  0.6663346  0.65876707 0.92014597 0.81779557 0.90380963 0.39255197\n",
      "  0.7299023  0.7842575  0.5038105  0.61262191 0.89490976 0.42278021\n",
      "  0.57214568 0.79591817 0.61848144 0.49205156 0.23736402 0.15396136\n",
      "  0.76719735 0.28397637 0.2271694  0.57816644 0.71550148 0.88349201\n",
      "  0.52949014 0.13220874 0.69882857 0.32654402 0.42345441 0.73538374\n",
      "  0.31696011 0.90913727 0.81877329 0.27971608 0.75626703 0.96998415\n",
      "  0.47106286 0.80806613 0.86729277 0.89466078 0.07519463 0.89979041\n",
      "  0.44842524 0.15275548 0.13666165 0.22220031 0.8732422  0.73517989\n",
      "  0.76496452 0.85318532 0.96835676 0.80142581 0.41151974 1.05875671\n",
      "  0.47219656 0.6511986  0.6717978  0.52796474 0.72651659 0.51965608\n",
      "  0.5325157  0.89192636 0.3804498  0.77614653 0.77897939 0.14804602\n",
      "  0.71202771 0.98858521 0.         0.11209886]\n",
      " [0.81570435 0.68979932 0.505548   0.6610278  0.65367389 0.34208241\n",
      "  0.31186294 0.39935568 0.17803921 0.34249592 0.48564645 0.63362831\n",
      "  0.87707115 0.30601454 0.03946609 0.27225467 0.28058097 0.73289795\n",
      "  0.11776498 0.23668506 0.23118836 0.50422099 0.13671437 0.67550784\n",
      "  0.13840834 0.62724361 0.66899773 0.22494379 0.53815604 0.67370668\n",
      "  0.55511072 0.54867418 0.84828195 0.75483632 0.82759394 0.39508888\n",
      "  0.66650348 0.69904175 0.39350313 0.50303387 0.79955181 0.363566\n",
      "  0.56402749 0.69581044 0.53020418 0.44851261 0.13329032 0.1716821\n",
      "  0.65631702 0.22459288 0.12270204 0.46649974 0.64964681 0.77531881\n",
      "  0.48627796 0.15855023 0.66541351 0.21638616 0.31189138 0.67832372\n",
      "  0.25030113 0.81732088 0.70860448 0.24815199 0.68691231 0.86823069\n",
      "  0.45846111 0.70337924 0.77932968 0.78526076 0.18597495 0.80703888\n",
      "  0.38054224 0.22573221 0.17001757 0.19514298 0.79061682 0.62346018\n",
      "  0.66529283 0.75070649 0.8908483  0.68947495 0.34409025 0.96228957\n",
      "  0.36545763 0.55295513 0.65154392 0.42906917 0.61669875 0.44616032\n",
      "  0.420866   0.82269616 0.27395071 0.73340797 0.67103514 0.14597386\n",
      "  0.60082773 0.88814212 0.11209886 0.        ]]\n"
     ]
    }
   ],
   "source": [
    "coords = np.random.rand(100, 2)\n",
    "distances = np.sqrt(((coords[:, np.newaxis] - coords) ** 2).sum(axis=2))\n",
    "print(distances)"
   ]
  },
  {
   "cell_type": "markdown",
   "id": "c97d1127-6b08-4464-a39b-a94883957035",
   "metadata": {},
   "source": [
    "# 53. How to convert a float (32 bits) array into an integer (32 bits) in place?"
   ]
  },
  {
   "cell_type": "code",
   "execution_count": 54,
   "id": "76a89870-7d34-4617-94bf-1289de4a12ec",
   "metadata": {},
   "outputs": [
    {
     "name": "stdout",
     "output_type": "stream",
     "text": [
      "[0 1 2 3 4 5 6 7 8 9]\n"
     ]
    }
   ],
   "source": [
    "float_arr = np.arange(10, dtype=np.float32)\n",
    "float_arr = float_arr.astype(np.int32, copy=False)\n",
    "print(float_arr)"
   ]
  },
  {
   "cell_type": "markdown",
   "id": "dbd825cf-f15e-4199-a55d-c60c85cf9571",
   "metadata": {},
   "source": [
    "# 54. How to read the following file? \n",
    "1, 2, 3, 4, 5\n",
    "6,  ,  , 7, 8\n",
    " ,  , 9,10,11"
   ]
  },
  {
   "cell_type": "code",
   "execution_count": 55,
   "id": "05b26616-9a79-47d7-97c3-cd0df0caa2b0",
   "metadata": {},
   "outputs": [
    {
     "name": "stdout",
     "output_type": "stream",
     "text": [
      "[[ 1  2  3  4  5]\n",
      " [ 6 -1 -1  7  8]\n",
      " [-1 -1  9 10 11]]\n"
     ]
    }
   ],
   "source": [
    "from io import StringIO\n",
    "text = \"\"\"1, 2, 3, 4, 5\\n6,  ,  , 7, 8\\n ,  , 9,10,11\"\"\"\n",
    "file = StringIO(text)\n",
    "data = np.genfromtxt(file, delimiter=\",\", dtype=int)\n",
    "print(data)"
   ]
  },
  {
   "cell_type": "markdown",
   "id": "d04ba7d5-e940-4e9a-8af3-873fc1e6f4a9",
   "metadata": {},
   "source": [
    "# 55. What is the equivalent of enumerate for numpy arrays?"
   ]
  },
  {
   "cell_type": "code",
   "execution_count": 56,
   "id": "ee546991-e971-4111-9646-7e4009773625",
   "metadata": {},
   "outputs": [
    {
     "name": "stdout",
     "output_type": "stream",
     "text": [
      "(0,) 10\n",
      "(1,) 20\n",
      "(2,) 30\n",
      "(3,) 40\n"
     ]
    }
   ],
   "source": [
    "arr = np.array([10, 20, 30, 40])\n",
    "for index, value in np.ndenumerate(arr):\n",
    "    print(index, value)"
   ]
  },
  {
   "cell_type": "markdown",
   "id": "9e4bf8b7-504c-41ed-8252-a015c68c5ebd",
   "metadata": {},
   "source": [
    "# 56. Generate a generic 2D Gaussian-like array"
   ]
  },
  {
   "cell_type": "code",
   "execution_count": 57,
   "id": "cb6ffad1-7876-4328-ad20-78c4e9fdc923",
   "metadata": {},
   "outputs": [
    {
     "name": "stdout",
     "output_type": "stream",
     "text": [
      "[[0.02324684 0.03382395 0.03832756 0.03382395 0.02324684]\n",
      " [0.03382395 0.04921356 0.05576627 0.04921356 0.03382395]\n",
      " [0.03832756 0.05576627 0.06319146 0.05576627 0.03832756]\n",
      " [0.03382395 0.04921356 0.05576627 0.04921356 0.03382395]\n",
      " [0.02324684 0.03382395 0.03832756 0.03382395 0.02324684]]\n"
     ]
    }
   ],
   "source": [
    "def gaussian(size, sigma=1.0):\n",
    "    x, y = np.meshgrid(np.linspace(-1, 1, size), np.linspace(-1, 1, size))\n",
    "    g = np.exp(-(x**2 + y**2) / (2 * sigma**2))\n",
    "    return g / g.sum()\n",
    "print(gaussian(5))"
   ]
  },
  {
   "cell_type": "markdown",
   "id": "57e99a9f-5dbb-4bc9-8777-a520455e8df0",
   "metadata": {},
   "source": [
    "# 57. How to randomly place p elements in a 2D array?"
   ]
  },
  {
   "cell_type": "code",
   "execution_count": 58,
   "id": "0bbfbf96-8c52-457e-b471-9bba5a01da52",
   "metadata": {},
   "outputs": [
    {
     "name": "stdout",
     "output_type": "stream",
     "text": [
      "[[0. 0. 0. 0. 0. 0. 0. 0. 0. 0.]\n",
      " [0. 0. 0. 0. 0. 0. 0. 0. 0. 0.]\n",
      " [0. 0. 0. 0. 0. 0. 0. 0. 0. 0.]\n",
      " [0. 0. 0. 0. 0. 0. 0. 0. 0. 0.]\n",
      " [0. 0. 0. 0. 0. 0. 1. 0. 0. 0.]\n",
      " [0. 0. 0. 0. 1. 0. 0. 1. 0. 0.]\n",
      " [0. 0. 0. 0. 0. 0. 0. 0. 0. 0.]\n",
      " [0. 0. 0. 0. 0. 0. 0. 0. 0. 0.]\n",
      " [0. 0. 0. 0. 0. 0. 0. 0. 0. 0.]\n",
      " [0. 0. 0. 0. 1. 0. 0. 0. 0. 1.]]\n"
     ]
    }
   ],
   "source": [
    "n, p = 10, 5\n",
    "arr = np.zeros((n, n))\n",
    "coords = np.random.choice(n*n, p, replace=False)\n",
    "arr[np.unravel_index(coords, (n, n))] = 1\n",
    "print(arr)"
   ]
  },
  {
   "cell_type": "markdown",
   "id": "c5149df4-6965-4698-b1a7-3d7b4a0a468d",
   "metadata": {},
   "source": [
    "# 58. Subtract the mean of each row of a matrix"
   ]
  },
  {
   "cell_type": "code",
   "execution_count": 59,
   "id": "34afbacb-2d9a-48b1-aea6-01aaebed19f2",
   "metadata": {},
   "outputs": [
    {
     "name": "stdout",
     "output_type": "stream",
     "text": [
      "[[-0.11105126 -0.03971477  0.05491626  0.12363217 -0.13059613 -0.06707418\n",
      "  -0.19615832  0.53867792 -0.23174764  0.05911596]\n",
      " [-0.06758113 -0.05486922  0.20739053 -0.45825449  0.34966876 -0.13000629\n",
      "   0.12248928 -0.10669682  0.32091575 -0.18305637]\n",
      " [-0.15733177  0.25129966 -0.07345827  0.3839966  -0.15730981  0.05634866\n",
      "  -0.4187185   0.16586606 -0.41640015  0.3657075 ]\n",
      " [-0.24227717 -0.13524859 -0.08416065  0.36386755 -0.28068279 -0.08176484\n",
      "  -0.14428119  0.09182731  0.37861755  0.13410281]\n",
      " [ 0.18542531 -0.00560578  0.14579658  0.27823426 -0.10482992  0.13462725\n",
      "  -0.4951645  -0.20169289 -0.06820539  0.13141507]]\n"
     ]
    }
   ],
   "source": [
    "X = np.random.rand(5, 10)\n",
    "Y = X - X.mean(axis=1, keepdims=True)\n",
    "print(Y)"
   ]
  },
  {
   "cell_type": "markdown",
   "id": "5199eed2-2f17-40d2-ad4e-dd8f462cb278",
   "metadata": {},
   "source": [
    "# 59. How to sort an array by the nth column?"
   ]
  },
  {
   "cell_type": "code",
   "execution_count": 60,
   "id": "a8d02668-0f06-42c3-a4fc-276eb5a68ab6",
   "metadata": {},
   "outputs": [
    {
     "name": "stdout",
     "output_type": "stream",
     "text": [
      "[[33 35 10  4 43]\n",
      " [35 90 49 77 75]\n",
      " [51 71 86 83 40]\n",
      " [69 55 88 55 88]\n",
      " [84 57 99 44 79]]\n"
     ]
    }
   ],
   "source": [
    "arr = np.random.randint(0, 100, (5, 5))\n",
    "n = 2\n",
    "arr = arr[arr[:, n].argsort()]\n",
    "print(arr)"
   ]
  },
  {
   "cell_type": "markdown",
   "id": "1307b14c-695f-4ec0-a545-c626edeae2a3",
   "metadata": {},
   "source": [
    "# 60. How to tell if a given 2D array has null columns?"
   ]
  },
  {
   "cell_type": "code",
   "execution_count": 61,
   "id": "36740fa4-6e16-45f6-b8df-49c8cafab450",
   "metadata": {},
   "outputs": [
    {
     "name": "stdout",
     "output_type": "stream",
     "text": [
      "False\n"
     ]
    }
   ],
   "source": [
    "Z = np.random.randint(0, 2, (5, 5))\n",
    "print((Z.sum(axis=0) == 0).any())"
   ]
  },
  {
   "cell_type": "markdown",
   "id": "261d1d79-3b2f-43cb-a46f-0f33ee00e490",
   "metadata": {},
   "source": [
    "# 61. Find the nearest value from a given value in an array"
   ]
  },
  {
   "cell_type": "code",
   "execution_count": 62,
   "id": "9095c589-5e24-428a-8d39-5a6d4557927b",
   "metadata": {},
   "outputs": [
    {
     "name": "stdout",
     "output_type": "stream",
     "text": [
      "0.5977851907231141\n"
     ]
    }
   ],
   "source": [
    "arr = np.random.rand(10)\n",
    "val = 0.5\n",
    "nearest = arr[np.abs(arr - val).argmin()]\n",
    "print(nearest)"
   ]
  },
  {
   "cell_type": "markdown",
   "id": "1377dac2-7e47-4cbc-82eb-f561b3295fe7",
   "metadata": {},
   "source": [
    "# 62. Considering two arrays with shape (1,3) and (3,1), how to compute their sum using an iterator?"
   ]
  },
  {
   "cell_type": "code",
   "execution_count": 31,
   "id": "708b031c-535f-47a3-ae36-6f1f401ed950",
   "metadata": {},
   "outputs": [
    {
     "name": "stdout",
     "output_type": "stream",
     "text": [
      "[[5. 6. 7.]\n",
      " [6. 7. 8.]\n",
      " [7. 8. 9.]]\n"
     ]
    }
   ],
   "source": [
    "\n",
    "A = np.array([[1, 2, 3]])  \n",
    "B = np.array([[4], [5], [6]])\n",
    "C = np.empty((3, 3))\n",
    "with np.nditer([A, B, C], op_flags=[['readonly'], ['readonly'], ['writeonly']], flags=['external_loop', 'buffered']) as it:\n",
    "    for a, b, c in it:\n",
    "        c[...] = a + b  \n",
    "print(C)"
   ]
  },
  {
   "cell_type": "markdown",
   "id": "c68d80a0-27ba-4593-aaaf-7f9539da3df8",
   "metadata": {},
   "source": [
    "# 63. Create an array class that has a name attribute"
   ]
  },
  {
   "cell_type": "code",
   "execution_count": 64,
   "id": "e4e22f66-b9d8-47ef-aeb9-4054d6e0b0c5",
   "metadata": {},
   "outputs": [
    {
     "name": "stdout",
     "output_type": "stream",
     "text": [
      "Test Array\n"
     ]
    }
   ],
   "source": [
    "class NamedArray(np.ndarray):\n",
    "    def __new__(cls, array, name=\"no name\"):\n",
    "        obj = np.asarray(array).view(cls)\n",
    "        obj.name = name\n",
    "        return obj\n",
    "A = NamedArray(np.arange(10), \"Test Array\")\n",
    "print(A.name)"
   ]
  },
  {
   "cell_type": "markdown",
   "id": "b5e5c38f-4571-4a8e-b14f-15975e6af7ab",
   "metadata": {},
   "source": [
    "# 64. Consider a given vector, how to add 1 to each element indexed by a second vector (be careful with repeated indices)?"
   ]
  },
  {
   "cell_type": "code",
   "execution_count": 65,
   "id": "b2d65747-e31d-46c4-9e86-50cf0f7e6976",
   "metadata": {},
   "outputs": [
    {
     "name": "stdout",
     "output_type": "stream",
     "text": [
      "[1. 3. 3. 3. 1. 3. 2. 2. 2. 0.]\n"
     ]
    }
   ],
   "source": [
    "Z = np.zeros(10)\n",
    "I = np.random.randint(0, 10, 20)\n",
    "np.add.at(Z, I, 1)\n",
    "print(Z)"
   ]
  },
  {
   "cell_type": "markdown",
   "id": "d2b7d9f6-fa4f-44d0-b48c-6aace9030b0c",
   "metadata": {},
   "source": [
    "# 65. How to accumulate elements of a vector (X) to an array (F) based on an index list (I)?"
   ]
  },
  {
   "cell_type": "code",
   "execution_count": 66,
   "id": "b9e7e833-7d1c-4af9-be11-41fa0b07c5ed",
   "metadata": {},
   "outputs": [
    {
     "name": "stdout",
     "output_type": "stream",
     "text": [
      "[0. 1. 2. 3. 4. 5. 6. 7. 8. 9.]\n"
     ]
    }
   ],
   "source": [
    "X = np.arange(10)\n",
    "I = np.array([0, 1, 2, 3, 4, 5, 6, 7, 8, 9])\n",
    "F = np.zeros(10)\n",
    "np.add.at(F, I, X)\n",
    "print(F)"
   ]
  },
  {
   "cell_type": "markdown",
   "id": "4f8cd73b-a7f3-49c5-8e6c-0ca58d4bac30",
   "metadata": {},
   "source": [
    "# 66. Considering a (w,h,3) image of (dtype=ubyte), compute the number of unique colors"
   ]
  },
  {
   "cell_type": "code",
   "execution_count": 67,
   "id": "08506ef9-55a9-41f9-a362-dff8d82e661d",
   "metadata": {},
   "outputs": [
    {
     "name": "stdout",
     "output_type": "stream",
     "text": [
      "4096\n"
     ]
    }
   ],
   "source": [
    "w, h = 64, 64\n",
    "I = np.random.randint(0, 256, (w, h, 3), dtype=np.uint8)\n",
    "unique_colors = len(np.unique(I.reshape(-1, 3), axis=0))\n",
    "print(unique_colors)"
   ]
  },
  {
   "cell_type": "markdown",
   "id": "9ded978c-32ec-4d6a-93ac-86096cc90558",
   "metadata": {},
   "source": [
    "# 67. Considering a four dimensions array, how to get sum over the last two axis at once?"
   ]
  },
  {
   "cell_type": "code",
   "execution_count": 68,
   "id": "54675ef5-eb9c-4680-9207-e349f92eb833",
   "metadata": {},
   "outputs": [
    {
     "name": "stdout",
     "output_type": "stream",
     "text": [
      "[[5.47104925 3.67388929 3.89475203 4.97258809]\n",
      " [5.17148221 3.0744229  5.78111327 4.77110612]\n",
      " [3.65925807 3.27582478 3.29238946 4.16624758]]\n"
     ]
    }
   ],
   "source": [
    "A = np.random.rand(3, 4, 3, 3)\n",
    "result = A.sum(axis=(-2, -1))\n",
    "print(result)"
   ]
  },
  {
   "cell_type": "markdown",
   "id": "fb2905e2-42cf-4c3a-8f89-9935782fefa2",
   "metadata": {},
   "source": [
    "# 68. Considering a one-dimensional vector D, how to compute means of subsets of D using a vector S of same size describing subset  indices? "
   ]
  },
  {
   "cell_type": "code",
   "execution_count": 69,
   "id": "778b47e4-639b-42d8-9841-ccbc1133c4b4",
   "metadata": {},
   "outputs": [
    {
     "name": "stdout",
     "output_type": "stream",
     "text": [
      "[0.57002762 0.38856462 0.483216   0.54979366 0.47990969 0.45102479\n",
      " 0.65467093 0.52970202 0.43359199 0.50148213]\n"
     ]
    }
   ],
   "source": [
    "def subgroup_means(D, S):\n",
    "    return np.array([D[S == i].mean() for i in np.unique(S)])\n",
    "D = np.random.rand(100)\n",
    "S = np.random.randint(0, 10, 100)\n",
    "print(subgroup_means(D, S))"
   ]
  },
  {
   "cell_type": "markdown",
   "id": "bd6eed67-f57a-4b2e-9880-228b669d02fd",
   "metadata": {},
   "source": [
    "# 69. How to get the diagonal of a dot product?"
   ]
  },
  {
   "cell_type": "code",
   "execution_count": 70,
   "id": "1568d0c4-a84c-4ada-b66b-12c22e5e5c48",
   "metadata": {},
   "outputs": [
    {
     "name": "stdout",
     "output_type": "stream",
     "text": [
      "[2.02592995 2.21266361 1.40583235 0.71977412 0.88481436]\n"
     ]
    }
   ],
   "source": [
    "A = np.random.rand(5, 5)\n",
    "B = np.random.rand(5, 5)\n",
    "diagonal = np.einsum(\"ii->i\", np.dot(A, B))\n",
    "print(diagonal)"
   ]
  },
  {
   "cell_type": "markdown",
   "id": "fa7fb678-c8b0-4c0f-aef1-fa1a1f035737",
   "metadata": {},
   "source": [
    "# 70. Consider the vector [1, 2, 3, 4, 5], how to build a new vector with 3 consecutive zeros interleaved between each value?"
   ]
  },
  {
   "cell_type": "code",
   "execution_count": 71,
   "id": "4bce7a32-ae3c-41b1-a0a5-4b56cd757b15",
   "metadata": {},
   "outputs": [
    {
     "name": "stdout",
     "output_type": "stream",
     "text": [
      "[1. 0. 0. 0. 2. 0. 0. 0. 3. 0. 0. 0. 4. 0. 0. 0. 5.]\n"
     ]
    }
   ],
   "source": [
    "Z = np.array([1, 2, 3, 4, 5])\n",
    "R = np.zeros(len(Z) + (len(Z)-1)*3)\n",
    "R[::4] = Z\n",
    "print(R)"
   ]
  },
  {
   "cell_type": "markdown",
   "id": "94c17ce4-fb7d-480d-8c74-0da38324a572",
   "metadata": {},
   "source": [
    "# 71. Consider an array of dimension (5,5,3), how to mulitply it by an array with dimensions (5,5)?"
   ]
  },
  {
   "cell_type": "code",
   "execution_count": 72,
   "id": "e6b5b26e-9363-43cf-b52c-4168a600175d",
   "metadata": {},
   "outputs": [
    {
     "name": "stdout",
     "output_type": "stream",
     "text": [
      "[[[0.59218015 0.16243814 0.57109562]\n",
      "  [0.07512895 0.01960736 0.07257097]\n",
      "  [0.03268223 0.01569599 0.05546293]\n",
      "  [0.00817587 0.00915747 0.03326768]\n",
      "  [0.75833482 0.01252015 0.59498455]]\n",
      "\n",
      " [[0.05254007 0.08968696 0.05378995]\n",
      "  [0.2061222  0.426151   0.07267099]\n",
      "  [0.36847072 0.53527203 0.05303987]\n",
      "  [0.55066287 0.42325668 0.18771853]\n",
      "  [0.42752856 0.02724799 0.00544121]]\n",
      "\n",
      " [[0.05500831 0.1457902  0.12475382]\n",
      "  [0.09028355 0.10097826 0.09541831]\n",
      "  [0.77552895 0.50884709 0.36579629]\n",
      "  [0.7089492  0.3517559  0.07827435]\n",
      "  [0.42694401 0.243712   0.09391774]]\n",
      "\n",
      " [[0.21893944 0.46238832 0.50814464]\n",
      "  [0.59997579 0.05765831 0.74499166]\n",
      "  [0.6009898  0.85150666 0.54127329]\n",
      "  [0.03067106 0.26389598 0.16016042]\n",
      "  [0.18375788 0.22856076 0.3146545 ]]\n",
      "\n",
      " [[0.04811274 0.01654198 0.15093343]\n",
      "  [0.06406358 0.00435899 0.05463012]\n",
      "  [0.0334454  0.0294811  0.03257329]\n",
      "  [0.2109455  0.00883927 0.23495246]\n",
      "  [0.01464132 0.06254301 0.02883028]]]\n"
     ]
    }
   ],
   "source": [
    "A = np.random.rand(5, 5, 3)\n",
    "B = np.random.rand(5, 5, 1)\n",
    "print(A * B)"
   ]
  },
  {
   "cell_type": "markdown",
   "id": "f25e7a07-781f-4891-baf6-b0a8b4b2236d",
   "metadata": {},
   "source": [
    "# 72. How to swap two rows of an array?"
   ]
  },
  {
   "cell_type": "code",
   "execution_count": 73,
   "id": "3cc73254-a805-46fb-a238-cc33cac7a1d3",
   "metadata": {},
   "outputs": [
    {
     "name": "stdout",
     "output_type": "stream",
     "text": [
      "[[ 5  6  7  8  9]\n",
      " [ 0  1  2  3  4]\n",
      " [10 11 12 13 14]\n",
      " [15 16 17 18 19]\n",
      " [20 21 22 23 24]]\n"
     ]
    }
   ],
   "source": [
    "Z = np.arange(25).reshape(5, 5)\n",
    "Z[[0, 1]] = Z[[1, 0]]\n",
    "print(Z)"
   ]
  },
  {
   "cell_type": "markdown",
   "id": "c2f0a52d-7b04-4636-895d-0e8ae757595a",
   "metadata": {},
   "source": [
    "# 73. Consider a set of 10 triplets describing 10 triangles (with shared vertices), find the set of unique line segments composing all the  triangles "
   ]
  },
  {
   "cell_type": "code",
   "execution_count": 74,
   "id": "3853a6a7-075c-4abf-8af0-d8a337865261",
   "metadata": {},
   "outputs": [
    {
     "name": "stdout",
     "output_type": "stream",
     "text": [
      "[[0 1]\n",
      " [0 2]\n",
      " [0 3]\n",
      " [0 7]\n",
      " [0 8]\n",
      " [0 9]\n",
      " [1 3]\n",
      " [1 8]\n",
      " [1 9]\n",
      " [2 7]\n",
      " [3 7]\n",
      " [3 8]\n",
      " [3 9]\n",
      " [7 8]\n",
      " [7 9]\n",
      " [8 8]\n",
      " [9 9]]\n"
     ]
    }
   ],
   "source": [
    "triangles = np.random.randint(0, 10, (10, 3))\n",
    "edges = np.vstack([triangles[:, [0, 1]], triangles[:, [1, 2]], triangles[:, [2, 0]]])\n",
    "edges = np.sort(edges, axis=1)\n",
    "unique_edges = np.unique(edges, axis=0)\n",
    "print(unique_edges)"
   ]
  },
  {
   "cell_type": "markdown",
   "id": "7ca8ff09-4622-4cdb-aa56-910716196c2c",
   "metadata": {},
   "source": [
    "# 74. Given a sorted array C that corresponds to a bincount, how to produce an array A such that np.bincount(A) == C?"
   ]
  },
  {
   "cell_type": "code",
   "execution_count": 75,
   "id": "db708baf-8a23-474e-858f-4ae00cd2d02a",
   "metadata": {},
   "outputs": [
    {
     "name": "stdout",
     "output_type": "stream",
     "text": [
      "[1 1 1 2 3 3 5]\n"
     ]
    }
   ],
   "source": [
    "C = np.array([0, 3, 1, 2, 0, 1])\n",
    "A = np.repeat(np.arange(len(C)), C)\n",
    "print(A)"
   ]
  },
  {
   "cell_type": "markdown",
   "id": "16fe7d34-5952-41b2-b499-8febeb2a7fae",
   "metadata": {},
   "source": [
    "# 75. How to compute averages using a sliding window over an array?"
   ]
  },
  {
   "cell_type": "code",
   "execution_count": 76,
   "id": "39034483-40fd-44b7-b1a7-bce61261763f",
   "metadata": {},
   "outputs": [
    {
     "name": "stdout",
     "output_type": "stream",
     "text": [
      "[1. 2. 3. 4. 5. 6. 7. 8.]\n"
     ]
    }
   ],
   "source": [
    "def moving_average(a, n=3):\n",
    "    return np.convolve(a, np.ones(n)/n, mode='valid')\n",
    "\n",
    "Z = np.arange(10)\n",
    "print(moving_average(Z, 3))"
   ]
  },
  {
   "cell_type": "markdown",
   "id": "84256877-fb8b-4455-b3bd-924764c36ff1",
   "metadata": {},
   "source": [
    "# 76. Consider a one-dimensional array Z, build a two-dimensional array whose first row is (Z[0],Z[1],Z[2]) and each subsequent row is  shifted by 1 (last row should be (Z[-3],Z[-2],Z[-1])"
   ]
  },
  {
   "cell_type": "code",
   "execution_count": 77,
   "id": "dd73e4e3-9e5b-4887-8f26-c757998ea84e",
   "metadata": {},
   "outputs": [
    {
     "name": "stdout",
     "output_type": "stream",
     "text": [
      "[[ 1  2  3  4]\n",
      " [ 2  3  4  5]\n",
      " [ 3  4  5  6]\n",
      " [ 4  5  6  7]\n",
      " [ 5  6  7  8]\n",
      " [ 6  7  8  9]\n",
      " [ 7  8  9 10]\n",
      " [ 8  9 10 11]\n",
      " [ 9 10 11 12]\n",
      " [10 11 12 13]\n",
      " [11 12 13 14]]\n"
     ]
    }
   ],
   "source": [
    "Z = np.arange(1, 15)\n",
    "R = np.lib.stride_tricks.sliding_window_view(Z, window_shape=4)\n",
    "print(R)"
   ]
  },
  {
   "cell_type": "markdown",
   "id": "88ceb8c7-8a27-491f-a7c1-e1e2494d2485",
   "metadata": {},
   "source": [
    "# 77. How to negate a boolean, or to change the sign of a float inplace?"
   ]
  },
  {
   "cell_type": "code",
   "execution_count": 78,
   "id": "f3f7796e-2672-4bea-95fc-7ccdda2f9c64",
   "metadata": {},
   "outputs": [
    {
     "name": "stdout",
     "output_type": "stream",
     "text": [
      "[False  True False]\n",
      "[-1.  2. -3.]\n"
     ]
    }
   ],
   "source": [
    "Z = np.array([True, False, True])\n",
    "Z = ~Z\n",
    "print(Z)\n",
    "\n",
    "Z = np.array([1.0, -2.0, 3.0])\n",
    "Z *= -1\n",
    "print(Z)"
   ]
  },
  {
   "cell_type": "markdown",
   "id": "30a2cf20-7cd8-44f3-9f3f-dbdbddc4856e",
   "metadata": {},
   "source": [
    "# 78. Consider 2 sets of points P0,P1 describing lines (2d) and a point p, how to compute distance from p to each line i (P0[i],P1[i])?"
   ]
  },
  {
   "cell_type": "code",
   "execution_count": 79,
   "id": "e18d41e2-e91f-4e2f-9f16-187293840f2d",
   "metadata": {},
   "outputs": [],
   "source": [
    "P0 = np.array([[0, 0], [1, 1], [2, 2]])\n",
    "P1 = np.array([[1, 0], [1, 2], [3, 3]])  \n",
    "p = np.array([1, 1])\n"
   ]
  },
  {
   "cell_type": "markdown",
   "id": "afcf819b-f3c2-40eb-ba46-a06a89f0820c",
   "metadata": {},
   "source": [
    "# 79. Consider 2 sets of points P0,P1 describing lines (2d) and a set of points P, how to compute distance from each point j (P[j]) to each line i (P0[i],P1[i])?"
   ]
  },
  {
   "cell_type": "code",
   "execution_count": 93,
   "id": "a6929e4e-d297-4e40-b213-37c0e92ca020",
   "metadata": {},
   "outputs": [
    {
     "name": "stdout",
     "output_type": "stream",
     "text": [
      "Distances from each point to each line: [[0.82708853 0.66076782 0.31410775 0.07048824 0.68966745]\n",
      " [0.85840165 0.74199494 0.25832686 0.93205314 0.15840016]\n",
      " [0.48471476 0.28479628 0.30233439 0.00179703 0.10743242]]\n"
     ]
    }
   ],
   "source": [
    "P = np.random.rand(5, 2)\n",
    "distances = np.abs(np.cross(P1[:, None] - P0[:, None], P0[:, None] - P[None, :])) / np.linalg.norm(P1[:, None] - P0[:, None], axis=2)\n",
    "print(\"Distances from each point to each line:\", distances)"
   ]
  },
  {
   "cell_type": "markdown",
   "id": "27943803-a03c-4307-99ae-d22323ef9e16",
   "metadata": {},
   "source": [
    "# 80. Consider an arbitrary array, write a function that extract a subpart with a fixed shape and centered on a given element (pad with a fill value when necessary)"
   ]
  },
  {
   "cell_type": "code",
   "execution_count": 94,
   "id": "b407a8eb-4633-4e87-b079-b1f49bc74768",
   "metadata": {},
   "outputs": [],
   "source": [
    "def extract_subpart(Z, center, shape, fill=0):\n",
    "    R = np.ones(shape) * fill\n",
    "    start = np.array(center) - np.array(shape) // 2\n",
    "    end = start + shape\n",
    "    slices = tuple(slice(max(s, 0), min(e, Z.shape[i])) for i, (s, e) in enumerate(zip(start, end)))\n",
    "    R_slices = tuple(slice(max(-s, 0), min(Z.shape[i] - s, shape[i])) for i, s in enumerate(start))\n",
    "    R[R_slices] = Z[slices]\n",
    "    return R"
   ]
  },
  {
   "cell_type": "markdown",
   "id": "2916db69-319a-4495-8c58-6dcc12a37e11",
   "metadata": {},
   "source": [
    "# 81. Consider an array Z = [1,2,3,4,5,6,7,8,9,10,11,12,13,14], how to generate an array R = [[1,2,3,4], [2,3,4,5], [3,4,5,6], ..., [11,12,13,14]]?"
   ]
  },
  {
   "cell_type": "code",
   "execution_count": 95,
   "id": "309973f9-767d-4640-9840-af3046e262fc",
   "metadata": {},
   "outputs": [
    {
     "name": "stdout",
     "output_type": "stream",
     "text": [
      "81. Sliding Windows:\n",
      " [[ 1  2  3  4]\n",
      " [ 2  3  4  5]\n",
      " [ 3  4  5  6]\n",
      " [ 4  5  6  7]\n",
      " [ 5  6  7  8]\n",
      " [ 6  7  8  9]\n",
      " [ 7  8  9 10]\n",
      " [ 8  9 10 11]\n",
      " [ 9 10 11 12]\n",
      " [10 11 12 13]\n",
      " [11 12 13 14]]\n"
     ]
    }
   ],
   "source": [
    "Z = np.arange(1, 15)\n",
    "R = np.lib.stride_tricks.sliding_window_view(Z, 4)\n",
    "print(\"81. Sliding Windows:\\n\", R)"
   ]
  },
  {
   "cell_type": "markdown",
   "id": "b8bb15ac-8b8b-48b1-9f08-cae8d4a68276",
   "metadata": {},
   "source": [
    "# 82. Compute a matrix rank"
   ]
  },
  {
   "cell_type": "code",
   "execution_count": 96,
   "id": "dc238437-0888-4e7d-8043-e22d5a70732e",
   "metadata": {},
   "outputs": [
    {
     "name": "stdout",
     "output_type": "stream",
     "text": [
      " Matrix Rank:\n",
      " 5\n"
     ]
    }
   ],
   "source": [
    "matrix = np.random.randint(0, 10, (5, 5))\n",
    "rank = np.linalg.matrix_rank(matrix)\n",
    "print(\" Matrix Rank:\\n\", rank)"
   ]
  },
  {
   "cell_type": "markdown",
   "id": "c3548e69-ffc6-4454-8ffb-9ced3f006dc2",
   "metadata": {},
   "source": [
    "# 83. How to find the most frequent value in an array?"
   ]
  },
  {
   "cell_type": "code",
   "execution_count": 97,
   "id": "291a3fa7-78d6-43c8-9a5c-b683f28c108d",
   "metadata": {},
   "outputs": [
    {
     "name": "stdout",
     "output_type": "stream",
     "text": [
      " Most Frequent Value:\n",
      " 9\n"
     ]
    }
   ],
   "source": [
    "arr = np.random.randint(0, 10, 20)\n",
    "most_frequent = np.bincount(arr).argmax()\n",
    "print(\" Most Frequent Value:\\n\", most_frequent)"
   ]
  },
  {
   "cell_type": "markdown",
   "id": "470157b1-b7b7-4562-9355-0be087019359",
   "metadata": {},
   "source": [
    "# 84. Extract all the contiguous 3x3 blocks from a random 10x10 matrix "
   ]
  },
  {
   "cell_type": "code",
   "execution_count": 98,
   "id": "7a6762ed-e689-4dd7-90ca-625aec7015be",
   "metadata": {},
   "outputs": [
    {
     "name": "stdout",
     "output_type": "stream",
     "text": [
      " 3x3 Blocks Shape:\n",
      " (8, 8, 3, 3)\n"
     ]
    }
   ],
   "source": [
    "random_matrix = np.random.randint(0, 10, (10, 10))\n",
    "blocks = np.lib.stride_tricks.sliding_window_view(random_matrix, (3, 3))\n",
    "print(\" 3x3 Blocks Shape:\\n\", blocks.shape)"
   ]
  },
  {
   "cell_type": "markdown",
   "id": "dbdcdd5b-1562-48de-8f26-cf138e1b41e7",
   "metadata": {},
   "source": [
    "# 85. Create a 2D array subclass such that Z[i,j] == Z[j,i]"
   ]
  },
  {
   "cell_type": "code",
   "execution_count": 99,
   "id": "41b78879-9ad7-4c3f-b8c4-3f11e78a35f5",
   "metadata": {},
   "outputs": [
    {
     "name": "stdout",
     "output_type": "stream",
     "text": [
      " Symmetric Array:\n",
      " [[0. 0. 0. 0. 0.]\n",
      " [0. 0. 0. 0. 0.]\n",
      " [0. 0. 0. 7. 0.]\n",
      " [0. 0. 7. 0. 0.]\n",
      " [0. 0. 0. 0. 0.]]\n"
     ]
    }
   ],
   "source": [
    "class SymmetricArray(np.ndarray):\n",
    "    def __setitem__(self, index, value):\n",
    "        i, j = index\n",
    "        super().__setitem__((i, j), value)\n",
    "        super().__setitem__((j, i), value)\n",
    "\n",
    "def symmetric_array(shape):\n",
    "    obj = np.zeros(shape).view(SymmetricArray)\n",
    "    return obj\n",
    "\n",
    "Z = symmetric_array((5, 5))\n",
    "Z[2, 3] = 7\n",
    "print(\" Symmetric Array:\\n\", Z)"
   ]
  },
  {
   "cell_type": "markdown",
   "id": "040e34e8-4f93-4043-b093-286eefdee329",
   "metadata": {},
   "source": [
    "# 86. Consider a set of p matrices with shape (n,n) and a set of p vectors with shape (n,1). How to compute the sum of of the p matrix products at once? (result has shape (n,1)) "
   ]
  },
  {
   "cell_type": "code",
   "execution_count": 100,
   "id": "c989ae7a-7147-46c0-b41d-3891e6644eb7",
   "metadata": {},
   "outputs": [
    {
     "name": "stdout",
     "output_type": "stream",
     "text": [
      " Sum of Matrix Products:\n",
      " [[237]\n",
      " [183]\n",
      " [231]\n",
      " [301]]\n"
     ]
    }
   ],
   "source": [
    "p, n = 3, 4\n",
    "matrices = np.random.randint(0, 10, (p, n, n))\n",
    "vectors = np.random.randint(0, 10, (p, n, 1))\n",
    "result = np.sum(np.matmul(matrices, vectors), axis=0)\n",
    "print(\" Sum of Matrix Products:\\n\", result)"
   ]
  },
  {
   "cell_type": "markdown",
   "id": "62d0110a-b645-4ca1-a895-4d32bbd7e959",
   "metadata": {},
   "source": [
    "# 87. Consider a 16x16 array, how to get the block-sum (block size is 4x4)?"
   ]
  },
  {
   "cell_type": "code",
   "execution_count": 101,
   "id": "db9da850-c861-4d93-a873-0dce8065b066",
   "metadata": {},
   "outputs": [
    {
     "name": "stdout",
     "output_type": "stream",
     "text": [
      "Block-Sum Result:\n",
      " [[ 6.98817651  8.19296246  7.770081    6.69854123]\n",
      " [ 8.42857655  8.8000523   7.69905301  7.35910457]\n",
      " [ 8.31517672  7.23366744  8.79453714 10.25894403]\n",
      " [ 6.6673222   8.64332126  6.87032462  9.69441951]]\n"
     ]
    }
   ],
   "source": [
    "A = np.random.rand(16, 16)\n",
    "k = 4\n",
    "block_sum_result = np.add.reduceat(np.add.reduceat(A, np.arange(0, A.shape[0], k), axis=0), np.arange(0, A.shape[1], k), axis=1)\n",
    "print(\"Block-Sum Result:\\n\", block_sum_result)\n"
   ]
  },
  {
   "cell_type": "markdown",
   "id": "e389f379-398b-4509-8bca-11089c1d3a48",
   "metadata": {},
   "source": [
    "# 88. How to implement the Game of Life using numpy arrays?"
   ]
  },
  {
   "cell_type": "code",
   "execution_count": 102,
   "id": "5ad9fa36-fea1-4730-a901-d4ea33766278",
   "metadata": {},
   "outputs": [
    {
     "name": "stdout",
     "output_type": "stream",
     "text": [
      "Game of Life Next Step:\n",
      " [[0 0 0 0 0 1 0 1 0 0]\n",
      " [1 0 1 1 0 1 0 0 0 0]\n",
      " [0 0 0 1 0 0 1 0 0 0]\n",
      " [0 1 0 1 0 0 1 0 0 0]\n",
      " [0 0 0 0 0 0 1 0 0 0]\n",
      " [0 0 0 0 0 0 1 0 1 0]\n",
      " [0 0 0 0 1 0 0 0 1 0]\n",
      " [1 1 1 1 0 0 0 0 1 1]\n",
      " [0 0 0 0 1 0 1 1 1 0]\n",
      " [0 1 1 0 0 0 1 1 0 0]]\n"
     ]
    }
   ],
   "source": [
    "Z = np.random.randint(0, 2, (10, 10))\n",
    "neighbors = sum(np.roll(np.roll(Z, i, 0), j, 1) for i in (-1, 0, 1) for j in (-1, 0, 1) if (i != 0 or j != 0))\n",
    "game_of_life_result = (neighbors == 3) | (Z & (neighbors == 2))\n",
    "print(\"Game of Life Next Step:\\n\", game_of_life_result)"
   ]
  },
  {
   "cell_type": "markdown",
   "id": "33777220-ac10-45ae-b523-43a2a93e8a9a",
   "metadata": {},
   "source": [
    "# 89. How to get the n largest values of an array"
   ]
  },
  {
   "cell_type": "code",
   "execution_count": 103,
   "id": "5874736d-b301-4815-8dc3-716a2738f0b2",
   "metadata": {},
   "outputs": [
    {
     "name": "stdout",
     "output_type": "stream",
     "text": [
      "N Largest Values:\n",
      " [0.50221687 0.69433801 0.71911732 0.7684228  0.99764229]\n"
     ]
    }
   ],
   "source": [
    "n = 5\n",
    "Z = np.random.rand(10)\n",
    "n_largest_result = np.sort(Z)[-n:]\n",
    "print(\"N Largest Values:\\n\", n_largest_result)"
   ]
  },
  {
   "cell_type": "markdown",
   "id": "583a64e5-ae2d-4389-a31a-fb7aa6328a6e",
   "metadata": {},
   "source": [
    "# 90. Given an arbitrary number of vectors, build the cartesian product (every combinations of every item)"
   ]
  },
  {
   "cell_type": "code",
   "execution_count": 104,
   "id": "2066f791-686d-4ab2-b017-560a9262e254",
   "metadata": {},
   "outputs": [
    {
     "name": "stdout",
     "output_type": "stream",
     "text": [
      "Cartesian Product:\n",
      " [[1 4 6]\n",
      " [1 4 7]\n",
      " [1 5 6]\n",
      " [1 5 7]\n",
      " [2 4 6]\n",
      " [2 4 7]\n",
      " [2 5 6]\n",
      " [2 5 7]\n",
      " [3 4 6]\n",
      " [3 4 7]\n",
      " [3 5 6]\n",
      " [3 5 7]]\n"
     ]
    }
   ],
   "source": [
    "arrays = [np.array([1, 2, 3]), np.array([4, 5]), np.array([6, 7])]\n",
    "dtype = np.result_type(*arrays)\n",
    "cartesian_product_result = np.stack(np.meshgrid(*arrays, indexing='ij'), axis=-1).reshape(-1, len(arrays)).astype(dtype)\n",
    "print(\"Cartesian Product:\\n\", cartesian_product_result)"
   ]
  },
  {
   "cell_type": "markdown",
   "id": "7c8f4f75-9cb3-48cf-aa73-22912313c5a4",
   "metadata": {},
   "source": [
    "# 91. How to create a record array from a regular array?"
   ]
  },
  {
   "cell_type": "code",
   "execution_count": 105,
   "id": "905c99b2-3c1f-47c9-afa4-b41722958e4c",
   "metadata": {},
   "outputs": [
    {
     "name": "stdout",
     "output_type": "stream",
     "text": [
      "Record Array:\n",
      " [(1, 2, 3) (4, 5, 6)]\n"
     ]
    }
   ],
   "source": [
    "record_array_result = np.array([(1, 2, 3), (4, 5, 6)], dtype=[('a', int), ('b', int), ('c', int)])\n",
    "print(\"Record Array:\\n\", record_array_result)"
   ]
  },
  {
   "cell_type": "markdown",
   "id": "a2cf1f1c-178b-4428-88eb-e311616c8f75",
   "metadata": {},
   "source": [
    "# 92. Consider a large vector Z, compute Z to the power of 3 using 3 different methods"
   ]
  },
  {
   "cell_type": "code",
   "execution_count": 106,
   "id": "b7ed30e3-3033-40e2-b3a4-4e7f45e351fa",
   "metadata": {},
   "outputs": [
    {
     "name": "stdout",
     "output_type": "stream",
     "text": [
      "Power Computation Completed\n"
     ]
    }
   ],
   "source": [
    "Z = np.random.rand(1000000)\n",
    "power_results = (Z**3, np.power(Z, 3), Z * Z * Z)\n",
    "print(\"Power Computation Completed\")"
   ]
  },
  {
   "cell_type": "markdown",
   "id": "ca45e676-7997-4684-8b14-f070420ff0c3",
   "metadata": {},
   "source": [
    "# 93. Consider two arrays A and B of shape (8,3) and (2,2). How to find rows of A that contain elements of each row of B regardless of the order of the elements in B?"
   ]
  },
  {
   "cell_type": "code",
   "execution_count": 107,
   "id": "2353677f-e430-4267-aac1-0c7bb7120197",
   "metadata": {},
   "outputs": [
    {
     "name": "stdout",
     "output_type": "stream",
     "text": [
      "Matching Rows:\n",
      " []\n"
     ]
    }
   ],
   "source": [
    "A = np.random.randint(0, 5, (8, 3))\n",
    "B = np.random.randint(0, 5, (2, 2))\n",
    "matching_rows_result = np.array([row for row in A if np.all(np.isin(B, row))])\n",
    "print(\"Matching Rows:\\n\", matching_rows_result)"
   ]
  },
  {
   "cell_type": "markdown",
   "id": "53767db8-146a-43bc-b4f1-27e7d746d31c",
   "metadata": {},
   "source": [
    "# 94. Considering a 10x3 matrix, extract rows with unequal values (e.g. [2,2,3])"
   ]
  },
  {
   "cell_type": "code",
   "execution_count": 108,
   "id": "ffbc5e60-9bb5-48cc-ad21-6256963fd2df",
   "metadata": {},
   "outputs": [
    {
     "name": "stdout",
     "output_type": "stream",
     "text": [
      "Unique Value Rows:\n",
      " [[2 0 4]\n",
      " [4 0 2]\n",
      " [4 2 4]\n",
      " [0 3 2]\n",
      " [3 4 3]\n",
      " [3 4 3]\n",
      " [2 4 2]\n",
      " [0 1 4]]\n"
     ]
    }
   ],
   "source": [
    "A = np.random.randint(0, 5, (10, 3))\n",
    "unique_value_rows_result = A[np.any(A[:, None] != A[:, :, None], axis=(1, 2))]\n",
    "print(\"Unique Value Rows:\\n\", unique_value_rows_result)"
   ]
  },
  {
   "cell_type": "markdown",
   "id": "1471b780-fc39-4009-9248-825a0c7659d1",
   "metadata": {},
   "source": [
    "# 95. Convert a vector of ints into a matrix binary representation "
   ]
  },
  {
   "cell_type": "code",
   "execution_count": 109,
   "id": "cc329fb0-aacd-43c9-8315-a18d82fef930",
   "metadata": {},
   "outputs": [
    {
     "name": "stdout",
     "output_type": "stream",
     "text": [
      "Binary Matrix:\n",
      " [[0 0 0 0 0 0 0 0]\n",
      " [1 0 0 0 0 0 0 0]\n",
      " [0 1 0 0 0 0 0 0]\n",
      " [1 1 0 0 0 0 0 0]\n",
      " [0 0 1 0 0 0 0 0]]\n"
     ]
    }
   ],
   "source": [
    "Z = np.array([0, 1, 2, 3, 4])\n",
    "binary_matrix_result = ((Z[:, None] & (1 << np.arange(8))) > 0).astype(int)\n",
    "print(\"Binary Matrix:\\n\", binary_matrix_result)"
   ]
  },
  {
   "cell_type": "markdown",
   "id": "03b467fe-2d52-4494-b007-01fe993a6932",
   "metadata": {},
   "source": [
    "# 96. Given a two dimensional array, how to extract unique rows?"
   ]
  },
  {
   "cell_type": "code",
   "execution_count": 110,
   "id": "7d896065-3c8b-44bf-ab7b-cf6a7a1ef65e",
   "metadata": {},
   "outputs": [
    {
     "name": "stdout",
     "output_type": "stream",
     "text": [
      "Unique Rows:\n",
      " [[0 0 0]\n",
      " [0 0 1]\n",
      " [0 1 0]\n",
      " [1 0 1]\n",
      " [1 1 1]]\n"
     ]
    }
   ],
   "source": [
    "A = np.random.randint(0, 2, (10, 3))\n",
    "unique_rows_result = np.unique(A, axis=0)\n",
    "print(\"Unique Rows:\\n\", unique_rows_result)"
   ]
  },
  {
   "cell_type": "markdown",
   "id": "30df68b6-96e6-46be-966e-b55a42ccd6ab",
   "metadata": {},
   "source": [
    "# 97. Considering 2 vectors A & B, write the einsum equivalent of inner, outer, sum, and mul function"
   ]
  },
  {
   "cell_type": "code",
   "execution_count": 111,
   "id": "288e16f7-76d4-4eeb-b546-f144930bfd56",
   "metadata": {},
   "outputs": [
    {
     "name": "stdout",
     "output_type": "stream",
     "text": [
      "Einsum Operations:\n",
      " {'inner': np.int64(32), 'outer': array([[ 4,  5,  6],\n",
      "       [ 8, 10, 12],\n",
      "       [12, 15, 18]]), 'sum': np.int64(6), 'elementwise': array([ 4, 10, 18])}\n"
     ]
    }
   ],
   "source": [
    "A = np.array([1, 2, 3])\n",
    "B = np.array([4, 5, 6])\n",
    "einsum_results = {\n",
    "    'inner': np.einsum('i,i->', A, B),\n",
    "    'outer': np.einsum('i,j->ij', A, B),\n",
    "    'sum': np.einsum('i->', A),\n",
    "    'elementwise': np.einsum('i,i->i', A, B)\n",
    "}\n",
    "print(\"Einsum Operations:\\n\", einsum_results)"
   ]
  },
  {
   "cell_type": "markdown",
   "id": "e69d7dbf-db7f-4d14-ba08-99f37980dd3b",
   "metadata": {},
   "source": [
    "# 98. Considering a path described by two vectors (X,Y), how to sample it using equidistant samples"
   ]
  },
  {
   "cell_type": "code",
   "execution_count": 112,
   "id": "cdba45a2-fd38-44bb-b124-4c905c7c3299",
   "metadata": {},
   "outputs": [
    {
     "name": "stdout",
     "output_type": "stream",
     "text": [
      "Equidistant Sampling:\n",
      " [ 0.         -0.19056796 -0.66510151  0.99709789 -0.54402111]\n"
     ]
    }
   ],
   "source": [
    "X = np.linspace(0, 10, num=10)\n",
    "Y = np.sin(X)\n",
    "distances = np.linspace(0, 10, num=5)\n",
    "indices = np.searchsorted(X, distances)\n",
    "equidistant_sampling_result = Y[indices]\n",
    "print(\"Equidistant Sampling:\\n\", equidistant_sampling_result)"
   ]
  },
  {
   "cell_type": "markdown",
   "id": "c0893ba3-8ec5-41d8-bbd6-cc6f58fe389c",
   "metadata": {},
   "source": [
    "# 99. Given an integer n and a 2D array X, select from X the rows which can be interpreted as draws from a multinomial distribution with n degrees, i.e., the rows which only contain integers and which sum to n"
   ]
  },
  {
   "cell_type": "code",
   "execution_count": 113,
   "id": "b124f331-dcb6-4c91-b209-94fe2564572c",
   "metadata": {},
   "outputs": [
    {
     "name": "stdout",
     "output_type": "stream",
     "text": [
      "Selected Multinomial Rows:\n",
      " [[2 0 3]\n",
      " [0 1 4]\n",
      " [1 1 3]]\n"
     ]
    }
   ],
   "source": [
    "n = 5\n",
    "X = np.random.randint(0, 5, (10, 3))\n",
    "select_multinomial_result = X[np.sum(X, axis=1) == n]\n",
    "print(\"Selected Multinomial Rows:\\n\", select_multinomial_result)"
   ]
  },
  {
   "cell_type": "markdown",
   "id": "c47ea7e8-5a7d-40f3-ae04-614422810ede",
   "metadata": {},
   "source": [
    "# 100. Compute bootstrapped 95% confidence intervals for the mean of a 1D array X (i.e., resample the elements of an array with replacement N times, compute the mean of each sample, and then compute percentiles over the means)"
   ]
  },
  {
   "cell_type": "code",
   "execution_count": 114,
   "id": "ea0614e4-78f9-483e-ba66-641ef3cf2f07",
   "metadata": {},
   "outputs": [
    {
     "name": "stdout",
     "output_type": "stream",
     "text": [
      "Bootstrapped 95% Confidence Interval:\n",
      " [-0.10079845  0.0179748 ]\n"
     ]
    }
   ],
   "source": [
    "X = np.random.randn(1000)\n",
    "N = 1000\n",
    "means = np.mean(np.random.choice(X, (N, len(X)), replace=True), axis=1)\n",
    "bootstrap_confidence_result = np.percentile(means, [2.5, 97.5])\n",
    "print(\"Bootstrapped 95% Confidence Interval:\\n\", bootstrap_confidence_result)"
   ]
  }
 ],
 "metadata": {
  "kernelspec": {
   "display_name": "Python 3 (ipykernel)",
   "language": "python",
   "name": "python3"
  },
  "language_info": {
   "codemirror_mode": {
    "name": "ipython",
    "version": 3
   },
   "file_extension": ".py",
   "mimetype": "text/x-python",
   "name": "python",
   "nbconvert_exporter": "python",
   "pygments_lexer": "ipython3",
   "version": "3.13.1"
  }
 },
 "nbformat": 4,
 "nbformat_minor": 5
}
