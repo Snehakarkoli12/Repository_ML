{
 "cells": [
  {
   "cell_type": "markdown",
   "id": "78129cc0-b4fd-4d3f-97e3-4949bf9a16e0",
   "metadata": {},
   "source": [
    "<img src=\"D:\\Jupyter Projects\\python datatypes.jpg\" style=\"width:400px; height:300px\"/>"
   ]
  },
  {
   "cell_type": "code",
   "execution_count": 1,
   "id": "105fdb16-b8d2-4ebf-9ad9-76fb8af50a4d",
   "metadata": {},
   "outputs": [],
   "source": [
    "#Defining all Datatypes"
   ]
  },
  {
   "cell_type": "code",
   "execution_count": 2,
   "id": "8d8a7062-a326-49ca-94c6-9efcd1455e63",
   "metadata": {},
   "outputs": [
    {
     "data": {
      "text/plain": [
       "(int, float, complex, list, tuple, dict, bool, str, set)"
      ]
     },
     "execution_count": 2,
     "metadata": {},
     "output_type": "execute_result"
    }
   ],
   "source": [
    "int, float, complex, list, tuple, dict, bool, str, set "
   ]
  },
  {
   "cell_type": "code",
   "execution_count": 3,
   "id": "d2ba53f9-faf2-4677-a69e-b1dce0a3bbc9",
   "metadata": {},
   "outputs": [],
   "source": [
    "#For getting all the methods of an object"
   ]
  },
  {
   "cell_type": "code",
   "execution_count": null,
   "id": "fe59718f-3bf1-4075-ae06-37fdb0815944",
   "metadata": {},
   "outputs": [
    {
     "name": "stdout",
     "output_type": "stream",
     "text": [
      "Welcome to Python 3.13's help utility! If this is your first time using\n",
      "Python, you should definitely check out the tutorial at\n",
      "https://docs.python.org/3.13/tutorial/.\n",
      "\n",
      "Enter the name of any module, keyword, or topic to get help on writing\n",
      "Python programs and using Python modules.  To get a list of available\n",
      "modules, keywords, symbols, or topics, enter \"modules\", \"keywords\",\n",
      "\"symbols\", or \"topics\".\n",
      "\n",
      "Each module also comes with a one-line summary of what it does; to list\n",
      "the modules whose name or summary contain a given string such as \"spam\",\n",
      "enter \"modules spam\".\n",
      "\n",
      "To quit this help utility and return to the interpreter,\n",
      "enter \"q\", \"quit\" or \"exit\".\n",
      "\n"
     ]
    }
   ],
   "source": [
    "help()\n"
   ]
  },
  {
   "cell_type": "code",
   "execution_count": null,
   "id": "0b99a8d0-43b2-49ec-ba1f-edf239787ea5",
   "metadata": {},
   "outputs": [],
   "source": [
    "integer = 5\n",
    "\n",
    "integer.as_integer_ratio()\n"
   ]
  },
  {
   "cell_type": "code",
   "execution_count": null,
   "id": "e4c26150-ad43-4be8-8d37-f9436ef94378",
   "metadata": {},
   "outputs": [],
   "source": [
    "integer= -5\n",
    "abs(integer)"
   ]
  },
  {
   "cell_type": "code",
   "execution_count": null,
   "id": "cb105b1a-ac1d-405c-bb35-97832599b389",
   "metadata": {},
   "outputs": [],
   "source": [
    "x= 5\n",
    "y=5\n",
    "print(x.__add__(y))"
   ]
  },
  {
   "cell_type": "code",
   "execution_count": null,
   "id": "3ac04cba-5849-449c-a3ca-f155680954c0",
   "metadata": {},
   "outputs": [],
   "source": [
    "x=5\n",
    "y=6\n",
    "print(x.__and__(y))"
   ]
  },
  {
   "cell_type": "code",
   "execution_count": null,
   "id": "9128550e-efce-4c83-bbfc-bb06c1d7e478",
   "metadata": {},
   "outputs": [],
   "source": [
    "x=0\n",
    "print(x.__bool__())"
   ]
  },
  {
   "cell_type": "code",
   "execution_count": null,
   "id": "7cdb50c6-bd51-4f29-8a33-1e14130d74ee",
   "metadata": {},
   "outputs": [],
   "source": [
    "x=5\n",
    "print(x.__ceil__())"
   ]
  },
  {
   "cell_type": "code",
   "execution_count": null,
   "id": "9336a9d4-7e84-4153-9945-69021c1afe25",
   "metadata": {},
   "outputs": [],
   "source": [
    "x=10\n",
    "y=3\n",
    "print(x.__divmod__(y))"
   ]
  },
  {
   "cell_type": "code",
   "execution_count": null,
   "id": "4c7dc708-e6f1-4d0e-82f0-402dd681dd07",
   "metadata": {},
   "outputs": [],
   "source": [
    "x=5\n",
    "y=3\n",
    "print(x.__eq__(y))"
   ]
  },
  {
   "cell_type": "code",
   "execution_count": null,
   "id": "054ea0bf-b50e-4247-9ec8-cc0cf557e031",
   "metadata": {},
   "outputs": [],
   "source": [
    "x=5\n",
    "print(x.__float__())"
   ]
  },
  {
   "cell_type": "code",
   "execution_count": null,
   "id": "26c61d9c-5384-4183-ade8-197edbff4f88",
   "metadata": {},
   "outputs": [],
   "source": [
    "x=7\n",
    "y=2\n",
    "print(x.__floor__())"
   ]
  },
  {
   "cell_type": "code",
   "execution_count": null,
   "id": "f4c28b54-eebe-432b-9f4c-35efd20cebb7",
   "metadata": {},
   "outputs": [],
   "source": [
    "x=15\n",
    "print(x.__floordiv__(4))"
   ]
  },
  {
   "cell_type": "code",
   "execution_count": 6,
   "id": "4f99c4f5-2eaf-4df5-88e6-ab8f062d3586",
   "metadata": {},
   "outputs": [
    {
     "name": "stdout",
     "output_type": "stream",
     "text": [
      "ff\n"
     ]
    }
   ],
   "source": [
    "x = 255\n",
    "print(x.__format__('x'))"
   ]
  },
  {
   "cell_type": "code",
   "execution_count": null,
   "id": "b2482eff-a07a-4993-ba3a-a53c62a79ac5",
   "metadata": {},
   "outputs": [],
   "source": [
    "#ff means hexadecimal"
   ]
  },
  {
   "cell_type": "code",
   "execution_count": null,
   "id": "1586f525-b6fa-4fcf-a32b-99f19e5b9f61",
   "metadata": {},
   "outputs": [],
   "source": [
    "x=10\n",
    "print(x.__ge__(4))"
   ]
  },
  {
   "cell_type": "code",
   "execution_count": null,
   "id": "0089feec-dfb4-4275-834e-2aba1d1cb2b8",
   "metadata": {},
   "outputs": [],
   "source": [
    "x = 5\n",
    "print(x.__getattribute__(\"denominator\"))  \n"
   ]
  },
  {
   "cell_type": "code",
   "execution_count": null,
   "id": "6ec9afb6-d646-4f69-9590-2e91e5f13ba7",
   "metadata": {},
   "outputs": [],
   "source": [
    "x=5\n",
    "print(x.__getnewargs__())"
   ]
  },
  {
   "cell_type": "code",
   "execution_count": null,
   "id": "6ca3f570-d14e-4bad-aefe-ff717cc4b077",
   "metadata": {},
   "outputs": [],
   "source": [
    "x=5\n",
    "print(x.__gt__(4))"
   ]
  },
  {
   "cell_type": "code",
   "execution_count": null,
   "id": "eeb4c536-5336-4755-a73b-8ce78b71af54",
   "metadata": {},
   "outputs": [],
   "source": [
    "x=7\n",
    "print(x.__hash__())"
   ]
  },
  {
   "cell_type": "code",
   "execution_count": null,
   "id": "16fa407e-4f67-4ef1-b05c-8269b7b934b3",
   "metadata": {},
   "outputs": [],
   "source": [
    "x=5\n",
    "print(x.__index__())"
   ]
  },
  {
   "cell_type": "code",
   "execution_count": null,
   "id": "fc5355bf-9009-47c8-ac60-bf3fc1e24aa9",
   "metadata": {},
   "outputs": [],
   "source": [
    "x=5\n",
    "print(x.__int__())"
   ]
  },
  {
   "cell_type": "code",
   "execution_count": null,
   "id": "fdf6183d-ec2a-4542-8e43-cc77ec944553",
   "metadata": {},
   "outputs": [],
   "source": [
    "x=8\n",
    "print(x.__invert__())"
   ]
  },
  {
   "cell_type": "code",
   "execution_count": null,
   "id": "3a5755b1-31c4-437d-b350-1af2ddf16e7d",
   "metadata": {},
   "outputs": [],
   "source": [
    "x=5\n",
    "print(x.__le__(4))"
   ]
  },
  {
   "cell_type": "code",
   "execution_count": null,
   "id": "c6674b63-895f-41bb-a3ab-a713e0c796e8",
   "metadata": {},
   "outputs": [],
   "source": [
    "x=5\n",
    "print(x.__lshift__(4))"
   ]
  },
  {
   "cell_type": "code",
   "execution_count": null,
   "id": "5b1d16e1-e659-4817-a125-f94254c4585f",
   "metadata": {},
   "outputs": [],
   "source": [
    "x=5\n",
    "print(x.__lt__(7))"
   ]
  },
  {
   "cell_type": "code",
   "execution_count": null,
   "id": "11d67fa3-f008-4aeb-9782-9f8d94ad64ee",
   "metadata": {},
   "outputs": [],
   "source": [
    "x=5\n",
    "print(x.__mod__(28))"
   ]
  },
  {
   "cell_type": "code",
   "execution_count": null,
   "id": "56bd86ac-5ec0-4832-8805-323f20dce7ab",
   "metadata": {},
   "outputs": [],
   "source": [
    "x=5\n",
    "print(x.__mul__(4))"
   ]
  },
  {
   "cell_type": "code",
   "execution_count": null,
   "id": "eb8cd1ab-ac23-42f6-892f-ca4fc40c2de7",
   "metadata": {},
   "outputs": [],
   "source": [
    "x=5\n",
    "print(x.__ne__(6))"
   ]
  },
  {
   "cell_type": "code",
   "execution_count": null,
   "id": "7363c369-cb1d-4a5a-aa38-1cb2677cb2bd",
   "metadata": {},
   "outputs": [],
   "source": [
    "x=5\n",
    "print(x.__neg__())"
   ]
  },
  {
   "cell_type": "code",
   "execution_count": null,
   "id": "c0309023-50c6-4580-bb29-ea5a5e12b9c2",
   "metadata": {},
   "outputs": [],
   "source": [
    "x=5\n",
    "print(x.__or__(8))"
   ]
  },
  {
   "cell_type": "code",
   "execution_count": null,
   "id": "37a87d50-ec7b-4f28-9b67-88cc689f3590",
   "metadata": {},
   "outputs": [],
   "source": [
    "x=5\n",
    "print(x.__pos__())"
   ]
  },
  {
   "cell_type": "code",
   "execution_count": null,
   "id": "64494070-859f-41df-9410-bf56322638ac",
   "metadata": {},
   "outputs": [],
   "source": [
    "x = 2\n",
    "y = 3\n",
    "\n",
    "print(x.__pow__(y))  \n"
   ]
  },
  {
   "cell_type": "code",
   "execution_count": null,
   "id": "c7cf7ce5-00b3-4482-9bd4-e26ab72bda37",
   "metadata": {},
   "outputs": [],
   "source": [
    "x=5\n",
    "print(x.__radd__(4))"
   ]
  },
  {
   "cell_type": "code",
   "execution_count": null,
   "id": "6ab6c372-035e-4f18-b340-50f8bcf19b03",
   "metadata": {},
   "outputs": [],
   "source": [
    "x=5\n",
    "print(x.__rand__(4))"
   ]
  },
  {
   "cell_type": "code",
   "execution_count": null,
   "id": "d09391f5-47ea-42e6-9eb7-057b52fecd9b",
   "metadata": {},
   "outputs": [],
   "source": [
    "x=5\n",
    "print(x.__rdivmod__(10))"
   ]
  },
  {
   "cell_type": "code",
   "execution_count": null,
   "id": "d12db444-818b-43c0-bceb-1b4f4a2100bd",
   "metadata": {},
   "outputs": [],
   "source": [
    "x=5\n",
    "print(x.__repr__())"
   ]
  },
  {
   "cell_type": "code",
   "execution_count": null,
   "id": "f9f5ed17-4480-4f2d-9e83-133dc009bd95",
   "metadata": {},
   "outputs": [],
   "source": [
    "x=5\n",
    "print(x.__rfloordiv__(38))"
   ]
  },
  {
   "cell_type": "code",
   "execution_count": null,
   "id": "49d52bd1-2f50-49a5-8f67-5dba126995aa",
   "metadata": {},
   "outputs": [],
   "source": [
    "x=5\n",
    "print(x.__rlshift__(6))"
   ]
  },
  {
   "cell_type": "code",
   "execution_count": null,
   "id": "3d0c272e-19ea-4741-854f-aac174a83879",
   "metadata": {},
   "outputs": [],
   "source": [
    "x=5\n",
    "print(x.__rmod__(20))"
   ]
  },
  {
   "cell_type": "code",
   "execution_count": null,
   "id": "538772b3-2ead-4478-bb85-a2e4208c28c1",
   "metadata": {},
   "outputs": [],
   "source": [
    "x=5\n",
    "print(x.__rmul__(3))"
   ]
  },
  {
   "cell_type": "code",
   "execution_count": null,
   "id": "d58a1359-9cf1-43f7-960c-42ab4aff851c",
   "metadata": {},
   "outputs": [],
   "source": [
    "x=5\n",
    "print(x.__ror__(4))"
   ]
  },
  {
   "cell_type": "code",
   "execution_count": null,
   "id": "43465006-cae6-4664-80cb-00ecba98e12f",
   "metadata": {},
   "outputs": [],
   "source": [
    "x=5\n",
    "print(x.__round__())"
   ]
  },
  {
   "cell_type": "code",
   "execution_count": null,
   "id": "2e948d60-6f64-4837-9828-34832091e7b3",
   "metadata": {},
   "outputs": [],
   "source": [
    "x=5\n",
    "print(x.__rshift__(3))"
   ]
  },
  {
   "cell_type": "code",
   "execution_count": null,
   "id": "cf81a5e9-5e9a-418a-b423-b477788908f9",
   "metadata": {},
   "outputs": [],
   "source": [
    "x=5\n",
    "print(x.__rsub__(9))"
   ]
  },
  {
   "cell_type": "code",
   "execution_count": null,
   "id": "260d327b-9eb6-400d-94ce-a1fb5dffab0a",
   "metadata": {},
   "outputs": [],
   "source": [
    "x=5\n",
    "print(x.__truediv__(4))"
   ]
  },
  {
   "cell_type": "code",
   "execution_count": null,
   "id": "618065d4-9ba6-448e-bce9-6519cfbcd97a",
   "metadata": {},
   "outputs": [],
   "source": [
    "x=5\n",
    "print(x.__rxor__(7))"
   ]
  },
  {
   "cell_type": "code",
   "execution_count": null,
   "id": "b31a0d10-aa2c-4c30-8074-18115c21a4d0",
   "metadata": {},
   "outputs": [],
   "source": [
    "x=5\n",
    "print(x.__sizeof__())"
   ]
  },
  {
   "cell_type": "code",
   "execution_count": null,
   "id": "2a688442-b39d-4ca3-bfa7-80c3926e942b",
   "metadata": {},
   "outputs": [],
   "source": [
    "x=5\n",
    "print(x.__sub__(9))"
   ]
  },
  {
   "cell_type": "code",
   "execution_count": null,
   "id": "3818efb5-72d7-4627-aa64-b1ae8d127f1c",
   "metadata": {},
   "outputs": [],
   "source": [
    "x=5\n",
    "print(x.__trunc__())"
   ]
  },
  {
   "cell_type": "code",
   "execution_count": null,
   "id": "d61bc9c5-8498-4305-a708-f00365826f2c",
   "metadata": {},
   "outputs": [],
   "source": [
    "x=5\n",
    "print(x.as_integer_ratio())"
   ]
  },
  {
   "cell_type": "code",
   "execution_count": null,
   "id": "236d2566-c293-4c93-9533-198520c4c6a4",
   "metadata": {},
   "outputs": [],
   "source": [
    "#FLOAT"
   ]
  },
  {
   "cell_type": "code",
   "execution_count": null,
   "id": "cff3c54c-c4b4-4c93-9b6c-9c9c93aa0855",
   "metadata": {},
   "outputs": [],
   "source": [
    "help()"
   ]
  },
  {
   "cell_type": "code",
   "execution_count": 1,
   "id": "b3060290-fbb6-44ab-82fb-8e28df8aad80",
   "metadata": {},
   "outputs": [
    {
     "name": "stdout",
     "output_type": "stream",
     "text": [
      "4.5\n"
     ]
    }
   ],
   "source": [
    "x= 4.5\n",
    "print(x.__abs__())"
   ]
  },
  {
   "cell_type": "code",
   "execution_count": 2,
   "id": "b00ff355-c744-4eb1-ab7d-44b75f5c0987",
   "metadata": {},
   "outputs": [
    {
     "name": "stdout",
     "output_type": "stream",
     "text": [
      "11.5\n"
     ]
    }
   ],
   "source": [
    "x= 4.5\n",
    "print(x.__add__(7))"
   ]
  },
  {
   "cell_type": "code",
   "execution_count": 3,
   "id": "9e60a05f-02fe-481e-8cba-6dc263691669",
   "metadata": {},
   "outputs": [
    {
     "name": "stdout",
     "output_type": "stream",
     "text": [
      "True\n"
     ]
    }
   ],
   "source": [
    "x= 4.5\n",
    "print(x.__bool__())"
   ]
  },
  {
   "cell_type": "code",
   "execution_count": 4,
   "id": "591316e0-d18b-40eb-bbb3-23872f81c7e3",
   "metadata": {},
   "outputs": [
    {
     "name": "stdout",
     "output_type": "stream",
     "text": [
      "5\n"
     ]
    }
   ],
   "source": [
    "x= 4.5\n",
    "print(x.__ceil__())"
   ]
  },
  {
   "cell_type": "code",
   "execution_count": 5,
   "id": "079fda15-2df1-44ee-a774-e7190e8179f6",
   "metadata": {},
   "outputs": [
    {
     "name": "stdout",
     "output_type": "stream",
     "text": [
      "(0.0, 4.5)\n"
     ]
    }
   ],
   "source": [
    "x= 4.5\n",
    "print(x.__divmod__(8))"
   ]
  },
  {
   "cell_type": "code",
   "execution_count": 1,
   "id": "7b00fc69-4ec3-45dc-b1c5-432024835252",
   "metadata": {},
   "outputs": [
    {
     "name": "stdout",
     "output_type": "stream",
     "text": [
      "True\n"
     ]
    }
   ],
   "source": [
    "x= 4.5\n",
    "print(x.__eq__(4.5))"
   ]
  },
  {
   "cell_type": "code",
   "execution_count": 2,
   "id": "ed842cb4-983b-436b-875e-ac6aa9758452",
   "metadata": {},
   "outputs": [
    {
     "name": "stdout",
     "output_type": "stream",
     "text": [
      "4.5\n"
     ]
    }
   ],
   "source": [
    "x= 4.5\n",
    "print(x.__float__())"
   ]
  },
  {
   "cell_type": "code",
   "execution_count": 4,
   "id": "8339980d-60e5-4f1c-9133-2be75cbd1eef",
   "metadata": {},
   "outputs": [
    {
     "name": "stdout",
     "output_type": "stream",
     "text": [
      "4\n"
     ]
    }
   ],
   "source": [
    "x= 4.5\n",
    "print(x.__floor__())"
   ]
  },
  {
   "cell_type": "code",
   "execution_count": 5,
   "id": "fa3bb016-ba90-4365-b430-29966120be47",
   "metadata": {},
   "outputs": [
    {
     "name": "stdout",
     "output_type": "stream",
     "text": [
      "2.0\n"
     ]
    }
   ],
   "source": [
    "x= 4.5\n",
    "print(x.__floordiv__(2))"
   ]
  },
  {
   "cell_type": "code",
   "execution_count": 9,
   "id": "6443a1b0-d57a-4631-8fbf-091a0d46e95c",
   "metadata": {},
   "outputs": [
    {
     "name": "stdout",
     "output_type": "stream",
     "text": [
      "20045.00%\n"
     ]
    }
   ],
   "source": [
    "x= 200.45\n",
    "print(format(x, \".2%\"))"
   ]
  },
  {
   "cell_type": "code",
   "execution_count": 10,
   "id": "0861bd4a-c30a-455a-ae5e-9b8604e8b7dc",
   "metadata": {},
   "outputs": [
    {
     "name": "stdout",
     "output_type": "stream",
     "text": [
      "True\n"
     ]
    }
   ],
   "source": [
    "x= 4.5\n",
    "print(x.__ge__(3))"
   ]
  },
  {
   "cell_type": "code",
   "execution_count": 11,
   "id": "949af1a9-219c-42b0-8a9c-f72a083dd6da",
   "metadata": {},
   "outputs": [
    {
     "name": "stdout",
     "output_type": "stream",
     "text": [
      "(4.5,)\n"
     ]
    }
   ],
   "source": [
    "x= 4.5\n",
    "print(x.__getnewargs__())"
   ]
  },
  {
   "cell_type": "code",
   "execution_count": 12,
   "id": "2fb71142-0854-4a72-9d2f-cd73986aa2e8",
   "metadata": {},
   "outputs": [
    {
     "name": "stdout",
     "output_type": "stream",
     "text": [
      "True\n"
     ]
    }
   ],
   "source": [
    "x= 4.5\n",
    "print(x.__gt__(4.3))"
   ]
  },
  {
   "cell_type": "code",
   "execution_count": 13,
   "id": "fbaa8b5f-62b6-4bae-8319-b4f59731ea15",
   "metadata": {},
   "outputs": [
    {
     "name": "stdout",
     "output_type": "stream",
     "text": [
      "1152921504606846980\n"
     ]
    }
   ],
   "source": [
    "x= 4.5\n",
    "print(x.__hash__())"
   ]
  },
  {
   "cell_type": "code",
   "execution_count": 14,
   "id": "3f71c7ba-0b6f-4d0c-a42e-520962d3ff12",
   "metadata": {},
   "outputs": [
    {
     "name": "stdout",
     "output_type": "stream",
     "text": [
      "4\n"
     ]
    }
   ],
   "source": [
    "x= 4.5\n",
    "print(x.__int__())"
   ]
  },
  {
   "cell_type": "code",
   "execution_count": 15,
   "id": "924418c6-444d-4cfa-8b54-e9e99c879d87",
   "metadata": {},
   "outputs": [
    {
     "name": "stdout",
     "output_type": "stream",
     "text": [
      "True\n"
     ]
    }
   ],
   "source": [
    "x= 4.5\n",
    "print(x.__le__(6))"
   ]
  },
  {
   "cell_type": "code",
   "execution_count": 16,
   "id": "749a93c9-e857-44a2-bfce-429be9d3543c",
   "metadata": {},
   "outputs": [
    {
     "name": "stdout",
     "output_type": "stream",
     "text": [
      "True\n"
     ]
    }
   ],
   "source": [
    "x= 4.5\n",
    "print(x.__lt__(6))"
   ]
  },
  {
   "cell_type": "code",
   "execution_count": 22,
   "id": "85f26697-33bd-4c98-95f0-fbad8100af26",
   "metadata": {},
   "outputs": [
    {
     "name": "stdout",
     "output_type": "stream",
     "text": [
      "0.5\n"
     ]
    }
   ],
   "source": [
    "x= 4.5\n",
    "print(x.__mod__(2))"
   ]
  },
  {
   "cell_type": "code",
   "execution_count": 23,
   "id": "697fdb5e-a2b1-4b49-9885-020817974ced",
   "metadata": {},
   "outputs": [
    {
     "name": "stdout",
     "output_type": "stream",
     "text": [
      "9.0\n"
     ]
    }
   ],
   "source": [
    "x= 4.5\n",
    "print(x.__mul__(2))"
   ]
  },
  {
   "cell_type": "code",
   "execution_count": 24,
   "id": "da7312e5-dce7-4f84-be2d-c5b2f5844c58",
   "metadata": {},
   "outputs": [
    {
     "name": "stdout",
     "output_type": "stream",
     "text": [
      "True\n"
     ]
    }
   ],
   "source": [
    "x= 4.5\n",
    "print(x.__ne__(6))"
   ]
  },
  {
   "cell_type": "code",
   "execution_count": 25,
   "id": "bbe730ed-8ef6-4d37-a819-9022aecf5cc2",
   "metadata": {},
   "outputs": [
    {
     "name": "stdout",
     "output_type": "stream",
     "text": [
      "-4.5\n"
     ]
    }
   ],
   "source": [
    "x= 4.5\n",
    "print(x.__neg__())"
   ]
  },
  {
   "cell_type": "code",
   "execution_count": 26,
   "id": "6b058fb8-7438-4b0c-92b1-3edfed908cef",
   "metadata": {},
   "outputs": [
    {
     "name": "stdout",
     "output_type": "stream",
     "text": [
      "4.5\n"
     ]
    }
   ],
   "source": [
    "x= 4.5\n",
    "print(x.__pos__())"
   ]
  },
  {
   "cell_type": "code",
   "execution_count": 27,
   "id": "69a09069-93aa-4a70-9ffd-8790cf76cded",
   "metadata": {},
   "outputs": [
    {
     "name": "stdout",
     "output_type": "stream",
     "text": [
      "1845.28125\n"
     ]
    }
   ],
   "source": [
    "x= 4.5\n",
    "print(x.__pow__(5))"
   ]
  },
  {
   "cell_type": "code",
   "execution_count": 28,
   "id": "9b4c05ca-de82-41e5-bef9-a07faabfe197",
   "metadata": {},
   "outputs": [
    {
     "name": "stdout",
     "output_type": "stream",
     "text": [
      "9.5\n"
     ]
    }
   ],
   "source": [
    "x= 4.5\n",
    "print(x.__radd__(5))"
   ]
  },
  {
   "cell_type": "code",
   "execution_count": 29,
   "id": "dc8547ed-a85d-4b64-9cca-32a1035dc012",
   "metadata": {},
   "outputs": [
    {
     "name": "stdout",
     "output_type": "stream",
     "text": [
      "(1.0, 1.5)\n"
     ]
    }
   ],
   "source": [
    "x= 4.5\n",
    "print(x.__divmod__(3))"
   ]
  },
  {
   "cell_type": "code",
   "execution_count": 31,
   "id": "86dc5cd2-75c3-4c4e-b7aa-e4f813b7ebca",
   "metadata": {},
   "outputs": [
    {
     "name": "stdout",
     "output_type": "stream",
     "text": [
      "4.5\n"
     ]
    }
   ],
   "source": [
    "x= 4.5\n",
    "print(x.__repr__())"
   ]
  },
  {
   "cell_type": "code",
   "execution_count": 32,
   "id": "b4dd0b9c-1cea-4a12-aca4-f2154d410b54",
   "metadata": {},
   "outputs": [
    {
     "name": "stdout",
     "output_type": "stream",
     "text": [
      "1.0\n"
     ]
    }
   ],
   "source": [
    "x= 4.5\n",
    "print(x.__rfloordiv__(7))"
   ]
  },
  {
   "cell_type": "code",
   "execution_count": 33,
   "id": "9524432b-8623-4bb2-9c0a-7d259703ab5e",
   "metadata": {},
   "outputs": [
    {
     "name": "stdout",
     "output_type": "stream",
     "text": [
      "1.5\n"
     ]
    }
   ],
   "source": [
    "x= 4.5\n",
    "print(x.__rmod__(6))"
   ]
  },
  {
   "cell_type": "code",
   "execution_count": 34,
   "id": "9d03f255-45c7-43d4-8d24-50736b6b0092",
   "metadata": {},
   "outputs": [
    {
     "name": "stdout",
     "output_type": "stream",
     "text": [
      "27.0\n"
     ]
    }
   ],
   "source": [
    "x= 4.5\n",
    "print(x.__rmul__(6))"
   ]
  },
  {
   "cell_type": "code",
   "execution_count": 35,
   "id": "b20878ae-da82-4965-bcd9-cdde4f412bdc",
   "metadata": {},
   "outputs": [
    {
     "name": "stdout",
     "output_type": "stream",
     "text": [
      "4\n"
     ]
    }
   ],
   "source": [
    "x= 4.5\n",
    "print(x.__round__())"
   ]
  },
  {
   "cell_type": "code",
   "execution_count": 36,
   "id": "eef0df86-bf27-42d5-ada4-419477022bf3",
   "metadata": {},
   "outputs": [
    {
     "name": "stdout",
     "output_type": "stream",
     "text": [
      "512.0\n"
     ]
    }
   ],
   "source": [
    "x= 4.5\n",
    "print(x.__rpow__(4))"
   ]
  },
  {
   "cell_type": "code",
   "execution_count": 37,
   "id": "d8244d15-ecd8-4bbc-9b29-68937ec6866e",
   "metadata": {},
   "outputs": [
    {
     "name": "stdout",
     "output_type": "stream",
     "text": [
      "1.5\n"
     ]
    }
   ],
   "source": [
    "x= 4.5\n",
    "print(x.__rsub__(6))"
   ]
  },
  {
   "cell_type": "code",
   "execution_count": 38,
   "id": "f1467e88-7cb1-4437-9bd4-9eff56316cc7",
   "metadata": {},
   "outputs": [
    {
     "name": "stdout",
     "output_type": "stream",
     "text": [
      "0.8888888888888888\n"
     ]
    }
   ],
   "source": [
    "x= 4.5\n",
    "print(x.__rtruediv__(4))"
   ]
  },
  {
   "cell_type": "code",
   "execution_count": 39,
   "id": "bcb468d0-db0e-44cf-8249-e9b186f9dcbb",
   "metadata": {},
   "outputs": [
    {
     "name": "stdout",
     "output_type": "stream",
     "text": [
      "1.5\n"
     ]
    }
   ],
   "source": [
    "x= 4.5\n",
    "print(x.__sub__(3))"
   ]
  },
  {
   "cell_type": "code",
   "execution_count": 40,
   "id": "db6abaf5-08ed-4537-a158-88954d6bc5ad",
   "metadata": {},
   "outputs": [
    {
     "name": "stdout",
     "output_type": "stream",
     "text": [
      "1.8\n"
     ]
    }
   ],
   "source": [
    "x= 4.5\n",
    "print(x.__truediv__(2.5))"
   ]
  },
  {
   "cell_type": "code",
   "execution_count": 41,
   "id": "dd0c7e14-7b7b-4939-a95d-9cf8ba3b0f4c",
   "metadata": {},
   "outputs": [
    {
     "name": "stdout",
     "output_type": "stream",
     "text": [
      "4\n"
     ]
    }
   ],
   "source": [
    "x= 4.5\n",
    "print(x.__trunc__())"
   ]
  },
  {
   "cell_type": "code",
   "execution_count": 43,
   "id": "00cef30a-8581-4cc2-a69e-a59482bcadc4",
   "metadata": {},
   "outputs": [
    {
     "name": "stdout",
     "output_type": "stream",
     "text": [
      "(9, 2)\n"
     ]
    }
   ],
   "source": [
    "x= 4.5\n",
    "print(x.as_integer_ratio())"
   ]
  },
  {
   "cell_type": "code",
   "execution_count": 47,
   "id": "90a9a54f-b6c6-42df-9818-9314fe7079f0",
   "metadata": {},
   "outputs": [
    {
     "name": "stdout",
     "output_type": "stream",
     "text": [
      "4.5\n"
     ]
    }
   ],
   "source": [
    "x= 4.5\n",
    "print(x.conjugate())"
   ]
  },
  {
   "cell_type": "code",
   "execution_count": 48,
   "id": "39276a96-83c3-481a-91c8-7a26718fe73b",
   "metadata": {},
   "outputs": [
    {
     "name": "stdout",
     "output_type": "stream",
     "text": [
      "0x1.2000000000000p+2\n"
     ]
    }
   ],
   "source": [
    "x= 4.5\n",
    "print(x.hex())"
   ]
  },
  {
   "cell_type": "code",
   "execution_count": 46,
   "id": "d54b8376-f165-46db-9da5-19823def14db",
   "metadata": {},
   "outputs": [
    {
     "name": "stdout",
     "output_type": "stream",
     "text": [
      "False\n"
     ]
    }
   ],
   "source": [
    "x= 4.5\n",
    "print(x.is_integer())"
   ]
  },
  {
   "cell_type": "code",
   "execution_count": null,
   "id": "d895203a-b772-4868-b791-fa0769ae9ea6",
   "metadata": {},
   "outputs": [],
   "source": [
    "#string"
   ]
  },
  {
   "cell_type": "code",
   "execution_count": 49,
   "id": "90cf57b2-a56c-4269-9f46-ad59536d2463",
   "metadata": {
    "collapsed": true,
    "jupyter": {
     "outputs_hidden": true
    }
   },
   "outputs": [
    {
     "name": "stdout",
     "output_type": "stream",
     "text": [
      "Welcome to Python 3.13's help utility! If this is your first time using\n",
      "Python, you should definitely check out the tutorial at\n",
      "https://docs.python.org/3.13/tutorial/.\n",
      "\n",
      "Enter the name of any module, keyword, or topic to get help on writing\n",
      "Python programs and using Python modules.  To get a list of available\n",
      "modules, keywords, symbols, or topics, enter \"modules\", \"keywords\",\n",
      "\"symbols\", or \"topics\".\n",
      "\n",
      "Each module also comes with a one-line summary of what it does; to list\n",
      "the modules whose name or summary contain a given string such as \"spam\",\n",
      "enter \"modules spam\".\n",
      "\n",
      "To quit this help utility and return to the interpreter,\n",
      "enter \"q\", \"quit\" or \"exit\".\n",
      "\n"
     ]
    },
    {
     "name": "stdin",
     "output_type": "stream",
     "text": [
      "help>  str\n"
     ]
    },
    {
     "name": "stdout",
     "output_type": "stream",
     "text": [
      "Help on class str in module builtins:\n",
      "\n",
      "class str(object)\n",
      " |  str(object='') -> str\n",
      " |  str(bytes_or_buffer[, encoding[, errors]]) -> str\n",
      " |\n",
      " |  Create a new string object from the given object. If encoding or\n",
      " |  errors is specified, then the object must expose a data buffer\n",
      " |  that will be decoded using the given encoding and error handler.\n",
      " |  Otherwise, returns the result of object.__str__() (if defined)\n",
      " |  or repr(object).\n",
      " |  encoding defaults to 'utf-8'.\n",
      " |  errors defaults to 'strict'.\n",
      " |\n",
      " |  Methods defined here:\n",
      " |\n",
      " |  __add__(self, value, /)\n",
      " |      Return self+value.\n",
      " |\n",
      " |  __contains__(self, key, /)\n",
      " |      Return bool(key in self).\n",
      " |\n",
      " |  __eq__(self, value, /)\n",
      " |      Return self==value.\n",
      " |\n",
      " |  __format__(self, format_spec, /)\n",
      " |      Return a formatted version of the string as described by format_spec.\n",
      " |\n",
      " |  __ge__(self, value, /)\n",
      " |      Return self>=value.\n",
      " |\n",
      " |  __getitem__(self, key, /)\n",
      " |      Return self[key].\n",
      " |\n",
      " |  __getnewargs__(self, /)\n",
      " |\n",
      " |  __gt__(self, value, /)\n",
      " |      Return self>value.\n",
      " |\n",
      " |  __hash__(self, /)\n",
      " |      Return hash(self).\n",
      " |\n",
      " |  __iter__(self, /)\n",
      " |      Implement iter(self).\n",
      " |\n",
      " |  __le__(self, value, /)\n",
      " |      Return self<=value.\n",
      " |\n",
      " |  __len__(self, /)\n",
      " |      Return len(self).\n",
      " |\n",
      " |  __lt__(self, value, /)\n",
      " |      Return self<value.\n",
      " |\n",
      " |  __mod__(self, value, /)\n",
      " |      Return self%value.\n",
      " |\n",
      " |  __mul__(self, value, /)\n",
      " |      Return self*value.\n",
      " |\n",
      " |  __ne__(self, value, /)\n",
      " |      Return self!=value.\n",
      " |\n",
      " |  __repr__(self, /)\n",
      " |      Return repr(self).\n",
      " |\n",
      " |  __rmod__(self, value, /)\n",
      " |      Return value%self.\n",
      " |\n",
      " |  __rmul__(self, value, /)\n",
      " |      Return value*self.\n",
      " |\n",
      " |  __sizeof__(self, /)\n",
      " |      Return the size of the string in memory, in bytes.\n",
      " |\n",
      " |  __str__(self, /)\n",
      " |      Return str(self).\n",
      " |\n",
      " |  capitalize(self, /)\n",
      " |      Return a capitalized version of the string.\n",
      " |\n",
      " |      More specifically, make the first character have upper case and the rest lower\n",
      " |      case.\n",
      " |\n",
      " |  casefold(self, /)\n",
      " |      Return a version of the string suitable for caseless comparisons.\n",
      " |\n",
      " |  center(self, width, fillchar=' ', /)\n",
      " |      Return a centered string of length width.\n",
      " |\n",
      " |      Padding is done using the specified fill character (default is a space).\n",
      " |\n",
      " |  count(self, sub[, start[, end]], /)\n",
      " |      Return the number of non-overlapping occurrences of substring sub in string S[start:end].\n",
      " |\n",
      " |      Optional arguments start and end are interpreted as in slice notation.\n",
      " |\n",
      " |  encode(self, /, encoding='utf-8', errors='strict')\n",
      " |      Encode the string using the codec registered for encoding.\n",
      " |\n",
      " |      encoding\n",
      " |        The encoding in which to encode the string.\n",
      " |      errors\n",
      " |        The error handling scheme to use for encoding errors.\n",
      " |        The default is 'strict' meaning that encoding errors raise a\n",
      " |        UnicodeEncodeError.  Other possible values are 'ignore', 'replace' and\n",
      " |        'xmlcharrefreplace' as well as any other name registered with\n",
      " |        codecs.register_error that can handle UnicodeEncodeErrors.\n",
      " |\n",
      " |  endswith(self, suffix[, start[, end]], /)\n",
      " |      Return True if the string ends with the specified suffix, False otherwise.\n",
      " |\n",
      " |      suffix\n",
      " |        A string or a tuple of strings to try.\n",
      " |      start\n",
      " |        Optional start position. Default: start of the string.\n",
      " |      end\n",
      " |        Optional stop position. Default: end of the string.\n",
      " |\n",
      " |  expandtabs(self, /, tabsize=8)\n",
      " |      Return a copy where all tab characters are expanded using spaces.\n",
      " |\n",
      " |      If tabsize is not given, a tab size of 8 characters is assumed.\n",
      " |\n",
      " |  find(self, sub[, start[, end]], /)\n",
      " |      Return the lowest index in S where substring sub is found, such that sub is contained within S[start:end].\n",
      " |\n",
      " |      Optional arguments start and end are interpreted as in slice notation.\n",
      " |      Return -1 on failure.\n",
      " |\n",
      " |  format(self, /, *args, **kwargs)\n",
      " |      Return a formatted version of the string, using substitutions from args and kwargs.\n",
      " |      The substitutions are identified by braces ('{' and '}').\n",
      " |\n",
      " |  format_map(self, mapping, /)\n",
      " |      Return a formatted version of the string, using substitutions from mapping.\n",
      " |      The substitutions are identified by braces ('{' and '}').\n",
      " |\n",
      " |  index(self, sub[, start[, end]], /)\n",
      " |      Return the lowest index in S where substring sub is found, such that sub is contained within S[start:end].\n",
      " |\n",
      " |      Optional arguments start and end are interpreted as in slice notation.\n",
      " |      Raises ValueError when the substring is not found.\n",
      " |\n",
      " |  isalnum(self, /)\n",
      " |      Return True if the string is an alpha-numeric string, False otherwise.\n",
      " |\n",
      " |      A string is alpha-numeric if all characters in the string are alpha-numeric and\n",
      " |      there is at least one character in the string.\n",
      " |\n",
      " |  isalpha(self, /)\n",
      " |      Return True if the string is an alphabetic string, False otherwise.\n",
      " |\n",
      " |      A string is alphabetic if all characters in the string are alphabetic and there\n",
      " |      is at least one character in the string.\n",
      " |\n",
      " |  isascii(self, /)\n",
      " |      Return True if all characters in the string are ASCII, False otherwise.\n",
      " |\n",
      " |      ASCII characters have code points in the range U+0000-U+007F.\n",
      " |      Empty string is ASCII too.\n",
      " |\n",
      " |  isdecimal(self, /)\n",
      " |      Return True if the string is a decimal string, False otherwise.\n",
      " |\n",
      " |      A string is a decimal string if all characters in the string are decimal and\n",
      " |      there is at least one character in the string.\n",
      " |\n",
      " |  isdigit(self, /)\n",
      " |      Return True if the string is a digit string, False otherwise.\n",
      " |\n",
      " |      A string is a digit string if all characters in the string are digits and there\n",
      " |      is at least one character in the string.\n",
      " |\n",
      " |  isidentifier(self, /)\n",
      " |      Return True if the string is a valid Python identifier, False otherwise.\n",
      " |\n",
      " |      Call keyword.iskeyword(s) to test whether string s is a reserved identifier,\n",
      " |      such as \"def\" or \"class\".\n",
      " |\n",
      " |  islower(self, /)\n",
      " |      Return True if the string is a lowercase string, False otherwise.\n",
      " |\n",
      " |      A string is lowercase if all cased characters in the string are lowercase and\n",
      " |      there is at least one cased character in the string.\n",
      " |\n",
      " |  isnumeric(self, /)\n",
      " |      Return True if the string is a numeric string, False otherwise.\n",
      " |\n",
      " |      A string is numeric if all characters in the string are numeric and there is at\n",
      " |      least one character in the string.\n",
      " |\n",
      " |  isprintable(self, /)\n",
      " |      Return True if the string is printable, False otherwise.\n",
      " |\n",
      " |      A string is printable if all of its characters are considered printable in\n",
      " |      repr() or if it is empty.\n",
      " |\n",
      " |  isspace(self, /)\n",
      " |      Return True if the string is a whitespace string, False otherwise.\n",
      " |\n",
      " |      A string is whitespace if all characters in the string are whitespace and there\n",
      " |      is at least one character in the string.\n",
      " |\n",
      " |  istitle(self, /)\n",
      " |      Return True if the string is a title-cased string, False otherwise.\n",
      " |\n",
      " |      In a title-cased string, upper- and title-case characters may only\n",
      " |      follow uncased characters and lowercase characters only cased ones.\n",
      " |\n",
      " |  isupper(self, /)\n",
      " |      Return True if the string is an uppercase string, False otherwise.\n",
      " |\n",
      " |      A string is uppercase if all cased characters in the string are uppercase and\n",
      " |      there is at least one cased character in the string.\n",
      " |\n",
      " |  join(self, iterable, /)\n",
      " |      Concatenate any number of strings.\n",
      " |\n",
      " |      The string whose method is called is inserted in between each given string.\n",
      " |      The result is returned as a new string.\n",
      " |\n",
      " |      Example: '.'.join(['ab', 'pq', 'rs']) -> 'ab.pq.rs'\n",
      " |\n",
      " |  ljust(self, width, fillchar=' ', /)\n",
      " |      Return a left-justified string of length width.\n",
      " |\n",
      " |      Padding is done using the specified fill character (default is a space).\n",
      " |\n",
      " |  lower(self, /)\n",
      " |      Return a copy of the string converted to lowercase.\n",
      " |\n",
      " |  lstrip(self, chars=None, /)\n",
      " |      Return a copy of the string with leading whitespace removed.\n",
      " |\n",
      " |      If chars is given and not None, remove characters in chars instead.\n",
      " |\n",
      " |  partition(self, sep, /)\n",
      " |      Partition the string into three parts using the given separator.\n",
      " |\n",
      " |      This will search for the separator in the string.  If the separator is found,\n",
      " |      returns a 3-tuple containing the part before the separator, the separator\n",
      " |      itself, and the part after it.\n",
      " |\n",
      " |      If the separator is not found, returns a 3-tuple containing the original string\n",
      " |      and two empty strings.\n",
      " |\n",
      " |  removeprefix(self, prefix, /)\n",
      " |      Return a str with the given prefix string removed if present.\n",
      " |\n",
      " |      If the string starts with the prefix string, return string[len(prefix):].\n",
      " |      Otherwise, return a copy of the original string.\n",
      " |\n",
      " |  removesuffix(self, suffix, /)\n",
      " |      Return a str with the given suffix string removed if present.\n",
      " |\n",
      " |      If the string ends with the suffix string and that suffix is not empty,\n",
      " |      return string[:-len(suffix)]. Otherwise, return a copy of the original\n",
      " |      string.\n",
      " |\n",
      " |  replace(self, old, new, /, count=-1)\n",
      " |      Return a copy with all occurrences of substring old replaced by new.\n",
      " |\n",
      " |        count\n",
      " |          Maximum number of occurrences to replace.\n",
      " |          -1 (the default value) means replace all occurrences.\n",
      " |\n",
      " |      If the optional argument count is given, only the first count occurrences are\n",
      " |      replaced.\n",
      " |\n",
      " |  rfind(self, sub[, start[, end]], /)\n",
      " |      Return the highest index in S where substring sub is found, such that sub is contained within S[start:end].\n",
      " |\n",
      " |      Optional arguments start and end are interpreted as in slice notation.\n",
      " |      Return -1 on failure.\n",
      " |\n",
      " |  rindex(self, sub[, start[, end]], /)\n",
      " |      Return the highest index in S where substring sub is found, such that sub is contained within S[start:end].\n",
      " |\n",
      " |      Optional arguments start and end are interpreted as in slice notation.\n",
      " |      Raises ValueError when the substring is not found.\n",
      " |\n",
      " |  rjust(self, width, fillchar=' ', /)\n",
      " |      Return a right-justified string of length width.\n",
      " |\n",
      " |      Padding is done using the specified fill character (default is a space).\n",
      " |\n",
      " |  rpartition(self, sep, /)\n",
      " |      Partition the string into three parts using the given separator.\n",
      " |\n",
      " |      This will search for the separator in the string, starting at the end. If\n",
      " |      the separator is found, returns a 3-tuple containing the part before the\n",
      " |      separator, the separator itself, and the part after it.\n",
      " |\n",
      " |      If the separator is not found, returns a 3-tuple containing two empty strings\n",
      " |      and the original string.\n",
      " |\n",
      " |  rsplit(self, /, sep=None, maxsplit=-1)\n",
      " |      Return a list of the substrings in the string, using sep as the separator string.\n",
      " |\n",
      " |        sep\n",
      " |          The separator used to split the string.\n",
      " |\n",
      " |          When set to None (the default value), will split on any whitespace\n",
      " |          character (including \\n \\r \\t \\f and spaces) and will discard\n",
      " |          empty strings from the result.\n",
      " |        maxsplit\n",
      " |          Maximum number of splits.\n",
      " |          -1 (the default value) means no limit.\n",
      " |\n",
      " |      Splitting starts at the end of the string and works to the front.\n",
      " |\n",
      " |  rstrip(self, chars=None, /)\n",
      " |      Return a copy of the string with trailing whitespace removed.\n",
      " |\n",
      " |      If chars is given and not None, remove characters in chars instead.\n",
      " |\n",
      " |  split(self, /, sep=None, maxsplit=-1)\n",
      " |      Return a list of the substrings in the string, using sep as the separator string.\n",
      " |\n",
      " |        sep\n",
      " |          The separator used to split the string.\n",
      " |\n",
      " |          When set to None (the default value), will split on any whitespace\n",
      " |          character (including \\n \\r \\t \\f and spaces) and will discard\n",
      " |          empty strings from the result.\n",
      " |        maxsplit\n",
      " |          Maximum number of splits.\n",
      " |          -1 (the default value) means no limit.\n",
      " |\n",
      " |      Splitting starts at the front of the string and works to the end.\n",
      " |\n",
      " |      Note, str.split() is mainly useful for data that has been intentionally\n",
      " |      delimited.  With natural text that includes punctuation, consider using\n",
      " |      the regular expression module.\n",
      " |\n",
      " |  splitlines(self, /, keepends=False)\n",
      " |      Return a list of the lines in the string, breaking at line boundaries.\n",
      " |\n",
      " |      Line breaks are not included in the resulting list unless keepends is given and\n",
      " |      true.\n",
      " |\n",
      " |  startswith(self, prefix[, start[, end]], /)\n",
      " |      Return True if the string starts with the specified prefix, False otherwise.\n",
      " |\n",
      " |      prefix\n",
      " |        A string or a tuple of strings to try.\n",
      " |      start\n",
      " |        Optional start position. Default: start of the string.\n",
      " |      end\n",
      " |        Optional stop position. Default: end of the string.\n",
      " |\n",
      " |  strip(self, chars=None, /)\n",
      " |      Return a copy of the string with leading and trailing whitespace removed.\n",
      " |\n",
      " |      If chars is given and not None, remove characters in chars instead.\n",
      " |\n",
      " |  swapcase(self, /)\n",
      " |      Convert uppercase characters to lowercase and lowercase characters to uppercase.\n",
      " |\n",
      " |  title(self, /)\n",
      " |      Return a version of the string where each word is titlecased.\n",
      " |\n",
      " |      More specifically, words start with uppercased characters and all remaining\n",
      " |      cased characters have lower case.\n",
      " |\n",
      " |  translate(self, table, /)\n",
      " |      Replace each character in the string using the given translation table.\n",
      " |\n",
      " |        table\n",
      " |          Translation table, which must be a mapping of Unicode ordinals to\n",
      " |          Unicode ordinals, strings, or None.\n",
      " |\n",
      " |      The table must implement lookup/indexing via __getitem__, for instance a\n",
      " |      dictionary or list.  If this operation raises LookupError, the character is\n",
      " |      left untouched.  Characters mapped to None are deleted.\n",
      " |\n",
      " |  upper(self, /)\n",
      " |      Return a copy of the string converted to uppercase.\n",
      " |\n",
      " |  zfill(self, width, /)\n",
      " |      Pad a numeric string with zeros on the left, to fill a field of the given width.\n",
      " |\n",
      " |      The string is never truncated.\n",
      " |\n",
      " |  ----------------------------------------------------------------------\n",
      " |  Static methods defined here:\n",
      " |\n",
      " |  __new__(*args, **kwargs)\n",
      " |      Create and return a new object.  See help(type) for accurate signature.\n",
      " |\n",
      " |  maketrans(x, y=<unrepresentable>, z=<unrepresentable>, /)\n",
      " |      Return a translation table usable for str.translate().\n",
      " |\n",
      " |      If there is only one argument, it must be a dictionary mapping Unicode\n",
      " |      ordinals (integers) or characters to Unicode ordinals, strings or None.\n",
      " |      Character keys will be then converted to ordinals.\n",
      " |      If there are two arguments, they must be strings of equal length, and\n",
      " |      in the resulting dictionary, each character in x will be mapped to the\n",
      " |      character at the same position in y. If there is a third argument, it\n",
      " |      must be a string, whose characters will be mapped to None in the result.\n",
      "\n",
      "\n",
      "You are now leaving help and returning to the Python interpreter.\n",
      "If you want to ask for help on a particular object directly from the\n",
      "interpreter, you can type \"help(object)\".  Executing \"help('string')\"\n",
      "has the same effect as typing a particular string at the help> prompt.\n"
     ]
    }
   ],
   "source": [
    "help()"
   ]
  },
  {
   "cell_type": "code",
   "execution_count": 29,
   "id": "20bf81be-1656-4097-bb72-f1dd65321f65",
   "metadata": {},
   "outputs": [
    {
     "name": "stdout",
     "output_type": "stream",
     "text": [
      "HelloWorld\n"
     ]
    }
   ],
   "source": [
    "text=\"Hello\"\n",
    "print(text.__add__(\"World\"))"
   ]
  },
  {
   "cell_type": "code",
   "execution_count": 30,
   "id": "21813bc1-a799-47c0-91db-0a4198def115",
   "metadata": {},
   "outputs": [
    {
     "name": "stdout",
     "output_type": "stream",
     "text": [
      "True\n"
     ]
    }
   ],
   "source": [
    "text=\"Hello\"\n",
    "print(text.__contains__(\"\"))"
   ]
  },
  {
   "cell_type": "code",
   "execution_count": 31,
   "id": "368d73b7-4891-408f-8756-29804b307f63",
   "metadata": {},
   "outputs": [
    {
     "name": "stdout",
     "output_type": "stream",
     "text": [
      "True\n"
     ]
    }
   ],
   "source": [
    "text=\"Hello\"\n",
    "print(text.__eq__(\"Hello\"))"
   ]
  },
  {
   "cell_type": "code",
   "execution_count": 32,
   "id": "1769d6f1-9fab-4cd2-9852-8ef5c74724e0",
   "metadata": {},
   "outputs": [
    {
     "name": "stdout",
     "output_type": "stream",
     "text": [
      "Hello, my name is Alice and I am 25 years old.\n"
     ]
    }
   ],
   "source": [
    "name = \"Alice\"\n",
    "print(\"Hello, my name is {} and I am {} years old.\".format(name, 25))\n"
   ]
  },
  {
   "cell_type": "code",
   "execution_count": 33,
   "id": "94940696-6339-4490-9505-3c2b72038c0b",
   "metadata": {},
   "outputs": [
    {
     "name": "stdout",
     "output_type": "stream",
     "text": [
      "True\n"
     ]
    }
   ],
   "source": [
    "text=\"Hello\"\n",
    "print(text.__ge__(\"Hell\"))"
   ]
  },
  {
   "cell_type": "code",
   "execution_count": 34,
   "id": "d608ccd3-b337-4fba-b743-bff7a0772586",
   "metadata": {},
   "outputs": [
    {
     "name": "stdout",
     "output_type": "stream",
     "text": [
      "e\n"
     ]
    }
   ],
   "source": [
    "text= \"Hello\"\n",
    "\n",
    "print(text.__getitem__(1))"
   ]
  },
  {
   "cell_type": "code",
   "execution_count": 35,
   "id": "bcec10a4-e3dc-4b50-96d8-5b470f143ec9",
   "metadata": {},
   "outputs": [
    {
     "name": "stdout",
     "output_type": "stream",
     "text": [
      "('Hello',)\n"
     ]
    }
   ],
   "source": [
    "text=\"Hello\"\n",
    "print(text.__getnewargs__())"
   ]
  },
  {
   "cell_type": "code",
   "execution_count": 36,
   "id": "abd8474b-5c6e-41b4-8690-b5e081a01cd5",
   "metadata": {},
   "outputs": [
    {
     "name": "stdout",
     "output_type": "stream",
     "text": [
      "True\n"
     ]
    }
   ],
   "source": [
    "text=\"Hello\"\n",
    "print(text.__gt__(\"Good\"))"
   ]
  },
  {
   "cell_type": "code",
   "execution_count": 37,
   "id": "4ad7fde5-4704-4898-9b7c-7fa7e6f2cd2d",
   "metadata": {},
   "outputs": [
    {
     "name": "stdout",
     "output_type": "stream",
     "text": [
      "-1909064783805843951\n"
     ]
    }
   ],
   "source": [
    "text=\"Hello\"\n",
    "print(text.__hash__())"
   ]
  },
  {
   "cell_type": "code",
   "execution_count": 38,
   "id": "ec83dd34-4877-4315-9fdb-963f3f4fe16c",
   "metadata": {},
   "outputs": [
    {
     "name": "stdout",
     "output_type": "stream",
     "text": [
      "<str_ascii_iterator object at 0x0000020967D89E70>\n"
     ]
    }
   ],
   "source": [
    "text=\"Hello\"\n",
    "print(text.__iter__())"
   ]
  },
  {
   "cell_type": "code",
   "execution_count": 39,
   "id": "c4175ab9-5efc-4c26-8c63-05ad7fb65aae",
   "metadata": {},
   "outputs": [
    {
     "name": "stdout",
     "output_type": "stream",
     "text": [
      "False\n"
     ]
    }
   ],
   "source": [
    "text=\"Hello\"\n",
    "print(text.__le__(\"Heavy\"))"
   ]
  },
  {
   "cell_type": "code",
   "execution_count": 40,
   "id": "0d5c28ab-2b71-4583-a180-8b303880d845",
   "metadata": {},
   "outputs": [
    {
     "name": "stdout",
     "output_type": "stream",
     "text": [
      "5\n"
     ]
    }
   ],
   "source": [
    "text=\"Hello\"\n",
    "print(text.__len__())"
   ]
  },
  {
   "cell_type": "code",
   "execution_count": 41,
   "id": "37df5ef9-6fee-4cd2-9c39-b747d4f28c0f",
   "metadata": {},
   "outputs": [
    {
     "name": "stdout",
     "output_type": "stream",
     "text": [
      "True\n"
     ]
    }
   ],
   "source": [
    "text=\"Hello\"\n",
    "print(text.__lt__(\"Morning\"))"
   ]
  },
  {
   "cell_type": "code",
   "execution_count": 42,
   "id": "0755302c-7bd3-4676-951b-34a558f30d23",
   "metadata": {},
   "outputs": [
    {
     "name": "stdout",
     "output_type": "stream",
     "text": [
      "My name is Alice and I am 25 years old.\n"
     ]
    }
   ],
   "source": [
    "message = \"My name is %s and I am %d years old.\"\n",
    "formatted_message = message.__mod__((\"Alice\", 25))\n",
    "print(formatted_message)\n"
   ]
  },
  {
   "cell_type": "code",
   "execution_count": 43,
   "id": "ef013db3-e075-4c70-8353-0c79cf4cf0b4",
   "metadata": {},
   "outputs": [
    {
     "name": "stdout",
     "output_type": "stream",
     "text": [
      "HelloHello\n"
     ]
    }
   ],
   "source": [
    "text=\"Hello\"\n",
    "print(text.__mul__(2))"
   ]
  },
  {
   "cell_type": "code",
   "execution_count": 44,
   "id": "a4dba5eb-0482-4278-afe8-2028c0c844da",
   "metadata": {},
   "outputs": [
    {
     "name": "stdout",
     "output_type": "stream",
     "text": [
      "True\n"
     ]
    }
   ],
   "source": [
    "text=\"Hello\"\n",
    "print(text.__ne__(\"From\"))"
   ]
  },
  {
   "cell_type": "code",
   "execution_count": 45,
   "id": "fda03500-c178-4fcf-aa91-db163039e4e3",
   "metadata": {},
   "outputs": [
    {
     "name": "stdout",
     "output_type": "stream",
     "text": [
      "'Hello'\n"
     ]
    }
   ],
   "source": [
    "text=\"Hello\"\n",
    "print(text.__repr__())"
   ]
  },
  {
   "cell_type": "code",
   "execution_count": 46,
   "id": "daab47c4-2041-496a-88b5-6a11449ca26e",
   "metadata": {},
   "outputs": [
    {
     "name": "stdout",
     "output_type": "stream",
     "text": [
      "46\n"
     ]
    }
   ],
   "source": [
    "text=\"Hello\"\n",
    "print(text.__sizeof__())"
   ]
  },
  {
   "cell_type": "code",
   "execution_count": 47,
   "id": "9c8d90fa-335e-47fc-83bc-660a93035e37",
   "metadata": {},
   "outputs": [
    {
     "name": "stdout",
     "output_type": "stream",
     "text": [
      "Hello\n"
     ]
    }
   ],
   "source": [
    "text=\"Hello\"\n",
    "print(text.__str__())"
   ]
  },
  {
   "cell_type": "code",
   "execution_count": 48,
   "id": "601cb73f-f54a-4f82-8104-6de6dea99080",
   "metadata": {},
   "outputs": [
    {
     "name": "stdout",
     "output_type": "stream",
     "text": [
      "Hello\n"
     ]
    }
   ],
   "source": [
    "text=\"hello\"\n",
    "print(text.capitalize())"
   ]
  },
  {
   "cell_type": "code",
   "execution_count": 49,
   "id": "882d32e4-666c-4f07-a76e-cdfda462594f",
   "metadata": {},
   "outputs": [
    {
     "name": "stdout",
     "output_type": "stream",
     "text": [
      "hello\n"
     ]
    }
   ],
   "source": [
    "text=\"Hello\"\n",
    "print(text.casefold())"
   ]
  },
  {
   "cell_type": "code",
   "execution_count": 60,
   "id": "61cc61f0-ce02-484a-81be-5a572a5f52da",
   "metadata": {},
   "outputs": [
    {
     "name": "stdout",
     "output_type": "stream",
     "text": [
      "--hello---\n"
     ]
    }
   ],
   "source": [
    "text = \"hello\"\n",
    "print(text.center(10, \"-\")) \n"
   ]
  },
  {
   "cell_type": "code",
   "execution_count": 51,
   "id": "5ce16854-2002-4b40-a7ae-5df92aa5147f",
   "metadata": {},
   "outputs": [
    {
     "name": "stdout",
     "output_type": "stream",
     "text": [
      "2\n"
     ]
    }
   ],
   "source": [
    "text = \"hello world, hello everyone\"\n",
    "word = \"hello\"  \n",
    "print(text.count(word)) \n"
   ]
  },
  {
   "cell_type": "code",
   "execution_count": 52,
   "id": "6cbb5061-dd6b-4706-ad82-6d7cfe023672",
   "metadata": {},
   "outputs": [
    {
     "name": "stdout",
     "output_type": "stream",
     "text": [
      "b'hello'\n"
     ]
    }
   ],
   "source": [
    "text = \"hello\"\n",
    "encoded_text = text.encode(\"utf-8\")  \n",
    "print(encoded_text)  \n"
   ]
  },
  {
   "cell_type": "code",
   "execution_count": 59,
   "id": "bf14e07a-ad85-4da0-8fe8-97c27ae8a3ae",
   "metadata": {},
   "outputs": [
    {
     "name": "stdout",
     "output_type": "stream",
     "text": [
      "Happy world\n"
     ]
    }
   ],
   "source": [
    "text=\"Hello world\"\n",
    "print(text.replace( \"Hello\",\"Happy\",1))\n"
   ]
  },
  {
   "cell_type": "code",
   "execution_count": 61,
   "id": "30312032-d72c-477f-bfec-8be14b014bde",
   "metadata": {},
   "outputs": [
    {
     "name": "stdout",
     "output_type": "stream",
     "text": [
      "True\n"
     ]
    }
   ],
   "source": [
    "text = \"hello.txt\"\n",
    "print(text.endswith(\".txt\"))  \n"
   ]
  },
  {
   "cell_type": "code",
   "execution_count": 62,
   "id": "d59990f5-b1bb-4ba2-910d-28e88f8c1d6d",
   "metadata": {},
   "outputs": [
    {
     "name": "stdout",
     "output_type": "stream",
     "text": [
      "hello   world\n"
     ]
    }
   ],
   "source": [
    "text = \"hello\\tworld\"\n",
    "print(text.expandtabs(4))  \n"
   ]
  },
  {
   "cell_type": "code",
   "execution_count": 63,
   "id": "2f17b19f-e4ed-4239-b68d-3655631e4ba6",
   "metadata": {},
   "outputs": [
    {
     "name": "stdout",
     "output_type": "stream",
     "text": [
      "6\n"
     ]
    }
   ],
   "source": [
    "text = \"hello world\"\n",
    "print(text.find(\"world\"))  \n"
   ]
  },
  {
   "cell_type": "code",
   "execution_count": 64,
   "id": "c8628c96-3c49-4358-9798-46503bebe7cf",
   "metadata": {},
   "outputs": [
    {
     "name": "stdout",
     "output_type": "stream",
     "text": [
      "My name is Alice.\n"
     ]
    }
   ],
   "source": [
    "text = \"My name is {name}.\"\n",
    "print(text.format(name=\"Alice\"))  \n"
   ]
  },
  {
   "cell_type": "code",
   "execution_count": 65,
   "id": "05e71922-ef76-4721-9cbc-81ea3ca2879a",
   "metadata": {},
   "outputs": [
    {
     "name": "stdout",
     "output_type": "stream",
     "text": [
      "My name is Alice.\n"
     ]
    }
   ],
   "source": [
    "data = {\"name\": \"Alice\"}\n",
    "text = \"My name is {name}.\".format_map(data)\n",
    "print(text)  \n"
   ]
  },
  {
   "cell_type": "code",
   "execution_count": 66,
   "id": "d5ba9ce4-feeb-453e-b8de-bb7d815f07ee",
   "metadata": {},
   "outputs": [
    {
     "name": "stdout",
     "output_type": "stream",
     "text": [
      "6\n"
     ]
    }
   ],
   "source": [
    "text = \"hello world\"\n",
    "print(text.index(\"world\"))  \n"
   ]
  },
  {
   "cell_type": "code",
   "execution_count": 67,
   "id": "cf56ca96-1d90-402a-9f6f-328e24bbfed2",
   "metadata": {},
   "outputs": [
    {
     "name": "stdout",
     "output_type": "stream",
     "text": [
      "True\n"
     ]
    }
   ],
   "source": [
    "text = \"hello123\"\n",
    "print(text.isalnum()) \n"
   ]
  },
  {
   "cell_type": "code",
   "execution_count": 68,
   "id": "019f1146-2ba3-48aa-8a12-95eacd52e0e1",
   "metadata": {},
   "outputs": [
    {
     "name": "stdout",
     "output_type": "stream",
     "text": [
      "True\n"
     ]
    }
   ],
   "source": [
    "text = \"hello\"\n",
    "print(text.isascii())  \n"
   ]
  },
  {
   "cell_type": "code",
   "execution_count": 69,
   "id": "6d28c2df-b8b3-4ab0-bd77-05724b16df50",
   "metadata": {},
   "outputs": [
    {
     "name": "stdout",
     "output_type": "stream",
     "text": [
      "True\n"
     ]
    }
   ],
   "source": [
    "text = \"hello\"\n",
    "print(text.isalpha())  \n"
   ]
  },
  {
   "cell_type": "code",
   "execution_count": 71,
   "id": "10b0c153-3fbf-4075-a5ff-ce191d4675de",
   "metadata": {},
   "outputs": [
    {
     "name": "stdout",
     "output_type": "stream",
     "text": [
      "True\n"
     ]
    }
   ],
   "source": [
    "text = \"12345\"\n",
    "print(text.isdecimal())  \n"
   ]
  },
  {
   "cell_type": "code",
   "execution_count": 72,
   "id": "4677596a-90b4-4f6b-8d77-550363f6295a",
   "metadata": {},
   "outputs": [
    {
     "name": "stdout",
     "output_type": "stream",
     "text": [
      "True\n"
     ]
    }
   ],
   "source": [
    "text = \"12345\"\n",
    "print(text.isdigit())  \n"
   ]
  },
  {
   "cell_type": "code",
   "execution_count": 73,
   "id": "1811c96e-df9b-49e4-914a-8974d041c482",
   "metadata": {},
   "outputs": [
    {
     "name": "stdout",
     "output_type": "stream",
     "text": [
      "True\n"
     ]
    }
   ],
   "source": [
    "text = \"hello_world\"\n",
    "print(text.isidentifier())  \n"
   ]
  },
  {
   "cell_type": "code",
   "execution_count": 74,
   "id": "b4282797-2596-4c77-9851-df7866b016a2",
   "metadata": {},
   "outputs": [
    {
     "name": "stdout",
     "output_type": "stream",
     "text": [
      "True\n"
     ]
    }
   ],
   "source": [
    "text = \"hello\"\n",
    "print(text.islower())  \n"
   ]
  },
  {
   "cell_type": "code",
   "execution_count": 75,
   "id": "7be8476e-af8d-4b08-aeb5-0e6d328b9d26",
   "metadata": {},
   "outputs": [
    {
     "name": "stdout",
     "output_type": "stream",
     "text": [
      "True\n"
     ]
    }
   ],
   "source": [
    "text = \"12345\"\n",
    "print(text.isnumeric())  \n"
   ]
  },
  {
   "cell_type": "code",
   "execution_count": 76,
   "id": "4137d087-b762-487c-a255-db66be6211ff",
   "metadata": {},
   "outputs": [
    {
     "name": "stdout",
     "output_type": "stream",
     "text": [
      "True\n"
     ]
    }
   ],
   "source": [
    "text = \"hello\"\n",
    "print(text.isprintable())  \n"
   ]
  },
  {
   "cell_type": "code",
   "execution_count": 77,
   "id": "d0ab59e3-73c6-4d64-871c-127aedeea871",
   "metadata": {},
   "outputs": [
    {
     "name": "stdout",
     "output_type": "stream",
     "text": [
      "True\n"
     ]
    }
   ],
   "source": [
    "text = \"   \"\n",
    "print(text.isspace())  \n"
   ]
  },
  {
   "cell_type": "code",
   "execution_count": 78,
   "id": "9cce7611-f66f-479a-873d-340189e4070a",
   "metadata": {},
   "outputs": [
    {
     "name": "stdout",
     "output_type": "stream",
     "text": [
      "True\n"
     ]
    }
   ],
   "source": [
    "text = \"Hello World\"\n",
    "print(text.istitle())  \n"
   ]
  },
  {
   "cell_type": "code",
   "execution_count": 79,
   "id": "1d25a06f-3231-4b0b-b98f-a73a1722bb9f",
   "metadata": {},
   "outputs": [
    {
     "name": "stdout",
     "output_type": "stream",
     "text": [
      "True\n"
     ]
    }
   ],
   "source": [
    "text = \"HELLO\"\n",
    "print(text.isupper()) \n"
   ]
  },
  {
   "cell_type": "code",
   "execution_count": 80,
   "id": "55326b85-d568-47cc-890e-18043dc9ff96",
   "metadata": {},
   "outputs": [
    {
     "name": "stdout",
     "output_type": "stream",
     "text": [
      "hello world\n"
     ]
    }
   ],
   "source": [
    "words = [\"hello\", \"world\"]\n",
    "print(\" \".join(words))  \n"
   ]
  },
  {
   "cell_type": "code",
   "execution_count": 81,
   "id": "394bd76e-eed4-46bd-9baa-e5c357d0e62f",
   "metadata": {},
   "outputs": [
    {
     "name": "stdout",
     "output_type": "stream",
     "text": [
      "hello-----\n"
     ]
    }
   ],
   "source": [
    "text = \"hello\"\n",
    "print(text.ljust(10, \"-\"))  \n"
   ]
  },
  {
   "cell_type": "code",
   "execution_count": 1,
   "id": "8852f634-f0c7-4862-b6d4-bbc7f3493f10",
   "metadata": {},
   "outputs": [
    {
     "name": "stdout",
     "output_type": "stream",
     "text": [
      "hello\n"
     ]
    }
   ],
   "source": [
    "text = \"HELLO\"\n",
    "print(text.lower())  \n"
   ]
  },
  {
   "cell_type": "code",
   "execution_count": 2,
   "id": "27aba01a-517c-4d28-9733-5f143a77d40b",
   "metadata": {},
   "outputs": [
    {
     "name": "stdout",
     "output_type": "stream",
     "text": [
      "hello\n"
     ]
    }
   ],
   "source": [
    "text = \"  hello\"\n",
    "print(text.lstrip()) \n"
   ]
  },
  {
   "cell_type": "code",
   "execution_count": 3,
   "id": "9ff6259e-c222-4105-90f2-3eff80504453",
   "metadata": {},
   "outputs": [
    {
     "name": "stdout",
     "output_type": "stream",
     "text": [
      "('hello', ' ', 'world')\n"
     ]
    }
   ],
   "source": [
    "text = \"hello world\"\n",
    "print(text.partition(\" \")) \n"
   ]
  },
  {
   "cell_type": "code",
   "execution_count": 4,
   "id": "c84ad2ba-57e0-4710-8243-cfdf0fc11e00",
   "metadata": {},
   "outputs": [
    {
     "name": "stdout",
     "output_type": "stream",
     "text": [
      "world\n"
     ]
    }
   ],
   "source": [
    "text = \"hello world\"\n",
    "print(text.removeprefix(\"hello \"))  \n"
   ]
  },
  {
   "cell_type": "code",
   "execution_count": 5,
   "id": "b790cae3-edea-4cfb-ab7b-4e4d6de095a0",
   "metadata": {},
   "outputs": [
    {
     "name": "stdout",
     "output_type": "stream",
     "text": [
      "hello\n"
     ]
    }
   ],
   "source": [
    "text = \"hello world\"\n",
    "print(text.removesuffix(\" world\"))  \n"
   ]
  },
  {
   "cell_type": "code",
   "execution_count": 6,
   "id": "92cc510f-3fba-4dc1-82d3-402d1bb52eda",
   "metadata": {},
   "outputs": [
    {
     "name": "stdout",
     "output_type": "stream",
     "text": [
      "-----hello\n"
     ]
    }
   ],
   "source": [
    "text = \"hello\"\n",
    "print(text.rjust(10, \"-\")) \n"
   ]
  },
  {
   "cell_type": "code",
   "execution_count": 7,
   "id": "11583c7c-cad2-4e87-b113-d0b6eadd33f2",
   "metadata": {},
   "outputs": [
    {
     "name": "stdout",
     "output_type": "stream",
     "text": [
      "('hello world', ' ', 'hello')\n"
     ]
    }
   ],
   "source": [
    "text = \"hello world hello\"\n",
    "print(text.rpartition(\" \"))  \n"
   ]
  },
  {
   "cell_type": "code",
   "execution_count": 8,
   "id": "f8a7ef72-b929-4e30-9f07-470f86ee806c",
   "metadata": {},
   "outputs": [
    {
     "name": "stdout",
     "output_type": "stream",
     "text": [
      "['hello world', 'hello']\n"
     ]
    }
   ],
   "source": [
    "text = \"hello world hello\"\n",
    "print(text.rsplit(\" \", 1))  \n"
   ]
  },
  {
   "cell_type": "code",
   "execution_count": 9,
   "id": "a4f2a038-d54b-4c2e-82ec-65d6f90b982c",
   "metadata": {},
   "outputs": [
    {
     "name": "stdout",
     "output_type": "stream",
     "text": [
      "hello\n"
     ]
    }
   ],
   "source": [
    "text = \"hello   \"\n",
    "print(text.rstrip())  \n"
   ]
  },
  {
   "cell_type": "code",
   "execution_count": 10,
   "id": "298fc3ab-2e71-4acf-a38d-283ec1d2ea11",
   "metadata": {},
   "outputs": [
    {
     "name": "stdout",
     "output_type": "stream",
     "text": [
      "hello\n"
     ]
    }
   ],
   "source": [
    "text = \"  hello  \"\n",
    "print(text.strip())  \n"
   ]
  },
  {
   "cell_type": "code",
   "execution_count": 11,
   "id": "0e1f6894-63e4-4f3b-93b8-b618d1c289e9",
   "metadata": {},
   "outputs": [
    {
     "name": "stdout",
     "output_type": "stream",
     "text": [
      "hELLO wORLD\n"
     ]
    }
   ],
   "source": [
    "text = \"Hello World\"\n",
    "print(text.swapcase())  \n"
   ]
  },
  {
   "cell_type": "code",
   "execution_count": 12,
   "id": "d5967c8b-83d7-401b-850a-ec4705611081",
   "metadata": {},
   "outputs": [
    {
     "name": "stdout",
     "output_type": "stream",
     "text": [
      "Hello World\n"
     ]
    }
   ],
   "source": [
    "text = \"hello world\"\n",
    "print(text.title()) \n"
   ]
  },
  {
   "cell_type": "code",
   "execution_count": 13,
   "id": "7914ffce-a41e-4306-9735-f96e1c613b84",
   "metadata": {},
   "outputs": [
    {
     "name": "stdout",
     "output_type": "stream",
     "text": [
      "Hello\n"
     ]
    }
   ],
   "source": [
    "table = str.maketrans(\"h\", \"H\")\n",
    "text = \"hello\"\n",
    "print(text.translate(table))  \n"
   ]
  },
  {
   "cell_type": "code",
   "execution_count": 14,
   "id": "d43f27fb-73ba-4d0d-a4f9-7a8ac45f3011",
   "metadata": {},
   "outputs": [
    {
     "name": "stdout",
     "output_type": "stream",
     "text": [
      "00042\n"
     ]
    }
   ],
   "source": [
    "text = \"42\"\n",
    "print(text.zfill(5))  \n"
   ]
  },
  {
   "cell_type": "code",
   "execution_count": 15,
   "id": "4ebe226d-e692-4cda-8079-2d68b2d6fcd2",
   "metadata": {},
   "outputs": [
    {
     "name": "stdout",
     "output_type": "stream",
     "text": [
      "h2ll4\n"
     ]
    }
   ],
   "source": [
    "table = str.maketrans(\"aeiou\", \"12345\")\n",
    "text = \"hello\"\n",
    "print(text.translate(table))  \n"
   ]
  },
  {
   "cell_type": "code",
   "execution_count": null,
   "id": "07c74ec9-2119-4735-807f-52698c9984d1",
   "metadata": {},
   "outputs": [],
   "source": [
    "#LIST"
   ]
  },
  {
   "cell_type": "code",
   "execution_count": null,
   "id": "336aff43-bdc2-4857-beea-42174446f6b7",
   "metadata": {
    "collapsed": true,
    "jupyter": {
     "outputs_hidden": true
    }
   },
   "outputs": [
    {
     "name": "stdout",
     "output_type": "stream",
     "text": [
      "Welcome to Python 3.13's help utility! If this is your first time using\n",
      "Python, you should definitely check out the tutorial at\n",
      "https://docs.python.org/3.13/tutorial/.\n",
      "\n",
      "Enter the name of any module, keyword, or topic to get help on writing\n",
      "Python programs and using Python modules.  To get a list of available\n",
      "modules, keywords, symbols, or topics, enter \"modules\", \"keywords\",\n",
      "\"symbols\", or \"topics\".\n",
      "\n",
      "Each module also comes with a one-line summary of what it does; to list\n",
      "the modules whose name or summary contain a given string such as \"spam\",\n",
      "enter \"modules spam\".\n",
      "\n",
      "To quit this help utility and return to the interpreter,\n",
      "enter \"q\", \"quit\" or \"exit\".\n",
      "\n"
     ]
    },
    {
     "name": "stdin",
     "output_type": "stream",
     "text": [
      "help>  list\n"
     ]
    },
    {
     "name": "stdout",
     "output_type": "stream",
     "text": [
      "Help on class list in module builtins:\n",
      "\n",
      "class list(object)\n",
      " |  list(iterable=(), /)\n",
      " |\n",
      " |  Built-in mutable sequence.\n",
      " |\n",
      " |  If no argument is given, the constructor creates a new empty list.\n",
      " |  The argument must be an iterable if specified.\n",
      " |\n",
      " |  Methods defined here:\n",
      " |\n",
      " |  __add__(self, value, /)\n",
      " |      Return self+value.\n",
      " |\n",
      " |  __contains__(self, key, /)\n",
      " |      Return bool(key in self).\n",
      " |\n",
      " |  __delitem__(self, key, /)\n",
      " |      Delete self[key].\n",
      " |\n",
      " |  __eq__(self, value, /)\n",
      " |      Return self==value.\n",
      " |\n",
      " |  __ge__(self, value, /)\n",
      " |      Return self>=value.\n",
      " |\n",
      " |  __getattribute__(self, name, /)\n",
      " |      Return getattr(self, name).\n",
      " |\n",
      " |  __getitem__(self, index, /)\n",
      " |      Return self[index].\n",
      " |\n",
      " |  __gt__(self, value, /)\n",
      " |      Return self>value.\n",
      " |\n",
      " |  __iadd__(self, value, /)\n",
      " |      Implement self+=value.\n",
      " |\n",
      " |  __imul__(self, value, /)\n",
      " |      Implement self*=value.\n",
      " |\n",
      " |  __init__(self, /, *args, **kwargs)\n",
      " |      Initialize self.  See help(type(self)) for accurate signature.\n",
      " |\n",
      " |  __iter__(self, /)\n",
      " |      Implement iter(self).\n",
      " |\n",
      " |  __le__(self, value, /)\n",
      " |      Return self<=value.\n",
      " |\n",
      " |  __len__(self, /)\n",
      " |      Return len(self).\n",
      " |\n",
      " |  __lt__(self, value, /)\n",
      " |      Return self<value.\n",
      " |\n",
      " |  __mul__(self, value, /)\n",
      " |      Return self*value.\n",
      " |\n",
      " |  __ne__(self, value, /)\n",
      " |      Return self!=value.\n",
      " |\n",
      " |  __repr__(self, /)\n",
      " |      Return repr(self).\n",
      " |\n",
      " |  __reversed__(self, /)\n",
      " |      Return a reverse iterator over the list.\n",
      " |\n",
      " |  __rmul__(self, value, /)\n",
      " |      Return value*self.\n",
      " |\n",
      " |  __setitem__(self, key, value, /)\n",
      " |      Set self[key] to value.\n",
      " |\n",
      " |  __sizeof__(self, /)\n",
      " |      Return the size of the list in memory, in bytes.\n",
      " |\n",
      " |  append(self, object, /)\n",
      " |      Append object to the end of the list.\n",
      " |\n",
      " |  clear(self, /)\n",
      " |      Remove all items from list.\n",
      " |\n",
      " |  copy(self, /)\n",
      " |      Return a shallow copy of the list.\n",
      " |\n",
      " |  count(self, value, /)\n",
      " |      Return number of occurrences of value.\n",
      " |\n",
      " |  extend(self, iterable, /)\n",
      " |      Extend list by appending elements from the iterable.\n",
      " |\n",
      " |  index(self, value, start=0, stop=9223372036854775807, /)\n",
      " |      Return first index of value.\n",
      " |\n",
      " |      Raises ValueError if the value is not present.\n",
      " |\n",
      " |  insert(self, index, object, /)\n",
      " |      Insert object before index.\n",
      " |\n",
      " |  pop(self, index=-1, /)\n",
      " |      Remove and return item at index (default last).\n",
      " |\n",
      " |      Raises IndexError if list is empty or index is out of range.\n",
      " |\n",
      " |  remove(self, value, /)\n",
      " |      Remove first occurrence of value.\n",
      " |\n",
      " |      Raises ValueError if the value is not present.\n",
      " |\n",
      " |  reverse(self, /)\n",
      " |      Reverse *IN PLACE*.\n",
      " |\n",
      " |  sort(self, /, *, key=None, reverse=False)\n",
      " |      Sort the list in ascending order and return None.\n",
      " |\n",
      " |      The sort is in-place (i.e. the list itself is modified) and stable (i.e. the\n",
      " |      order of two equal elements is maintained).\n",
      " |\n",
      " |      If a key function is given, apply it once to each list item and sort them,\n",
      " |      ascending or descending, according to their function values.\n",
      " |\n",
      " |      The reverse flag can be set to sort in descending order.\n",
      " |\n",
      " |  ----------------------------------------------------------------------\n",
      " |  Class methods defined here:\n",
      " |\n",
      " |  __class_getitem__(object, /)\n",
      " |      See PEP 585\n",
      " |\n",
      " |  ----------------------------------------------------------------------\n",
      " |  Static methods defined here:\n",
      " |\n",
      " |  __new__(*args, **kwargs)\n",
      " |      Create and return a new object.  See help(type) for accurate signature.\n",
      " |\n",
      " |  ----------------------------------------------------------------------\n",
      " |  Data and other attributes defined here:\n",
      " |\n",
      " |  __hash__ = None\n",
      "\n"
     ]
    }
   ],
   "source": [
    "help()"
   ]
  },
  {
   "cell_type": "code",
   "execution_count": 1,
   "id": "d040871a-c395-4f10-819f-54bb56cb258e",
   "metadata": {},
   "outputs": [
    {
     "name": "stdout",
     "output_type": "stream",
     "text": [
      "[1, 2, 3, 4, 5, 6]\n"
     ]
    }
   ],
   "source": [
    "list1 = [1, 2, 3]\n",
    "list2 = [4, 5, 6]\n",
    "print(list1 + list2)  \n"
   ]
  },
  {
   "cell_type": "code",
   "execution_count": 2,
   "id": "c7ca31a5-7f46-4f09-8134-f2a1ce2195fa",
   "metadata": {},
   "outputs": [
    {
     "name": "stdout",
     "output_type": "stream",
     "text": [
      "True\n"
     ]
    }
   ],
   "source": [
    "nums = [1, 2, 3]\n",
    "print(2 in nums)  \n"
   ]
  },
  {
   "cell_type": "code",
   "execution_count": 3,
   "id": "3f8ac721-7bc3-467f-9125-52860b40bd28",
   "metadata": {},
   "outputs": [
    {
     "name": "stdout",
     "output_type": "stream",
     "text": [
      "[1, 3]\n"
     ]
    }
   ],
   "source": [
    "nums = [1, 2, 3]\n",
    "del nums[1]\n",
    "print(nums) \n"
   ]
  },
  {
   "cell_type": "code",
   "execution_count": 4,
   "id": "a68233b6-8d7d-40c2-a80e-7502d91faed7",
   "metadata": {},
   "outputs": [
    {
     "name": "stdout",
     "output_type": "stream",
     "text": [
      "True\n"
     ]
    }
   ],
   "source": [
    "list1 = [1, 2, 3]\n",
    "list2 = [1, 2, 3]\n",
    "print(list1 == list2)  \n"
   ]
  },
  {
   "cell_type": "code",
   "execution_count": 5,
   "id": "dbf9bf57-c288-4224-903f-28e851b6705f",
   "metadata": {},
   "outputs": [
    {
     "name": "stdout",
     "output_type": "stream",
     "text": [
      "True\n"
     ]
    }
   ],
   "source": [
    "list1 = [1, 2, 3]\n",
    "list2 = [1, 2]\n",
    "print(list1 >= list2)  \n"
   ]
  },
  {
   "cell_type": "code",
   "execution_count": 6,
   "id": "1d8a4f12-d0e6-4aa3-8594-8dac024bb9bb",
   "metadata": {},
   "outputs": [
    {
     "name": "stdout",
     "output_type": "stream",
     "text": [
      "<built-in method append of list object at 0x000002C7C1551AC0>\n"
     ]
    }
   ],
   "source": [
    "nums = [1, 2, 3]\n",
    "print(nums.__getattribute__(\"append\"))  \n"
   ]
  },
  {
   "cell_type": "code",
   "execution_count": 7,
   "id": "33337a1f-5d3f-40cb-8109-0da92fc967bb",
   "metadata": {},
   "outputs": [
    {
     "name": "stdout",
     "output_type": "stream",
     "text": [
      "2\n"
     ]
    }
   ],
   "source": [
    "nums = [1, 2, 3]\n",
    "print(nums[1])  \n"
   ]
  },
  {
   "cell_type": "code",
   "execution_count": 8,
   "id": "8123e9b7-a0d5-4d2b-91e4-d326d2082603",
   "metadata": {},
   "outputs": [
    {
     "name": "stdout",
     "output_type": "stream",
     "text": [
      "True\n"
     ]
    }
   ],
   "source": [
    "list1 = [1, 2, 3]\n",
    "list2 = [1, 2]\n",
    "print(list1 > list2)  \n"
   ]
  },
  {
   "cell_type": "code",
   "execution_count": 9,
   "id": "fc303d8d-3d1b-4a23-9944-9f169da574cb",
   "metadata": {},
   "outputs": [
    {
     "name": "stdout",
     "output_type": "stream",
     "text": [
      "[1, 2, 3, 4, 5]\n"
     ]
    }
   ],
   "source": [
    "nums = [1, 2, 3]\n",
    "nums += [4, 5]\n",
    "print(nums)  \n"
   ]
  },
  {
   "cell_type": "code",
   "execution_count": 10,
   "id": "8ca305e6-e4ec-4e6c-a8b5-4d6d645c3589",
   "metadata": {},
   "outputs": [
    {
     "name": "stdout",
     "output_type": "stream",
     "text": [
      "[1, 2, 1, 2]\n"
     ]
    }
   ],
   "source": [
    "nums = [1, 2]\n",
    "nums *= 2\n",
    "print(nums)  \n"
   ]
  },
  {
   "cell_type": "code",
   "execution_count": 11,
   "id": "2126444f-efbd-4c51-882b-e4e7f6635ad9",
   "metadata": {},
   "outputs": [
    {
     "name": "stdout",
     "output_type": "stream",
     "text": [
      "1\n"
     ]
    }
   ],
   "source": [
    "nums = [1, 2, 3]\n",
    "it = iter(nums)\n",
    "print(next(it)) \n"
   ]
  },
  {
   "cell_type": "code",
   "execution_count": 12,
   "id": "bdb8e9b6-b823-4ef3-9557-fe89e2d42e68",
   "metadata": {},
   "outputs": [
    {
     "name": "stdout",
     "output_type": "stream",
     "text": [
      "True\n"
     ]
    }
   ],
   "source": [
    "list1 = [1, 2]\n",
    "list2 = [1, 2, 3]\n",
    "print(list1 <= list2)  \n"
   ]
  },
  {
   "cell_type": "code",
   "execution_count": 13,
   "id": "b2ec5636-ce58-46e4-aba5-6a27d22c2335",
   "metadata": {},
   "outputs": [
    {
     "name": "stdout",
     "output_type": "stream",
     "text": [
      "3\n"
     ]
    }
   ],
   "source": [
    "nums = [1, 2, 3]\n",
    "print(len(nums))  \n"
   ]
  },
  {
   "cell_type": "code",
   "execution_count": 14,
   "id": "02ac616e-9539-4594-b1cb-01582bee3890",
   "metadata": {},
   "outputs": [
    {
     "name": "stdout",
     "output_type": "stream",
     "text": [
      "True\n"
     ]
    }
   ],
   "source": [
    "list1 = [1, 2]\n",
    "list2 = [1, 2, 3]\n",
    "print(list1 < list2)  \n"
   ]
  },
  {
   "cell_type": "code",
   "execution_count": 15,
   "id": "898e6201-6e79-4ac3-a4f8-643a494dc0ae",
   "metadata": {},
   "outputs": [
    {
     "name": "stdout",
     "output_type": "stream",
     "text": [
      "[1, 2, 1, 2, 1, 2]\n"
     ]
    }
   ],
   "source": [
    "nums = [1, 2]\n",
    "print(nums * 3)  \n"
   ]
  },
  {
   "cell_type": "code",
   "execution_count": 16,
   "id": "bf014d4c-7cbd-4ce7-8031-664b859a281e",
   "metadata": {},
   "outputs": [
    {
     "name": "stdout",
     "output_type": "stream",
     "text": [
      "True\n"
     ]
    }
   ],
   "source": [
    "list1 = [1, 2, 3]\n",
    "list2 = [4, 5, 6]\n",
    "print(list1 != list2)  \n"
   ]
  },
  {
   "cell_type": "code",
   "execution_count": 17,
   "id": "ac10710b-9a81-4d41-8be0-c3ddabb4eb6a",
   "metadata": {},
   "outputs": [
    {
     "name": "stdout",
     "output_type": "stream",
     "text": [
      "[1, 2, 3]\n"
     ]
    }
   ],
   "source": [
    "nums = [1, 2, 3]\n",
    "print(repr(nums))  \n"
   ]
  },
  {
   "cell_type": "code",
   "execution_count": 18,
   "id": "f4e54e65-a657-40d8-a0c3-03f0c094200b",
   "metadata": {},
   "outputs": [
    {
     "name": "stdout",
     "output_type": "stream",
     "text": [
      "[3, 2, 1]\n"
     ]
    }
   ],
   "source": [
    "nums = [1, 2, 3]\n",
    "print(list(reversed(nums)))  \n"
   ]
  },
  {
   "cell_type": "code",
   "execution_count": 19,
   "id": "eda03417-aa15-48b3-9933-2f57047ffa64",
   "metadata": {},
   "outputs": [
    {
     "name": "stdout",
     "output_type": "stream",
     "text": [
      "[1, 2, 1, 2, 1, 2]\n"
     ]
    }
   ],
   "source": [
    "nums = [1, 2]\n",
    "print(3 * nums)  "
   ]
  },
  {
   "cell_type": "code",
   "execution_count": 20,
   "id": "410e8b2f-ba26-40a2-8784-f21c7243475f",
   "metadata": {},
   "outputs": [
    {
     "name": "stdout",
     "output_type": "stream",
     "text": [
      "[1, 5, 3]\n"
     ]
    }
   ],
   "source": [
    "nums = [1, 2, 3]\n",
    "nums[1] = 5\n",
    "print(nums)  \n"
   ]
  },
  {
   "cell_type": "code",
   "execution_count": 21,
   "id": "792eed0a-3700-4dd9-b91f-83e1a72caf99",
   "metadata": {},
   "outputs": [
    {
     "name": "stdout",
     "output_type": "stream",
     "text": [
      "72\n"
     ]
    }
   ],
   "source": [
    "nums = [1, 2, 3]\n",
    "print(nums.__sizeof__())  \n"
   ]
  },
  {
   "cell_type": "code",
   "execution_count": 22,
   "id": "baced62b-9504-4623-9e29-dc4db05c9aaa",
   "metadata": {},
   "outputs": [
    {
     "name": "stdout",
     "output_type": "stream",
     "text": [
      "[1, 2, 3]\n"
     ]
    }
   ],
   "source": [
    "nums = [1, 2]\n",
    "nums.append(3)\n",
    "print(nums)  \n"
   ]
  },
  {
   "cell_type": "code",
   "execution_count": 23,
   "id": "13fd2730-13b3-4d32-86a5-0a019ca5829e",
   "metadata": {},
   "outputs": [
    {
     "name": "stdout",
     "output_type": "stream",
     "text": [
      "[]\n"
     ]
    }
   ],
   "source": [
    "nums = [1, 2, 3]\n",
    "nums.clear()\n",
    "print(nums)  \n"
   ]
  },
  {
   "cell_type": "code",
   "execution_count": 24,
   "id": "b9fd6686-e876-4ab7-a756-e2e1f8571586",
   "metadata": {},
   "outputs": [
    {
     "name": "stdout",
     "output_type": "stream",
     "text": [
      "[1, 2, 3]\n"
     ]
    }
   ],
   "source": [
    "nums = [1, 2, 3]\n",
    "nums_copy = nums.copy()\n",
    "print(nums_copy)  \n"
   ]
  },
  {
   "cell_type": "code",
   "execution_count": 25,
   "id": "d84b7a26-e78f-42ef-aa6d-04d6e2a0215f",
   "metadata": {},
   "outputs": [
    {
     "name": "stdout",
     "output_type": "stream",
     "text": [
      "2\n"
     ]
    }
   ],
   "source": [
    "nums = [1, 2, 2, 3]\n",
    "print(nums.count(2)) \n"
   ]
  },
  {
   "cell_type": "code",
   "execution_count": 26,
   "id": "5316d4d3-5357-47e5-8ea0-8c106a44388f",
   "metadata": {},
   "outputs": [
    {
     "name": "stdout",
     "output_type": "stream",
     "text": [
      "[1, 2, 3, 4]\n"
     ]
    }
   ],
   "source": [
    "nums = [1, 2]\n",
    "nums.extend([3, 4])\n",
    "print(nums)  \n"
   ]
  },
  {
   "cell_type": "code",
   "execution_count": 27,
   "id": "f9db70c6-8b62-4e5e-b97c-052d92d52b99",
   "metadata": {},
   "outputs": [
    {
     "name": "stdout",
     "output_type": "stream",
     "text": [
      "1\n"
     ]
    }
   ],
   "source": [
    "nums = [1, 2, 3, 2]\n",
    "print(nums.index(2))  \n"
   ]
  },
  {
   "cell_type": "code",
   "execution_count": 28,
   "id": "662b039f-e0e3-4050-90e8-bb72556f7ae5",
   "metadata": {},
   "outputs": [
    {
     "name": "stdout",
     "output_type": "stream",
     "text": [
      "[1, 2, 3]\n"
     ]
    }
   ],
   "source": [
    "nums = [1, 3]\n",
    "nums.insert(1, 2)\n",
    "print(nums)  \n"
   ]
  },
  {
   "cell_type": "code",
   "execution_count": 29,
   "id": "b233b739-51a3-4236-948a-6abe5e66cc58",
   "metadata": {},
   "outputs": [
    {
     "name": "stdout",
     "output_type": "stream",
     "text": [
      "3\n"
     ]
    }
   ],
   "source": [
    "nums = [1, 2, 3]\n",
    "print(nums.pop()) \n"
   ]
  },
  {
   "cell_type": "code",
   "execution_count": 30,
   "id": "a62d06aa-9df4-4536-b85e-802e2f52faa1",
   "metadata": {},
   "outputs": [
    {
     "name": "stdout",
     "output_type": "stream",
     "text": [
      "[1, 3]\n"
     ]
    }
   ],
   "source": [
    "nums = [1, 2, 3]\n",
    "nums.remove(2)\n",
    "print(nums)  \n"
   ]
  },
  {
   "cell_type": "code",
   "execution_count": 31,
   "id": "b0c6f002-d132-49ff-a250-b93fca73ae87",
   "metadata": {},
   "outputs": [
    {
     "name": "stdout",
     "output_type": "stream",
     "text": [
      "[3, 2, 1]\n"
     ]
    }
   ],
   "source": [
    "nums = [1, 2, 3]\n",
    "nums.reverse()\n",
    "print(nums)  \n"
   ]
  },
  {
   "cell_type": "code",
   "execution_count": 32,
   "id": "b49170ec-9ade-4547-aab3-ba2fd31621d0",
   "metadata": {},
   "outputs": [
    {
     "name": "stdout",
     "output_type": "stream",
     "text": [
      "[1, 2, 3]\n"
     ]
    }
   ],
   "source": [
    "nums = [3, 1, 2]\n",
    "nums.sort()\n",
    "print(nums)  \n"
   ]
  },
  {
   "cell_type": "code",
   "execution_count": null,
   "id": "a7e6db8f-92b6-422d-88ad-b25e3d1b93df",
   "metadata": {},
   "outputs": [],
   "source": [
    "#TUPLE\n"
   ]
  },
  {
   "cell_type": "code",
   "execution_count": null,
   "id": "c06c3016-ea4d-4f41-9026-a3b56bae869a",
   "metadata": {
    "collapsed": true,
    "jupyter": {
     "outputs_hidden": true
    }
   },
   "outputs": [
    {
     "name": "stdout",
     "output_type": "stream",
     "text": [
      "Welcome to Python 3.13's help utility! If this is your first time using\n",
      "Python, you should definitely check out the tutorial at\n",
      "https://docs.python.org/3.13/tutorial/.\n",
      "\n",
      "Enter the name of any module, keyword, or topic to get help on writing\n",
      "Python programs and using Python modules.  To get a list of available\n",
      "modules, keywords, symbols, or topics, enter \"modules\", \"keywords\",\n",
      "\"symbols\", or \"topics\".\n",
      "\n",
      "Each module also comes with a one-line summary of what it does; to list\n",
      "the modules whose name or summary contain a given string such as \"spam\",\n",
      "enter \"modules spam\".\n",
      "\n",
      "To quit this help utility and return to the interpreter,\n",
      "enter \"q\", \"quit\" or \"exit\".\n",
      "\n"
     ]
    },
    {
     "name": "stdin",
     "output_type": "stream",
     "text": [
      "help>  tuple\n"
     ]
    },
    {
     "name": "stdout",
     "output_type": "stream",
     "text": [
      "Help on class tuple in module builtins:\n",
      "\n",
      "class tuple(object)\n",
      " |  tuple(iterable=(), /)\n",
      " |\n",
      " |  Built-in immutable sequence.\n",
      " |\n",
      " |  If no argument is given, the constructor returns an empty tuple.\n",
      " |  If iterable is specified the tuple is initialized from iterable's items.\n",
      " |\n",
      " |  If the argument is a tuple, the return value is the same object.\n",
      " |\n",
      " |  Built-in subclasses:\n",
      " |      asyncgen_hooks\n",
      " |      UnraisableHookArgs\n",
      " |\n",
      " |  Methods defined here:\n",
      " |\n",
      " |  __add__(self, value, /)\n",
      " |      Return self+value.\n",
      " |\n",
      " |  __contains__(self, key, /)\n",
      " |      Return bool(key in self).\n",
      " |\n",
      " |  __eq__(self, value, /)\n",
      " |      Return self==value.\n",
      " |\n",
      " |  __ge__(self, value, /)\n",
      " |      Return self>=value.\n",
      " |\n",
      " |  __getattribute__(self, name, /)\n",
      " |      Return getattr(self, name).\n",
      " |\n",
      " |  __getitem__(self, key, /)\n",
      " |      Return self[key].\n",
      " |\n",
      " |  __getnewargs__(self, /)\n",
      " |\n",
      " |  __gt__(self, value, /)\n",
      " |      Return self>value.\n",
      " |\n",
      " |  __hash__(self, /)\n",
      " |      Return hash(self).\n",
      " |\n",
      " |  __iter__(self, /)\n",
      " |      Implement iter(self).\n",
      " |\n",
      " |  __le__(self, value, /)\n",
      " |      Return self<=value.\n",
      " |\n",
      " |  __len__(self, /)\n",
      " |      Return len(self).\n",
      " |\n",
      " |  __lt__(self, value, /)\n",
      " |      Return self<value.\n",
      " |\n",
      " |  __mul__(self, value, /)\n",
      " |      Return self*value.\n",
      " |\n",
      " |  __ne__(self, value, /)\n",
      " |      Return self!=value.\n",
      " |\n",
      " |  __repr__(self, /)\n",
      " |      Return repr(self).\n",
      " |\n",
      " |  __rmul__(self, value, /)\n",
      " |      Return value*self.\n",
      " |\n",
      " |  count(self, value, /)\n",
      " |      Return number of occurrences of value.\n",
      " |\n",
      " |  index(self, value, start=0, stop=9223372036854775807, /)\n",
      " |      Return first index of value.\n",
      " |\n",
      " |      Raises ValueError if the value is not present.\n",
      " |\n",
      " |  ----------------------------------------------------------------------\n",
      " |  Class methods defined here:\n",
      " |\n",
      " |  __class_getitem__(object, /)\n",
      " |      See PEP 585\n",
      " |\n",
      " |  ----------------------------------------------------------------------\n",
      " |  Static methods defined here:\n",
      " |\n",
      " |  __new__(*args, **kwargs)\n",
      " |      Create and return a new object.  See help(type) for accurate signature.\n",
      "\n"
     ]
    }
   ],
   "source": [
    "help()"
   ]
  },
  {
   "cell_type": "code",
   "execution_count": 1,
   "id": "47dfd117-3699-4cd6-ac3f-97c9f04698bd",
   "metadata": {},
   "outputs": [
    {
     "data": {
      "text/plain": [
       "(1, 2, 3, 4, 5, 6)"
      ]
     },
     "execution_count": 1,
     "metadata": {},
     "output_type": "execute_result"
    }
   ],
   "source": [
    "t1 = (1, 2, 3)\n",
    "t2 = (4, 5, 6)\n",
    "t1.__add__(t2)"
   ]
  },
  {
   "cell_type": "code",
   "execution_count": 2,
   "id": "fc56afbc-3d37-45d7-8ee4-a8beffbcc51e",
   "metadata": {},
   "outputs": [
    {
     "data": {
      "text/plain": [
       "(1, 2, 3, 1, 2, 3)"
      ]
     },
     "execution_count": 2,
     "metadata": {},
     "output_type": "execute_result"
    }
   ],
   "source": [
    "t1.__mul__(2)"
   ]
  },
  {
   "cell_type": "code",
   "execution_count": 3,
   "id": "99401116-684f-4e56-bb82-e93b0949d0f3",
   "metadata": {},
   "outputs": [
    {
     "data": {
      "text/plain": [
       "(1, 2, 3, 1, 2, 3)"
      ]
     },
     "execution_count": 3,
     "metadata": {},
     "output_type": "execute_result"
    }
   ],
   "source": [
    "t1.__rmul__(2)"
   ]
  },
  {
   "cell_type": "code",
   "execution_count": 4,
   "id": "08825a6f-088e-4d18-b7b4-841937bab440",
   "metadata": {},
   "outputs": [
    {
     "data": {
      "text/plain": [
       "True"
      ]
     },
     "execution_count": 4,
     "metadata": {},
     "output_type": "execute_result"
    }
   ],
   "source": [
    "t1.__contains__(2)"
   ]
  },
  {
   "cell_type": "code",
   "execution_count": 5,
   "id": "cd2c2b24-92c6-4a15-8837-8bc8aba6b46b",
   "metadata": {},
   "outputs": [
    {
     "data": {
      "text/plain": [
       "False"
      ]
     },
     "execution_count": 5,
     "metadata": {},
     "output_type": "execute_result"
    }
   ],
   "source": [
    "t1.__eq__(t2)"
   ]
  },
  {
   "cell_type": "code",
   "execution_count": 6,
   "id": "b9e6051b-dbac-4472-8db1-10c06d9b9ac1",
   "metadata": {},
   "outputs": [
    {
     "data": {
      "text/plain": [
       "True"
      ]
     },
     "execution_count": 6,
     "metadata": {},
     "output_type": "execute_result"
    }
   ],
   "source": [
    "t1.__ne__(t2) "
   ]
  },
  {
   "cell_type": "code",
   "execution_count": 7,
   "id": "a87ae8bd-4ec0-415f-91c0-0abd7b95048a",
   "metadata": {},
   "outputs": [
    {
     "data": {
      "text/plain": [
       "False"
      ]
     },
     "execution_count": 7,
     "metadata": {},
     "output_type": "execute_result"
    }
   ],
   "source": [
    "t1.__gt__(t2)"
   ]
  },
  {
   "cell_type": "code",
   "execution_count": 8,
   "id": "80a6ee62-e70f-4b68-9aa9-44c1ca8fcb1e",
   "metadata": {},
   "outputs": [
    {
     "data": {
      "text/plain": [
       "True"
      ]
     },
     "execution_count": 8,
     "metadata": {},
     "output_type": "execute_result"
    }
   ],
   "source": [
    "t1.__lt__(t2)"
   ]
  },
  {
   "cell_type": "code",
   "execution_count": 9,
   "id": "3d1c71f0-abe5-4251-bc3c-a38ad3dd4983",
   "metadata": {},
   "outputs": [
    {
     "data": {
      "text/plain": [
       "False"
      ]
     },
     "execution_count": 9,
     "metadata": {},
     "output_type": "execute_result"
    }
   ],
   "source": [
    "t1.__ge__(t2)"
   ]
  },
  {
   "cell_type": "code",
   "execution_count": 10,
   "id": "5a08e0d6-8508-49f8-92b0-ea37ff1f8c80",
   "metadata": {},
   "outputs": [
    {
     "data": {
      "text/plain": [
       "True"
      ]
     },
     "execution_count": 10,
     "metadata": {},
     "output_type": "execute_result"
    }
   ],
   "source": [
    "t1.__le__(t2)"
   ]
  },
  {
   "cell_type": "code",
   "execution_count": 11,
   "id": "41126a7c-7b33-4051-b7b3-f0f62a265466",
   "metadata": {},
   "outputs": [
    {
     "data": {
      "text/plain": [
       "<method-wrapper '__len__' of tuple object at 0x00000163156C2440>"
      ]
     },
     "execution_count": 11,
     "metadata": {},
     "output_type": "execute_result"
    }
   ],
   "source": [
    "t1.__getattribute__('__len__')"
   ]
  },
  {
   "cell_type": "code",
   "execution_count": 12,
   "id": "20f8441b-928c-4b2f-9203-d62a1e135649",
   "metadata": {},
   "outputs": [
    {
     "data": {
      "text/plain": [
       "2"
      ]
     },
     "execution_count": 12,
     "metadata": {},
     "output_type": "execute_result"
    }
   ],
   "source": [
    "t1.__getitem__(1) "
   ]
  },
  {
   "cell_type": "code",
   "execution_count": 13,
   "id": "ba8e01bc-3af8-4626-a553-981c58880ee8",
   "metadata": {},
   "outputs": [
    {
     "data": {
      "text/plain": [
       "((1, 2, 3),)"
      ]
     },
     "execution_count": 13,
     "metadata": {},
     "output_type": "execute_result"
    }
   ],
   "source": [
    "t1.__getnewargs__()"
   ]
  },
  {
   "cell_type": "code",
   "execution_count": 14,
   "id": "f01a7216-5102-47a1-826c-2741f7cc044b",
   "metadata": {},
   "outputs": [
    {
     "data": {
      "text/plain": [
       "529344067295497451"
      ]
     },
     "execution_count": 14,
     "metadata": {},
     "output_type": "execute_result"
    }
   ],
   "source": [
    "t1.__hash__() "
   ]
  },
  {
   "cell_type": "code",
   "execution_count": 15,
   "id": "783a9025-2d5c-45ee-b630-6155002df09c",
   "metadata": {},
   "outputs": [
    {
     "name": "stdout",
     "output_type": "stream",
     "text": [
      "1\n",
      "2\n",
      "3\n"
     ]
    }
   ],
   "source": [
    "iterator = t1.__iter__()\n",
    "for i in iterator:\n",
    "    print(i)"
   ]
  },
  {
   "cell_type": "code",
   "execution_count": 16,
   "id": "715df1e5-fd61-40ed-b7a6-8fb41c80dd4e",
   "metadata": {},
   "outputs": [
    {
     "data": {
      "text/plain": [
       "3"
      ]
     },
     "execution_count": 16,
     "metadata": {},
     "output_type": "execute_result"
    }
   ],
   "source": [
    "t1.__len__() "
   ]
  },
  {
   "cell_type": "code",
   "execution_count": 17,
   "id": "943c6111-2392-48bc-b9fe-cff857161b85",
   "metadata": {},
   "outputs": [
    {
     "data": {
      "text/plain": [
       "'(1, 2, 3)'"
      ]
     },
     "execution_count": 17,
     "metadata": {},
     "output_type": "execute_result"
    }
   ],
   "source": [
    "t1.__repr__()"
   ]
  },
  {
   "cell_type": "code",
   "execution_count": 18,
   "id": "43bfe040-fdc3-4c5b-9c5e-76ea6a7e909b",
   "metadata": {},
   "outputs": [
    {
     "data": {
      "text/plain": [
       "1"
      ]
     },
     "execution_count": 18,
     "metadata": {},
     "output_type": "execute_result"
    }
   ],
   "source": [
    "t1.count(2) "
   ]
  },
  {
   "cell_type": "code",
   "execution_count": 19,
   "id": "588ee15a-51e9-4340-a62e-fc743765e644",
   "metadata": {},
   "outputs": [
    {
     "data": {
      "text/plain": [
       "1"
      ]
     },
     "execution_count": 19,
     "metadata": {},
     "output_type": "execute_result"
    }
   ],
   "source": [
    "t1.index(2) "
   ]
  },
  {
   "cell_type": "code",
   "execution_count": 20,
   "id": "b3950f9c-e99f-4bdf-8dc1-608662476980",
   "metadata": {},
   "outputs": [
    {
     "data": {
      "text/plain": [
       "tuple[int]"
      ]
     },
     "execution_count": 20,
     "metadata": {},
     "output_type": "execute_result"
    }
   ],
   "source": [
    "t1.__class_getitem__(int)"
   ]
  },
  {
   "cell_type": "code",
   "execution_count": 21,
   "id": "99101ca5-f41f-4ed8-8b6e-65c6d702947a",
   "metadata": {},
   "outputs": [
    {
     "data": {
      "text/plain": [
       "(1, 2, 3)"
      ]
     },
     "execution_count": 21,
     "metadata": {},
     "output_type": "execute_result"
    }
   ],
   "source": [
    "t1.__new__(tuple, [1, 2, 3])"
   ]
  },
  {
   "cell_type": "code",
   "execution_count": null,
   "id": "0acdb7cb-8e36-426b-8328-28cdd9812398",
   "metadata": {},
   "outputs": [],
   "source": [
    "#SET\n"
   ]
  },
  {
   "cell_type": "code",
   "execution_count": null,
   "id": "61f48560-6530-4588-a19e-32042d8a8dae",
   "metadata": {
    "collapsed": true,
    "jupyter": {
     "outputs_hidden": true
    }
   },
   "outputs": [
    {
     "name": "stdout",
     "output_type": "stream",
     "text": [
      "Welcome to Python 3.13's help utility! If this is your first time using\n",
      "Python, you should definitely check out the tutorial at\n",
      "https://docs.python.org/3.13/tutorial/.\n",
      "\n",
      "Enter the name of any module, keyword, or topic to get help on writing\n",
      "Python programs and using Python modules.  To get a list of available\n",
      "modules, keywords, symbols, or topics, enter \"modules\", \"keywords\",\n",
      "\"symbols\", or \"topics\".\n",
      "\n",
      "Each module also comes with a one-line summary of what it does; to list\n",
      "the modules whose name or summary contain a given string such as \"spam\",\n",
      "enter \"modules spam\".\n",
      "\n",
      "To quit this help utility and return to the interpreter,\n",
      "enter \"q\", \"quit\" or \"exit\".\n",
      "\n"
     ]
    },
    {
     "name": "stdin",
     "output_type": "stream",
     "text": [
      "help>  set\n"
     ]
    },
    {
     "name": "stdout",
     "output_type": "stream",
     "text": [
      "Help on class set in module builtins:\n",
      "\n",
      "class set(object)\n",
      " |  set(iterable=(), /)\n",
      " |\n",
      " |  Build an unordered collection of unique elements.\n",
      " |\n",
      " |  Methods defined here:\n",
      " |\n",
      " |  __and__(self, value, /)\n",
      " |      Return self&value.\n",
      " |\n",
      " |  __contains__(self, object, /)\n",
      " |      x.__contains__(y) <==> y in x.\n",
      " |\n",
      " |  __eq__(self, value, /)\n",
      " |      Return self==value.\n",
      " |\n",
      " |  __ge__(self, value, /)\n",
      " |      Return self>=value.\n",
      " |\n",
      " |  __getattribute__(self, name, /)\n",
      " |      Return getattr(self, name).\n",
      " |\n",
      " |  __gt__(self, value, /)\n",
      " |      Return self>value.\n",
      " |\n",
      " |  __iand__(self, value, /)\n",
      " |      Return self&=value.\n",
      " |\n",
      " |  __init__(self, /, *args, **kwargs)\n",
      " |      Initialize self.  See help(type(self)) for accurate signature.\n",
      " |\n",
      " |  __ior__(self, value, /)\n",
      " |      Return self|=value.\n",
      " |\n",
      " |  __isub__(self, value, /)\n",
      " |      Return self-=value.\n",
      " |\n",
      " |  __iter__(self, /)\n",
      " |      Implement iter(self).\n",
      " |\n",
      " |  __ixor__(self, value, /)\n",
      " |      Return self^=value.\n",
      " |\n",
      " |  __le__(self, value, /)\n",
      " |      Return self<=value.\n",
      " |\n",
      " |  __len__(self, /)\n",
      " |      Return len(self).\n",
      " |\n",
      " |  __lt__(self, value, /)\n",
      " |      Return self<value.\n",
      " |\n",
      " |  __ne__(self, value, /)\n",
      " |      Return self!=value.\n",
      " |\n",
      " |  __or__(self, value, /)\n",
      " |      Return self|value.\n",
      " |\n",
      " |  __rand__(self, value, /)\n",
      " |      Return value&self.\n",
      " |\n",
      " |  __reduce__(self, /)\n",
      " |      Return state information for pickling.\n",
      " |\n",
      " |  __repr__(self, /)\n",
      " |      Return repr(self).\n",
      " |\n",
      " |  __ror__(self, value, /)\n",
      " |      Return value|self.\n",
      " |\n",
      " |  __rsub__(self, value, /)\n",
      " |      Return value-self.\n",
      " |\n",
      " |  __rxor__(self, value, /)\n",
      " |      Return value^self.\n",
      " |\n",
      " |  __sizeof__(self, /)\n",
      " |      S.__sizeof__() -> size of S in memory, in bytes.\n",
      " |\n",
      " |  __sub__(self, value, /)\n",
      " |      Return self-value.\n",
      " |\n",
      " |  __xor__(self, value, /)\n",
      " |      Return self^value.\n",
      " |\n",
      " |  add(self, object, /)\n",
      " |      Add an element to a set.\n",
      " |\n",
      " |      This has no effect if the element is already present.\n",
      " |\n",
      " |  clear(self, /)\n",
      " |      Remove all elements from this set.\n",
      " |\n",
      " |  copy(self, /)\n",
      " |      Return a shallow copy of a set.\n",
      " |\n",
      " |  difference(self, /, *others)\n",
      " |      Return a new set with elements in the set that are not in the others.\n",
      " |\n",
      " |  difference_update(self, /, *others)\n",
      " |      Update the set, removing elements found in others.\n",
      " |\n",
      " |  discard(self, object, /)\n",
      " |      Remove an element from a set if it is a member.\n",
      " |\n",
      " |      Unlike set.remove(), the discard() method does not raise\n",
      " |      an exception when an element is missing from the set.\n",
      " |\n",
      " |  intersection(self, /, *others)\n",
      " |      Return a new set with elements common to the set and all others.\n",
      " |\n",
      " |  intersection_update(self, /, *others)\n",
      " |      Update the set, keeping only elements found in it and all others.\n",
      " |\n",
      " |  isdisjoint(self, other, /)\n",
      " |      Return True if two sets have a null intersection.\n",
      " |\n",
      " |  issubset(self, other, /)\n",
      " |      Report whether another set contains this set.\n",
      " |\n",
      " |  issuperset(self, other, /)\n",
      " |      Report whether this set contains another set.\n",
      " |\n",
      " |  pop(self, /)\n",
      " |      Remove and return an arbitrary set element.\n",
      " |\n",
      " |      Raises KeyError if the set is empty.\n",
      " |\n",
      " |  remove(self, object, /)\n",
      " |      Remove an element from a set; it must be a member.\n",
      " |\n",
      " |      If the element is not a member, raise a KeyError.\n",
      " |\n",
      " |  symmetric_difference(self, other, /)\n",
      " |      Return a new set with elements in either the set or other but not both.\n",
      " |\n",
      " |  symmetric_difference_update(self, other, /)\n",
      " |      Update the set, keeping only elements found in either set, but not in both.\n",
      " |\n",
      " |  union(self, /, *others)\n",
      " |      Return a new set with elements from the set and all others.\n",
      " |\n",
      " |  update(self, /, *others)\n",
      " |      Update the set, adding elements from all others.\n",
      " |\n",
      " |  ----------------------------------------------------------------------\n",
      " |  Class methods defined here:\n",
      " |\n",
      " |  __class_getitem__(object, /)\n",
      " |      See PEP 585\n",
      " |\n",
      " |  ----------------------------------------------------------------------\n",
      " |  Static methods defined here:\n",
      " |\n",
      " |  __new__(*args, **kwargs)\n",
      " |      Create and return a new object.  See help(type) for accurate signature.\n",
      " |\n",
      " |  ----------------------------------------------------------------------\n",
      " |  Data and other attributes defined here:\n",
      " |\n",
      " |  __hash__ = None\n",
      "\n"
     ]
    }
   ],
   "source": [
    "help()"
   ]
  },
  {
   "cell_type": "code",
   "execution_count": 2,
   "id": "5696cea8-f99c-4e5a-a0f9-cdf9c3febd48",
   "metadata": {},
   "outputs": [
    {
     "data": {
      "text/plain": [
       "{3}"
      ]
     },
     "execution_count": 2,
     "metadata": {},
     "output_type": "execute_result"
    }
   ],
   "source": [
    "s1 = {1, 2, 3}\n",
    "s2 = {3, 4, 5}\n",
    "s1.__and__(s2)"
   ]
  },
  {
   "cell_type": "code",
   "execution_count": 3,
   "id": "3963448f-2a74-4793-90b9-fbd34a093925",
   "metadata": {},
   "outputs": [
    {
     "data": {
      "text/plain": [
       "{1, 2, 3, 4, 5}"
      ]
     },
     "execution_count": 3,
     "metadata": {},
     "output_type": "execute_result"
    }
   ],
   "source": [
    "s1.__or__(s2)"
   ]
  },
  {
   "cell_type": "code",
   "execution_count": 4,
   "id": "a2a3c3a1-e398-4404-b410-7549b31b8a5f",
   "metadata": {},
   "outputs": [
    {
     "data": {
      "text/plain": [
       "{1, 2}"
      ]
     },
     "execution_count": 4,
     "metadata": {},
     "output_type": "execute_result"
    }
   ],
   "source": [
    "s1.__sub__(s2)"
   ]
  },
  {
   "cell_type": "code",
   "execution_count": 5,
   "id": "b9f30836-e10c-469e-8931-9b11f31052d0",
   "metadata": {},
   "outputs": [
    {
     "data": {
      "text/plain": [
       "{1, 2, 4, 5}"
      ]
     },
     "execution_count": 5,
     "metadata": {},
     "output_type": "execute_result"
    }
   ],
   "source": [
    "s1.__xor__(s2)"
   ]
  },
  {
   "cell_type": "code",
   "execution_count": 6,
   "id": "f9fa1d8c-fe34-4852-93a2-7f4f62cacb2b",
   "metadata": {},
   "outputs": [
    {
     "data": {
      "text/plain": [
       "True"
      ]
     },
     "execution_count": 6,
     "metadata": {},
     "output_type": "execute_result"
    }
   ],
   "source": [
    "s1.__contains__(2)"
   ]
  },
  {
   "cell_type": "code",
   "execution_count": 7,
   "id": "6a59e0f9-0f5b-4f19-b2cd-df0d370bb5a0",
   "metadata": {},
   "outputs": [
    {
     "data": {
      "text/plain": [
       "False"
      ]
     },
     "execution_count": 7,
     "metadata": {},
     "output_type": "execute_result"
    }
   ],
   "source": [
    "s1.__eq__(s2)"
   ]
  },
  {
   "cell_type": "code",
   "execution_count": 8,
   "id": "0b676202-5808-4b5e-89ea-ead9127959df",
   "metadata": {},
   "outputs": [
    {
     "data": {
      "text/plain": [
       "True"
      ]
     },
     "execution_count": 8,
     "metadata": {},
     "output_type": "execute_result"
    }
   ],
   "source": [
    "s1.__ne__(s2)"
   ]
  },
  {
   "cell_type": "code",
   "execution_count": 9,
   "id": "1d5b4b00-b8e9-41dc-9ac7-82b8afc99a21",
   "metadata": {},
   "outputs": [
    {
     "data": {
      "text/plain": [
       "False"
      ]
     },
     "execution_count": 9,
     "metadata": {},
     "output_type": "execute_result"
    }
   ],
   "source": [
    "s1.__gt__(s2)  "
   ]
  },
  {
   "cell_type": "code",
   "execution_count": 10,
   "id": "8654830f-14a2-467a-9caa-435095e25dd8",
   "metadata": {},
   "outputs": [
    {
     "data": {
      "text/plain": [
       "False"
      ]
     },
     "execution_count": 10,
     "metadata": {},
     "output_type": "execute_result"
    }
   ],
   "source": [
    "s1.__lt__(s2)"
   ]
  },
  {
   "cell_type": "code",
   "execution_count": 11,
   "id": "b2074240-8cf7-4275-87ea-e32b1521df3b",
   "metadata": {},
   "outputs": [
    {
     "data": {
      "text/plain": [
       "False"
      ]
     },
     "execution_count": 11,
     "metadata": {},
     "output_type": "execute_result"
    }
   ],
   "source": [
    "s1.__ge__(s2)"
   ]
  },
  {
   "cell_type": "code",
   "execution_count": 12,
   "id": "b9ac24de-a814-424d-8a0f-c3dba799af22",
   "metadata": {},
   "outputs": [
    {
     "data": {
      "text/plain": [
       "False"
      ]
     },
     "execution_count": 12,
     "metadata": {},
     "output_type": "execute_result"
    }
   ],
   "source": [
    "s1.__le__(s2)"
   ]
  },
  {
   "cell_type": "code",
   "execution_count": 13,
   "id": "b94893b6-0f86-4668-a475-47946efd1a22",
   "metadata": {},
   "outputs": [
    {
     "data": {
      "text/plain": [
       "<method-wrapper '__len__' of set object at 0x000002B372D74120>"
      ]
     },
     "execution_count": 13,
     "metadata": {},
     "output_type": "execute_result"
    }
   ],
   "source": [
    "s1.__getattribute__('__len__')  \n"
   ]
  },
  {
   "cell_type": "code",
   "execution_count": 14,
   "id": "27a026a5-0a57-4c0f-a077-4fc743db9b28",
   "metadata": {},
   "outputs": [
    {
     "data": {
      "text/plain": [
       "{3}"
      ]
     },
     "execution_count": 14,
     "metadata": {},
     "output_type": "execute_result"
    }
   ],
   "source": [
    "s1.__iand__(s2)"
   ]
  },
  {
   "cell_type": "code",
   "execution_count": 15,
   "id": "5edeab3b-e2f7-47d6-8db0-dfe5168967f6",
   "metadata": {},
   "outputs": [
    {
     "data": {
      "text/plain": [
       "{3, 4, 5}"
      ]
     },
     "execution_count": 15,
     "metadata": {},
     "output_type": "execute_result"
    }
   ],
   "source": [
    "s1.__ior__(s2)"
   ]
  },
  {
   "cell_type": "code",
   "execution_count": 16,
   "id": "e8ef0951-58ba-4df4-ba83-38665468c87b",
   "metadata": {},
   "outputs": [
    {
     "data": {
      "text/plain": [
       "{3, 4, 5}"
      ]
     },
     "execution_count": 16,
     "metadata": {},
     "output_type": "execute_result"
    }
   ],
   "source": [
    "s1.__ior__(s2)"
   ]
  },
  {
   "cell_type": "code",
   "execution_count": 1,
   "id": "01c1fa73-fae4-467d-af0b-145eff2624df",
   "metadata": {},
   "outputs": [
    {
     "data": {
      "text/plain": [
       "{1, 2}"
      ]
     },
     "execution_count": 1,
     "metadata": {},
     "output_type": "execute_result"
    }
   ],
   "source": [
    "s1 = {1, 2, 3}\n",
    "s2 = {3, 4, 5}\n",
    "s1.__isub__(s2)"
   ]
  },
  {
   "cell_type": "code",
   "execution_count": 2,
   "id": "063f4bd1-9b22-4585-8edd-f6b328114662",
   "metadata": {},
   "outputs": [
    {
     "data": {
      "text/plain": [
       "{1, 2, 3, 4, 5}"
      ]
     },
     "execution_count": 2,
     "metadata": {},
     "output_type": "execute_result"
    }
   ],
   "source": [
    "s1.__ixor__(s2)"
   ]
  },
  {
   "cell_type": "code",
   "execution_count": 3,
   "id": "6910dd71-0506-455d-8372-8cd801d61c69",
   "metadata": {},
   "outputs": [
    {
     "data": {
      "text/plain": [
       "False"
      ]
     },
     "execution_count": 3,
     "metadata": {},
     "output_type": "execute_result"
    }
   ],
   "source": [
    "s1.__le__(s2) "
   ]
  },
  {
   "cell_type": "code",
   "execution_count": 4,
   "id": "46715344-790a-4e8f-a8d8-d2ddfe31f902",
   "metadata": {},
   "outputs": [
    {
     "data": {
      "text/plain": [
       "False"
      ]
     },
     "execution_count": 4,
     "metadata": {},
     "output_type": "execute_result"
    }
   ],
   "source": [
    "s1.__lt__(s2) "
   ]
  },
  {
   "cell_type": "code",
   "execution_count": 5,
   "id": "15d3d04f-90ad-43ca-a723-ab5f50c1db77",
   "metadata": {},
   "outputs": [
    {
     "data": {
      "text/plain": [
       "True"
      ]
     },
     "execution_count": 5,
     "metadata": {},
     "output_type": "execute_result"
    }
   ],
   "source": [
    "s1.__ne__(s2)"
   ]
  },
  {
   "cell_type": "code",
   "execution_count": 6,
   "id": "5f021530-530f-4a60-a9f7-2d9291918fa5",
   "metadata": {},
   "outputs": [
    {
     "data": {
      "text/plain": [
       "{1, 2, 3, 4, 5}"
      ]
     },
     "execution_count": 6,
     "metadata": {},
     "output_type": "execute_result"
    }
   ],
   "source": [
    "s1.__or__(s2)"
   ]
  },
  {
   "cell_type": "code",
   "execution_count": 7,
   "id": "7671b525-c577-4bbb-8092-cef9d3baaff8",
   "metadata": {},
   "outputs": [
    {
     "data": {
      "text/plain": [
       "{3, 4, 5}"
      ]
     },
     "execution_count": 7,
     "metadata": {},
     "output_type": "execute_result"
    }
   ],
   "source": [
    "s1.__rand__(s2)"
   ]
  },
  {
   "cell_type": "code",
   "execution_count": 8,
   "id": "d65d9c65-e50f-41ea-b9af-777d629d9ae0",
   "metadata": {},
   "outputs": [
    {
     "data": {
      "text/plain": [
       "(set, ([1, 2, 3, 4, 5],), None)"
      ]
     },
     "execution_count": 8,
     "metadata": {},
     "output_type": "execute_result"
    }
   ],
   "source": [
    "s1.__reduce__()"
   ]
  },
  {
   "cell_type": "code",
   "execution_count": 9,
   "id": "6d884fce-0b97-4499-a784-c15ca532dd25",
   "metadata": {},
   "outputs": [
    {
     "data": {
      "text/plain": [
       "{1, 2, 3, 4, 5}"
      ]
     },
     "execution_count": 9,
     "metadata": {},
     "output_type": "execute_result"
    }
   ],
   "source": [
    "s1.__ror__(s2)"
   ]
  },
  {
   "cell_type": "code",
   "execution_count": 10,
   "id": "3941040d-41e1-431c-961a-c824e9842e08",
   "metadata": {},
   "outputs": [
    {
     "data": {
      "text/plain": [
       "set()"
      ]
     },
     "execution_count": 10,
     "metadata": {},
     "output_type": "execute_result"
    }
   ],
   "source": [
    "s1.__rsub__(s2)"
   ]
  },
  {
   "cell_type": "code",
   "execution_count": 11,
   "id": "d195db7b-3195-42fe-9dd7-7c55c3a8d9ed",
   "metadata": {},
   "outputs": [
    {
     "data": {
      "text/plain": [
       "{1, 2}"
      ]
     },
     "execution_count": 11,
     "metadata": {},
     "output_type": "execute_result"
    }
   ],
   "source": [
    "s1.__rxor__(s2)"
   ]
  },
  {
   "cell_type": "code",
   "execution_count": 12,
   "id": "587b364a-a21e-43db-9461-b52517c8266a",
   "metadata": {},
   "outputs": [
    {
     "data": {
      "text/plain": [
       "712"
      ]
     },
     "execution_count": 12,
     "metadata": {},
     "output_type": "execute_result"
    }
   ],
   "source": [
    "s1.__sizeof__()"
   ]
  },
  {
   "cell_type": "code",
   "execution_count": 13,
   "id": "9d6ed509-b416-4050-8f61-aa6a43d75e06",
   "metadata": {},
   "outputs": [
    {
     "data": {
      "text/plain": [
       "{1, 2}"
      ]
     },
     "execution_count": 13,
     "metadata": {},
     "output_type": "execute_result"
    }
   ],
   "source": [
    "s1.__sub__(s2) "
   ]
  },
  {
   "cell_type": "code",
   "execution_count": 14,
   "id": "a066bb31-9282-4037-8db9-eedcacb04ad2",
   "metadata": {},
   "outputs": [
    {
     "data": {
      "text/plain": [
       "{1, 2}"
      ]
     },
     "execution_count": 14,
     "metadata": {},
     "output_type": "execute_result"
    }
   ],
   "source": [
    "s1.__xor__(s2) "
   ]
  },
  {
   "cell_type": "code",
   "execution_count": 18,
   "id": "49f76061-4771-448a-97fe-f3876e9396a9",
   "metadata": {},
   "outputs": [
    {
     "name": "stdout",
     "output_type": "stream",
     "text": [
      "{1, 2, 3, 4, 5}\n"
     ]
    }
   ],
   "source": [
    "s = {1,2,3,4,5}\n",
    "s.add(4)\n",
    "print(s)"
   ]
  },
  {
   "cell_type": "code",
   "execution_count": 19,
   "id": "0eb946ec-13ae-49b2-8c6d-d3d9dc8e3264",
   "metadata": {},
   "outputs": [
    {
     "name": "stdout",
     "output_type": "stream",
     "text": [
      "set()\n"
     ]
    }
   ],
   "source": [
    "s.clear() \n",
    "print(s)"
   ]
  },
  {
   "cell_type": "code",
   "execution_count": 32,
   "id": "bfeb10ac-8247-407e-adfc-f2a96fb310de",
   "metadata": {},
   "outputs": [
    {
     "name": "stdout",
     "output_type": "stream",
     "text": [
      "{1, 2, 3}\n"
     ]
    }
   ],
   "source": [
    "s = {1, 2, 3}                     \n",
    "print(s.copy())                     "
   ]
  },
  {
   "cell_type": "code",
   "execution_count": 21,
   "id": "112bd2e1-4be7-4780-ac06-7a272bae64ac",
   "metadata": {},
   "outputs": [
    {
     "name": "stdout",
     "output_type": "stream",
     "text": [
      "{1, 2}\n"
     ]
    }
   ],
   "source": [
    "s.difference(s2)                  \n",
    "s.difference_update(s2)           \n",
    "print(s) "
   ]
  },
  {
   "cell_type": "code",
   "execution_count": 22,
   "id": "70d2f771-0c04-4c62-83c9-a80690e4f886",
   "metadata": {},
   "outputs": [
    {
     "name": "stdout",
     "output_type": "stream",
     "text": [
      "{1, 2, 3}\n"
     ]
    }
   ],
   "source": [
    "s = {1, 2, 3}                    \n",
    "s.discard(5)                      \n",
    "print(s)"
   ]
  },
  {
   "cell_type": "code",
   "execution_count": 23,
   "id": "e074e523-6bd8-4a6b-80f1-e78dd190d8bf",
   "metadata": {},
   "outputs": [
    {
     "name": "stdout",
     "output_type": "stream",
     "text": [
      "{3}\n"
     ]
    }
   ],
   "source": [
    "s.intersection(s2)               \n",
    "s.intersection_update(s2)         \n",
    "print(s) "
   ]
  },
  {
   "cell_type": "code",
   "execution_count": 24,
   "id": "eea629f6-17f4-4b95-a236-602aeca604ec",
   "metadata": {},
   "outputs": [
    {
     "name": "stdout",
     "output_type": "stream",
     "text": [
      "False\n"
     ]
    }
   ],
   "source": [
    "s = {1, 2, 3}                    \n",
    "print(s.isdisjoint(s2))  "
   ]
  },
  {
   "cell_type": "code",
   "execution_count": 27,
   "id": "861c639e-c389-4307-9a92-002d85718a79",
   "metadata": {},
   "outputs": [
    {
     "name": "stdout",
     "output_type": "stream",
     "text": [
      "False\n"
     ]
    }
   ],
   "source": [
    "print(s.issubset(s2))            \n"
   ]
  },
  {
   "cell_type": "code",
   "execution_count": 26,
   "id": "42e49832-0b8a-468f-b695-b453e376c22d",
   "metadata": {},
   "outputs": [
    {
     "name": "stdout",
     "output_type": "stream",
     "text": [
      "False\n"
     ]
    }
   ],
   "source": [
    "print(s.issuperset(s2))"
   ]
  },
  {
   "cell_type": "code",
   "execution_count": 28,
   "id": "57ec96c0-27b3-4b40-87a3-0b59f337a3dc",
   "metadata": {},
   "outputs": [
    {
     "name": "stdout",
     "output_type": "stream",
     "text": [
      "1\n",
      "{2, 3}\n"
     ]
    }
   ],
   "source": [
    "print(s.pop())                     \n",
    "print(s)"
   ]
  },
  {
   "cell_type": "code",
   "execution_count": 29,
   "id": "3a95969f-8ff3-4996-9102-d5665bc920c8",
   "metadata": {},
   "outputs": [
    {
     "name": "stdout",
     "output_type": "stream",
     "text": [
      "{1, 3}\n"
     ]
    }
   ],
   "source": [
    "s = {1, 2, 3}                     \n",
    "s.remove(2)                       \n",
    "print(s) "
   ]
  },
  {
   "cell_type": "code",
   "execution_count": 30,
   "id": "f7118a3c-8861-426f-b54b-41a8d0544051",
   "metadata": {},
   "outputs": [
    {
     "name": "stdout",
     "output_type": "stream",
     "text": [
      "{1, 2, 4, 5}\n"
     ]
    }
   ],
   "source": [
    "s = {1, 2, 3}                     \n",
    "s.symmetric_difference(s2)        \n",
    "s.symmetric_difference_update(s2)\n",
    "print(s)  \n"
   ]
  },
  {
   "cell_type": "code",
   "execution_count": 31,
   "id": "87f334c1-0175-494c-b495-12dc4dbaaba3",
   "metadata": {},
   "outputs": [
    {
     "name": "stdout",
     "output_type": "stream",
     "text": [
      "{1, 2, 3, 4, 5}\n"
     ]
    }
   ],
   "source": [
    "s = {1, 2, 3}                    \n",
    "s.union(s2)                       \n",
    "s.update(s2)                      \n",
    "print(s)  "
   ]
  },
  {
   "cell_type": "code",
   "execution_count": null,
   "id": "2297033c-2869-4c45-9dec-bf4ba0256464",
   "metadata": {},
   "outputs": [],
   "source": [
    "#DICTIOONARY"
   ]
  },
  {
   "cell_type": "code",
   "execution_count": null,
   "id": "801e0855-e52a-4eb8-ae59-facc7c7e7edd",
   "metadata": {
    "collapsed": true,
    "jupyter": {
     "outputs_hidden": true
    }
   },
   "outputs": [
    {
     "name": "stdout",
     "output_type": "stream",
     "text": [
      "Welcome to Python 3.13's help utility! If this is your first time using\n",
      "Python, you should definitely check out the tutorial at\n",
      "https://docs.python.org/3.13/tutorial/.\n",
      "\n",
      "Enter the name of any module, keyword, or topic to get help on writing\n",
      "Python programs and using Python modules.  To get a list of available\n",
      "modules, keywords, symbols, or topics, enter \"modules\", \"keywords\",\n",
      "\"symbols\", or \"topics\".\n",
      "\n",
      "Each module also comes with a one-line summary of what it does; to list\n",
      "the modules whose name or summary contain a given string such as \"spam\",\n",
      "enter \"modules spam\".\n",
      "\n",
      "To quit this help utility and return to the interpreter,\n",
      "enter \"q\", \"quit\" or \"exit\".\n",
      "\n"
     ]
    },
    {
     "name": "stdin",
     "output_type": "stream",
     "text": [
      "help>  dictionary\n"
     ]
    },
    {
     "name": "stdout",
     "output_type": "stream",
     "text": [
      "No Python documentation found for 'dictionary'.\n",
      "Use help() to get the interactive help utility.\n",
      "Use help(str) for help on the str class.\n",
      "\n"
     ]
    },
    {
     "name": "stdin",
     "output_type": "stream",
     "text": [
      "help>  dict\n"
     ]
    },
    {
     "name": "stdout",
     "output_type": "stream",
     "text": [
      "Help on class dict in module builtins:\n",
      "\n",
      "class dict(object)\n",
      " |  dict() -> new empty dictionary\n",
      " |  dict(mapping) -> new dictionary initialized from a mapping object's\n",
      " |      (key, value) pairs\n",
      " |  dict(iterable) -> new dictionary initialized as if via:\n",
      " |      d = {}\n",
      " |      for k, v in iterable:\n",
      " |          d[k] = v\n",
      " |  dict(**kwargs) -> new dictionary initialized with the name=value pairs\n",
      " |      in the keyword argument list.  For example:  dict(one=1, two=2)\n",
      " |\n",
      " |  Methods defined here:\n",
      " |\n",
      " |  __contains__(self, key, /)\n",
      " |      True if the dictionary has the specified key, else False.\n",
      " |\n",
      " |  __delitem__(self, key, /)\n",
      " |      Delete self[key].\n",
      " |\n",
      " |  __eq__(self, value, /)\n",
      " |      Return self==value.\n",
      " |\n",
      " |  __ge__(self, value, /)\n",
      " |      Return self>=value.\n",
      " |\n",
      " |  __getattribute__(self, name, /)\n",
      " |      Return getattr(self, name).\n",
      " |\n",
      " |  __getitem__(self, key, /)\n",
      " |      Return self[key].\n",
      " |\n",
      " |  __gt__(self, value, /)\n",
      " |      Return self>value.\n",
      " |\n",
      " |  __init__(self, /, *args, **kwargs)\n",
      " |      Initialize self.  See help(type(self)) for accurate signature.\n",
      " |\n",
      " |  __ior__(self, value, /)\n",
      " |      Return self|=value.\n",
      " |\n",
      " |  __iter__(self, /)\n",
      " |      Implement iter(self).\n",
      " |\n",
      " |  __le__(self, value, /)\n",
      " |      Return self<=value.\n",
      " |\n",
      " |  __len__(self, /)\n",
      " |      Return len(self).\n",
      " |\n",
      " |  __lt__(self, value, /)\n",
      " |      Return self<value.\n",
      " |\n",
      " |  __ne__(self, value, /)\n",
      " |      Return self!=value.\n",
      " |\n",
      " |  __or__(self, value, /)\n",
      " |      Return self|value.\n",
      " |\n",
      " |  __repr__(self, /)\n",
      " |      Return repr(self).\n",
      " |\n",
      " |  __reversed__(self, /)\n",
      " |      Return a reverse iterator over the dict keys.\n",
      " |\n",
      " |  __ror__(self, value, /)\n",
      " |      Return value|self.\n",
      " |\n",
      " |  __setitem__(self, key, value, /)\n",
      " |      Set self[key] to value.\n",
      " |\n",
      " |  __sizeof__(self, /)\n",
      " |      Return the size of the dict in memory, in bytes.\n",
      " |\n",
      " |  clear(self, /)\n",
      " |      Remove all items from the dict.\n",
      " |\n",
      " |  copy(self, /)\n",
      " |      Return a shallow copy of the dict.\n",
      " |\n",
      " |  get(self, key, default=None, /)\n",
      " |      Return the value for key if key is in the dictionary, else default.\n",
      " |\n",
      " |  items(self, /)\n",
      " |      Return a set-like object providing a view on the dict's items.\n",
      " |\n",
      " |  keys(self, /)\n",
      " |      Return a set-like object providing a view on the dict's keys.\n",
      " |\n",
      " |  pop(self, key, default=<unrepresentable>, /)\n",
      " |      D.pop(k[,d]) -> v, remove specified key and return the corresponding value.\n",
      " |\n",
      " |      If the key is not found, return the default if given; otherwise,\n",
      " |      raise a KeyError.\n",
      " |\n",
      " |  popitem(self, /)\n",
      " |      Remove and return a (key, value) pair as a 2-tuple.\n",
      " |\n",
      " |      Pairs are returned in LIFO (last-in, first-out) order.\n",
      " |      Raises KeyError if the dict is empty.\n",
      " |\n",
      " |  setdefault(self, key, default=None, /)\n",
      " |      Insert key with a value of default if key is not in the dictionary.\n",
      " |\n",
      " |      Return the value for key if key is in the dictionary, else default.\n",
      " |\n",
      " |  update(...)\n",
      " |      D.update([E, ]**F) -> None.  Update D from mapping/iterable E and F.\n",
      " |      If E is present and has a .keys() method, then does:  for k in E.keys(): D[k] = E[k]\n",
      " |      If E is present and lacks a .keys() method, then does:  for k, v in E: D[k] = v\n",
      " |      In either case, this is followed by: for k in F:  D[k] = F[k]\n",
      " |\n",
      " |  values(self, /)\n",
      " |      Return an object providing a view on the dict's values.\n",
      " |\n",
      " |  ----------------------------------------------------------------------\n",
      " |  Class methods defined here:\n",
      " |\n",
      " |  __class_getitem__(object, /)\n",
      " |      See PEP 585\n",
      " |\n",
      " |  fromkeys(iterable, value=None, /)\n",
      " |      Create a new dictionary with keys from iterable and values set to value.\n",
      " |\n",
      " |  ----------------------------------------------------------------------\n",
      " |  Static methods defined here:\n",
      " |\n",
      " |  __new__(*args, **kwargs)\n",
      " |      Create and return a new object.  See help(type) for accurate signature.\n",
      " |\n",
      " |  ----------------------------------------------------------------------\n",
      " |  Data and other attributes defined here:\n",
      " |\n",
      " |  __hash__ = None\n",
      "\n"
     ]
    }
   ],
   "source": [
    "help()"
   ]
  },
  {
   "cell_type": "code",
   "execution_count": 2,
   "id": "b11e9ad0-3769-4ec9-8c39-37369f0a386a",
   "metadata": {},
   "outputs": [
    {
     "name": "stdout",
     "output_type": "stream",
     "text": [
      "{}\n"
     ]
    }
   ],
   "source": [
    "d = {'a': 1, 'b': 2, 'c': 3}\n",
    "d2 = {'d': 4, 'e': 5}\n",
    "\n",
    "d.clear()      \n",
    "print(d)\n"
   ]
  },
  {
   "cell_type": "code",
   "execution_count": 23,
   "id": "b11f6537-a933-4280-bc4c-2665c99831b1",
   "metadata": {},
   "outputs": [
    {
     "name": "stdout",
     "output_type": "stream",
     "text": [
      "{'a': 1, 'b': 2, 'c': 3}\n"
     ]
    }
   ],
   "source": [
    "d = {'a': 1, 'b': 2, 'c': 3}\n",
    "d2 = {'d': 4, 'e': 5}\n",
    "d.copy()\n",
    "print(d)"
   ]
  },
  {
   "cell_type": "code",
   "execution_count": 24,
   "id": "2ba41aa3-048d-4121-8f2c-163b47140efa",
   "metadata": {},
   "outputs": [
    {
     "data": {
      "text/plain": [
       "1"
      ]
     },
     "execution_count": 24,
     "metadata": {},
     "output_type": "execute_result"
    }
   ],
   "source": [
    "d.get('a')\n"
   ]
  },
  {
   "cell_type": "code",
   "execution_count": 25,
   "id": "4fb1f194-fa99-4b5d-9278-812da02df8fe",
   "metadata": {},
   "outputs": [
    {
     "data": {
      "text/plain": [
       "1"
      ]
     },
     "execution_count": 25,
     "metadata": {},
     "output_type": "execute_result"
    }
   ],
   "source": [
    "d.get('x', 1) "
   ]
  },
  {
   "cell_type": "code",
   "execution_count": 26,
   "id": "7a807b86-de3f-44d6-91e7-9c1ab29abcbd",
   "metadata": {},
   "outputs": [
    {
     "data": {
      "text/plain": [
       "dict_items([('a', 1), ('b', 2), ('c', 3)])"
      ]
     },
     "execution_count": 26,
     "metadata": {},
     "output_type": "execute_result"
    }
   ],
   "source": [
    "d.items() "
   ]
  },
  {
   "cell_type": "code",
   "execution_count": 27,
   "id": "2a1f270c-c4a7-4dc2-a903-2b39231a2c0e",
   "metadata": {},
   "outputs": [
    {
     "data": {
      "text/plain": [
       "dict_keys(['a', 'b', 'c'])"
      ]
     },
     "execution_count": 27,
     "metadata": {},
     "output_type": "execute_result"
    }
   ],
   "source": [
    "d.keys()"
   ]
  },
  {
   "cell_type": "code",
   "execution_count": 28,
   "id": "4466c100-6f5d-4101-8755-8d9efb910196",
   "metadata": {},
   "outputs": [
    {
     "data": {
      "text/plain": [
       "dict_values([1, 2, 3])"
      ]
     },
     "execution_count": 28,
     "metadata": {},
     "output_type": "execute_result"
    }
   ],
   "source": [
    "d.values()"
   ]
  },
  {
   "cell_type": "code",
   "execution_count": 29,
   "id": "4d952c1a-c39a-411c-966a-da3d69b0adaf",
   "metadata": {},
   "outputs": [
    {
     "name": "stdout",
     "output_type": "stream",
     "text": [
      "{'a': 1, 'c': 3}\n"
     ]
    }
   ],
   "source": [
    "d.pop('b') \n",
    "print(d)\n"
   ]
  },
  {
   "cell_type": "code",
   "execution_count": 30,
   "id": "3f382711-0793-439b-b16e-840e1c94b493",
   "metadata": {},
   "outputs": [
    {
     "data": {
      "text/plain": [
       "'not found'"
      ]
     },
     "execution_count": 30,
     "metadata": {},
     "output_type": "execute_result"
    }
   ],
   "source": [
    "d = {'a': 1, 'b': 2, 'c': 3}\n",
    "d2 = {'d': 4, 'e': 5}\n",
    "d.pop('x', 'not found')"
   ]
  },
  {
   "cell_type": "code",
   "execution_count": 31,
   "id": "f48669b2-3ba5-4e2b-bbd9-e3537dabbc28",
   "metadata": {},
   "outputs": [
    {
     "data": {
      "text/plain": [
       "('c', 3)"
      ]
     },
     "execution_count": 31,
     "metadata": {},
     "output_type": "execute_result"
    }
   ],
   "source": [
    "d.popitem()"
   ]
  },
  {
   "cell_type": "code",
   "execution_count": 32,
   "id": "3a5b4f5f-4b12-4a6e-9062-662e801902d4",
   "metadata": {},
   "outputs": [
    {
     "data": {
      "text/plain": [
       "6"
      ]
     },
     "execution_count": 32,
     "metadata": {},
     "output_type": "execute_result"
    }
   ],
   "source": [
    "d.setdefault('f', 6)"
   ]
  },
  {
   "cell_type": "code",
   "execution_count": 35,
   "id": "45d9d997-ef03-4ce6-a352-0ebd6ef219cb",
   "metadata": {},
   "outputs": [
    {
     "name": "stdout",
     "output_type": "stream",
     "text": [
      "{'a': 1, 'b': 2, 'f': 6, 'd': 4, 'e': 5}\n"
     ]
    }
   ],
   "source": [
    "d.update(d2) \n",
    "print(d)"
   ]
  },
  {
   "cell_type": "code",
   "execution_count": 36,
   "id": "d4da6f6a-88e8-4298-8095-fd6190f72833",
   "metadata": {},
   "outputs": [
    {
     "data": {
      "text/plain": [
       "True"
      ]
     },
     "execution_count": 36,
     "metadata": {},
     "output_type": "execute_result"
    }
   ],
   "source": [
    "d.__contains__('a') "
   ]
  },
  {
   "cell_type": "code",
   "execution_count": 37,
   "id": "ece88a9b-5781-45f4-b7a9-67724c3938c5",
   "metadata": {},
   "outputs": [
    {
     "name": "stdout",
     "output_type": "stream",
     "text": [
      "{'b': 2, 'f': 6, 'd': 4, 'e': 5}\n"
     ]
    }
   ],
   "source": [
    "d.__delitem__('a') \n",
    "print(d)"
   ]
  },
  {
   "cell_type": "code",
   "execution_count": 41,
   "id": "cb57b9f0-9a2b-417c-9faf-fad2c8b8def8",
   "metadata": {},
   "outputs": [
    {
     "data": {
      "text/plain": [
       "False"
      ]
     },
     "execution_count": 41,
     "metadata": {},
     "output_type": "execute_result"
    }
   ],
   "source": [
    "d = {'a': 1, 'b': 2, 'c': 3}\n",
    "d2 = {'d': 4, 'e': 5}\n",
    "d.__eq__({'c': 3}) "
   ]
  },
  {
   "cell_type": "code",
   "execution_count": 42,
   "id": "bc3f12c9-e093-495f-9505-6c1e977f8af2",
   "metadata": {},
   "outputs": [
    {
     "data": {
      "text/plain": [
       "NotImplemented"
      ]
     },
     "execution_count": 42,
     "metadata": {},
     "output_type": "execute_result"
    }
   ],
   "source": [
    "d = {'a': 1, 'b': 2, 'c': 3}\n",
    "d2 = {'d': 4, 'e': 5}\n",
    "d.__ge__({'b': 2})"
   ]
  },
  {
   "cell_type": "code",
   "execution_count": 43,
   "id": "0525dc49-7396-4adb-a5ba-d45c16fc44ee",
   "metadata": {},
   "outputs": [
    {
     "data": {
      "text/plain": [
       "3"
      ]
     },
     "execution_count": 43,
     "metadata": {},
     "output_type": "execute_result"
    }
   ],
   "source": [
    "d.__getitem__('c') "
   ]
  },
  {
   "cell_type": "code",
   "execution_count": 44,
   "id": "879262b1-6612-4cc7-9d0e-6c9f051b918b",
   "metadata": {},
   "outputs": [
    {
     "data": {
      "text/plain": [
       "<dict_keyiterator at 0x1e4bd6f9e40>"
      ]
     },
     "execution_count": 44,
     "metadata": {},
     "output_type": "execute_result"
    }
   ],
   "source": [
    "d.__iter__()"
   ]
  },
  {
   "cell_type": "code",
   "execution_count": 45,
   "id": "e2f0f906-2502-4abf-806c-f10c9b339389",
   "metadata": {},
   "outputs": [
    {
     "data": {
      "text/plain": [
       "NotImplemented"
      ]
     },
     "execution_count": 45,
     "metadata": {},
     "output_type": "execute_result"
    }
   ],
   "source": [
    "d.__le__({'c': 3}) "
   ]
  },
  {
   "cell_type": "code",
   "execution_count": 46,
   "id": "c9a8ccde-1743-4520-8992-61c545671442",
   "metadata": {},
   "outputs": [
    {
     "data": {
      "text/plain": [
       "3"
      ]
     },
     "execution_count": 46,
     "metadata": {},
     "output_type": "execute_result"
    }
   ],
   "source": [
    "d.__len__()"
   ]
  },
  {
   "cell_type": "code",
   "execution_count": 47,
   "id": "9118ff50-8f9c-4971-b98c-d3cc9a1a1ca8",
   "metadata": {},
   "outputs": [
    {
     "data": {
      "text/plain": [
       "NotImplemented"
      ]
     },
     "execution_count": 47,
     "metadata": {},
     "output_type": "execute_result"
    }
   ],
   "source": [
    "d.__lt__({'a': 1, 'b': 2}) "
   ]
  },
  {
   "cell_type": "code",
   "execution_count": 48,
   "id": "1eeef9d4-4609-4712-bbcc-2cf988db7684",
   "metadata": {},
   "outputs": [
    {
     "data": {
      "text/plain": [
       "True"
      ]
     },
     "execution_count": 48,
     "metadata": {},
     "output_type": "execute_result"
    }
   ],
   "source": [
    "d.__ne__({'a': 1}) "
   ]
  },
  {
   "cell_type": "code",
   "execution_count": 49,
   "id": "54981deb-5346-4b20-af43-3711c5e7b2ba",
   "metadata": {},
   "outputs": [
    {
     "data": {
      "text/plain": [
       "{'a': 1, 'b': 2, 'c': 3, 'g': 7}"
      ]
     },
     "execution_count": 49,
     "metadata": {},
     "output_type": "execute_result"
    }
   ],
   "source": [
    "d.__or__({'g': 7})"
   ]
  },
  {
   "cell_type": "code",
   "execution_count": 50,
   "id": "eab0069c-12e0-4e18-9225-27824ae3de0b",
   "metadata": {},
   "outputs": [
    {
     "data": {
      "text/plain": [
       "<dict_reversekeyiterator at 0x1e4bd6d2430>"
      ]
     },
     "execution_count": 50,
     "metadata": {},
     "output_type": "execute_result"
    }
   ],
   "source": [
    "d.__reversed__() "
   ]
  },
  {
   "cell_type": "code",
   "execution_count": 53,
   "id": "ce8a8eff-0979-4ac8-b640-eda0935fce89",
   "metadata": {},
   "outputs": [
    {
     "name": "stdout",
     "output_type": "stream",
     "text": [
      "{'a': 1, 'b': 2, 'c': 3, 'h': 8}\n"
     ]
    }
   ],
   "source": [
    "d.__setitem__('h', 8)\n",
    "print(d)"
   ]
  },
  {
   "cell_type": "code",
   "execution_count": 54,
   "id": "18e9e097-5724-4faf-a8c5-8f7ea151454b",
   "metadata": {},
   "outputs": [
    {
     "data": {
      "text/plain": [
       "168"
      ]
     },
     "execution_count": 54,
     "metadata": {},
     "output_type": "execute_result"
    }
   ],
   "source": [
    "d.__sizeof__()  "
   ]
  },
  {
   "cell_type": "code",
   "execution_count": 1,
   "id": "638e4001-e71d-43a8-8091-56d02299cecc",
   "metadata": {},
   "outputs": [
    {
     "name": "stdout",
     "output_type": "stream",
     "text": [
      "a\n"
     ]
    }
   ],
   "source": []
  }
 ],
 "metadata": {
  "kernelspec": {
   "display_name": "Python 3 (ipykernel)",
   "language": "python",
   "name": "python3"
  },
  "language_info": {
   "codemirror_mode": {
    "name": "ipython",
    "version": 3
   },
   "file_extension": ".py",
   "mimetype": "text/x-python",
   "name": "python",
   "nbconvert_exporter": "python",
   "pygments_lexer": "ipython3",
   "version": "3.13.1"
  }
 },
 "nbformat": 4,
 "nbformat_minor": 5
}
